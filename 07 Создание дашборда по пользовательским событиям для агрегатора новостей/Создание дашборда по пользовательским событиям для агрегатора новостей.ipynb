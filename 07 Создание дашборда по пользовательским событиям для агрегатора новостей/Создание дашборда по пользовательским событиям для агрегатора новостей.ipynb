{
 "cells": [
  {
   "cell_type": "markdown",
   "id": "58c51e18",
   "metadata": {},
   "source": [
    "# Создание дашборда по пользовательским событиям для агрегатора новостей\n",
    "\n",
    "TED (от англ. technology, education, design — «технологии, образование, дизайн») — некоммерческий фонд, который проводит популярные конференции. На них выступают специалисты из разных областей и читают лекции на актуальные социальные, культурные и научные темы. \n",
    "\n",
    "**Цель проекта:** исследовать историю TED-конференций с помощью Tableau."
   ]
  },
  {
   "cell_type": "markdown",
   "id": "91b83644",
   "metadata": {},
   "source": [
    "**Ссылка на онлайн представление моего проекта на сайте Tableau Public:** https://public.tableau.com/views/TED-_17146401572410/sheet12?:language=en-US&publish=yes&:sid=&:display_count=n&:origin=viz_share_link\n",
    "\n",
    "\n",
    "**Ссылка на презентацию с Google Диска:** https://drive.google.com/file/d/1UpbaJHmluIuhHrT0TGnybCrEOE_Qn2cF/view?usp=sharing\n"
   ]
  }
 ],
 "metadata": {
  "kernelspec": {
   "display_name": "Python 3 (ipykernel)",
   "language": "python",
   "name": "python3"
  },
  "language_info": {
   "codemirror_mode": {
    "name": "ipython",
    "version": 3
   },
   "file_extension": ".py",
   "mimetype": "text/x-python",
   "name": "python",
   "nbconvert_exporter": "python",
   "pygments_lexer": "ipython3",
   "version": "3.11.3"
  },
  "toc": {
   "base_numbering": 1,
   "nav_menu": {},
   "number_sections": true,
   "sideBar": true,
   "skip_h1_title": true,
   "title_cell": "Table of Contents",
   "title_sidebar": "Contents",
   "toc_cell": false,
   "toc_position": {},
   "toc_section_display": true,
   "toc_window_display": false
  }
 },
 "nbformat": 4,
 "nbformat_minor": 5
}
