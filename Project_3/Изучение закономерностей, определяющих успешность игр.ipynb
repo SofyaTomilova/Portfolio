{
 "cells": [
  {
   "cell_type": "markdown",
   "metadata": {},
   "source": [
    "# Изучение закономерностей, определяющих успешность игр"
   ]
  },
  {
   "cell_type": "markdown",
   "metadata": {},
   "source": [
    "В нашем распоряжении данные интернет-магазина «Стримчик», который продаёт по всему миру компьютерные игры. Из открытых источников доступны исторические данные о продажах игр, оценки пользователей и экспертов, жанры и платформы (например, Xbox или PlayStation). \n",
    "\n",
    "**Цель:** необходимо выявить определяющие успешность игры закономерности. Это позволит сделать ставку на потенциально популярный продукт и спланировать рекламные кампании.\n",
    "\n",
    "**План работы:**\n",
    "1. Загрузить данные\n",
    "2. Провести предобработку данных\n",
    "3. Провести исследовательский анализ данных\n",
    "4. Составить портрет пользователя каждого региона\n",
    "5. Проверить гипотезы\n",
    "6. Написать общий вывод\n",
    "\n",
    "**Описание данных:**\n",
    "* Name — название игры\n",
    "* Platform — платформа\n",
    "* Year_of_Release — год выпуска\n",
    "* Genre — жанр игры\n",
    "* NA_sales — продажи в Северной Америке (миллионы проданных копий)\n",
    "* EU_sales — продажи в Европе (миллионы проданных копий)\n",
    "* JP_sales — продажи в Японии (миллионы проданных копий)\n",
    "* Other_sales — продажи в других странах (миллионы проданных копий)\n",
    "* Critic_Score — оценка критиков (максимум 100)\n",
    "* User_Score — оценка пользователей (максимум 10)\n",
    "* Rating — рейтинг от организации ESRB (англ. Entertainment Software Rating Board). Эта ассоциация определяет рейтинг компьютерных игр и присваивает им подходящую возрастную категорию."
   ]
  },
  {
   "cell_type": "markdown",
   "metadata": {},
   "source": [
    "### Изучим общую информацию о данных."
   ]
  },
  {
   "cell_type": "markdown",
   "metadata": {},
   "source": [
    "#### Импортируем необходимые библиотеки pandas. Считаем данные из csv-файла в датафрейм и сохраните в переменную data."
   ]
  },
  {
   "cell_type": "code",
   "execution_count": 1,
   "metadata": {},
   "outputs": [],
   "source": [
    "import pandas as pd\n",
    "import pandas as pd\n",
    "import matplotlib.pyplot as plt\n",
    "import seaborn as sns\n",
    "from scipy import stats as st\n",
    "import numpy as np\n",
    "import warnings\n",
    "warnings.simplefilter(\"ignore\")"
   ]
  },
  {
   "cell_type": "code",
   "execution_count": 2,
   "metadata": {},
   "outputs": [
    {
     "ename": "FileNotFoundError",
     "evalue": "[Errno 2] No such file or directory: '/datasets/games.csv'",
     "output_type": "error",
     "traceback": [
      "\u001b[0;31m---------------------------------------------------------------------------\u001b[0m",
      "\u001b[0;31mFileNotFoundError\u001b[0m                         Traceback (most recent call last)",
      "Cell \u001b[0;32mIn[2], line 1\u001b[0m\n\u001b[0;32m----> 1\u001b[0m data \u001b[38;5;241m=\u001b[39m pd\u001b[38;5;241m.\u001b[39mread_csv(\u001b[38;5;124m'\u001b[39m\u001b[38;5;124m/datasets/games.csv\u001b[39m\u001b[38;5;124m'\u001b[39m, sep\u001b[38;5;241m=\u001b[39m\u001b[38;5;124m'\u001b[39m\u001b[38;5;124m,\u001b[39m\u001b[38;5;124m'\u001b[39m)\n\u001b[1;32m      2\u001b[0m pd\u001b[38;5;241m.\u001b[39mset_option(\u001b[38;5;124m'\u001b[39m\u001b[38;5;124mdisplay.max_columns\u001b[39m\u001b[38;5;124m'\u001b[39m, \u001b[38;5;28;01mNone\u001b[39;00m)\n\u001b[1;32m      3\u001b[0m data\n",
      "File \u001b[0;32m~/anaconda3/lib/python3.11/site-packages/pandas/util/_decorators.py:211\u001b[0m, in \u001b[0;36mdeprecate_kwarg.<locals>._deprecate_kwarg.<locals>.wrapper\u001b[0;34m(*args, **kwargs)\u001b[0m\n\u001b[1;32m    209\u001b[0m     \u001b[38;5;28;01melse\u001b[39;00m:\n\u001b[1;32m    210\u001b[0m         kwargs[new_arg_name] \u001b[38;5;241m=\u001b[39m new_arg_value\n\u001b[0;32m--> 211\u001b[0m \u001b[38;5;28;01mreturn\u001b[39;00m func(\u001b[38;5;241m*\u001b[39margs, \u001b[38;5;241m*\u001b[39m\u001b[38;5;241m*\u001b[39mkwargs)\n",
      "File \u001b[0;32m~/anaconda3/lib/python3.11/site-packages/pandas/util/_decorators.py:331\u001b[0m, in \u001b[0;36mdeprecate_nonkeyword_arguments.<locals>.decorate.<locals>.wrapper\u001b[0;34m(*args, **kwargs)\u001b[0m\n\u001b[1;32m    325\u001b[0m \u001b[38;5;28;01mif\u001b[39;00m \u001b[38;5;28mlen\u001b[39m(args) \u001b[38;5;241m>\u001b[39m num_allow_args:\n\u001b[1;32m    326\u001b[0m     warnings\u001b[38;5;241m.\u001b[39mwarn(\n\u001b[1;32m    327\u001b[0m         msg\u001b[38;5;241m.\u001b[39mformat(arguments\u001b[38;5;241m=\u001b[39m_format_argument_list(allow_args)),\n\u001b[1;32m    328\u001b[0m         \u001b[38;5;167;01mFutureWarning\u001b[39;00m,\n\u001b[1;32m    329\u001b[0m         stacklevel\u001b[38;5;241m=\u001b[39mfind_stack_level(),\n\u001b[1;32m    330\u001b[0m     )\n\u001b[0;32m--> 331\u001b[0m \u001b[38;5;28;01mreturn\u001b[39;00m func(\u001b[38;5;241m*\u001b[39margs, \u001b[38;5;241m*\u001b[39m\u001b[38;5;241m*\u001b[39mkwargs)\n",
      "File \u001b[0;32m~/anaconda3/lib/python3.11/site-packages/pandas/io/parsers/readers.py:950\u001b[0m, in \u001b[0;36mread_csv\u001b[0;34m(filepath_or_buffer, sep, delimiter, header, names, index_col, usecols, squeeze, prefix, mangle_dupe_cols, dtype, engine, converters, true_values, false_values, skipinitialspace, skiprows, skipfooter, nrows, na_values, keep_default_na, na_filter, verbose, skip_blank_lines, parse_dates, infer_datetime_format, keep_date_col, date_parser, dayfirst, cache_dates, iterator, chunksize, compression, thousands, decimal, lineterminator, quotechar, quoting, doublequote, escapechar, comment, encoding, encoding_errors, dialect, error_bad_lines, warn_bad_lines, on_bad_lines, delim_whitespace, low_memory, memory_map, float_precision, storage_options)\u001b[0m\n\u001b[1;32m    935\u001b[0m kwds_defaults \u001b[38;5;241m=\u001b[39m _refine_defaults_read(\n\u001b[1;32m    936\u001b[0m     dialect,\n\u001b[1;32m    937\u001b[0m     delimiter,\n\u001b[0;32m   (...)\u001b[0m\n\u001b[1;32m    946\u001b[0m     defaults\u001b[38;5;241m=\u001b[39m{\u001b[38;5;124m\"\u001b[39m\u001b[38;5;124mdelimiter\u001b[39m\u001b[38;5;124m\"\u001b[39m: \u001b[38;5;124m\"\u001b[39m\u001b[38;5;124m,\u001b[39m\u001b[38;5;124m\"\u001b[39m},\n\u001b[1;32m    947\u001b[0m )\n\u001b[1;32m    948\u001b[0m kwds\u001b[38;5;241m.\u001b[39mupdate(kwds_defaults)\n\u001b[0;32m--> 950\u001b[0m \u001b[38;5;28;01mreturn\u001b[39;00m _read(filepath_or_buffer, kwds)\n",
      "File \u001b[0;32m~/anaconda3/lib/python3.11/site-packages/pandas/io/parsers/readers.py:605\u001b[0m, in \u001b[0;36m_read\u001b[0;34m(filepath_or_buffer, kwds)\u001b[0m\n\u001b[1;32m    602\u001b[0m _validate_names(kwds\u001b[38;5;241m.\u001b[39mget(\u001b[38;5;124m\"\u001b[39m\u001b[38;5;124mnames\u001b[39m\u001b[38;5;124m\"\u001b[39m, \u001b[38;5;28;01mNone\u001b[39;00m))\n\u001b[1;32m    604\u001b[0m \u001b[38;5;66;03m# Create the parser.\u001b[39;00m\n\u001b[0;32m--> 605\u001b[0m parser \u001b[38;5;241m=\u001b[39m TextFileReader(filepath_or_buffer, \u001b[38;5;241m*\u001b[39m\u001b[38;5;241m*\u001b[39mkwds)\n\u001b[1;32m    607\u001b[0m \u001b[38;5;28;01mif\u001b[39;00m chunksize \u001b[38;5;129;01mor\u001b[39;00m iterator:\n\u001b[1;32m    608\u001b[0m     \u001b[38;5;28;01mreturn\u001b[39;00m parser\n",
      "File \u001b[0;32m~/anaconda3/lib/python3.11/site-packages/pandas/io/parsers/readers.py:1442\u001b[0m, in \u001b[0;36mTextFileReader.__init__\u001b[0;34m(self, f, engine, **kwds)\u001b[0m\n\u001b[1;32m   1439\u001b[0m     \u001b[38;5;28mself\u001b[39m\u001b[38;5;241m.\u001b[39moptions[\u001b[38;5;124m\"\u001b[39m\u001b[38;5;124mhas_index_names\u001b[39m\u001b[38;5;124m\"\u001b[39m] \u001b[38;5;241m=\u001b[39m kwds[\u001b[38;5;124m\"\u001b[39m\u001b[38;5;124mhas_index_names\u001b[39m\u001b[38;5;124m\"\u001b[39m]\n\u001b[1;32m   1441\u001b[0m \u001b[38;5;28mself\u001b[39m\u001b[38;5;241m.\u001b[39mhandles: IOHandles \u001b[38;5;241m|\u001b[39m \u001b[38;5;28;01mNone\u001b[39;00m \u001b[38;5;241m=\u001b[39m \u001b[38;5;28;01mNone\u001b[39;00m\n\u001b[0;32m-> 1442\u001b[0m \u001b[38;5;28mself\u001b[39m\u001b[38;5;241m.\u001b[39m_engine \u001b[38;5;241m=\u001b[39m \u001b[38;5;28mself\u001b[39m\u001b[38;5;241m.\u001b[39m_make_engine(f, \u001b[38;5;28mself\u001b[39m\u001b[38;5;241m.\u001b[39mengine)\n",
      "File \u001b[0;32m~/anaconda3/lib/python3.11/site-packages/pandas/io/parsers/readers.py:1735\u001b[0m, in \u001b[0;36mTextFileReader._make_engine\u001b[0;34m(self, f, engine)\u001b[0m\n\u001b[1;32m   1733\u001b[0m     \u001b[38;5;28;01mif\u001b[39;00m \u001b[38;5;124m\"\u001b[39m\u001b[38;5;124mb\u001b[39m\u001b[38;5;124m\"\u001b[39m \u001b[38;5;129;01mnot\u001b[39;00m \u001b[38;5;129;01min\u001b[39;00m mode:\n\u001b[1;32m   1734\u001b[0m         mode \u001b[38;5;241m+\u001b[39m\u001b[38;5;241m=\u001b[39m \u001b[38;5;124m\"\u001b[39m\u001b[38;5;124mb\u001b[39m\u001b[38;5;124m\"\u001b[39m\n\u001b[0;32m-> 1735\u001b[0m \u001b[38;5;28mself\u001b[39m\u001b[38;5;241m.\u001b[39mhandles \u001b[38;5;241m=\u001b[39m get_handle(\n\u001b[1;32m   1736\u001b[0m     f,\n\u001b[1;32m   1737\u001b[0m     mode,\n\u001b[1;32m   1738\u001b[0m     encoding\u001b[38;5;241m=\u001b[39m\u001b[38;5;28mself\u001b[39m\u001b[38;5;241m.\u001b[39moptions\u001b[38;5;241m.\u001b[39mget(\u001b[38;5;124m\"\u001b[39m\u001b[38;5;124mencoding\u001b[39m\u001b[38;5;124m\"\u001b[39m, \u001b[38;5;28;01mNone\u001b[39;00m),\n\u001b[1;32m   1739\u001b[0m     compression\u001b[38;5;241m=\u001b[39m\u001b[38;5;28mself\u001b[39m\u001b[38;5;241m.\u001b[39moptions\u001b[38;5;241m.\u001b[39mget(\u001b[38;5;124m\"\u001b[39m\u001b[38;5;124mcompression\u001b[39m\u001b[38;5;124m\"\u001b[39m, \u001b[38;5;28;01mNone\u001b[39;00m),\n\u001b[1;32m   1740\u001b[0m     memory_map\u001b[38;5;241m=\u001b[39m\u001b[38;5;28mself\u001b[39m\u001b[38;5;241m.\u001b[39moptions\u001b[38;5;241m.\u001b[39mget(\u001b[38;5;124m\"\u001b[39m\u001b[38;5;124mmemory_map\u001b[39m\u001b[38;5;124m\"\u001b[39m, \u001b[38;5;28;01mFalse\u001b[39;00m),\n\u001b[1;32m   1741\u001b[0m     is_text\u001b[38;5;241m=\u001b[39mis_text,\n\u001b[1;32m   1742\u001b[0m     errors\u001b[38;5;241m=\u001b[39m\u001b[38;5;28mself\u001b[39m\u001b[38;5;241m.\u001b[39moptions\u001b[38;5;241m.\u001b[39mget(\u001b[38;5;124m\"\u001b[39m\u001b[38;5;124mencoding_errors\u001b[39m\u001b[38;5;124m\"\u001b[39m, \u001b[38;5;124m\"\u001b[39m\u001b[38;5;124mstrict\u001b[39m\u001b[38;5;124m\"\u001b[39m),\n\u001b[1;32m   1743\u001b[0m     storage_options\u001b[38;5;241m=\u001b[39m\u001b[38;5;28mself\u001b[39m\u001b[38;5;241m.\u001b[39moptions\u001b[38;5;241m.\u001b[39mget(\u001b[38;5;124m\"\u001b[39m\u001b[38;5;124mstorage_options\u001b[39m\u001b[38;5;124m\"\u001b[39m, \u001b[38;5;28;01mNone\u001b[39;00m),\n\u001b[1;32m   1744\u001b[0m )\n\u001b[1;32m   1745\u001b[0m \u001b[38;5;28;01massert\u001b[39;00m \u001b[38;5;28mself\u001b[39m\u001b[38;5;241m.\u001b[39mhandles \u001b[38;5;129;01mis\u001b[39;00m \u001b[38;5;129;01mnot\u001b[39;00m \u001b[38;5;28;01mNone\u001b[39;00m\n\u001b[1;32m   1746\u001b[0m f \u001b[38;5;241m=\u001b[39m \u001b[38;5;28mself\u001b[39m\u001b[38;5;241m.\u001b[39mhandles\u001b[38;5;241m.\u001b[39mhandle\n",
      "File \u001b[0;32m~/anaconda3/lib/python3.11/site-packages/pandas/io/common.py:856\u001b[0m, in \u001b[0;36mget_handle\u001b[0;34m(path_or_buf, mode, encoding, compression, memory_map, is_text, errors, storage_options)\u001b[0m\n\u001b[1;32m    851\u001b[0m \u001b[38;5;28;01melif\u001b[39;00m \u001b[38;5;28misinstance\u001b[39m(handle, \u001b[38;5;28mstr\u001b[39m):\n\u001b[1;32m    852\u001b[0m     \u001b[38;5;66;03m# Check whether the filename is to be opened in binary mode.\u001b[39;00m\n\u001b[1;32m    853\u001b[0m     \u001b[38;5;66;03m# Binary mode does not support 'encoding' and 'newline'.\u001b[39;00m\n\u001b[1;32m    854\u001b[0m     \u001b[38;5;28;01mif\u001b[39;00m ioargs\u001b[38;5;241m.\u001b[39mencoding \u001b[38;5;129;01mand\u001b[39;00m \u001b[38;5;124m\"\u001b[39m\u001b[38;5;124mb\u001b[39m\u001b[38;5;124m\"\u001b[39m \u001b[38;5;129;01mnot\u001b[39;00m \u001b[38;5;129;01min\u001b[39;00m ioargs\u001b[38;5;241m.\u001b[39mmode:\n\u001b[1;32m    855\u001b[0m         \u001b[38;5;66;03m# Encoding\u001b[39;00m\n\u001b[0;32m--> 856\u001b[0m         handle \u001b[38;5;241m=\u001b[39m \u001b[38;5;28mopen\u001b[39m(\n\u001b[1;32m    857\u001b[0m             handle,\n\u001b[1;32m    858\u001b[0m             ioargs\u001b[38;5;241m.\u001b[39mmode,\n\u001b[1;32m    859\u001b[0m             encoding\u001b[38;5;241m=\u001b[39mioargs\u001b[38;5;241m.\u001b[39mencoding,\n\u001b[1;32m    860\u001b[0m             errors\u001b[38;5;241m=\u001b[39merrors,\n\u001b[1;32m    861\u001b[0m             newline\u001b[38;5;241m=\u001b[39m\u001b[38;5;124m\"\u001b[39m\u001b[38;5;124m\"\u001b[39m,\n\u001b[1;32m    862\u001b[0m         )\n\u001b[1;32m    863\u001b[0m     \u001b[38;5;28;01melse\u001b[39;00m:\n\u001b[1;32m    864\u001b[0m         \u001b[38;5;66;03m# Binary mode\u001b[39;00m\n\u001b[1;32m    865\u001b[0m         handle \u001b[38;5;241m=\u001b[39m \u001b[38;5;28mopen\u001b[39m(handle, ioargs\u001b[38;5;241m.\u001b[39mmode)\n",
      "\u001b[0;31mFileNotFoundError\u001b[0m: [Errno 2] No such file or directory: '/datasets/games.csv'"
     ]
    }
   ],
   "source": [
    "data = pd.read_csv('/datasets/games.csv', sep=',')\n",
    "data"
   ]
  },
  {
   "cell_type": "markdown",
   "metadata": {},
   "source": [
    "#### Выведем основную информацию о датафрейме с помощью метода info()."
   ]
  },
  {
   "cell_type": "code",
   "execution_count": null,
   "metadata": {},
   "outputs": [],
   "source": [
    "data.info()"
   ]
  },
  {
   "cell_type": "markdown",
   "metadata": {},
   "source": [
    "**Изучив общую информацию по датафрейму, мы видим:**\n",
    "- количество записей - 16715\n",
    "- пропущенные значения (NaN)\n",
    "- неверные типы данных"
   ]
  },
  {
   "cell_type": "markdown",
   "metadata": {},
   "source": [
    "### Предобработка данных."
   ]
  },
  {
   "cell_type": "markdown",
   "metadata": {},
   "source": [
    "#### Приведём к нижнему регистру названия столбцов:"
   ]
  },
  {
   "cell_type": "code",
   "execution_count": null,
   "metadata": {},
   "outputs": [],
   "source": [
    "data.columns = data.columns.str.lower()\n",
    "data.head()"
   ]
  },
  {
   "cell_type": "markdown",
   "metadata": {},
   "source": [
    "#### Обработаем пропуски:"
   ]
  },
  {
   "cell_type": "code",
   "execution_count": null,
   "metadata": {},
   "outputs": [],
   "source": [
    "# Выведем пропуски в каждом столбце в порядке возрастания их количества\n",
    "data.isna().sum().sort_values()"
   ]
  },
  {
   "cell_type": "markdown",
   "metadata": {},
   "source": [
    "Посмотрим на долю пропусков, и в дальнейшем, на основании этого, примем решение о удалении, замене либо игнорировании пропусков:"
   ]
  },
  {
   "cell_type": "code",
   "execution_count": null,
   "metadata": {},
   "outputs": [],
   "source": [
    "pd.DataFrame(round(data.isna().mean()*100,1)).style.background_gradient('coolwarm')"
   ]
  },
  {
   "cell_type": "markdown",
   "metadata": {},
   "source": [
    "##### Пропуски в столбцах name и genre.\n",
    "Видно, что в двух столбцах **name** и **genre** всего по 2 пропуска (в процентах это даже никак не отображается), так как их такое малое количество, их можно исключить, заменив на пустые строки:"
   ]
  },
  {
   "cell_type": "code",
   "execution_count": null,
   "metadata": {},
   "outputs": [],
   "source": [
    "# Удаляем пропуски в этих столбцах:\n",
    "data.dropna(subset=['name'], inplace=True)\n",
    "data.dropna(subset=['genre'], inplace=True)\n",
    "data.isna().sum().sort_values()"
   ]
  },
  {
   "cell_type": "markdown",
   "metadata": {},
   "source": [
    "**Причина пропусков:**\n",
    "\n",
    "Возможно слишком сложное название игры, поэтому не заполнили этот параметр, также человек мог не знать жанра игры, поэтому оставил значение пустым."
   ]
  },
  {
   "cell_type": "markdown",
   "metadata": {},
   "source": [
    "##### Пропуски в столбце year_of_release.\n",
    "Рассмотрим столбец year_of_release, выявим причину пропусков:"
   ]
  },
  {
   "cell_type": "code",
   "execution_count": null,
   "metadata": {},
   "outputs": [],
   "source": [
    "data['year_of_release'].value_counts(dropna=False)"
   ]
  },
  {
   "cell_type": "markdown",
   "metadata": {},
   "source": [
    "**Причина пропусков:**\n",
    "\n",
    "Год могли не указать, потому что не знали год выпуска той или иной игры, либо забыли это сделать, поэтому появилось такое количество пропущенных значений (269 значений NaN).\n",
    "\n",
    "В любом случае, нам будет сложно для каждой игры находить год выпуска, можно попробовать вытащить год из названия игры, но это может привести к неправильному нахождению точного года вывпуска игры, поэтому мы заменим эти значения пустыми строками. Также 269 значений от 16715 это 1,6%, мы потеряем не так много данных.  "
   ]
  },
  {
   "cell_type": "code",
   "execution_count": null,
   "metadata": {},
   "outputs": [],
   "source": [
    "# Удаляем пропуски в столбце с годом:\n",
    "data.dropna(subset=['year_of_release'], inplace=True)"
   ]
  },
  {
   "cell_type": "markdown",
   "metadata": {},
   "source": [
    "##### Пропуски в столбцах user_score, rating, critic_score."
   ]
  },
  {
   "cell_type": "markdown",
   "metadata": {},
   "source": [
    "У нас осталось три столбца с большим количеством пропусков пропусками: **user_score - 6607, rating - 6678, critic_score - 8463** - оценка пользователей, рейтинг от организации ESRB, оценка критиков соответственно. В таком случае просто удалить значения нельзя, но и логичной замены подобрать нельзя. Если мы сможем **user_score** и **critic_score** заполнить нолями, то в дальнейшем это отразится на анализе данных. Самый лучший вариант оставить пропуски.\n",
    "\n",
    "**Причины пропусков:** пользователь не захотел оставлять свою оценку, данной игре не удалось присвоить возрастную категорию от организации ESRB, критики не успели оценить эту игру."
   ]
  },
  {
   "cell_type": "code",
   "execution_count": null,
   "metadata": {},
   "outputs": [],
   "source": [
    "data.isna().sum().sort_values()"
   ]
  },
  {
   "cell_type": "code",
   "execution_count": null,
   "metadata": {},
   "outputs": [],
   "source": [
    "data['rating'].fillna('Unknown', inplace=True)\n",
    "data.isna().sum().sort_values()"
   ]
  },
  {
   "cell_type": "markdown",
   "metadata": {},
   "source": [
    "##### Аббревиатура 'tbd' в столбце с оценкой пользователей. "
   ]
  },
  {
   "cell_type": "markdown",
   "metadata": {},
   "source": [
    "В столбце с оценкой пользователей **user_score** можно увидеть аббревиатуру **tbd**."
   ]
  },
  {
   "cell_type": "code",
   "execution_count": null,
   "metadata": {},
   "outputs": [],
   "source": [
    "data['user_score'].value_counts(dropna=False)"
   ]
  },
  {
   "cell_type": "markdown",
   "metadata": {},
   "source": [
    "**TDB (To Be Determined)** — это аббревиатура, которая переводится с английского как «будет определено». В контексте этих даных, это означает, что пока не принято окончательное решение или установлено конкретное значение рейтинга. Возможно на эту игру не было отзывов, либо их малое количество."
   ]
  },
  {
   "cell_type": "code",
   "execution_count": null,
   "metadata": {},
   "outputs": [],
   "source": [
    "#Заменим значение \"tbd\" на NaN\n",
    "data['user_score'] = data['user_score'].replace('tbd', np.NaN)\n",
    "data['user_score'].value_counts(dropna=False)"
   ]
  },
  {
   "cell_type": "markdown",
   "metadata": {},
   "source": [
    "#### Посчитаем суммарные продажи во всех регионах и запишем их в отдельный столбец 'total_sales'."
   ]
  },
  {
   "cell_type": "code",
   "execution_count": null,
   "metadata": {},
   "outputs": [],
   "source": [
    "data['total_sales'] = data['na_sales'] + data['eu_sales'] + data['other_sales'] + data['jp_sales']\n",
    "data"
   ]
  },
  {
   "cell_type": "markdown",
   "metadata": {},
   "source": [
    "Мы получили дополнительный столбец в датафрейме, в котором содержится сумма от продаж по всем регионам для каждой игры."
   ]
  },
  {
   "cell_type": "markdown",
   "metadata": {},
   "source": [
    "#### Преобразуем типы данных в столбцах, где это необходимо:"
   ]
  },
  {
   "cell_type": "code",
   "execution_count": null,
   "metadata": {},
   "outputs": [],
   "source": [
    "# Заменим тип данных в столбце year_of_release с float64 на int64:\n",
    "data['year_of_release'] = data['year_of_release'].astype('int')\n",
    "\n",
    "# Оценка пользователей может быть не целым числом, поэтому тип object заменяем на float64:\n",
    "data['user_score'] = data['user_score'].astype('float')\n",
    "\n",
    "# Замена типа данных с float64 на float32 для экономии памяти:\n",
    "data['user_score'] = data['user_score'].astype('float32')\n",
    "data['na_sales'] = data['na_sales'].astype('float32')\n",
    "data['eu_sales'] = data['eu_sales'].astype('float32')\n",
    "data['jp_sales'] = data['jp_sales'].astype('float32')\n",
    "data['other_sales'] = data['other_sales'].astype('float32')\n",
    "data['critic_score'] = data['critic_score'].astype('float32')"
   ]
  },
  {
   "cell_type": "code",
   "execution_count": null,
   "metadata": {},
   "outputs": [],
   "source": [
    "data.info()"
   ]
  },
  {
   "cell_type": "markdown",
   "metadata": {},
   "source": [
    "Итоги преобразования типа данных:\n",
    "- Год **year_of_release** лучше всего представить в целлочисленном типе, поэтому мы привели значения к типу данных **Int64**. \n",
    "- Оценка пользователей **user_score** может быть представлена и не в целом виде, поэтому поменяли тип данных с object на float32.\n",
    "- Заменили типы данных с float64 на float32 для экономии памяти."
   ]
  },
  {
   "cell_type": "markdown",
   "metadata": {},
   "source": [
    "#### Проверим данные на наличие дубликатов."
   ]
  },
  {
   "cell_type": "code",
   "execution_count": null,
   "metadata": {},
   "outputs": [],
   "source": [
    "# Проверка на наличие явных дубликатов:\n",
    "data.duplicated().sum()"
   ]
  },
  {
   "cell_type": "code",
   "execution_count": null,
   "metadata": {},
   "outputs": [],
   "source": [
    "# Проведём проверку на дубликаты, основываясь на столбцах 'name', 'platform' и 'year_of_release':\n",
    "columns_to_check = ['name', 'platform', 'year_of_release']\n",
    "data[data.duplicated(subset=columns_to_check, keep=False)]"
   ]
  },
  {
   "cell_type": "code",
   "execution_count": null,
   "metadata": {},
   "outputs": [],
   "source": [
    "# Удалим строку с индексом 16230:\n",
    "data = data.drop_duplicates(subset=columns_to_check, keep='first')\n",
    "data.loc[(data['name'] == 'Madden NFL 13') & (data['platform'] == 'PS3')]"
   ]
  },
  {
   "cell_type": "markdown",
   "metadata": {},
   "source": [
    "Таким образом, мы выдим, что явные дубликаты отсутствуют. Проверили столбцы 'name', 'platform' и 'year_of_release' на наличие неявных дубликатов, поняли, что их всего одна пара, поэтому удалили повтор."
   ]
  },
  {
   "cell_type": "markdown",
   "metadata": {},
   "source": [
    "#### Краткий вывод по предобработке данных:\n",
    "\n",
    "* Привели к нижнему регистру названия столбцов.\n",
    "* Пропуски в столбцах **name** и **genre** исключили, заменив на пустые строки. *Причиной пропусков* было то, что слишком сложное было название игры, поэтому не заполнили этот параметр, также человек мог не знать жанра игры, поэтому оставил значение пустым.\n",
    "* Пропуски в столбце **year_of_release** мы удалили, всего их было - **269** (это **1,6%** от общего объёма данных). *Причина пропусков*: год могли не указать, потому что не знали год выпуска той или иной игры, либо забыли это сделать, поэтому появилось такое количество пропущенных значений.\n",
    "* Пропуски в столбцах **user_score** = **6607**, **rating** = **6678**, **critic_score** = **8463**. В таком случае просто удалить значения нельзя, но и логичной замены подобрать нельзя. Самый лучший вариант оставить пропуски. Но в колонке 'rating' заменила все пропущенные значения на 'Unknown' = \"Неизвестный\", так как система рейтинга ESRB была основана только в 1994 году, а некоторые игры выпускались раньше. *Причины пропусков*: пользователь не захотел оставлять свою оценку, данной игре не удалось присвоить возрастную категорию от организации ESRB, критики не успели оценить эту игру. \n",
    "* Заменили значение **\"tbd\" на NaN**.\n",
    "* Мы получили дополнительный столбец в датафрейме - **total_sales**, в котором содержится сумма от продаж по всем регионам для каждой игры. \n",
    "* Год **year_of_release** лучше всего представить в целлочисленном типе, поэтому мы привели значения к типу данных **Int64**.\n",
    "* Оценка пользователей user_score может быть представлена и не в целом виде, поэтому поменяли тип данных с **object** на **float32**.\n",
    "* Заменили типы данных с **float64** на **float32** для экономии памяти.\n",
    "* Проработали явные и неявные дубликаты, первых не обнаружилось. Неявных дубликатов выявили только одну пару, это две строки (одинаковое в этих строках всё, кроме количества продаж в регионах), одну из строк, которая несла в себе мало информации, я удалила.\n",
    "\n",
    "\n",
    "По итогу предобработки у нас осталось **16443**  строки - это **98,4%** от общего объёма данных (**16715** строк)."
   ]
  },
  {
   "cell_type": "markdown",
   "metadata": {},
   "source": [
    "### Проведём исследовательский анализ данных."
   ]
  },
  {
   "cell_type": "markdown",
   "metadata": {},
   "source": [
    "#### Посмотрим, сколько игр выпускалось в разные годы. Важны ли данные за все периоды?"
   ]
  },
  {
   "cell_type": "code",
   "execution_count": null,
   "metadata": {
    "scrolled": false
   },
   "outputs": [],
   "source": [
    "# Построим сводную таблицу, в которой будет количество видеоигр, выпущенных в определённый год:\n",
    "games_for_year = data.pivot_table(index='year_of_release', values='name', aggfunc='count').reset_index()\n",
    "games_for_year.head(10)"
   ]
  },
  {
   "cell_type": "code",
   "execution_count": null,
   "metadata": {},
   "outputs": [],
   "source": [
    "# Для визуализации данных построим столбчатую диаграмму:\n",
    "sns.set()\n",
    "plt.figure(figsize = (30,20))\n",
    " \n",
    "sns.barplot(x = 'year_of_release', y = 'name', \n",
    "           data = games_for_year, linestyle = \"-\", linewidth = 3,\n",
    "           edgecolor = \"k\")\n",
    " \n",
    "plt.title(\"Количество игр, которые выпускались в разные года\", fontsize = 20)\n",
    "plt.xlabel(\"Года\", fontsize = 15)\n",
    "plt.ylabel(\"Количество игр в миллионах\", fontsize = 15)\n",
    " \n",
    "plt.show()"
   ]
  },
  {
   "cell_type": "markdown",
   "metadata": {},
   "source": [
    "* По графику мы видим, что до **1991** года выпускалось **малое количество**, так как не у многих людей были компьютеры, следовательно, не было смысла выпускать большие партии игр, также не было достаточно возможностей для создания качественных игр, не хватало мощности компьютеров. \n",
    "* В **1998** году видно **скачок** по количеству выпускаемых игр до этого. Возможно, выпустилась игра, которую все очень ждали, она стала популярна и хорошо продавалась.\n",
    "* К **2002** году компьютеры всё больше и больше появлялись в домах, выходили новые игры, поэтому люди больше стали играть и покупать необходимое оборудование для этого.\n",
    "* **2008-2009** период огромного количества выпуска игр, по графику мы видим, что эти года являются **пиками роста** выпускаемых игр. Это время выхода огромного количества на любой вкус различных видеоигр.\n",
    "* С **2010** и далее происходит **спад** выпускаемых видеоигр, можно предположить, что причиной этого могло послужить развитие мобильных устройств."
   ]
  },
  {
   "cell_type": "markdown",
   "metadata": {},
   "source": [
    "#### Посмотрим, как менялись продажи по платформам. \n",
    "Для этого выберем топ 15 популярных платформ с наибольшими суммарными продажами и построим распределение по годам."
   ]
  },
  {
   "cell_type": "code",
   "execution_count": null,
   "metadata": {
    "scrolled": false
   },
   "outputs": [],
   "source": [
    "# Мы создаём сводную таблицу grouped_platform, в которой группируем данные по столбцу \n",
    "# platform и суммируем значения столбца total_sales для каждой платформы. \n",
    "# Затем мы сортируем эту таблицу по убыванию общих продаж.\n",
    "grouped_platforms = data.pivot_table(index='platform',\n",
    "                                    values='total_sales', \n",
    "                                    aggfunc='sum').sort_values(by='total_sales', ascending=False)\n",
    "grouped_platforms = grouped_platforms.head(15).reset_index()\n",
    "grouped_platforms"
   ]
  },
  {
   "cell_type": "code",
   "execution_count": null,
   "metadata": {
    "scrolled": true
   },
   "outputs": [],
   "source": [
    "# Теперь создаем переменную top, которая будет содержать список из 15 наиболее \n",
    "# прибыльных платформ, отсортированных по убыванию общих продаж.\n",
    "top15 = data.groupby('platform')['total_sales'].sum().nlargest(15).index\n",
    "top15"
   ]
  },
  {
   "cell_type": "code",
   "execution_count": null,
   "metadata": {
    "scrolled": false
   },
   "outputs": [],
   "source": [
    "for platform in top15:\n",
    "    data[data['platform'] == platform].pivot_table(index='year_of_release', \n",
    "                                                   values='total_sales', \n",
    "                                                   aggfunc='sum').plot(kind='bar', figsize=(10,5))\n",
    "    plt.title(platform)"
   ]
  },
  {
   "cell_type": "markdown",
   "metadata": {},
   "source": [
    "Рассмотрим первые 5 лидеров, чтобы понять, за какой характерный срок появляются новые и исчезают старые платформы.\n",
    "* **PS2:** пик её популярности виден с 2001 по 2005 год, затем продажи падают и 2011 году практически прекращаются. Можно считать, что 10 лет существовала данная платформа.\n",
    "* **X360:** 2006-2010 год расцвет данной платформы, затем её продажи падают, к 2016 году у неё минимальные продажи. Она существовала также 10 лет.\n",
    "* **PS3** в 2007 году набирает популярность, в 2011 году пик её продаж, далее идёт спад, в 2016 году про неё практически уже забфли. Существовала 9 лет.\n",
    "* **Wii:** с 2006 по 2009 была очень популярна и продаваема, затем продажи уменьшаются. 2016 год считается её последним. Срок её существования - 10 лет.\n",
    "* **DS:** в 1985 году начались продажи, но их практически не было, в 2004 году небольшой рост продаж, в 2005 резкий скачок продаввемости, 2007 и 2008 - пик популярности данной платформы. К 2013 году она теряется практически полностью свою популярность. Существовала 9 лет. \n",
    "\n",
    "Пронаблюдав 5 самых популярных платформ, мы выяснили, что средний срок их существования примерно 10 лет. "
   ]
  },
  {
   "cell_type": "markdown",
   "metadata": {},
   "source": [
    "#### Возьмём данные за соответствующий актуальный период. \n",
    "\n",
    "Так как мы выяснили, что платформы существуют примерно 10 лет, то логичней будет взять такой период, чтобы он захватывал 2017 год, так как эти данные помогут построить прогноз на этот год.\n",
    "\n",
    "Актуальный период - **с 2012 по 2016**. 2011 год, как мы видели на диаграмме выше (\"Количество игр, которые выпускались в разные года\"), это последний год высокой популярности платформ, в 2012 году был спад, а в следующие года продажи находились примерно на одном уровне, поэтому я считаю, что нужно взять именно этот период. Так мы сможем выбрать основную информацию для дальнейшего анализа.\n"
   ]
  },
  {
   "cell_type": "code",
   "execution_count": null,
   "metadata": {},
   "outputs": [],
   "source": [
    "# Сделаем срез данных по этому периоду:\n",
    "period = data.query('year_of_release >= 2012')\n",
    "period"
   ]
  },
  {
   "cell_type": "markdown",
   "metadata": {},
   "source": [
    "#### Выделим лидеров по продажам. "
   ]
  },
  {
   "cell_type": "code",
   "execution_count": null,
   "metadata": {},
   "outputs": [],
   "source": [
    "# Отсортируем платформы по продажам:\n",
    "platforms_leading = period.pivot_table(index='platform',\n",
    "                                    values='total_sales', \n",
    "                                    aggfunc='sum').sort_values(by='total_sales', ascending=False)\n",
    "platforms_leading = platforms_leading.reset_index()\n",
    "platforms_leading"
   ]
  },
  {
   "cell_type": "code",
   "execution_count": null,
   "metadata": {},
   "outputs": [],
   "source": [
    "# Теперь создаем переменную top11, которая будет содержать список из 11 наиболее \n",
    "# прибыльных платформ, отсортированных по убыванию общих продаж.\n",
    "top11 = period.groupby('platform')['total_sales'].sum().nlargest(11).index\n",
    "top11"
   ]
  },
  {
   "cell_type": "code",
   "execution_count": null,
   "metadata": {},
   "outputs": [],
   "source": [
    "# Визуализируем данные, чтобы понять, падают или растут продажи от данных платформ:\n",
    "for platforms in top11:\n",
    "    period[period['platform'] == platforms].pivot_table(index='year_of_release', \n",
    "                                                   values='total_sales', \n",
    "                                                   aggfunc='sum').plot(kind='bar', figsize=(10,5))\n",
    "    plt.title(platforms)"
   ]
  },
  {
   "cell_type": "markdown",
   "metadata": {},
   "source": [
    "Платформы: **PS4, 3DS, XOne, WiiU, PC, PSV**, на мой взгляд, являются потенциально прибыльными, так как к 2016 они, в отличие отостальных, ещё хорошо продаются на рынке. Также, можно учитывать, что данные за 2016 год неполные.\n",
    "\n",
    "Таким образом для дальнейшего анализа у нас остались **6 платформ**."
   ]
  },
  {
   "cell_type": "markdown",
   "metadata": {},
   "source": [
    "#### Построим график «ящик с усами» по глобальным продажам игр в разбивке по платформам. "
   ]
  },
  {
   "cell_type": "code",
   "execution_count": null,
   "metadata": {},
   "outputs": [],
   "source": [
    "# Список платформ, для которых мы будем строить график:\n",
    "platforms = ['PS4', '3DS', 'XOne', 'WiiU', 'PC', 'PSV']\n",
    "\n",
    "# Фильтрация данных по выбранным платформам:\n",
    "filtered_data = period[period['platform'].isin(platforms)]\n",
    "\n",
    "# Создание ящика с усами с использованием:\n",
    "plt.figure(figsize=(16, 8))\n",
    "sns.boxplot(x='total_sales', y='platform', data=filtered_data)\n",
    "plt.title('Глобальные продажи игр по платформам')\n",
    "plt.xlabel('Глобальные продажи (млн)')\n",
    "plt.ylabel('Платформа')\n",
    "\n",
    "# Отображение графика\n",
    "plt.show()"
   ]
  },
  {
   "cell_type": "code",
   "execution_count": null,
   "metadata": {},
   "outputs": [],
   "source": [
    "# Создание ящика с усами , на котором будут видны медианы и квартили:\n",
    "plt.figure(figsize=(16, 8))\n",
    "sns.boxplot(x='platform', y='total_sales', data=filtered_data)\n",
    "plt.title('Глобальные продажи игр по платформам')\n",
    "plt.xlabel('Глобальные продажи (млн)')\n",
    "plt.ylabel('Платформа')\n",
    "plt.ylim(0,1)\n",
    "\n",
    "# Отображение графика\n",
    "plt.show()"
   ]
  },
  {
   "cell_type": "code",
   "execution_count": null,
   "metadata": {},
   "outputs": [],
   "source": [
    "# Зафиксируем показания диаграммы, для этого посмотрим на числовое описание данных:\n",
    "filtered_data.groupby('platform')['total_sales'].describe()"
   ]
  },
  {
   "cell_type": "markdown",
   "metadata": {},
   "source": [
    "Вывод:\n",
    "- На первом месте по медианным значениям продажи больше всего у платформ XOne и WiiU, далее идёт - PS4, 3DS, на предпоследнем и последнем местах - PC и PSV соотвветственно. \n",
    "- На графике \"ящик с усами\" мы видим большое количество выбросов практически у всех платформ. Это можно наблюдать из-за того, что какие игры были очень популярными, их очень много продавали. "
   ]
  },
  {
   "cell_type": "markdown",
   "metadata": {},
   "source": [
    "#### Посмотрим, как влияют на продажи внутри одной популярной платформы отзывы пользователей и критиков. \n",
    "Для этого построим диаграмму рассеяния и посчитаем корреляцию между отзывами и продажами.\n",
    "\n",
    "Для анализа возьмём самую популярную платформу - PS4."
   ]
  },
  {
   "cell_type": "code",
   "execution_count": null,
   "metadata": {},
   "outputs": [],
   "source": [
    "# Строим матрицу диаграмм рассеяния:\n",
    "pd.plotting.scatter_matrix(period[period['platform'] == \"PS4\"]\n",
    "                           [['total_sales', 'critic_score', 'user_score']],\n",
    "                           grid=True, \n",
    "                           figsize=(10, 10), \n",
    "                           alpha=0.5)\n",
    "plt.show()"
   ]
  },
  {
   "cell_type": "code",
   "execution_count": null,
   "metadata": {},
   "outputs": [],
   "source": [
    "print('Корреляция между отзывами и продажами на платформе PS4:','\\n')\n",
    "filtered_data[filtered_data['platform'] == 'PS4'][['total_sales', 'critic_score', 'user_score']].corr()"
   ]
  },
  {
   "cell_type": "markdown",
   "metadata": {},
   "source": [
    "Вывод:\n",
    "* Корреляция между отзывами критиков **critic_score** и продажами **total_sales** прослеживается, но не сильно (коэффициент равен **0.4**). Как и подразумевается, чем лучше оценка игры, тем больше продажи.\n",
    "* Корреляция между отзывами пользователей **user_score** и продажами **total_sales** не прослеживается, а коэффициент равен **-0.03**. Можно увидеть на диаграмме рассеяния, что оценка за игру от пользователя низкая, а продажи от этой игры большие, поэтому коэффициент корреляции и отрицательный."
   ]
  },
  {
   "cell_type": "markdown",
   "metadata": {},
   "source": [
    "#### Соотнесём выводы с продажами игр на других платформах."
   ]
  },
  {
   "cell_type": "code",
   "execution_count": null,
   "metadata": {},
   "outputs": [],
   "source": [
    "# Строим матрицу диаграмм рассеяния:\n",
    "pd.plotting.scatter_matrix(period[period['platform'] == \"3DS\"]\n",
    "                           [['total_sales', 'critic_score', 'user_score']],\n",
    "                           grid=True, \n",
    "                           figsize=(10, 10), \n",
    "                           alpha=0.5)\n",
    "plt.show()\n",
    "print('Корреляция между отзывами и продажами на платформе 3DS:','\\n')\n",
    "filtered_data[filtered_data['platform'] == '3DS'][['total_sales', 'critic_score', 'user_score']].corr()"
   ]
  },
  {
   "cell_type": "code",
   "execution_count": null,
   "metadata": {},
   "outputs": [],
   "source": [
    "# Строим матрицу диаграмм рассеяния:\n",
    "pd.plotting.scatter_matrix(period[period['platform'] == \"XOne\"]\n",
    "                           [['total_sales', 'critic_score', 'user_score']],\n",
    "                           grid=True, \n",
    "                           figsize=(10, 10), \n",
    "                           alpha=0.5)\n",
    "plt.show()\n",
    "print('Корреляция между отзывами и продажами на платформе XOne:','\\n')\n",
    "filtered_data[filtered_data['platform'] == 'XOne'][['total_sales', 'critic_score', 'user_score']].corr()"
   ]
  },
  {
   "cell_type": "code",
   "execution_count": null,
   "metadata": {},
   "outputs": [],
   "source": [
    "# Строим матрицу диаграмм рассеяния:\n",
    "pd.plotting.scatter_matrix(period[period['platform'] == \"WiiU\"]\n",
    "                           [['total_sales', 'critic_score', 'user_score']],\n",
    "                           grid=True, \n",
    "                           figsize=(10, 10), \n",
    "                           alpha=0.5)\n",
    "plt.show()\n",
    "print('Корреляция между отзывами и продажами на платформе WiiU:','\\n')\n",
    "filtered_data[filtered_data['platform'] == 'WiiU'][['total_sales', 'critic_score', 'user_score']].corr()"
   ]
  },
  {
   "cell_type": "code",
   "execution_count": null,
   "metadata": {},
   "outputs": [],
   "source": [
    "# Строим матрицу диаграмм рассеяния:\n",
    "pd.plotting.scatter_matrix(period[period['platform'] == \"PC\"]\n",
    "                           [['total_sales', 'critic_score', 'user_score']],\n",
    "                           grid=True, \n",
    "                           figsize=(10, 10), \n",
    "                           alpha=0.5)\n",
    "plt.show()\n",
    "print('Корреляция между отзывами и продажами на платформе PC:','\\n')\n",
    "filtered_data[filtered_data['platform'] == 'PC'][['total_sales', 'critic_score', 'user_score']].corr()"
   ]
  },
  {
   "cell_type": "code",
   "execution_count": null,
   "metadata": {},
   "outputs": [],
   "source": [
    "# Строим матрицу диаграмм рассеяния:\n",
    "pd.plotting.scatter_matrix(period[period['platform'] == \"PSV\"]\n",
    "                           [['total_sales', 'critic_score', 'user_score']],\n",
    "                           grid=True, \n",
    "                           figsize=(10, 10), \n",
    "                           alpha=0.5)\n",
    "plt.show()\n",
    "print('Корреляция между отзывами и продажами на платформе PSV:','\\n')\n",
    "filtered_data[filtered_data['platform'] == 'PSV'][['total_sales', 'critic_score', 'user_score']].corr()"
   ]
  },
  {
   "cell_type": "markdown",
   "metadata": {},
   "source": [
    "* Связь между отзывами критиков и продажами немного слабее на платформе **3DS** (коэффициент - **0.32**), в отличие от PS4, а вот связь от оценок пользователей и продаж на этой платформе уже немного есть (коэффициент - **0.19**).\n",
    "\n",
    "* Как и на платформе PS4, на XOne сложно пронаблюдать связь между оценками пользователей, критиков от продаж. Корреляция между баллами критиков и продажами сильнее заметна (коэффициент - **0.41**), чем между оценками пользователей и продажами (коэффициент - **-0.068**).\n",
    "\n",
    "* Корреляция между отзывами критиков и продажами на платформе **WiiU** наблюдается, но не сильная (critic_score -  **0.34**. А корреляция между отзывами пользователей и продажами нормальная и даже больше (user_score - **0.4**), чем корреляция между отзывами критиков и игровой платформой.\n",
    "\n",
    "* Корреляцию между отзывами и продажами на платформе **PC** очень трудно заметить, от оценки пользователей мало зависят продажи (коэффициент - **-0.12**), а коэффициент корреляции баллов критиков и продаж равен (коэффициент - **0.23**).\n",
    "\n",
    "* Корреляцию между отзывами и продажами на платформе **PSV** также трудно увидеть (коэффициент critic_score от total_sales - **0.094**, коэффициент user_score от total_sales - **-0.004**): \n",
    "\n",
    "**Вывод:**\n",
    "\n",
    "На продажи внутри платформы отзывы пользователей и критиков влияют не сильно. Только на некоторых платформах видна связь отзывов и продажами, например, на платформах PS4, 3DS, XOne, WiiU есть зависимость от оценок критиков и продаж, а на продажи оценки пользователей мало влияют. Это говорит о том, что покупатели прислушиваются больше к критикам, нежели к оценкам других пользователей. Но на платформу WiiU это не расспространяется, там больше обращают внимания на отзывы пользователей."
   ]
  },
  {
   "cell_type": "markdown",
   "metadata": {},
   "source": [
    "#### Посмотрим на общее распределение игр по жанрам. "
   ]
  },
  {
   "cell_type": "code",
   "execution_count": null,
   "metadata": {},
   "outputs": [],
   "source": [
    "# Создадим таблицу, в которой жанры видеоигр сгруппированы по общим продажам, \n",
    "# отсортированы по убыванию и без индексов.\n",
    "top_genre = filtered_data.pivot_table(index='genre', values='total_sales', aggfunc='sum').sort_values(\n",
    "    by='total_sales', ascending=False).reset_index().rename_axis(None, axis=1)\n",
    "top_genre"
   ]
  },
  {
   "cell_type": "code",
   "execution_count": null,
   "metadata": {},
   "outputs": [],
   "source": [
    "# Создадим сначала график, чтобы посмотреть на количество выбросов в целом\n",
    "plt.figure(figsize=(12, 8))\n",
    "sns.boxplot(x='genre', y='total_sales', data=period)\n",
    "\n",
    "plt.xticks(rotation=90)\n",
    "plt.title('Распределение игр по жанрам')\n",
    "plt.xlabel('Жанр')\n",
    "plt.ylabel('Суммарные продажи')\n",
    "\n",
    "plt.show()"
   ]
  },
  {
   "cell_type": "code",
   "execution_count": null,
   "metadata": {},
   "outputs": [],
   "source": [
    "# Теперь создадим график, чтобы посмотреть на медианные значения:\n",
    "plt.figure(figsize=(12, 8))\n",
    "sns.boxplot(x='genre', y='total_sales', data=period)\n",
    "\n",
    "plt.xticks(rotation=90)\n",
    "plt.title('Распределение игр по жанрам')\n",
    "plt.xlabel('Жанр')\n",
    "plt.ylabel('Суммарные продажи')\n",
    "plt.ylim(0, 2)\n",
    "\n",
    "plt.show()"
   ]
  },
  {
   "cell_type": "markdown",
   "metadata": {},
   "source": [
    "**Вывод:**\n",
    "* Мы видим, что медиана у жанра **Shooter** находится выше, чем у остальных жанров, но полностью сказать, что это это самый популярный и прибыльный жанр - нельзя. Всё потому, что размах ящика у этого жанра очень широкий, это нам говорит о нестабильности шутера. Также, если мы посмотрим на выбросы, а их очень много, то это лишь подтверждает нерегулярные успехи жанра.\n",
    "\n",
    "* Самое большое количество выбросов у жанра **Action**, это тоже знак нестабильности. По уровню медианы и размаха можно сказать, что не самый успешно продаваемый жанр, но он не отстаёт от остальных.\n",
    "\n",
    "* Глядя на жанр игр **Platform** и **Srorts**, мы видим примерно одинаковое медианное значение продаж, меньше, чем у жанра шутер, также небольшой размах ящика, а по сравнению с жанром экшен, небольшое количество выбросов. Можно сказать, что эти жанры не совсем имеют стабильные продажи, но они стремятся к этому.\n",
    "\n",
    "* **Role-Playing, Misc** можно сравнивать тоже вместе, так как их медианные продажи на примерно одинаковом уровне (меньше, чем у жанра шутер). Эти жанры имею достаточное количество выбросов (но меньше, чем у жанра экшен), что намекает на нестабильность продаж.\n",
    "\n",
    "* Жанры - **Fighting, Simulation, Racing** по сравнению с предыдущими жанрами видеоигр имеют меньшее количество выбросов, но и меньшее медианное значение продаж, поэтому мы можем предположить, что это непопулярные жанры, но у них есть своя небольшая аудитория, которая стабильно их приобретает.\n",
    "\n",
    "* Наименьшие медианные продажи у жанров **Strategy**, **Adventure** и **Puzzle**, но у них наблюдается стабильность, в отличие от всех остальных жанров. Это нам говорит о том, что их продают регулярно, но мало, видимо есть небольшая группа любителей именно этих жанров.  "
   ]
  },
  {
   "cell_type": "markdown",
   "metadata": {},
   "source": [
    "#### Краткий вывод по исследовательскому анализу данных:\n",
    "\n",
    "* До **1991** года выпускалось **малое количество**. В **1998** году видно **скачок** по количеству выпускаемых игр. **2008-2009** года являются **пиками роста** выпускаемых игр. С **2010** и далее происходит **спад** выпускаемых видеоигр, можно предположить, что причиной этого могло послужить развитие мобильных устройств.\n",
    "* Выделили 5 самых популярных платформ (**PS2, X360, PS3, Wii, DS**), выяснили, что средний срок их существования примерно **10 лет**.\n",
    "* Мы выбрали актуальный период - с **2012 по 2016**. Платформы: **PS4, 3DS, XOne, WiiU, PC, PSV** мы выяснили, что являются потенциально прибыльными, так как к 2016 они, в отличие отостальных, ещё хорошо продавались на рынке. \n",
    "* Выяснили, что по медианным значениям продажи больше всего у платформы **XOne и Wii**, далее - **PS4, 3DS,**, а на предпоследнем и последнем местах - **PC и PSV** соотвветственно. \n",
    "* У **PS4, 3DS, Xbox One, WiiU** наблюдается в какой-то степени связь между оценками критиков и продажами. Связь между оценками пользователей и продажами слабая у всех платформ, либо её вовсе нет. Только у **WiiU** корреляция между отзывами пользователей и продажами нормальная и даже больше, чем корреляция между отзывами критиков и игровой платформой. Следовательно, покупатели прислушиваются больше к критикам, нежели к оценкам других пользователей. Но на платформе **WiiU** наоборот.\n",
    "* Медианное значение продаж выше всего у жанра Shooter, но это самый не стабильный жанр видео игр. Но, если наши приоритеты расставленны на доходность, то это хороший вариант. Если мы хотим стабильность, но при небольшом доходе, то нам отлично подойдут такие жанры: **Fighting, Simulation, Racing, Strategy, Adventure и Puzzle**. Если искать такие жанры, которые будут приносить средний доход, а также будут иметь среднюю стабильность, то стоит выбирать между **Platform, Srorts, Role-Playing и Misc**."
   ]
  },
  {
   "cell_type": "markdown",
   "metadata": {},
   "source": [
    "### Составим портрет пользователя каждого региона (NA, EU, JP)."
   ]
  },
  {
   "cell_type": "markdown",
   "metadata": {},
   "source": [
    "#### Самые популярные платформы регионов (топ-5). "
   ]
  },
  {
   "cell_type": "code",
   "execution_count": null,
   "metadata": {},
   "outputs": [],
   "source": [
    "# Создадим таблицу, которая сортирует топ-5 платформ в регионе North America:\n",
    "top_platforms_na = period.pivot_table(index='platform',\n",
    "                                    values='na_sales', \n",
    "                                    aggfunc='sum').sort_values(by='na_sales', ascending=False)\n",
    "top_platforms_na = top_platforms_na.head().reset_index()\n",
    "\n",
    "# Создадим таблицу, которая сортирует топ-5 платформ в регионе Europe:\n",
    "top_platforms_eu = period.pivot_table(index='platform',\n",
    "                                    values='eu_sales', \n",
    "                                    aggfunc='sum').sort_values(by='eu_sales', ascending=False)\n",
    "top_platforms_eu = top_platforms_eu.head().reset_index()\n",
    "\n",
    "# Создадим таблицу, которая сортирует топ-5 платформ в регионе Japan:\n",
    "top_platforms_jp = period.pivot_table(index='platform',\n",
    "                                    values='jp_sales', \n",
    "                                    aggfunc='sum').sort_values(by='jp_sales', ascending=False)\n",
    "top_platforms_jp = top_platforms_jp.head().reset_index()\n",
    "\n",
    "display(top_platforms_na, top_platforms_eu, top_platforms_jp)"
   ]
  },
  {
   "cell_type": "code",
   "execution_count": null,
   "metadata": {},
   "outputs": [],
   "source": [
    "# Визуализируем эти данные:\n",
    "plt.figure(figsize=(15, 5)) \n",
    "\n",
    "# Диаграмма 1\n",
    "plt.subplot(131)\n",
    "plt.bar(top_platforms_na['platform'], top_platforms_na['na_sales'])\n",
    "plt.title('Продажи в North America')\n",
    "plt.xlabel('Платформы')\n",
    "plt.ylabel('Количество продаж')\n",
    "\n",
    "# Диаграмма 2\n",
    "plt.subplot(132)\n",
    "plt.bar(top_platforms_eu['platform'], top_platforms_eu['eu_sales'])\n",
    "plt.title('Продажи в Europe')\n",
    "plt.xlabel('Платформы')\n",
    "plt.ylabel('Количество продаж')\n",
    "\n",
    "# Диаграмма 3\n",
    "plt.subplot(133)\n",
    "plt.bar(top_platforms_jp['platform'], top_platforms_jp['jp_sales'])\n",
    "plt.title('Продажи в Japan')\n",
    "plt.xlabel('Платформы')\n",
    "plt.ylabel('Количество продаж')\n",
    "\n",
    "plt.tight_layout() \n",
    "plt.show()  \n"
   ]
  },
  {
   "cell_type": "markdown",
   "metadata": {},
   "source": [
    "Вывод по топ-5 популярным платформы регионов:\n",
    "* В Северной Америке самые популярные платформы: X360, PS4, PS3, XOne, 3DS.\n",
    "* В Европе популярны PS4, PS3, X360, XOne, 3DS.\n",
    "* В Японии на первом месте - 3DS, далее PS3, PSV, PS4, WiiU."
   ]
  },
  {
   "cell_type": "markdown",
   "metadata": {},
   "source": [
    "#### Самые популярные жанры (топ-5). Поясните разницу."
   ]
  },
  {
   "cell_type": "code",
   "execution_count": null,
   "metadata": {},
   "outputs": [],
   "source": [
    "# Создадим таблицу, которая сортирует топ-5 жанров в регионе North America:\n",
    "top_genre_na = period.pivot_table(index='genre',\n",
    "                                    values='na_sales', \n",
    "                                    aggfunc='sum').sort_values(by='na_sales', ascending=False)\n",
    "top_genre_na = top_genre_na.head().reset_index()\n",
    "\n",
    "# Создадим таблицу, которая сортирует топ-5 жанров в регионе Europe:\n",
    "top_genre_eu = period.pivot_table(index='genre',\n",
    "                                    values='eu_sales', \n",
    "                                    aggfunc='sum').sort_values(by='eu_sales', ascending=False)\n",
    "top_genre_eu = top_genre_eu.head().reset_index()\n",
    "\n",
    "# Создадим таблицу, которая сортирует топ-5 жанров в регионе Japan:\n",
    "top_genre_jp = period.pivot_table(index='genre',\n",
    "                                    values='jp_sales', \n",
    "                                    aggfunc='sum').sort_values(by='jp_sales', ascending=False)\n",
    "top_genre_jp = top_genre_jp.head().reset_index()\n",
    "\n",
    "display(top_genre_na, top_genre_eu, top_genre_jp)"
   ]
  },
  {
   "cell_type": "code",
   "execution_count": null,
   "metadata": {},
   "outputs": [],
   "source": [
    "# Визуализируем эти данные:\n",
    "plt.figure(figsize=(15, 5)) \n",
    "\n",
    "# Диаграмма 1\n",
    "plt.subplot(131)\n",
    "plt.bar(top_genre_na['genre'], top_genre_na['na_sales'])\n",
    "plt.title('Продажи в North America')\n",
    "plt.xlabel('Жанры')\n",
    "plt.ylabel('Количество продаж')\n",
    "\n",
    "# Диаграмма 2\n",
    "plt.subplot(132)\n",
    "plt.bar(top_genre_eu['genre'], top_genre_eu['eu_sales'])\n",
    "plt.title('Продажи в Europe')\n",
    "plt.xlabel('Жанры')\n",
    "plt.ylabel('Количество продаж')\n",
    "\n",
    "# Диаграмма 3\n",
    "plt.subplot(133)\n",
    "plt.bar(top_genre_jp['genre'], top_genre_jp['jp_sales'])\n",
    "plt.title('Продажи в Japan')\n",
    "plt.xlabel('Жанры')\n",
    "plt.ylabel('Количество продаж')\n",
    "\n",
    "plt.tight_layout()  \n",
    "plt.show()  "
   ]
  },
  {
   "cell_type": "markdown",
   "metadata": {},
   "source": [
    "Вывод по топ-5 популярным жанрам игр регионов:\n",
    "* В Северной Америке самые популярные жанры видеоигр: Action, Shooter, Sports, Role-Playing, Misc.\n",
    "* В Европе почти такой же набор самых популярных жанров: Action, Shooter, Sports, Role-Playing, Racing.\n",
    "* В Японии на первом месте - Role-Playing, далее Action, Misc, Simulation, Fighting.\n",
    "\n",
    "Мы видим, что у Северной Америки и Европы почти одинаковые предпочтения в жанрах видеоигр. Люди в там любят экшен, шутер и спортивные жанры игр.\n",
    "\n",
    "В Японии совершенно другой набор - больше всего любят ролевые игры."
   ]
  },
  {
   "cell_type": "markdown",
   "metadata": {},
   "source": [
    "#### Влияет ли рейтинг ESRB на продажи в отдельном регионе?"
   ]
  },
  {
   "cell_type": "markdown",
   "metadata": {},
   "source": [
    "Описание: \n",
    "- «E» («Everyone») — «Для всех»\n",
    "- «E10+» («Everyone 10 and older») — «Для всех от 10 лет и старше»\n",
    "- «T» («Teen») — «Подросткам»\n",
    "- «M» («Mature») — «Для взрослых»"
   ]
  },
  {
   "cell_type": "code",
   "execution_count": null,
   "metadata": {},
   "outputs": [],
   "source": [
    "# Создадим таблицу, которая сортирует топ-5 жанров в регионе North America:\n",
    "top_rating_na = period.pivot_table(index='rating',\n",
    "                                    values='na_sales', \n",
    "                                    aggfunc='sum').sort_values(by='na_sales', ascending=False)\n",
    "top_rating_na = top_rating_na.head().reset_index()\n",
    "\n",
    "# Создадим таблицу, которая сортирует топ-5 жанров в регионе Europe:\n",
    "top_rating_eu = period.pivot_table(index='rating',\n",
    "                                    values='eu_sales', \n",
    "                                    aggfunc='sum').sort_values(by='eu_sales', ascending=False)\n",
    "top_rating_eu = top_rating_eu.head().reset_index()\n",
    "\n",
    "# Создадим таблицу, которая сортирует топ-5 жанров в регионе Japan:\n",
    "top_rating_jp = period.pivot_table(index='rating',\n",
    "                                    values='jp_sales', \n",
    "                                    aggfunc='sum').sort_values(by='jp_sales', ascending=False)\n",
    "top_rating_jp = top_rating_jp.head().reset_index()\n",
    "\n",
    "display(top_rating_na, top_rating_eu, top_rating_jp)"
   ]
  },
  {
   "cell_type": "code",
   "execution_count": null,
   "metadata": {},
   "outputs": [],
   "source": [
    "# Визуализируем эти данные:\n",
    "plt.figure(figsize=(15, 5)) \n",
    "\n",
    "# Диаграмма 1\n",
    "plt.subplot(131)\n",
    "plt.bar(top_rating_na['rating'], top_rating_na['na_sales'])\n",
    "plt.title('Рейтинг игр в North America')\n",
    "plt.xlabel('Рейтинг')\n",
    "plt.ylabel('Количество продаж')\n",
    "\n",
    "# Диаграмма 2\n",
    "plt.subplot(132)\n",
    "plt.bar(top_rating_eu['rating'], top_rating_eu['eu_sales'])\n",
    "plt.title('Рейтинг игр в Europe')\n",
    "plt.xlabel('Рейтинг')\n",
    "plt.ylabel('Количество продаж')\n",
    "\n",
    "# Диаграмма 3\n",
    "plt.subplot(133)\n",
    "plt.bar(top_rating_jp['rating'], top_rating_jp['jp_sales'])\n",
    "plt.title('Рейтинг игр в Japan')\n",
    "plt.xlabel('Рейтинг')\n",
    "plt.ylabel('Количество продаж')\n",
    "\n",
    "plt.tight_layout()  \n",
    "plt.show()"
   ]
  },
  {
   "cell_type": "markdown",
   "metadata": {},
   "source": [
    "Вывод рейтингов видеоигр от организации ESRB по разным регионам:\n",
    "* Северная Америка и Европа снова схожи: на первом месте по продажами игры с рейтингом - «Для взрослых» (M), далее игры «Для всех» (E), «Unknown» (Игры без рейтинга) и «Для всех от 10 лет и старше» (E10+), на последнем месте - «Подросткам» (T)\n",
    "* В Японии рейтинг немного другой, больше продаж по играм без рейтинга - «Unknown», далее идут «Для всех» (E), дальше рейтинг у игр «Подросткам» (T), «Для взрослых» (M) и на последнем месте «Для всех от 10 лет и старше» (E10+)."
   ]
  },
  {
   "cell_type": "markdown",
   "metadata": {},
   "source": [
    "#### Портрет пользователя в Северной Америке:\n",
    "\n",
    "- В Северной Америке самые популярные платформы: X360, PS4, PS3, XOne, 3DS. Жанры, которые чаще всего выбирают пользователи - Action, Shooter, Sports, Role-Playing, Misc. Больше всего продаж у игр с рейтингом «Для взрослых» (M), далее игры «Для всех» (E), «Unknown» (Игры без рейтинга) и «Для всех от 10 лет и старше» (E10+), на последнем месте - «Подросткам» (T)\n",
    "\n",
    "- В Европе топ-5 платформ: PS4, PS3, X360, XOne, 3DS. В Европе почти такой же набор, как и в Америке, самых популярных жанров: Action, Shooter, Sports, Role-Playing, Racing. Набор популярных игр по рейтингам совпадает с Америкой. \n",
    "\n",
    "- В Японии на первом месте игровая платформа 3DS, далее PS3, PSV, PS4, WiiU. Популярный жанр видеоигр - Role-Playing, далее Action, Misc, Simulation, Fighting. Больше продаж у игр с рейтингом «Unknown» (Игры без рейтинга), затем игры - «Для всех» (E), дальше рейтинг у игр «Подросткам» (T), «Для взрослых» (M) и на последнем месте «Для всех от 10 лет и старше» (E10+)."
   ]
  },
  {
   "cell_type": "markdown",
   "metadata": {},
   "source": [
    "### Проверим некоторые гипотезы."
   ]
  },
  {
   "cell_type": "markdown",
   "metadata": {},
   "source": [
    "####  Средние пользовательские рейтинги платформ Xbox One и PC одинаковые;"
   ]
  },
  {
   "cell_type": "markdown",
   "metadata": {},
   "source": [
    "Для проверки гипотезы о равенстве средних пользовательских рейтингов платформ Xbox One и PC сформулируем нулевую и альтернативную гипотезы:\n",
    "\n",
    "**Нулевая гипотеза**: Средние пользовательские рейтинги платформ Xbox One и PC равны.\n",
    "\n",
    "**Альтернативная гипотеза**: Средние пользовательские рейтинги платформ Xbox One и PC различаются.\n",
    "\n",
    "Для проверки этих гипотез можно использовать t-тест для независимых выборок, так как мы сравниваем две разные платформы (Xbox One и PC) и у нас есть две независимые выборки пользовательских рейтингов для каждой платформы."
   ]
  },
  {
   "cell_type": "code",
   "execution_count": null,
   "metadata": {},
   "outputs": [],
   "source": [
    "# Выделим пользовательские рейтинги для Xbox One и PC, также удалим пропущенные значения в этих столбцах:\n",
    "xbox_one_scores = period[period['platform'] == 'XOne']['user_score'].dropna() \n",
    "pc_scores = period[period['platform'] == 'PC']['user_score'].dropna() \n",
    "\n",
    "# Проводим t-тест:\n",
    "results = st.ttest_ind(xbox_one_scores, pc_scores, alternative='two-sided', equal_var=True)\n",
    "\n",
    "# Задаем уровень статистической значимости:\n",
    "alpha = 0.05\n",
    "\n",
    "# Выводим результаты t-теста\n",
    "print('p-значение:', results.pvalue)\n",
    "\n",
    "# Проверяем гипотезу:\n",
    "if results.pvalue < alpha:\n",
    "    print(\"Отвергаем нулевую гипотезу: Средние пользовательские рейтинги платформ Xbox One и PC различаются.\")\n",
    "else:\n",
    "    print(\"Не отвергаем нулевую гипотезу: Средние пользовательские рейтинги платформ Xbox One и PC равны.\")\n",
    "\n",
    "print(f\"Средний пользовательский рейтинг для платформы Xbox One: {xbox_one_scores.mean()}\")\n",
    "print(f\"Средний пользовательский рейтинг для платформы PC: {pc_scores.mean()}\")"
   ]
  },
  {
   "cell_type": "markdown",
   "metadata": {},
   "source": [
    "Полученное значение p-value ~ 0.55 больше заданного уровня значимости. Следовательно, мы не можем отвергнуть нулевую гипотезу и считаем, что средние пользовательские рейтинги равны."
   ]
  },
  {
   "cell_type": "markdown",
   "metadata": {},
   "source": [
    "#### Средние пользовательские рейтинги жанров Action (англ. «действие», экшен-игры) и Sports (англ. «спортивные соревнования») разные."
   ]
  },
  {
   "cell_type": "markdown",
   "metadata": {},
   "source": [
    "Для проверки гипотезы о различии средних пользовательских рейтингов жанров Action и Sports можно сформулировать нулевую и альтернативную гипотезы следующим образом:\n",
    "\n",
    "**Нулевая гипотеза**: Средние пользовательские рейтинги жанров Action и Sports одинаковы.\n",
    "\n",
    "**Альтернативная гипотеза**: Средние пользовательские рейтинги жанров Action и Sports различаются.\n",
    "\n",
    "Для проверки этих гипотез можно использовать t-тест для независимых выборок, так как мы сравниваем два разных жанра (Action и Sports) и у нас есть две независимые выборки пользовательских рейтингов для каждого жанра."
   ]
  },
  {
   "cell_type": "code",
   "execution_count": null,
   "metadata": {},
   "outputs": [],
   "source": [
    "# Выделяем пользовательские рейтинги для жанра Action и Sports, также удалим пропущенные значения в этих столбцах:\n",
    "action_scores = period[period['genre'] == 'Action']['user_score'].dropna()\n",
    "sports_scores = period[period['genre'] == 'Sports']['user_score'].dropna()\n",
    "\n",
    "# Проводим t-тест\n",
    "t_statistic, p_value = st.ttest_ind(action_scores, sports_scores, alternative='two-sided', equal_var=False)\n",
    "\n",
    "# Задаем уровень значимости\n",
    "alpha = 0.05\n",
    "\n",
    "# Выводим результаты t-теста\n",
    "print(f\"p-значение: {p_value}\")\n",
    "\n",
    "# Проверяем гипотезу\n",
    "if p_value < alpha:\n",
    "    print(\"Отвергаем нулевую гипотезу: Средние пользовательские рейтинги жанров Action и Sports различаются.\")\n",
    "else:\n",
    "    print(\"Не отвергаем нулевую гипотезу: Средние пользовательские рейтинги жанров Action и Sports одинаковы.\")\n",
    "\n",
    "print(f\"Средний пользовательский рейтинг для жанра Action: {action_scores.mean()}\")\n",
    "print(f\"Средний пользовательский рейтинг для жанра Sports: {sports_scores.mean()}\")\n"
   ]
  },
  {
   "cell_type": "markdown",
   "metadata": {},
   "source": [
    "Полученное значение p-value ~ 4.24*10^-20 меньше заданного уровня значимости. Следовательно, мы можем сказать, что средние пользовательские рейтинги различаются. "
   ]
  },
  {
   "cell_type": "markdown",
   "metadata": {},
   "source": [
    "### Общий вывод."
   ]
  },
  {
   "cell_type": "markdown",
   "metadata": {},
   "source": [
    "Мы провели работу с данными интернет-магазина «Стримчик», который продаёт по всему миру компьютерные игры. Рассмотрели данные о продажах игр, об оценках пользователей и экспертов, о жанрах и платформах.\n",
    "\n",
    "**1) Загрузка данных.**\n",
    "На этом этапе мы изучили информацию, ознакомились с общими данными в датасете, обнаружили отсутствие данных и несоответствие типов данных.\n",
    "\n",
    "**2) Предобработка данных.**\n",
    "* Привели названия столбцов к нижнему регистру. \n",
    "* **Пропуски:** \n",
    "    - Для столбцов \"name\" и \"genre\" удаляем пропуски. Эти пропуски возникли, вероятно, из-за сложности названий игр или незнания жанра. \n",
    "    - Пропуски в столбце \"year_of_release\" также были удалены, их было 269 (1,6% от всего объема данных). Это могло произойти из-за незнания года выпуска игры или из-за забвения. \n",
    "    - Пропуски в столбцах \"user_score\" (6607) и \"critic_score\" (8463) остались без изменений, так как нет логической замены для них. \n",
    "    - А вот пропуски в столбце \"rating\" (6678) мы заменили на «Unknown» (Игры без рейтинга). Так как система рейтинга ESRB была основана в 1994 году, скорее всего, именно поээтому есть игры, которые не оценены.\n",
    "\n",
    "* Значения \"tbd\" были заменены на NaN. \n",
    "* Мы добавили столбец \"total_sales\", содержащий сумму продаж по всем регионам для каждой игры. \n",
    "* **Замена типа данных:**\n",
    "    - Столбец \"year_of_release\" был преобразован в целочисленный тип данных Int64.\n",
    "    - Тип данных столбца \"user_score\" был изменен с object на float32. \n",
    "    - Для экономии памяти типы данных float64 были заменены на float32. \n",
    "* **Проверка дубликатов:**\n",
    "    - Проработали явные и неявные дубликаты, первых не обнаружилось. \n",
    "    - Неявных дубликатов выявили только одну пару, это две строки (одинаковое в этих строках всё, кроме количества продаж в регионах), одну из строк, которая несла в себе мало информации, я удалила.\n",
    "\n",
    "По итогу предобработки у нас осталось **16443**  строки - это **98,4%** от общего объёма данных (**16715** строк).\n",
    "\n",
    "**3) Исследовательский анализ данных.**\n",
    "* Мы посмотрели сколько игры выпускалось в разные годы:\n",
    "    - До 1991 года выпускалось небольшое количество видеоигр. \n",
    "    - Однако в 1998 году наблюдается резкий рост в числе выпускаемых игр. \n",
    "    - Пиком по количеству выпущенных игр стали годы 2008-2009. \n",
    "    - Начиная с 2010 года, мы видим снижение объема выпускаемых видеоигр, что может быть связано с развитием мобильных устройств.\n",
    "\n",
    "* Мы выделили 5 наиболее популярных игровых платформ (PS2, X360, PS3, Wii, DS) и установили, что средний срок их существования составляет примерно **10 лет**.\n",
    "\n",
    "* Для анализа выбрали актуальный период с **2012 по 2016** год. В этот период в качестве **потенциально прибыльных платформ выделили PS4, 3DS, XOne, WiiU, PC и PSV,** так как они продолжали успешно продаваться на рынке к **2016 году**, в отличие от других.\n",
    "\n",
    "* Медианные значения продаж показали, что **самыми успешными платформами являются **XOne и Wii**, затем идет **PS4, 3DS**, на предпоследнем и последнем местах - **PC и PSV** соотвветственно.\n",
    "\n",
    "* Посмотрели также на то, как влияют на продажи внутри одной популярной платформы отзывы пользователей и критиков:\n",
    "    - На PS4, 3DS, Xbox One и WiiU можно заметить некоторую связь между оценками критиков и объемами продаж. \n",
    "    - Однако связь между оценками пользователей и продажами слаба или вовсе отсутствует у всех платформ, кроме WiiU, где корреляция между оценками пользователей и продажами даже превышает корреляцию между оценками критиков и продажами. \n",
    "    - **Следовательно, для большинства платформ покупатели больше доверяют мнению критиков, чем оценкам других пользователей, но это не относится к WiiU.**\n",
    "\n",
    "* Выделили жанры которые могут быть прибыльными и те, которые имеют стабильность: \n",
    "    - Медианное значение продаж выше всего у жанра **Shooter**, но это самый не стабильный жанр видео игр. Но, если наши приоритеты расставленны на доходность, то это хороший вариант. \n",
    "    - Если мы хотим стабильность, но при небольшом доходе, то нам отлично подойдут такие жанры: **Fighting, Simulation, Racing, Strategy, Adventure и Puzzle**. \n",
    "    - Если искать такие жанры, которые будут приносить средний доход, а также будут иметь среднюю стабильность, то стоит выбирать между **Platform, Srorts, Role-Playing и Misc**.\n",
    "\n",
    "**4) Составление портрета пользователя каждого региона.**\n",
    "\n",
    "В **Северной Америке** пятерка самых популярных платформ включает в себя **X360, PS4, PS3, XOne и 3DS**. Что касается предпочтительных жанров среди пользователей, то здесь лидируют **Action, Shooter, Sports, Role-Playing и Misc**. Важно отметить, что игры с рейтингом **«Для взрослых» (M)** имеют наибольшие продажи, за ними следуют игры с рейтингом **«Для всех» (E)**, **«Unknown» (Игры без рейтинга)** и **«Для всех от 10 лет и старше» (E10+)**, а наименьшие продажи у игр с рейтингом **«Подросткам» (T)**.\n",
    "\n",
    "В **Европе** топ-5 платформ похож на американский: **PS4, PS3, X360, XOne и 3DS**. Предпочтения по жанрам также схожи с Америкой: **Action, Shooter, Sports, Role-Playing и Racing** наиболее популярны. Аналогично, популярные игры по рейтингу совпадают с выбором в Америке.\n",
    "\n",
    "В **Японии** ситуация отличается. Топ-5 платформ включает **3DS, PS3, PSV, PS4 и WiiU**. Самым популярным жанром является **Role-Playing**, за ним идут **Action, Misc, Simulation** и **Fighting**. В Японии игры с рейтингом **«Unknown» (Игры без рейтинга)** имеют наибольшие продажи, за ними следуют игры с рейтингом **«Для всех» (E)**, **«Подросткам» (T)**, **«Для взрослых» (M)** и на последнем месте игры с рейтингом **«Для всех от 10 лет и старше» (E10+)**.\n",
    "\n",
    "**5) Проверка гипотез**\n",
    "1. Средние пользовательские рейтинги платформ Xbox One и PC равны.\n",
    "- Не получилось отвергнуть нулевую гипотезу, поэтому считаем, что средние пользовательские рейтинги равны.\n",
    "2. Средние пользовательские рейтинги жанров Action и Sports одинаковы.\n",
    "- Отвергаем нулевую гипотезу, следовательно, средние пользовательские рейтинги жанров Action и Sports различаются.\n",
    "\n",
    "**Теперь разберём главный шаг исследования** - выявление закономерностей, которые определяют успешность игры. Это нам позволит сделать ставку на потенциально популярный продукт и спланировать рекламные кампании.\n",
    "\n",
    "* Выбор **платформы** играет решающую роль в успехе игры. Наиболее популярные платформы различаются в зависимости от региона. В Северной Америке и Европе популярны PS4 и XOne, а в Японии - 3DS. Поэтому разработчики должны адаптировать свои игры под платформы, доминирующие в конкретном регионе.\n",
    "\n",
    "* **Жанр игры** также оказывает существенное влияние на ее успех. Жанры Action, Shooter, Sports и Role-Playing обычно имеют высокие продажи в разных регионах. Разработка игр в этих жанрах может быть более прибыльной.\n",
    "\n",
    "* **Рейтинг ESRB** влияет на продажи в зависимости от региона. В Северной Америке и Европе игры с рейтингом \"Для взрослых\" (M) часто успешны, в то время как в Японии игры с рейтингом \"Для всех\" (E) популярны. Поэтому важно выбирать соответствующий рейтинг для целевой аудитории.\n",
    "\n",
    "* **Оценки критиков и пользователей** имеют какое-то влияние на продажи игр на некоторых платформах, таких как PS4, 3DS, Xbox One и WiiU. Учитывая это, разработчики могут стремиться к получению хороших оценок.\n",
    "\n",
    "* Для планирования на **2017 год** можно рассмотреть платформы **PS4, 3DS, XOne, WiiU, PC и PSV** как потенциально прибыльные, так как они успешно продавались к 2016 году. Жанры **Action, Shooter, Sports и Role-Playing** также остаются популярными.\n",
    "\n",
    "**Исходя из этих закономерностей, разработчики могут прогнозировать успешность своих игр, выбирать подходящие платформы и жанры, а также адаптировать рейтинг и маркетинговые стратегии для конкретных регионов.**"
   ]
  }
 ],
 "metadata": {
  "ExecuteTimeLog": [
   {
    "duration": 4,
    "start_time": "2023-10-02T12:53:40.290Z"
   },
   {
    "duration": 1611,
    "start_time": "2023-10-02T13:22:13.384Z"
   },
   {
    "duration": 108,
    "start_time": "2023-10-02T13:25:24.738Z"
   },
   {
    "duration": 7,
    "start_time": "2023-10-02T13:25:28.681Z"
   },
   {
    "duration": 150,
    "start_time": "2023-10-02T13:25:28.690Z"
   },
   {
    "duration": 18,
    "start_time": "2023-10-02T13:25:28.841Z"
   },
   {
    "duration": 64,
    "start_time": "2023-10-02T13:25:40.701Z"
   },
   {
    "duration": 20,
    "start_time": "2023-10-02T13:25:42.518Z"
   },
   {
    "duration": 91,
    "start_time": "2023-10-02T13:26:05.934Z"
   },
   {
    "duration": 84,
    "start_time": "2023-10-02T13:26:13.398Z"
   },
   {
    "duration": 1409,
    "start_time": "2023-10-02T14:35:54.944Z"
   },
   {
    "duration": 128,
    "start_time": "2023-10-02T14:35:56.355Z"
   },
   {
    "duration": 21,
    "start_time": "2023-10-02T14:36:12.587Z"
   },
   {
    "duration": 3,
    "start_time": "2023-10-02T14:51:33.810Z"
   },
   {
    "duration": 24,
    "start_time": "2023-10-02T14:51:39.823Z"
   },
   {
    "duration": 15,
    "start_time": "2023-10-02T14:51:49.074Z"
   },
   {
    "duration": 1494,
    "start_time": "2023-10-02T14:57:32.540Z"
   },
   {
    "duration": 19,
    "start_time": "2023-10-02T14:58:09.948Z"
   },
   {
    "duration": 5,
    "start_time": "2023-10-02T15:04:45.820Z"
   },
   {
    "duration": 137,
    "start_time": "2023-10-02T15:04:45.827Z"
   },
   {
    "duration": 25,
    "start_time": "2023-10-02T15:04:45.967Z"
   },
   {
    "duration": 18,
    "start_time": "2023-10-02T15:04:46.009Z"
   },
   {
    "duration": 32,
    "start_time": "2023-10-02T15:04:46.030Z"
   },
   {
    "duration": 17,
    "start_time": "2023-10-02T15:05:00.259Z"
   },
   {
    "duration": 12,
    "start_time": "2023-10-02T15:22:12.941Z"
   },
   {
    "duration": 15,
    "start_time": "2023-10-02T15:23:17.563Z"
   },
   {
    "duration": 25,
    "start_time": "2023-10-02T15:25:11.919Z"
   },
   {
    "duration": 6,
    "start_time": "2023-10-02T15:32:28.405Z"
   },
   {
    "duration": 19,
    "start_time": "2023-10-02T15:32:40.338Z"
   },
   {
    "duration": 18,
    "start_time": "2023-10-02T15:34:00.619Z"
   },
   {
    "duration": 8,
    "start_time": "2023-10-02T15:34:13.730Z"
   },
   {
    "duration": 16,
    "start_time": "2023-10-02T15:34:25.756Z"
   },
   {
    "duration": 7,
    "start_time": "2023-10-02T15:35:01.198Z"
   },
   {
    "duration": 21,
    "start_time": "2023-10-02T15:35:05.606Z"
   },
   {
    "duration": 85,
    "start_time": "2023-10-02T15:35:43.872Z"
   },
   {
    "duration": 85,
    "start_time": "2023-10-02T15:35:57.004Z"
   },
   {
    "duration": 94,
    "start_time": "2023-10-02T15:36:18.838Z"
   },
   {
    "duration": 107,
    "start_time": "2023-10-02T15:36:34.331Z"
   },
   {
    "duration": 105,
    "start_time": "2023-10-02T15:36:51.553Z"
   },
   {
    "duration": 104,
    "start_time": "2023-10-02T15:37:03.262Z"
   },
   {
    "duration": 83,
    "start_time": "2023-10-02T15:37:10.980Z"
   },
   {
    "duration": 82,
    "start_time": "2023-10-02T15:37:15.422Z"
   },
   {
    "duration": 77,
    "start_time": "2023-10-02T15:37:21.027Z"
   },
   {
    "duration": 100,
    "start_time": "2023-10-02T15:37:26.630Z"
   },
   {
    "duration": 80,
    "start_time": "2023-10-02T15:37:31.919Z"
   },
   {
    "duration": 89,
    "start_time": "2023-10-02T15:37:36.097Z"
   },
   {
    "duration": 102,
    "start_time": "2023-10-02T15:37:39.495Z"
   },
   {
    "duration": 92,
    "start_time": "2023-10-02T15:37:43.600Z"
   },
   {
    "duration": 83,
    "start_time": "2023-10-02T15:37:48.105Z"
   },
   {
    "duration": 90,
    "start_time": "2023-10-02T15:37:56.149Z"
   },
   {
    "duration": 0,
    "start_time": "2023-10-02T15:38:48.276Z"
   },
   {
    "duration": 6,
    "start_time": "2023-10-02T15:38:53.128Z"
   },
   {
    "duration": 93,
    "start_time": "2023-10-02T15:38:53.136Z"
   },
   {
    "duration": 20,
    "start_time": "2023-10-02T15:38:53.231Z"
   },
   {
    "duration": 16,
    "start_time": "2023-10-02T15:38:53.253Z"
   },
   {
    "duration": 59,
    "start_time": "2023-10-02T15:38:53.272Z"
   },
   {
    "duration": 15,
    "start_time": "2023-10-02T15:38:53.333Z"
   },
   {
    "duration": 25,
    "start_time": "2023-10-02T15:38:53.350Z"
   },
   {
    "duration": 43,
    "start_time": "2023-10-02T15:38:53.378Z"
   },
   {
    "duration": 148,
    "start_time": "2023-10-02T15:54:42.496Z"
   },
   {
    "duration": 1623,
    "start_time": "2023-10-02T15:58:01.323Z"
   },
   {
    "duration": 4,
    "start_time": "2023-10-02T15:58:12.806Z"
   },
   {
    "duration": 113,
    "start_time": "2023-10-02T15:58:12.820Z"
   },
   {
    "duration": 21,
    "start_time": "2023-10-02T15:58:12.936Z"
   },
   {
    "duration": 49,
    "start_time": "2023-10-02T15:58:12.959Z"
   },
   {
    "duration": 22,
    "start_time": "2023-10-02T15:58:13.016Z"
   },
   {
    "duration": 16,
    "start_time": "2023-10-02T15:58:13.047Z"
   },
   {
    "duration": 18,
    "start_time": "2023-10-02T15:58:13.065Z"
   },
   {
    "duration": 19,
    "start_time": "2023-10-02T15:58:13.084Z"
   },
   {
    "duration": 32,
    "start_time": "2023-10-02T15:58:13.105Z"
   },
   {
    "duration": 10,
    "start_time": "2023-10-02T15:58:31.576Z"
   },
   {
    "duration": 10,
    "start_time": "2023-10-02T15:59:06.858Z"
   },
   {
    "duration": 6,
    "start_time": "2023-10-02T15:59:16.228Z"
   },
   {
    "duration": 9,
    "start_time": "2023-10-02T15:59:19.923Z"
   },
   {
    "duration": 89,
    "start_time": "2023-10-02T15:59:19.936Z"
   },
   {
    "duration": 15,
    "start_time": "2023-10-02T15:59:20.027Z"
   },
   {
    "duration": 15,
    "start_time": "2023-10-02T15:59:20.044Z"
   },
   {
    "duration": 32,
    "start_time": "2023-10-02T15:59:20.061Z"
   },
   {
    "duration": 39,
    "start_time": "2023-10-02T15:59:20.095Z"
   },
   {
    "duration": 45,
    "start_time": "2023-10-02T15:59:20.136Z"
   },
   {
    "duration": 23,
    "start_time": "2023-10-02T15:59:20.184Z"
   },
   {
    "duration": 24,
    "start_time": "2023-10-02T15:59:20.209Z"
   },
   {
    "duration": 17,
    "start_time": "2023-10-02T15:59:51.530Z"
   },
   {
    "duration": 147,
    "start_time": "2023-10-02T15:59:53.966Z"
   },
   {
    "duration": 14,
    "start_time": "2023-10-02T15:59:56.748Z"
   },
   {
    "duration": 9,
    "start_time": "2023-10-02T16:00:07.681Z"
   },
   {
    "duration": 5,
    "start_time": "2023-10-02T16:00:24.360Z"
   },
   {
    "duration": 204,
    "start_time": "2023-10-02T16:23:50.697Z"
   },
   {
    "duration": 6,
    "start_time": "2023-10-02T16:24:05.750Z"
   },
   {
    "duration": 19,
    "start_time": "2023-10-02T16:25:03.311Z"
   },
   {
    "duration": 15,
    "start_time": "2023-10-02T16:25:07.107Z"
   },
   {
    "duration": 9,
    "start_time": "2023-10-02T16:25:07.933Z"
   },
   {
    "duration": 23,
    "start_time": "2023-10-02T16:31:58.023Z"
   },
   {
    "duration": 10,
    "start_time": "2023-10-02T16:32:00.820Z"
   },
   {
    "duration": 21,
    "start_time": "2023-10-02T16:34:13.076Z"
   },
   {
    "duration": 250,
    "start_time": "2023-10-02T16:36:31.994Z"
   },
   {
    "duration": 239,
    "start_time": "2023-10-02T16:36:44.089Z"
   },
   {
    "duration": 9,
    "start_time": "2023-10-02T16:36:46.421Z"
   },
   {
    "duration": 206,
    "start_time": "2023-10-02T16:37:37.692Z"
   },
   {
    "duration": 9,
    "start_time": "2023-10-02T16:37:40.627Z"
   },
   {
    "duration": 190,
    "start_time": "2023-10-02T16:38:57.316Z"
   },
   {
    "duration": 442,
    "start_time": "2023-10-02T16:43:09.674Z"
   },
   {
    "duration": 0,
    "start_time": "2023-10-02T16:43:10.122Z"
   },
   {
    "duration": 454,
    "start_time": "2023-10-02T16:43:15.981Z"
   },
   {
    "duration": 17,
    "start_time": "2023-10-02T16:44:18.893Z"
   },
   {
    "duration": 25,
    "start_time": "2023-10-02T16:44:36.662Z"
   },
   {
    "duration": 16,
    "start_time": "2023-10-02T16:44:39.653Z"
   },
   {
    "duration": 8,
    "start_time": "2023-10-02T16:44:41.977Z"
   },
   {
    "duration": 453,
    "start_time": "2023-10-02T16:53:33.000Z"
   },
   {
    "duration": 570,
    "start_time": "2023-10-02T16:53:44.907Z"
   },
   {
    "duration": 7,
    "start_time": "2023-10-02T16:54:09.376Z"
   },
   {
    "duration": 6,
    "start_time": "2023-10-02T16:58:12.047Z"
   },
   {
    "duration": 21,
    "start_time": "2023-10-02T16:58:32.437Z"
   },
   {
    "duration": 10,
    "start_time": "2023-10-02T17:01:09.479Z"
   },
   {
    "duration": 28,
    "start_time": "2023-10-02T17:01:11.305Z"
   },
   {
    "duration": 17,
    "start_time": "2023-10-02T17:03:36.648Z"
   },
   {
    "duration": 7,
    "start_time": "2023-10-02T17:17:22.069Z"
   },
   {
    "duration": 16,
    "start_time": "2023-10-02T17:19:35.552Z"
   },
   {
    "duration": 17,
    "start_time": "2023-10-02T17:19:37.872Z"
   },
   {
    "duration": 21,
    "start_time": "2023-10-02T17:20:26.360Z"
   },
   {
    "duration": 172,
    "start_time": "2023-10-02T17:20:42.002Z"
   },
   {
    "duration": 141,
    "start_time": "2023-10-02T17:20:56.275Z"
   },
   {
    "duration": 122,
    "start_time": "2023-10-02T17:21:03.505Z"
   },
   {
    "duration": 86,
    "start_time": "2023-10-02T17:21:08.481Z"
   },
   {
    "duration": 29,
    "start_time": "2023-10-02T17:21:39.784Z"
   },
   {
    "duration": 22,
    "start_time": "2023-10-02T17:21:55.543Z"
   },
   {
    "duration": 4,
    "start_time": "2023-10-02T17:22:08.933Z"
   },
   {
    "duration": 92,
    "start_time": "2023-10-02T17:22:08.939Z"
   },
   {
    "duration": 18,
    "start_time": "2023-10-02T17:22:09.032Z"
   },
   {
    "duration": 23,
    "start_time": "2023-10-02T17:22:09.052Z"
   },
   {
    "duration": 22,
    "start_time": "2023-10-02T17:22:09.076Z"
   },
   {
    "duration": 31,
    "start_time": "2023-10-02T17:22:09.100Z"
   },
   {
    "duration": 26,
    "start_time": "2023-10-02T17:22:09.133Z"
   },
   {
    "duration": 25,
    "start_time": "2023-10-02T17:22:09.161Z"
   },
   {
    "duration": 18,
    "start_time": "2023-10-02T17:22:09.189Z"
   },
   {
    "duration": 34,
    "start_time": "2023-10-02T17:22:09.209Z"
   },
   {
    "duration": 0,
    "start_time": "2023-10-02T17:22:09.245Z"
   },
   {
    "duration": 20,
    "start_time": "2023-10-02T17:23:07.198Z"
   },
   {
    "duration": 19,
    "start_time": "2023-10-02T17:23:16.537Z"
   },
   {
    "duration": 20,
    "start_time": "2023-10-02T17:23:25.866Z"
   },
   {
    "duration": 7,
    "start_time": "2023-10-02T17:23:40.813Z"
   },
   {
    "duration": 8,
    "start_time": "2023-10-02T17:23:47.088Z"
   },
   {
    "duration": 4,
    "start_time": "2023-10-02T17:23:50.099Z"
   },
   {
    "duration": 141,
    "start_time": "2023-10-02T17:23:50.106Z"
   },
   {
    "duration": 16,
    "start_time": "2023-10-02T17:23:50.249Z"
   },
   {
    "duration": 59,
    "start_time": "2023-10-02T17:23:50.267Z"
   },
   {
    "duration": 39,
    "start_time": "2023-10-02T17:23:50.329Z"
   },
   {
    "duration": 23,
    "start_time": "2023-10-02T17:23:50.370Z"
   },
   {
    "duration": 9,
    "start_time": "2023-10-02T17:23:50.395Z"
   },
   {
    "duration": 8,
    "start_time": "2023-10-02T17:23:50.406Z"
   },
   {
    "duration": 8,
    "start_time": "2023-10-02T17:23:50.417Z"
   },
   {
    "duration": 36,
    "start_time": "2023-10-02T17:23:50.427Z"
   },
   {
    "duration": 0,
    "start_time": "2023-10-02T17:23:50.464Z"
   },
   {
    "duration": 4,
    "start_time": "2023-10-02T17:24:03.025Z"
   },
   {
    "duration": 26,
    "start_time": "2023-10-02T17:24:08.519Z"
   },
   {
    "duration": 19,
    "start_time": "2023-10-02T17:24:17.255Z"
   },
   {
    "duration": 12,
    "start_time": "2023-10-02T17:24:20.164Z"
   },
   {
    "duration": 21,
    "start_time": "2023-10-02T17:24:21.946Z"
   },
   {
    "duration": 54,
    "start_time": "2023-10-02T17:25:21.377Z"
   },
   {
    "duration": 9,
    "start_time": "2023-10-02T17:25:25.410Z"
   },
   {
    "duration": 29,
    "start_time": "2023-10-02T17:25:26.244Z"
   },
   {
    "duration": 20,
    "start_time": "2023-10-02T17:25:53.046Z"
   },
   {
    "duration": 20,
    "start_time": "2023-10-02T17:25:57.013Z"
   },
   {
    "duration": 430,
    "start_time": "2023-10-02T17:26:12.164Z"
   },
   {
    "duration": 551,
    "start_time": "2023-10-02T17:26:17.803Z"
   },
   {
    "duration": 7,
    "start_time": "2023-10-02T17:26:37.971Z"
   },
   {
    "duration": 1458,
    "start_time": "2023-10-02T18:45:04.006Z"
   },
   {
    "duration": 138,
    "start_time": "2023-10-02T18:45:05.466Z"
   },
   {
    "duration": 18,
    "start_time": "2023-10-02T18:45:05.606Z"
   },
   {
    "duration": 45,
    "start_time": "2023-10-02T18:45:05.626Z"
   },
   {
    "duration": 72,
    "start_time": "2023-10-02T18:45:05.674Z"
   },
   {
    "duration": 253,
    "start_time": "2023-10-02T18:45:05.747Z"
   },
   {
    "duration": 29,
    "start_time": "2023-10-02T18:45:06.002Z"
   },
   {
    "duration": 20,
    "start_time": "2023-10-02T18:45:06.033Z"
   },
   {
    "duration": 29,
    "start_time": "2023-10-02T18:45:06.055Z"
   },
   {
    "duration": 34,
    "start_time": "2023-10-02T18:45:06.087Z"
   },
   {
    "duration": 49,
    "start_time": "2023-10-02T18:45:06.122Z"
   },
   {
    "duration": 64,
    "start_time": "2023-10-02T18:45:06.172Z"
   },
   {
    "duration": 9,
    "start_time": "2023-10-02T18:51:34.952Z"
   },
   {
    "duration": 16,
    "start_time": "2023-10-02T18:51:36.141Z"
   },
   {
    "duration": 4,
    "start_time": "2023-10-02T18:51:40.159Z"
   },
   {
    "duration": 94,
    "start_time": "2023-10-02T18:51:40.165Z"
   },
   {
    "duration": 14,
    "start_time": "2023-10-02T18:51:40.262Z"
   },
   {
    "duration": 43,
    "start_time": "2023-10-02T18:51:40.278Z"
   },
   {
    "duration": 34,
    "start_time": "2023-10-02T18:51:40.324Z"
   },
   {
    "duration": 39,
    "start_time": "2023-10-02T18:51:40.360Z"
   },
   {
    "duration": 24,
    "start_time": "2023-10-02T18:51:40.401Z"
   },
   {
    "duration": 56,
    "start_time": "2023-10-02T18:51:40.426Z"
   },
   {
    "duration": 20,
    "start_time": "2023-10-02T18:51:40.484Z"
   },
   {
    "duration": 34,
    "start_time": "2023-10-02T18:51:40.506Z"
   },
   {
    "duration": 58,
    "start_time": "2023-10-02T18:51:40.543Z"
   },
   {
    "duration": 7,
    "start_time": "2023-10-02T19:00:53.006Z"
   },
   {
    "duration": 9,
    "start_time": "2023-10-02T19:00:57.145Z"
   },
   {
    "duration": 8,
    "start_time": "2023-10-02T19:11:06.224Z"
   },
   {
    "duration": 6,
    "start_time": "2023-10-02T19:11:15.540Z"
   },
   {
    "duration": 6,
    "start_time": "2023-10-02T19:11:24.104Z"
   },
   {
    "duration": 6,
    "start_time": "2023-10-02T19:11:31.462Z"
   },
   {
    "duration": 6,
    "start_time": "2023-10-02T19:11:39.706Z"
   },
   {
    "duration": 6,
    "start_time": "2023-10-02T19:11:46.759Z"
   },
   {
    "duration": 7,
    "start_time": "2023-10-02T19:11:50.837Z"
   },
   {
    "duration": 4,
    "start_time": "2023-10-02T19:12:00.562Z"
   },
   {
    "duration": 7,
    "start_time": "2023-10-02T19:12:38.996Z"
   },
   {
    "duration": 6,
    "start_time": "2023-10-02T19:12:48.083Z"
   },
   {
    "duration": 7,
    "start_time": "2023-10-02T19:13:26.760Z"
   },
   {
    "duration": 6,
    "start_time": "2023-10-02T19:13:41.077Z"
   },
   {
    "duration": 6,
    "start_time": "2023-10-02T19:13:45.230Z"
   },
   {
    "duration": 8,
    "start_time": "2023-10-02T19:13:52.170Z"
   },
   {
    "duration": 7,
    "start_time": "2023-10-02T19:13:58.916Z"
   },
   {
    "duration": 8,
    "start_time": "2023-10-02T19:14:07.300Z"
   },
   {
    "duration": 8,
    "start_time": "2023-10-02T19:14:14.143Z"
   },
   {
    "duration": 7,
    "start_time": "2023-10-02T19:14:20.781Z"
   },
   {
    "duration": 7,
    "start_time": "2023-10-02T19:14:27.134Z"
   },
   {
    "duration": 7,
    "start_time": "2023-10-02T19:14:31.435Z"
   },
   {
    "duration": 8,
    "start_time": "2023-10-02T19:14:37.286Z"
   },
   {
    "duration": 7,
    "start_time": "2023-10-02T19:14:40.933Z"
   },
   {
    "duration": 8,
    "start_time": "2023-10-02T19:14:46.137Z"
   },
   {
    "duration": 7,
    "start_time": "2023-10-02T19:14:49.169Z"
   },
   {
    "duration": 8,
    "start_time": "2023-10-02T19:14:54.528Z"
   },
   {
    "duration": 8,
    "start_time": "2023-10-02T19:15:01.203Z"
   },
   {
    "duration": 6,
    "start_time": "2023-10-02T19:15:06.034Z"
   },
   {
    "duration": 116,
    "start_time": "2023-10-02T19:15:32.463Z"
   },
   {
    "duration": 8,
    "start_time": "2023-10-02T19:15:42.271Z"
   },
   {
    "duration": 7,
    "start_time": "2023-10-02T19:15:45.446Z"
   },
   {
    "duration": 3,
    "start_time": "2023-10-02T19:15:52.891Z"
   },
   {
    "duration": 103,
    "start_time": "2023-10-02T19:15:52.896Z"
   },
   {
    "duration": 15,
    "start_time": "2023-10-02T19:15:53.001Z"
   },
   {
    "duration": 115,
    "start_time": "2023-10-02T19:15:53.017Z"
   },
   {
    "duration": 51,
    "start_time": "2023-10-02T19:15:53.135Z"
   },
   {
    "duration": 41,
    "start_time": "2023-10-02T19:15:53.187Z"
   },
   {
    "duration": 35,
    "start_time": "2023-10-02T19:15:53.230Z"
   },
   {
    "duration": 39,
    "start_time": "2023-10-02T19:15:53.267Z"
   },
   {
    "duration": 19,
    "start_time": "2023-10-02T19:15:53.308Z"
   },
   {
    "duration": 14,
    "start_time": "2023-10-02T19:15:53.328Z"
   },
   {
    "duration": 122,
    "start_time": "2023-10-02T19:15:53.343Z"
   },
   {
    "duration": 0,
    "start_time": "2023-10-02T19:15:53.467Z"
   },
   {
    "duration": 9,
    "start_time": "2023-10-02T19:17:14.152Z"
   },
   {
    "duration": 8,
    "start_time": "2023-10-02T19:17:15.846Z"
   },
   {
    "duration": 9,
    "start_time": "2023-10-02T19:17:19.390Z"
   },
   {
    "duration": 25,
    "start_time": "2023-10-02T19:25:41.828Z"
   },
   {
    "duration": 3,
    "start_time": "2023-10-02T19:29:09.046Z"
   },
   {
    "duration": 84,
    "start_time": "2023-10-02T19:29:09.051Z"
   },
   {
    "duration": 14,
    "start_time": "2023-10-02T19:29:09.137Z"
   },
   {
    "duration": 41,
    "start_time": "2023-10-02T19:29:09.154Z"
   },
   {
    "duration": 53,
    "start_time": "2023-10-02T19:29:09.197Z"
   },
   {
    "duration": 74,
    "start_time": "2023-10-02T19:29:09.252Z"
   },
   {
    "duration": 45,
    "start_time": "2023-10-02T19:29:09.328Z"
   },
   {
    "duration": 127,
    "start_time": "2023-10-02T19:29:09.375Z"
   },
   {
    "duration": 397,
    "start_time": "2023-10-02T19:29:09.504Z"
   },
   {
    "duration": 434,
    "start_time": "2023-10-02T19:29:09.904Z"
   },
   {
    "duration": 36,
    "start_time": "2023-10-02T19:29:10.341Z"
   },
   {
    "duration": 164,
    "start_time": "2023-10-02T19:29:10.379Z"
   },
   {
    "duration": 173,
    "start_time": "2023-10-02T19:29:10.546Z"
   },
   {
    "duration": 264,
    "start_time": "2023-10-02T19:29:10.722Z"
   },
   {
    "duration": 13,
    "start_time": "2023-10-02T19:35:13.680Z"
   },
   {
    "duration": 36,
    "start_time": "2023-10-02T19:35:17.406Z"
   },
   {
    "duration": 4,
    "start_time": "2023-10-02T19:35:20.077Z"
   },
   {
    "duration": 170,
    "start_time": "2023-10-02T19:35:20.083Z"
   },
   {
    "duration": 16,
    "start_time": "2023-10-02T19:35:20.256Z"
   },
   {
    "duration": 169,
    "start_time": "2023-10-02T19:35:20.275Z"
   },
   {
    "duration": 47,
    "start_time": "2023-10-02T19:35:20.446Z"
   },
   {
    "duration": 66,
    "start_time": "2023-10-02T19:35:20.495Z"
   },
   {
    "duration": 71,
    "start_time": "2023-10-02T19:35:20.564Z"
   },
   {
    "duration": 68,
    "start_time": "2023-10-02T19:35:20.638Z"
   },
   {
    "duration": 120,
    "start_time": "2023-10-02T19:35:20.711Z"
   },
   {
    "duration": 127,
    "start_time": "2023-10-02T19:35:20.839Z"
   },
   {
    "duration": 65,
    "start_time": "2023-10-02T19:35:20.968Z"
   },
   {
    "duration": 38,
    "start_time": "2023-10-02T19:35:21.035Z"
   },
   {
    "duration": 74,
    "start_time": "2023-10-02T19:35:21.074Z"
   },
   {
    "duration": 40,
    "start_time": "2023-10-02T19:35:21.150Z"
   },
   {
    "duration": 98,
    "start_time": "2023-10-02T19:35:21.192Z"
   },
   {
    "duration": 6,
    "start_time": "2023-10-02T19:38:27.654Z"
   },
   {
    "duration": 12,
    "start_time": "2023-10-02T19:38:59.281Z"
   },
   {
    "duration": 11,
    "start_time": "2023-10-02T19:39:23.483Z"
   },
   {
    "duration": 3,
    "start_time": "2023-10-02T19:48:26.794Z"
   },
   {
    "duration": 101,
    "start_time": "2023-10-02T19:48:26.799Z"
   },
   {
    "duration": 23,
    "start_time": "2023-10-02T19:48:26.907Z"
   },
   {
    "duration": 81,
    "start_time": "2023-10-02T19:48:26.932Z"
   },
   {
    "duration": 36,
    "start_time": "2023-10-02T19:48:27.016Z"
   },
   {
    "duration": 28,
    "start_time": "2023-10-02T19:48:27.054Z"
   },
   {
    "duration": 8,
    "start_time": "2023-10-02T19:48:27.083Z"
   },
   {
    "duration": 64,
    "start_time": "2023-10-02T19:48:27.093Z"
   },
   {
    "duration": 80,
    "start_time": "2023-10-02T19:48:27.159Z"
   },
   {
    "duration": 30,
    "start_time": "2023-10-02T19:48:27.241Z"
   },
   {
    "duration": 35,
    "start_time": "2023-10-02T19:48:27.275Z"
   },
   {
    "duration": 47,
    "start_time": "2023-10-02T19:48:27.313Z"
   },
   {
    "duration": 18,
    "start_time": "2023-10-02T19:48:27.362Z"
   },
   {
    "duration": 39,
    "start_time": "2023-10-02T19:48:27.381Z"
   },
   {
    "duration": 2,
    "start_time": "2023-10-02T19:57:29.865Z"
   },
   {
    "duration": 4,
    "start_time": "2023-10-02T20:00:56.890Z"
   },
   {
    "duration": 91,
    "start_time": "2023-10-02T20:00:56.896Z"
   },
   {
    "duration": 16,
    "start_time": "2023-10-02T20:00:56.989Z"
   },
   {
    "duration": 75,
    "start_time": "2023-10-02T20:00:57.007Z"
   },
   {
    "duration": 17,
    "start_time": "2023-10-02T20:00:57.085Z"
   },
   {
    "duration": 59,
    "start_time": "2023-10-02T20:00:57.104Z"
   },
   {
    "duration": 96,
    "start_time": "2023-10-02T20:00:57.165Z"
   },
   {
    "duration": 30,
    "start_time": "2023-10-02T20:00:57.263Z"
   },
   {
    "duration": 29,
    "start_time": "2023-10-02T20:00:57.296Z"
   },
   {
    "duration": 48,
    "start_time": "2023-10-02T20:00:57.327Z"
   },
   {
    "duration": 57,
    "start_time": "2023-10-02T20:00:57.377Z"
   },
   {
    "duration": 244,
    "start_time": "2023-10-02T20:00:57.437Z"
   },
   {
    "duration": 12,
    "start_time": "2023-10-02T20:00:57.683Z"
   },
   {
    "duration": 32,
    "start_time": "2023-10-02T20:00:57.696Z"
   },
   {
    "duration": 28,
    "start_time": "2023-10-02T20:08:42.895Z"
   },
   {
    "duration": 414,
    "start_time": "2023-10-02T20:08:52.008Z"
   },
   {
    "duration": 476,
    "start_time": "2023-10-02T20:10:27.352Z"
   },
   {
    "duration": 32,
    "start_time": "2023-10-02T20:10:42.113Z"
   },
   {
    "duration": 386,
    "start_time": "2023-10-02T20:12:26.068Z"
   },
   {
    "duration": 47,
    "start_time": "2023-10-02T20:12:29.942Z"
   },
   {
    "duration": 355,
    "start_time": "2023-10-02T20:12:33.358Z"
   },
   {
    "duration": 622,
    "start_time": "2023-10-02T20:13:01.085Z"
   },
   {
    "duration": 43,
    "start_time": "2023-10-02T20:13:28.773Z"
   },
   {
    "duration": 489,
    "start_time": "2023-10-02T20:13:44.186Z"
   },
   {
    "duration": 27,
    "start_time": "2023-10-02T20:15:54.676Z"
   },
   {
    "duration": 23,
    "start_time": "2023-10-02T20:16:02.242Z"
   },
   {
    "duration": 423,
    "start_time": "2023-10-02T20:16:08.063Z"
   },
   {
    "duration": 389,
    "start_time": "2023-10-02T20:16:14.935Z"
   },
   {
    "duration": 409,
    "start_time": "2023-10-02T20:16:24.286Z"
   },
   {
    "duration": 549,
    "start_time": "2023-10-02T20:18:32.333Z"
   },
   {
    "duration": 943,
    "start_time": "2023-10-02T20:19:17.116Z"
   },
   {
    "duration": 939,
    "start_time": "2023-10-02T20:20:11.629Z"
   },
   {
    "duration": 1174,
    "start_time": "2023-10-02T20:20:41.847Z"
   },
   {
    "duration": 898,
    "start_time": "2023-10-02T20:21:06.742Z"
   },
   {
    "duration": 913,
    "start_time": "2023-10-02T20:21:20.899Z"
   },
   {
    "duration": 408,
    "start_time": "2023-10-02T20:21:27.862Z"
   },
   {
    "duration": 992,
    "start_time": "2023-10-02T20:21:30.898Z"
   },
   {
    "duration": 945,
    "start_time": "2023-10-02T20:21:34.902Z"
   },
   {
    "duration": 523,
    "start_time": "2023-10-02T20:21:44.974Z"
   },
   {
    "duration": 641,
    "start_time": "2023-10-02T20:22:10.322Z"
   },
   {
    "duration": 1278,
    "start_time": "2023-10-03T05:37:36.691Z"
   },
   {
    "duration": 116,
    "start_time": "2023-10-03T05:37:37.971Z"
   },
   {
    "duration": 13,
    "start_time": "2023-10-03T05:37:38.089Z"
   },
   {
    "duration": 39,
    "start_time": "2023-10-03T05:37:38.104Z"
   },
   {
    "duration": 29,
    "start_time": "2023-10-03T05:37:38.145Z"
   },
   {
    "duration": 98,
    "start_time": "2023-10-03T05:37:38.175Z"
   },
   {
    "duration": 31,
    "start_time": "2023-10-03T05:37:38.275Z"
   },
   {
    "duration": 110,
    "start_time": "2023-10-03T05:37:38.307Z"
   },
   {
    "duration": 40,
    "start_time": "2023-10-03T05:37:38.419Z"
   },
   {
    "duration": 12,
    "start_time": "2023-10-03T05:37:38.461Z"
   },
   {
    "duration": 9,
    "start_time": "2023-10-03T05:37:38.475Z"
   },
   {
    "duration": 37,
    "start_time": "2023-10-03T05:37:38.486Z"
   },
   {
    "duration": 10,
    "start_time": "2023-10-03T05:37:38.524Z"
   },
   {
    "duration": 35,
    "start_time": "2023-10-03T05:37:38.543Z"
   },
   {
    "duration": 14,
    "start_time": "2023-10-03T05:37:38.579Z"
   },
   {
    "duration": 521,
    "start_time": "2023-10-03T05:37:38.595Z"
   },
   {
    "duration": 14,
    "start_time": "2023-10-03T05:39:53.196Z"
   },
   {
    "duration": 13,
    "start_time": "2023-10-03T05:40:04.961Z"
   },
   {
    "duration": 18,
    "start_time": "2023-10-03T05:41:02.397Z"
   },
   {
    "duration": 23,
    "start_time": "2023-10-03T05:41:09.197Z"
   },
   {
    "duration": 20,
    "start_time": "2023-10-03T05:41:16.593Z"
   },
   {
    "duration": 15,
    "start_time": "2023-10-03T05:41:29.984Z"
   },
   {
    "duration": 1678,
    "start_time": "2023-10-03T07:29:35.901Z"
   },
   {
    "duration": 77,
    "start_time": "2023-10-03T07:29:37.581Z"
   },
   {
    "duration": 18,
    "start_time": "2023-10-03T07:29:37.660Z"
   },
   {
    "duration": 27,
    "start_time": "2023-10-03T07:29:37.680Z"
   },
   {
    "duration": 39,
    "start_time": "2023-10-03T07:29:37.710Z"
   },
   {
    "duration": 27,
    "start_time": "2023-10-03T07:29:37.751Z"
   },
   {
    "duration": 9,
    "start_time": "2023-10-03T07:29:37.780Z"
   },
   {
    "duration": 46,
    "start_time": "2023-10-03T07:29:37.790Z"
   },
   {
    "duration": 21,
    "start_time": "2023-10-03T07:29:37.838Z"
   },
   {
    "duration": 20,
    "start_time": "2023-10-03T07:29:37.861Z"
   },
   {
    "duration": 9,
    "start_time": "2023-10-03T07:29:37.883Z"
   },
   {
    "duration": 46,
    "start_time": "2023-10-03T07:29:37.894Z"
   },
   {
    "duration": 20,
    "start_time": "2023-10-03T07:29:37.941Z"
   },
   {
    "duration": 18,
    "start_time": "2023-10-03T07:29:37.964Z"
   },
   {
    "duration": 34,
    "start_time": "2023-10-03T07:29:37.984Z"
   },
   {
    "duration": 546,
    "start_time": "2023-10-03T07:29:38.019Z"
   },
   {
    "duration": 115,
    "start_time": "2023-10-03T07:29:38.567Z"
   },
   {
    "duration": 14,
    "start_time": "2023-10-03T07:30:14.835Z"
   },
   {
    "duration": 88,
    "start_time": "2023-10-03T07:32:34.619Z"
   },
   {
    "duration": 122,
    "start_time": "2023-10-03T07:32:54.840Z"
   },
   {
    "duration": 73,
    "start_time": "2023-10-03T07:33:03.266Z"
   },
   {
    "duration": 78,
    "start_time": "2023-10-03T07:33:12.160Z"
   },
   {
    "duration": 514,
    "start_time": "2023-10-03T07:49:19.532Z"
   },
   {
    "duration": 538,
    "start_time": "2023-10-03T07:51:47.059Z"
   },
   {
    "duration": 1341,
    "start_time": "2023-10-03T07:52:38.457Z"
   },
   {
    "duration": 548,
    "start_time": "2023-10-03T07:52:50.461Z"
   },
   {
    "duration": 81,
    "start_time": "2023-10-03T07:53:19.892Z"
   },
   {
    "duration": 589,
    "start_time": "2023-10-03T07:53:27.518Z"
   },
   {
    "duration": 489,
    "start_time": "2023-10-03T07:53:53.898Z"
   },
   {
    "duration": 553,
    "start_time": "2023-10-03T07:53:57.478Z"
   },
   {
    "duration": 668,
    "start_time": "2023-10-03T07:54:06.006Z"
   },
   {
    "duration": 84,
    "start_time": "2023-10-03T07:55:10.918Z"
   },
   {
    "duration": 694,
    "start_time": "2023-10-03T07:55:25.050Z"
   },
   {
    "duration": 751,
    "start_time": "2023-10-03T07:55:52.035Z"
   },
   {
    "duration": 699,
    "start_time": "2023-10-03T07:56:01.971Z"
   },
   {
    "duration": 649,
    "start_time": "2023-10-03T07:56:18.265Z"
   },
   {
    "duration": 667,
    "start_time": "2023-10-03T07:56:47.961Z"
   },
   {
    "duration": 19,
    "start_time": "2023-10-03T07:59:04.279Z"
   },
   {
    "duration": 77,
    "start_time": "2023-10-03T07:59:11.050Z"
   },
   {
    "duration": 37,
    "start_time": "2023-10-03T07:59:32.339Z"
   },
   {
    "duration": 26,
    "start_time": "2023-10-03T07:59:57.970Z"
   },
   {
    "duration": 29,
    "start_time": "2023-10-03T08:00:15.808Z"
   },
   {
    "duration": 29,
    "start_time": "2023-10-03T08:01:09.540Z"
   },
   {
    "duration": 150,
    "start_time": "2023-10-03T08:01:43.810Z"
   },
   {
    "duration": 777,
    "start_time": "2023-10-03T08:01:47.826Z"
   },
   {
    "duration": 26,
    "start_time": "2023-10-03T08:02:00.840Z"
   },
   {
    "duration": 654,
    "start_time": "2023-10-03T08:02:01.575Z"
   },
   {
    "duration": 94,
    "start_time": "2023-10-03T08:02:22.168Z"
   },
   {
    "duration": 3280,
    "start_time": "2023-10-03T08:03:44.366Z"
   },
   {
    "duration": 3415,
    "start_time": "2023-10-03T08:04:12.710Z"
   },
   {
    "duration": 85,
    "start_time": "2023-10-03T08:05:41.029Z"
   },
   {
    "duration": 23,
    "start_time": "2023-10-03T08:08:13.184Z"
   },
   {
    "duration": 995,
    "start_time": "2023-10-03T08:08:52.173Z"
   },
   {
    "duration": 811,
    "start_time": "2023-10-03T08:09:08.169Z"
   },
   {
    "duration": 1045,
    "start_time": "2023-10-03T08:09:35.244Z"
   },
   {
    "duration": 10,
    "start_time": "2023-10-03T08:14:03.385Z"
   },
   {
    "duration": 1981,
    "start_time": "2023-10-03T08:14:39.029Z"
   },
   {
    "duration": 79,
    "start_time": "2023-10-03T08:16:22.789Z"
   },
   {
    "duration": 664,
    "start_time": "2023-10-03T08:16:58.246Z"
   },
   {
    "duration": 16,
    "start_time": "2023-10-03T08:17:43.189Z"
   },
   {
    "duration": 5,
    "start_time": "2023-10-03T08:17:58.504Z"
   },
   {
    "duration": 80,
    "start_time": "2023-10-03T11:36:45.230Z"
   },
   {
    "duration": 1556,
    "start_time": "2023-10-03T11:36:53.067Z"
   },
   {
    "duration": 148,
    "start_time": "2023-10-03T11:36:54.626Z"
   },
   {
    "duration": 24,
    "start_time": "2023-10-03T11:36:54.776Z"
   },
   {
    "duration": 23,
    "start_time": "2023-10-03T11:36:54.802Z"
   },
   {
    "duration": 29,
    "start_time": "2023-10-03T11:36:54.846Z"
   },
   {
    "duration": 28,
    "start_time": "2023-10-03T11:36:54.877Z"
   },
   {
    "duration": 22,
    "start_time": "2023-10-03T11:36:54.907Z"
   },
   {
    "duration": 83,
    "start_time": "2023-10-03T11:36:54.930Z"
   },
   {
    "duration": 35,
    "start_time": "2023-10-03T11:36:55.015Z"
   },
   {
    "duration": 46,
    "start_time": "2023-10-03T11:36:55.052Z"
   },
   {
    "duration": 73,
    "start_time": "2023-10-03T11:36:55.100Z"
   },
   {
    "duration": 64,
    "start_time": "2023-10-03T11:36:55.175Z"
   },
   {
    "duration": 23,
    "start_time": "2023-10-03T11:36:55.241Z"
   },
   {
    "duration": 55,
    "start_time": "2023-10-03T11:36:55.268Z"
   },
   {
    "duration": 36,
    "start_time": "2023-10-03T11:36:55.325Z"
   },
   {
    "duration": 1495,
    "start_time": "2023-10-03T11:36:55.363Z"
   },
   {
    "duration": 218,
    "start_time": "2023-10-03T11:36:56.860Z"
   },
   {
    "duration": 0,
    "start_time": "2023-10-03T11:36:57.079Z"
   },
   {
    "duration": 0,
    "start_time": "2023-10-03T11:36:57.081Z"
   },
   {
    "duration": 0,
    "start_time": "2023-10-03T11:36:57.083Z"
   },
   {
    "duration": 19,
    "start_time": "2023-10-03T11:37:19.321Z"
   },
   {
    "duration": 144,
    "start_time": "2023-10-03T11:41:52.285Z"
   },
   {
    "duration": 847,
    "start_time": "2023-10-03T11:41:52.963Z"
   },
   {
    "duration": 18,
    "start_time": "2023-10-03T11:42:06.567Z"
   },
   {
    "duration": 881,
    "start_time": "2023-10-03T11:43:09.926Z"
   },
   {
    "duration": 771,
    "start_time": "2023-10-03T11:43:29.200Z"
   },
   {
    "duration": 23,
    "start_time": "2023-10-03T11:44:05.044Z"
   },
   {
    "duration": 712,
    "start_time": "2023-10-03T11:44:05.688Z"
   },
   {
    "duration": 18,
    "start_time": "2023-10-03T11:45:19.816Z"
   },
   {
    "duration": 725,
    "start_time": "2023-10-03T11:46:04.374Z"
   },
   {
    "duration": 562,
    "start_time": "2023-10-03T12:25:38.894Z"
   },
   {
    "duration": 97,
    "start_time": "2023-10-03T12:25:45.284Z"
   },
   {
    "duration": 21,
    "start_time": "2023-10-03T12:26:00.046Z"
   },
   {
    "duration": 684,
    "start_time": "2023-10-03T12:26:00.561Z"
   },
   {
    "duration": 21,
    "start_time": "2023-10-03T12:26:01.254Z"
   },
   {
    "duration": 166,
    "start_time": "2023-10-03T12:26:55.462Z"
   },
   {
    "duration": 647,
    "start_time": "2023-10-03T12:27:03.693Z"
   },
   {
    "duration": 770,
    "start_time": "2023-10-03T12:27:18.106Z"
   },
   {
    "duration": 655,
    "start_time": "2023-10-03T12:29:36.735Z"
   },
   {
    "duration": 798,
    "start_time": "2023-10-03T12:29:50.876Z"
   },
   {
    "duration": 693,
    "start_time": "2023-10-03T12:30:00.934Z"
   },
   {
    "duration": 64,
    "start_time": "2023-10-04T07:44:50.123Z"
   },
   {
    "duration": 1555,
    "start_time": "2023-10-04T07:45:00.942Z"
   },
   {
    "duration": 125,
    "start_time": "2023-10-04T07:45:02.500Z"
   },
   {
    "duration": 17,
    "start_time": "2023-10-04T07:45:02.627Z"
   },
   {
    "duration": 146,
    "start_time": "2023-10-04T07:45:02.647Z"
   },
   {
    "duration": 189,
    "start_time": "2023-10-04T07:45:02.795Z"
   },
   {
    "duration": 321,
    "start_time": "2023-10-04T07:45:02.986Z"
   },
   {
    "duration": 385,
    "start_time": "2023-10-04T07:45:03.310Z"
   },
   {
    "duration": 368,
    "start_time": "2023-10-04T07:45:03.697Z"
   },
   {
    "duration": 67,
    "start_time": "2023-10-04T07:45:04.068Z"
   },
   {
    "duration": 246,
    "start_time": "2023-10-04T07:45:04.138Z"
   },
   {
    "duration": 275,
    "start_time": "2023-10-04T07:45:04.386Z"
   },
   {
    "duration": 92,
    "start_time": "2023-10-04T07:45:04.663Z"
   },
   {
    "duration": 79,
    "start_time": "2023-10-04T07:45:04.757Z"
   },
   {
    "duration": 116,
    "start_time": "2023-10-04T07:45:04.839Z"
   },
   {
    "duration": 71,
    "start_time": "2023-10-04T07:45:04.957Z"
   },
   {
    "duration": 616,
    "start_time": "2023-10-04T07:45:05.030Z"
   },
   {
    "duration": 14,
    "start_time": "2023-10-04T07:45:05.648Z"
   },
   {
    "duration": 990,
    "start_time": "2023-10-04T07:45:05.664Z"
   },
   {
    "duration": 20,
    "start_time": "2023-10-04T07:45:06.656Z"
   },
   {
    "duration": 95,
    "start_time": "2023-10-04T07:45:06.678Z"
   },
   {
    "duration": 2173,
    "start_time": "2023-10-04T07:45:06.774Z"
   },
   {
    "duration": 70,
    "start_time": "2023-10-04T07:45:55.078Z"
   },
   {
    "duration": 4,
    "start_time": "2023-10-04T07:49:29.868Z"
   },
   {
    "duration": 129,
    "start_time": "2023-10-04T07:49:29.873Z"
   },
   {
    "duration": 13,
    "start_time": "2023-10-04T07:49:30.003Z"
   },
   {
    "duration": 86,
    "start_time": "2023-10-04T07:49:30.018Z"
   },
   {
    "duration": 77,
    "start_time": "2023-10-04T07:49:30.106Z"
   },
   {
    "duration": 34,
    "start_time": "2023-10-04T07:49:30.185Z"
   },
   {
    "duration": 31,
    "start_time": "2023-10-04T07:49:30.221Z"
   },
   {
    "duration": 48,
    "start_time": "2023-10-04T07:49:30.253Z"
   },
   {
    "duration": 39,
    "start_time": "2023-10-04T07:49:30.303Z"
   },
   {
    "duration": 33,
    "start_time": "2023-10-04T07:49:30.344Z"
   },
   {
    "duration": 52,
    "start_time": "2023-10-04T07:49:30.379Z"
   },
   {
    "duration": 56,
    "start_time": "2023-10-04T07:49:30.433Z"
   },
   {
    "duration": 19,
    "start_time": "2023-10-04T07:49:30.492Z"
   },
   {
    "duration": 45,
    "start_time": "2023-10-04T07:49:30.515Z"
   },
   {
    "duration": 30,
    "start_time": "2023-10-04T07:49:30.562Z"
   },
   {
    "duration": 637,
    "start_time": "2023-10-04T07:49:30.595Z"
   },
   {
    "duration": 16,
    "start_time": "2023-10-04T07:49:31.234Z"
   },
   {
    "duration": 598,
    "start_time": "2023-10-04T07:49:31.252Z"
   },
   {
    "duration": 18,
    "start_time": "2023-10-04T07:49:31.852Z"
   },
   {
    "duration": 20,
    "start_time": "2023-10-04T07:49:31.872Z"
   },
   {
    "duration": 3099,
    "start_time": "2023-10-04T07:49:31.894Z"
   },
   {
    "duration": 1790,
    "start_time": "2023-10-04T07:50:26.174Z"
   },
   {
    "duration": 17,
    "start_time": "2023-10-04T07:52:27.924Z"
   },
   {
    "duration": 7,
    "start_time": "2023-10-04T07:53:06.408Z"
   },
   {
    "duration": 7,
    "start_time": "2023-10-04T07:53:26.935Z"
   },
   {
    "duration": 16,
    "start_time": "2023-10-04T07:54:01.997Z"
   },
   {
    "duration": 16,
    "start_time": "2023-10-04T07:54:55.521Z"
   },
   {
    "duration": 8,
    "start_time": "2023-10-04T07:55:00.467Z"
   },
   {
    "duration": 5,
    "start_time": "2023-10-04T07:55:12.611Z"
   },
   {
    "duration": 8,
    "start_time": "2023-10-04T07:55:58.137Z"
   },
   {
    "duration": 12,
    "start_time": "2023-10-04T07:56:03.789Z"
   },
   {
    "duration": 9,
    "start_time": "2023-10-04T07:56:07.369Z"
   },
   {
    "duration": 9,
    "start_time": "2023-10-04T07:56:10.704Z"
   },
   {
    "duration": 7,
    "start_time": "2023-10-04T07:56:36.593Z"
   },
   {
    "duration": 2309,
    "start_time": "2023-10-04T07:56:37.079Z"
   },
   {
    "duration": 7,
    "start_time": "2023-10-04T07:57:34.211Z"
   },
   {
    "duration": 2224,
    "start_time": "2023-10-04T07:57:35.336Z"
   },
   {
    "duration": 17,
    "start_time": "2023-10-04T07:58:18.249Z"
   },
   {
    "duration": 7,
    "start_time": "2023-10-04T07:58:19.643Z"
   },
   {
    "duration": 2411,
    "start_time": "2023-10-04T07:58:21.259Z"
   },
   {
    "duration": 43,
    "start_time": "2023-10-04T13:16:13.379Z"
   },
   {
    "duration": 1290,
    "start_time": "2023-10-04T13:16:17.872Z"
   },
   {
    "duration": 122,
    "start_time": "2023-10-04T13:16:19.164Z"
   },
   {
    "duration": 14,
    "start_time": "2023-10-04T13:16:19.288Z"
   },
   {
    "duration": 25,
    "start_time": "2023-10-04T13:16:19.304Z"
   },
   {
    "duration": 20,
    "start_time": "2023-10-04T13:16:19.331Z"
   },
   {
    "duration": 23,
    "start_time": "2023-10-04T13:16:19.352Z"
   },
   {
    "duration": 15,
    "start_time": "2023-10-04T13:16:19.376Z"
   },
   {
    "duration": 24,
    "start_time": "2023-10-04T13:16:19.393Z"
   },
   {
    "duration": 36,
    "start_time": "2023-10-04T13:16:19.418Z"
   },
   {
    "duration": 11,
    "start_time": "2023-10-04T13:16:19.456Z"
   },
   {
    "duration": 36,
    "start_time": "2023-10-04T13:16:19.469Z"
   },
   {
    "duration": 60,
    "start_time": "2023-10-04T13:16:19.507Z"
   },
   {
    "duration": 45,
    "start_time": "2023-10-04T13:16:19.568Z"
   },
   {
    "duration": 54,
    "start_time": "2023-10-04T13:16:19.615Z"
   },
   {
    "duration": 27,
    "start_time": "2023-10-04T13:16:19.671Z"
   },
   {
    "duration": 578,
    "start_time": "2023-10-04T13:16:19.699Z"
   },
   {
    "duration": 70,
    "start_time": "2023-10-04T13:16:20.279Z"
   },
   {
    "duration": 7,
    "start_time": "2023-10-04T13:16:20.351Z"
   },
   {
    "duration": 2576,
    "start_time": "2023-10-04T13:16:20.359Z"
   },
   {
    "duration": 16,
    "start_time": "2023-10-04T13:16:33.474Z"
   },
   {
    "duration": 6,
    "start_time": "2023-10-04T13:19:27.465Z"
   },
   {
    "duration": 2910,
    "start_time": "2023-10-04T13:19:32.112Z"
   },
   {
    "duration": 2811,
    "start_time": "2023-10-04T13:19:37.418Z"
   },
   {
    "duration": 14,
    "start_time": "2023-10-04T13:22:41.460Z"
   },
   {
    "duration": 7,
    "start_time": "2023-10-04T13:23:05.140Z"
   },
   {
    "duration": 2785,
    "start_time": "2023-10-04T13:23:13.198Z"
   },
   {
    "duration": 2829,
    "start_time": "2023-10-04T13:23:25.487Z"
   },
   {
    "duration": 3,
    "start_time": "2023-10-04T13:23:30.233Z"
   },
   {
    "duration": 89,
    "start_time": "2023-10-04T13:23:30.251Z"
   },
   {
    "duration": 13,
    "start_time": "2023-10-04T13:23:30.342Z"
   },
   {
    "duration": 52,
    "start_time": "2023-10-04T13:23:30.356Z"
   },
   {
    "duration": 35,
    "start_time": "2023-10-04T13:23:30.410Z"
   },
   {
    "duration": 50,
    "start_time": "2023-10-04T13:23:30.447Z"
   },
   {
    "duration": 37,
    "start_time": "2023-10-04T13:23:30.499Z"
   },
   {
    "duration": 45,
    "start_time": "2023-10-04T13:23:30.538Z"
   },
   {
    "duration": 52,
    "start_time": "2023-10-04T13:23:30.585Z"
   },
   {
    "duration": 40,
    "start_time": "2023-10-04T13:23:30.638Z"
   },
   {
    "duration": 47,
    "start_time": "2023-10-04T13:23:30.680Z"
   },
   {
    "duration": 158,
    "start_time": "2023-10-04T13:23:30.729Z"
   },
   {
    "duration": 35,
    "start_time": "2023-10-04T13:23:30.888Z"
   },
   {
    "duration": 82,
    "start_time": "2023-10-04T13:23:30.924Z"
   },
   {
    "duration": 89,
    "start_time": "2023-10-04T13:23:31.009Z"
   },
   {
    "duration": 578,
    "start_time": "2023-10-04T13:23:31.100Z"
   },
   {
    "duration": 16,
    "start_time": "2023-10-04T13:23:31.680Z"
   },
   {
    "duration": 30,
    "start_time": "2023-10-04T13:23:31.697Z"
   },
   {
    "duration": 3245,
    "start_time": "2023-10-04T13:23:31.728Z"
   },
   {
    "duration": 15,
    "start_time": "2023-10-04T13:26:53.923Z"
   },
   {
    "duration": 7,
    "start_time": "2023-10-04T13:27:22.867Z"
   },
   {
    "duration": 2873,
    "start_time": "2023-10-04T13:27:23.884Z"
   },
   {
    "duration": 7,
    "start_time": "2023-10-04T14:17:16.256Z"
   },
   {
    "duration": 20,
    "start_time": "2023-10-04T14:17:22.840Z"
   },
   {
    "duration": 29,
    "start_time": "2023-10-04T14:17:37.044Z"
   },
   {
    "duration": 23,
    "start_time": "2023-10-04T14:17:50.996Z"
   },
   {
    "duration": 20,
    "start_time": "2023-10-04T14:18:09.027Z"
   },
   {
    "duration": 30,
    "start_time": "2023-10-04T14:24:35.576Z"
   },
   {
    "duration": 25,
    "start_time": "2023-10-04T14:27:25.869Z"
   },
   {
    "duration": 19,
    "start_time": "2023-10-04T14:27:52.549Z"
   },
   {
    "duration": 61,
    "start_time": "2023-10-04T14:30:51.214Z"
   },
   {
    "duration": 8,
    "start_time": "2023-10-04T14:31:05.089Z"
   },
   {
    "duration": 1607,
    "start_time": "2023-10-04T14:32:17.858Z"
   },
   {
    "duration": 201,
    "start_time": "2023-10-04T14:52:21.000Z"
   },
   {
    "duration": 193,
    "start_time": "2023-10-04T14:52:29.774Z"
   },
   {
    "duration": 205,
    "start_time": "2023-10-04T14:52:48.289Z"
   },
   {
    "duration": 316,
    "start_time": "2023-10-04T14:52:53.454Z"
   },
   {
    "duration": 261,
    "start_time": "2023-10-04T14:54:06.058Z"
   },
   {
    "duration": 237,
    "start_time": "2023-10-04T14:54:15.157Z"
   },
   {
    "duration": 205,
    "start_time": "2023-10-04T14:54:23.384Z"
   },
   {
    "duration": 205,
    "start_time": "2023-10-04T14:54:29.104Z"
   },
   {
    "duration": 189,
    "start_time": "2023-10-04T14:54:33.375Z"
   },
   {
    "duration": 257,
    "start_time": "2023-10-04T14:54:38.925Z"
   },
   {
    "duration": 231,
    "start_time": "2023-10-04T14:54:46.742Z"
   },
   {
    "duration": 223,
    "start_time": "2023-10-04T14:54:53.071Z"
   },
   {
    "duration": 189,
    "start_time": "2023-10-04T14:55:16.679Z"
   },
   {
    "duration": 182,
    "start_time": "2023-10-04T14:56:11.044Z"
   },
   {
    "duration": 292,
    "start_time": "2023-10-04T14:56:15.526Z"
   },
   {
    "duration": 197,
    "start_time": "2023-10-04T14:56:20.315Z"
   },
   {
    "duration": 192,
    "start_time": "2023-10-04T14:56:25.678Z"
   },
   {
    "duration": 187,
    "start_time": "2023-10-04T14:56:32.771Z"
   },
   {
    "duration": 199,
    "start_time": "2023-10-04T14:56:45.997Z"
   },
   {
    "duration": 1109,
    "start_time": "2023-10-04T15:32:26.816Z"
   },
   {
    "duration": 71,
    "start_time": "2023-10-04T15:32:27.928Z"
   },
   {
    "duration": 13,
    "start_time": "2023-10-04T15:32:28.001Z"
   },
   {
    "duration": 52,
    "start_time": "2023-10-04T15:32:28.016Z"
   },
   {
    "duration": 25,
    "start_time": "2023-10-04T15:32:28.069Z"
   },
   {
    "duration": 30,
    "start_time": "2023-10-04T15:32:28.095Z"
   },
   {
    "duration": 14,
    "start_time": "2023-10-04T15:32:28.126Z"
   },
   {
    "duration": 28,
    "start_time": "2023-10-04T15:32:28.141Z"
   },
   {
    "duration": 19,
    "start_time": "2023-10-04T15:32:28.171Z"
   },
   {
    "duration": 29,
    "start_time": "2023-10-04T15:32:28.192Z"
   },
   {
    "duration": 28,
    "start_time": "2023-10-04T15:32:28.222Z"
   },
   {
    "duration": 40,
    "start_time": "2023-10-04T15:32:28.251Z"
   },
   {
    "duration": 14,
    "start_time": "2023-10-04T15:32:28.292Z"
   },
   {
    "duration": 43,
    "start_time": "2023-10-04T15:32:28.307Z"
   },
   {
    "duration": 39,
    "start_time": "2023-10-04T15:32:28.351Z"
   },
   {
    "duration": 557,
    "start_time": "2023-10-04T15:32:28.392Z"
   },
   {
    "duration": 28,
    "start_time": "2023-10-04T15:32:28.951Z"
   },
   {
    "duration": 162,
    "start_time": "2023-10-04T15:32:28.981Z"
   },
   {
    "duration": 4612,
    "start_time": "2023-10-04T15:32:29.145Z"
   },
   {
    "duration": 22,
    "start_time": "2023-10-04T15:32:33.759Z"
   },
   {
    "duration": 13,
    "start_time": "2023-10-04T15:32:33.783Z"
   },
   {
    "duration": 26,
    "start_time": "2023-10-04T15:32:33.798Z"
   },
   {
    "duration": 1515,
    "start_time": "2023-10-04T15:32:33.825Z"
   },
   {
    "duration": 215,
    "start_time": "2023-10-04T15:32:35.341Z"
   },
   {
    "duration": 113,
    "start_time": "2023-10-04T15:32:35.557Z"
   },
   {
    "duration": 208,
    "start_time": "2023-10-04T15:32:43.504Z"
   },
   {
    "duration": 40,
    "start_time": "2023-10-04T15:34:35.408Z"
   },
   {
    "duration": 10,
    "start_time": "2023-10-04T15:35:04.681Z"
   },
   {
    "duration": 40,
    "start_time": "2023-10-04T15:35:38.973Z"
   },
   {
    "duration": 22,
    "start_time": "2023-10-04T15:36:43.433Z"
   },
   {
    "duration": 211,
    "start_time": "2023-10-04T15:37:09.671Z"
   },
   {
    "duration": 242,
    "start_time": "2023-10-04T15:41:51.191Z"
   },
   {
    "duration": 320,
    "start_time": "2023-10-04T15:42:10.497Z"
   },
   {
    "duration": 219,
    "start_time": "2023-10-04T15:43:53.062Z"
   },
   {
    "duration": 248,
    "start_time": "2023-10-04T15:44:15.586Z"
   },
   {
    "duration": 41,
    "start_time": "2023-10-04T16:44:20.934Z"
   },
   {
    "duration": 2607,
    "start_time": "2023-10-04T17:26:28.372Z"
   },
   {
    "duration": 2460,
    "start_time": "2023-10-04T17:27:25.091Z"
   },
   {
    "duration": 189,
    "start_time": "2023-10-04T17:27:44.477Z"
   },
   {
    "duration": 187,
    "start_time": "2023-10-04T17:34:02.920Z"
   },
   {
    "duration": 10,
    "start_time": "2023-10-04T17:34:55.806Z"
   },
   {
    "duration": 15,
    "start_time": "2023-10-04T17:35:07.649Z"
   },
   {
    "duration": 22,
    "start_time": "2023-10-04T17:35:14.679Z"
   },
   {
    "duration": 186,
    "start_time": "2023-10-04T17:37:52.874Z"
   },
   {
    "duration": 206,
    "start_time": "2023-10-04T17:38:02.309Z"
   },
   {
    "duration": 127,
    "start_time": "2023-10-04T17:42:09.089Z"
   },
   {
    "duration": 16,
    "start_time": "2023-10-04T17:42:51.580Z"
   },
   {
    "duration": 12,
    "start_time": "2023-10-04T17:42:56.994Z"
   },
   {
    "duration": 10,
    "start_time": "2023-10-04T17:43:24.915Z"
   },
   {
    "duration": 835,
    "start_time": "2023-10-04T19:55:26.583Z"
   },
   {
    "duration": 872,
    "start_time": "2023-10-04T19:56:54.199Z"
   },
   {
    "duration": 601,
    "start_time": "2023-10-04T19:58:35.727Z"
   },
   {
    "duration": 637,
    "start_time": "2023-10-04T19:59:02.991Z"
   },
   {
    "duration": 545,
    "start_time": "2023-10-04T20:25:39.289Z"
   },
   {
    "duration": 12,
    "start_time": "2023-10-04T20:26:22.275Z"
   },
   {
    "duration": 15,
    "start_time": "2023-10-04T20:26:27.489Z"
   },
   {
    "duration": 650,
    "start_time": "2023-10-04T20:26:50.187Z"
   },
   {
    "duration": 572,
    "start_time": "2023-10-04T20:27:02.130Z"
   },
   {
    "duration": 571,
    "start_time": "2023-10-04T20:27:41.891Z"
   },
   {
    "duration": 756,
    "start_time": "2023-10-04T20:28:16.190Z"
   },
   {
    "duration": 552,
    "start_time": "2023-10-04T20:28:54.474Z"
   },
   {
    "duration": 561,
    "start_time": "2023-10-04T20:29:09.495Z"
   },
   {
    "duration": 12,
    "start_time": "2023-10-04T22:10:24.320Z"
   },
   {
    "duration": 795,
    "start_time": "2023-10-04T22:11:44.213Z"
   },
   {
    "duration": 26,
    "start_time": "2023-10-04T22:13:09.442Z"
   },
   {
    "duration": 14,
    "start_time": "2023-10-04T22:13:15.818Z"
   },
   {
    "duration": 49,
    "start_time": "2023-10-05T09:15:53.546Z"
   },
   {
    "duration": 1487,
    "start_time": "2023-10-05T09:15:58.504Z"
   },
   {
    "duration": 125,
    "start_time": "2023-10-05T09:15:59.993Z"
   },
   {
    "duration": 339,
    "start_time": "2023-10-05T09:16:00.120Z"
   },
   {
    "duration": 732,
    "start_time": "2023-10-05T09:16:00.461Z"
   },
   {
    "duration": 75,
    "start_time": "2023-10-05T09:16:01.194Z"
   },
   {
    "duration": 44,
    "start_time": "2023-10-05T09:16:01.271Z"
   },
   {
    "duration": 61,
    "start_time": "2023-10-05T09:16:01.317Z"
   },
   {
    "duration": 40,
    "start_time": "2023-10-05T09:16:01.380Z"
   },
   {
    "duration": 52,
    "start_time": "2023-10-05T09:16:01.422Z"
   },
   {
    "duration": 65,
    "start_time": "2023-10-05T09:16:01.476Z"
   },
   {
    "duration": 63,
    "start_time": "2023-10-05T09:16:01.542Z"
   },
   {
    "duration": 88,
    "start_time": "2023-10-05T09:16:01.606Z"
   },
   {
    "duration": 30,
    "start_time": "2023-10-05T09:16:01.696Z"
   },
   {
    "duration": 126,
    "start_time": "2023-10-05T09:16:01.728Z"
   },
   {
    "duration": 87,
    "start_time": "2023-10-05T09:16:01.856Z"
   },
   {
    "duration": 778,
    "start_time": "2023-10-05T09:16:01.946Z"
   },
   {
    "duration": 19,
    "start_time": "2023-10-05T09:16:02.726Z"
   },
   {
    "duration": 750,
    "start_time": "2023-10-05T09:16:02.746Z"
   },
   {
    "duration": 4019,
    "start_time": "2023-10-05T09:16:03.498Z"
   },
   {
    "duration": 28,
    "start_time": "2023-10-05T09:16:07.520Z"
   },
   {
    "duration": 37,
    "start_time": "2023-10-05T09:16:07.550Z"
   },
   {
    "duration": 67,
    "start_time": "2023-10-05T09:16:07.589Z"
   },
   {
    "duration": 1906,
    "start_time": "2023-10-05T09:16:07.658Z"
   },
   {
    "duration": 263,
    "start_time": "2023-10-05T09:16:09.566Z"
   },
   {
    "duration": 30,
    "start_time": "2023-10-05T09:16:09.831Z"
   },
   {
    "duration": 887,
    "start_time": "2023-10-05T09:16:09.863Z"
   },
   {
    "duration": 12,
    "start_time": "2023-10-05T09:16:10.752Z"
   },
   {
    "duration": 723,
    "start_time": "2023-10-05T09:16:10.767Z"
   },
   {
    "duration": 802,
    "start_time": "2023-10-05T09:16:11.501Z"
   },
   {
    "duration": 725,
    "start_time": "2023-10-05T09:16:12.305Z"
   },
   {
    "duration": 705,
    "start_time": "2023-10-05T09:16:13.032Z"
   },
   {
    "duration": 865,
    "start_time": "2023-10-05T09:16:13.738Z"
   },
   {
    "duration": 23,
    "start_time": "2023-10-05T09:16:14.605Z"
   },
   {
    "duration": 286,
    "start_time": "2023-10-05T09:16:14.630Z"
   },
   {
    "duration": 390,
    "start_time": "2023-10-05T09:18:42.064Z"
   },
   {
    "duration": 224,
    "start_time": "2023-10-05T09:18:52.101Z"
   },
   {
    "duration": 229,
    "start_time": "2023-10-05T09:18:58.325Z"
   },
   {
    "duration": 249,
    "start_time": "2023-10-05T09:19:06.055Z"
   },
   {
    "duration": 254,
    "start_time": "2023-10-05T09:28:09.510Z"
   },
   {
    "duration": 285,
    "start_time": "2023-10-05T09:28:17.716Z"
   },
   {
    "duration": 278,
    "start_time": "2023-10-05T09:28:28.183Z"
   },
   {
    "duration": 255,
    "start_time": "2023-10-05T09:28:35.932Z"
   },
   {
    "duration": 22,
    "start_time": "2023-10-05T10:11:22.971Z"
   },
   {
    "duration": 20,
    "start_time": "2023-10-05T10:11:34.028Z"
   },
   {
    "duration": 23,
    "start_time": "2023-10-05T10:13:13.412Z"
   },
   {
    "duration": 24,
    "start_time": "2023-10-05T10:13:23.310Z"
   },
   {
    "duration": 123,
    "start_time": "2023-10-05T10:13:32.609Z"
   },
   {
    "duration": 33,
    "start_time": "2023-10-05T10:13:43.148Z"
   },
   {
    "duration": 143,
    "start_time": "2023-10-05T10:13:52.288Z"
   },
   {
    "duration": 24,
    "start_time": "2023-10-05T10:14:01.982Z"
   },
   {
    "duration": 24,
    "start_time": "2023-10-05T10:14:08.272Z"
   },
   {
    "duration": 33,
    "start_time": "2023-10-05T10:14:17.672Z"
   },
   {
    "duration": 27,
    "start_time": "2023-10-05T10:14:22.818Z"
   },
   {
    "duration": 34,
    "start_time": "2023-10-05T10:17:29.531Z"
   },
   {
    "duration": 446,
    "start_time": "2023-10-05T10:19:28.897Z"
   },
   {
    "duration": 568,
    "start_time": "2023-10-05T10:24:19.659Z"
   },
   {
    "duration": 504,
    "start_time": "2023-10-05T10:24:49.499Z"
   },
   {
    "duration": 514,
    "start_time": "2023-10-05T10:27:41.690Z"
   },
   {
    "duration": 684,
    "start_time": "2023-10-05T10:28:52.607Z"
   },
   {
    "duration": 828,
    "start_time": "2023-10-05T10:29:11.727Z"
   },
   {
    "duration": 516,
    "start_time": "2023-10-05T10:29:25.493Z"
   },
   {
    "duration": 560,
    "start_time": "2023-10-05T10:29:32.065Z"
   },
   {
    "duration": 590,
    "start_time": "2023-10-05T10:29:36.704Z"
   },
   {
    "duration": 19,
    "start_time": "2023-10-05T10:30:51.689Z"
   },
   {
    "duration": 565,
    "start_time": "2023-10-05T10:30:56.714Z"
   },
   {
    "duration": 472,
    "start_time": "2023-10-05T10:31:09.939Z"
   },
   {
    "duration": 562,
    "start_time": "2023-10-05T10:31:36.312Z"
   },
   {
    "duration": 39,
    "start_time": "2023-10-05T10:31:49.482Z"
   },
   {
    "duration": 43,
    "start_time": "2023-10-05T11:19:26.584Z"
   },
   {
    "duration": 593,
    "start_time": "2023-10-05T11:19:32.180Z"
   },
   {
    "duration": 43,
    "start_time": "2023-10-05T11:20:10.244Z"
   },
   {
    "duration": 25,
    "start_time": "2023-10-05T11:21:14.450Z"
   },
   {
    "duration": 16,
    "start_time": "2023-10-05T11:27:44.210Z"
   },
   {
    "duration": 38,
    "start_time": "2023-10-05T12:40:44.351Z"
   },
   {
    "duration": 557,
    "start_time": "2023-10-05T12:48:46.954Z"
   },
   {
    "duration": 51,
    "start_time": "2023-10-05T15:30:04.968Z"
   },
   {
    "duration": 1497,
    "start_time": "2023-10-05T15:30:12.873Z"
   },
   {
    "duration": 122,
    "start_time": "2023-10-05T15:30:14.373Z"
   },
   {
    "duration": 16,
    "start_time": "2023-10-05T15:30:14.497Z"
   },
   {
    "duration": 46,
    "start_time": "2023-10-05T15:30:14.516Z"
   },
   {
    "duration": 42,
    "start_time": "2023-10-05T15:30:14.564Z"
   },
   {
    "duration": 28,
    "start_time": "2023-10-05T15:30:14.608Z"
   },
   {
    "duration": 87,
    "start_time": "2023-10-05T15:30:14.638Z"
   },
   {
    "duration": 60,
    "start_time": "2023-10-05T15:30:14.727Z"
   },
   {
    "duration": 59,
    "start_time": "2023-10-05T15:30:14.789Z"
   },
   {
    "duration": 18,
    "start_time": "2023-10-05T15:30:14.852Z"
   },
   {
    "duration": 44,
    "start_time": "2023-10-05T15:30:14.872Z"
   },
   {
    "duration": 41,
    "start_time": "2023-10-05T15:30:14.918Z"
   },
   {
    "duration": 12,
    "start_time": "2023-10-05T15:30:14.961Z"
   },
   {
    "duration": 47,
    "start_time": "2023-10-05T15:30:14.974Z"
   },
   {
    "duration": 67,
    "start_time": "2023-10-05T15:30:15.023Z"
   },
   {
    "duration": 709,
    "start_time": "2023-10-05T15:30:15.092Z"
   },
   {
    "duration": 19,
    "start_time": "2023-10-05T15:30:15.803Z"
   },
   {
    "duration": 23,
    "start_time": "2023-10-05T15:30:15.824Z"
   },
   {
    "duration": 3430,
    "start_time": "2023-10-05T15:30:15.849Z"
   },
   {
    "duration": 33,
    "start_time": "2023-10-05T15:30:19.281Z"
   },
   {
    "duration": 39,
    "start_time": "2023-10-05T15:30:19.316Z"
   },
   {
    "duration": 69,
    "start_time": "2023-10-05T15:30:19.357Z"
   },
   {
    "duration": 1794,
    "start_time": "2023-10-05T15:30:19.428Z"
   },
   {
    "duration": 267,
    "start_time": "2023-10-05T15:30:21.223Z"
   },
   {
    "duration": 37,
    "start_time": "2023-10-05T15:30:21.491Z"
   },
   {
    "duration": 829,
    "start_time": "2023-10-05T15:30:21.529Z"
   },
   {
    "duration": 12,
    "start_time": "2023-10-05T15:30:22.361Z"
   },
   {
    "duration": 674,
    "start_time": "2023-10-05T15:30:22.377Z"
   },
   {
    "duration": 764,
    "start_time": "2023-10-05T15:30:23.052Z"
   },
   {
    "duration": 721,
    "start_time": "2023-10-05T15:30:23.818Z"
   },
   {
    "duration": 721,
    "start_time": "2023-10-05T15:30:24.541Z"
   },
   {
    "duration": 790,
    "start_time": "2023-10-05T15:30:25.264Z"
   },
   {
    "duration": 18,
    "start_time": "2023-10-05T15:30:26.056Z"
   },
   {
    "duration": 307,
    "start_time": "2023-10-05T15:30:26.076Z"
   },
   {
    "duration": 46,
    "start_time": "2023-10-05T15:30:26.385Z"
   },
   {
    "duration": 579,
    "start_time": "2023-10-05T15:30:26.434Z"
   },
   {
    "duration": 37,
    "start_time": "2023-10-05T15:30:27.015Z"
   },
   {
    "duration": 557,
    "start_time": "2023-10-05T15:30:27.054Z"
   },
   {
    "duration": 37,
    "start_time": "2023-10-05T15:30:27.613Z"
   },
   {
    "duration": 177,
    "start_time": "2023-10-05T15:39:30.594Z"
   },
   {
    "duration": 122,
    "start_time": "2023-10-05T15:39:51.659Z"
   },
   {
    "duration": 143,
    "start_time": "2023-10-05T15:39:59.217Z"
   },
   {
    "duration": 139,
    "start_time": "2023-10-05T15:40:13.699Z"
   },
   {
    "duration": 6,
    "start_time": "2023-10-05T15:40:18.248Z"
   },
   {
    "duration": 8,
    "start_time": "2023-10-05T15:40:28.717Z"
   },
   {
    "duration": 11,
    "start_time": "2023-10-05T15:40:39.799Z"
   },
   {
    "duration": 15,
    "start_time": "2023-10-05T15:40:54.611Z"
   },
   {
    "duration": 13,
    "start_time": "2023-10-05T15:41:03.981Z"
   },
   {
    "duration": 10,
    "start_time": "2023-10-05T15:41:37.440Z"
   },
   {
    "duration": 12,
    "start_time": "2023-10-05T15:41:42.628Z"
   },
   {
    "duration": 12,
    "start_time": "2023-10-05T15:42:11.810Z"
   },
   {
    "duration": 15,
    "start_time": "2023-10-05T15:42:16.628Z"
   },
   {
    "duration": 14,
    "start_time": "2023-10-05T15:42:43.118Z"
   },
   {
    "duration": 200,
    "start_time": "2023-10-05T15:48:53.124Z"
   },
   {
    "duration": 491,
    "start_time": "2023-10-05T15:49:25.957Z"
   },
   {
    "duration": 41,
    "start_time": "2023-10-05T16:00:35.498Z"
   },
   {
    "duration": 627,
    "start_time": "2023-10-05T16:00:36.876Z"
   },
   {
    "duration": 47,
    "start_time": "2023-10-05T16:02:13.477Z"
   },
   {
    "duration": 588,
    "start_time": "2023-10-05T16:02:14.130Z"
   },
   {
    "duration": 15,
    "start_time": "2023-10-05T18:21:06.985Z"
   },
   {
    "duration": 14,
    "start_time": "2023-10-05T18:23:04.479Z"
   },
   {
    "duration": 15,
    "start_time": "2023-10-05T18:23:49.967Z"
   },
   {
    "duration": 2,
    "start_time": "2023-10-05T18:24:42.921Z"
   },
   {
    "duration": 81,
    "start_time": "2023-10-05T18:24:42.925Z"
   },
   {
    "duration": 16,
    "start_time": "2023-10-05T18:24:43.008Z"
   },
   {
    "duration": 33,
    "start_time": "2023-10-05T18:24:43.026Z"
   },
   {
    "duration": 17,
    "start_time": "2023-10-05T18:24:43.061Z"
   },
   {
    "duration": 35,
    "start_time": "2023-10-05T18:24:43.080Z"
   },
   {
    "duration": 10,
    "start_time": "2023-10-05T18:24:43.117Z"
   },
   {
    "duration": 14,
    "start_time": "2023-10-05T18:24:43.128Z"
   },
   {
    "duration": 31,
    "start_time": "2023-10-05T18:24:43.144Z"
   },
   {
    "duration": 15,
    "start_time": "2023-10-05T18:24:43.177Z"
   },
   {
    "duration": 27,
    "start_time": "2023-10-05T18:24:43.195Z"
   },
   {
    "duration": 38,
    "start_time": "2023-10-05T18:24:43.225Z"
   },
   {
    "duration": 10,
    "start_time": "2023-10-05T18:24:43.265Z"
   },
   {
    "duration": 15,
    "start_time": "2023-10-05T18:24:43.277Z"
   },
   {
    "duration": 14,
    "start_time": "2023-10-05T18:24:43.294Z"
   },
   {
    "duration": 603,
    "start_time": "2023-10-05T18:24:43.310Z"
   },
   {
    "duration": 15,
    "start_time": "2023-10-05T18:24:43.915Z"
   },
   {
    "duration": 30,
    "start_time": "2023-10-05T18:24:43.932Z"
   },
   {
    "duration": 3225,
    "start_time": "2023-10-05T18:24:43.964Z"
   },
   {
    "duration": 28,
    "start_time": "2023-10-05T18:24:47.191Z"
   },
   {
    "duration": 15,
    "start_time": "2023-10-05T18:24:47.221Z"
   },
   {
    "duration": 6,
    "start_time": "2023-10-05T18:24:47.238Z"
   },
   {
    "duration": 1732,
    "start_time": "2023-10-05T18:24:47.246Z"
   },
   {
    "duration": 266,
    "start_time": "2023-10-05T18:24:48.979Z"
   },
   {
    "duration": 30,
    "start_time": "2023-10-05T18:24:49.247Z"
   },
   {
    "duration": 794,
    "start_time": "2023-10-05T18:24:49.279Z"
   },
   {
    "duration": 11,
    "start_time": "2023-10-05T18:24:50.075Z"
   },
   {
    "duration": 1051,
    "start_time": "2023-10-05T18:24:50.101Z"
   },
   {
    "duration": 658,
    "start_time": "2023-10-05T18:24:51.155Z"
   },
   {
    "duration": 788,
    "start_time": "2023-10-05T18:24:51.814Z"
   },
   {
    "duration": 626,
    "start_time": "2023-10-05T18:24:52.604Z"
   },
   {
    "duration": 676,
    "start_time": "2023-10-05T18:24:53.232Z"
   },
   {
    "duration": 15,
    "start_time": "2023-10-05T18:24:53.910Z"
   },
   {
    "duration": 400,
    "start_time": "2023-10-05T18:24:53.927Z"
   },
   {
    "duration": 36,
    "start_time": "2023-10-05T18:24:54.329Z"
   },
   {
    "duration": 572,
    "start_time": "2023-10-05T18:24:54.366Z"
   },
   {
    "duration": 35,
    "start_time": "2023-10-05T18:24:54.940Z"
   },
   {
    "duration": 609,
    "start_time": "2023-10-05T18:24:54.977Z"
   },
   {
    "duration": 45,
    "start_time": "2023-10-05T18:24:55.589Z"
   },
   {
    "duration": 560,
    "start_time": "2023-10-05T18:24:55.636Z"
   },
   {
    "duration": 15,
    "start_time": "2023-10-05T18:24:56.198Z"
   },
   {
    "duration": 11,
    "start_time": "2023-10-05T18:25:47.526Z"
   },
   {
    "duration": 11,
    "start_time": "2023-10-05T18:26:47.085Z"
   },
   {
    "duration": 11,
    "start_time": "2023-10-05T18:31:26.188Z"
   },
   {
    "duration": 17,
    "start_time": "2023-10-05T18:33:12.331Z"
   },
   {
    "duration": 11,
    "start_time": "2023-10-05T18:33:23.935Z"
   },
   {
    "duration": 9,
    "start_time": "2023-10-05T18:34:45.480Z"
   },
   {
    "duration": 9,
    "start_time": "2023-10-05T18:39:07.725Z"
   },
   {
    "duration": 10,
    "start_time": "2023-10-05T18:39:16.425Z"
   },
   {
    "duration": 10,
    "start_time": "2023-10-05T18:39:21.877Z"
   },
   {
    "duration": 15,
    "start_time": "2023-10-05T18:43:10.477Z"
   },
   {
    "duration": 10,
    "start_time": "2023-10-05T18:44:26.883Z"
   },
   {
    "duration": 11,
    "start_time": "2023-10-05T18:44:39.380Z"
   },
   {
    "duration": 9,
    "start_time": "2023-10-05T18:44:59.310Z"
   },
   {
    "duration": 10,
    "start_time": "2023-10-05T18:45:12.430Z"
   },
   {
    "duration": 9,
    "start_time": "2023-10-05T18:45:50.722Z"
   },
   {
    "duration": 1375,
    "start_time": "2023-10-05T20:18:33.418Z"
   },
   {
    "duration": 222,
    "start_time": "2023-10-05T20:18:34.795Z"
   },
   {
    "duration": 16,
    "start_time": "2023-10-05T20:18:35.018Z"
   },
   {
    "duration": 45,
    "start_time": "2023-10-05T20:18:35.035Z"
   },
   {
    "duration": 42,
    "start_time": "2023-10-05T20:18:35.082Z"
   },
   {
    "duration": 30,
    "start_time": "2023-10-05T20:18:35.125Z"
   },
   {
    "duration": 49,
    "start_time": "2023-10-05T20:18:35.157Z"
   },
   {
    "duration": 23,
    "start_time": "2023-10-05T20:18:35.208Z"
   },
   {
    "duration": 32,
    "start_time": "2023-10-05T20:18:35.233Z"
   },
   {
    "duration": 33,
    "start_time": "2023-10-05T20:18:35.266Z"
   },
   {
    "duration": 39,
    "start_time": "2023-10-05T20:18:35.301Z"
   },
   {
    "duration": 50,
    "start_time": "2023-10-05T20:18:35.342Z"
   },
   {
    "duration": 16,
    "start_time": "2023-10-05T20:18:35.394Z"
   },
   {
    "duration": 36,
    "start_time": "2023-10-05T20:18:35.413Z"
   },
   {
    "duration": 47,
    "start_time": "2023-10-05T20:18:35.451Z"
   },
   {
    "duration": 625,
    "start_time": "2023-10-05T20:18:35.500Z"
   },
   {
    "duration": 28,
    "start_time": "2023-10-05T20:18:36.127Z"
   },
   {
    "duration": 15,
    "start_time": "2023-10-05T20:18:36.158Z"
   },
   {
    "duration": 3316,
    "start_time": "2023-10-05T20:18:36.175Z"
   },
   {
    "duration": 23,
    "start_time": "2023-10-05T20:18:39.492Z"
   },
   {
    "duration": 15,
    "start_time": "2023-10-05T20:18:39.516Z"
   },
   {
    "duration": 26,
    "start_time": "2023-10-05T20:18:39.532Z"
   },
   {
    "duration": 1623,
    "start_time": "2023-10-05T20:18:39.559Z"
   },
   {
    "duration": 258,
    "start_time": "2023-10-05T20:18:41.183Z"
   },
   {
    "duration": 37,
    "start_time": "2023-10-05T20:18:41.442Z"
   },
   {
    "duration": 796,
    "start_time": "2023-10-05T20:18:41.481Z"
   },
   {
    "duration": 12,
    "start_time": "2023-10-05T20:18:42.279Z"
   },
   {
    "duration": 660,
    "start_time": "2023-10-05T20:18:42.292Z"
   },
   {
    "duration": 675,
    "start_time": "2023-10-05T20:18:42.957Z"
   },
   {
    "duration": 782,
    "start_time": "2023-10-05T20:18:43.634Z"
   },
   {
    "duration": 605,
    "start_time": "2023-10-05T20:18:44.418Z"
   },
   {
    "duration": 742,
    "start_time": "2023-10-05T20:18:45.025Z"
   },
   {
    "duration": 17,
    "start_time": "2023-10-05T20:18:45.768Z"
   },
   {
    "duration": 247,
    "start_time": "2023-10-05T20:18:45.787Z"
   },
   {
    "duration": 48,
    "start_time": "2023-10-05T20:18:46.036Z"
   },
   {
    "duration": 602,
    "start_time": "2023-10-05T20:18:46.085Z"
   },
   {
    "duration": 36,
    "start_time": "2023-10-05T20:18:46.689Z"
   },
   {
    "duration": 661,
    "start_time": "2023-10-05T20:18:46.726Z"
   },
   {
    "duration": 37,
    "start_time": "2023-10-05T20:18:47.389Z"
   },
   {
    "duration": 486,
    "start_time": "2023-10-05T20:18:47.428Z"
   },
   {
    "duration": 9,
    "start_time": "2023-10-05T20:18:47.918Z"
   },
   {
    "duration": 28,
    "start_time": "2023-10-05T20:18:47.929Z"
   },
   {
    "duration": 10,
    "start_time": "2023-10-05T20:20:50.974Z"
   },
   {
    "duration": 9,
    "start_time": "2023-10-05T20:20:57.773Z"
   },
   {
    "duration": 1372,
    "start_time": "2023-10-05T21:38:44.184Z"
   },
   {
    "duration": 111,
    "start_time": "2023-10-05T21:38:45.558Z"
   },
   {
    "duration": 15,
    "start_time": "2023-10-05T21:38:45.670Z"
   },
   {
    "duration": 17,
    "start_time": "2023-10-05T21:38:45.687Z"
   },
   {
    "duration": 20,
    "start_time": "2023-10-05T21:38:45.706Z"
   },
   {
    "duration": 23,
    "start_time": "2023-10-05T21:38:45.728Z"
   },
   {
    "duration": 21,
    "start_time": "2023-10-05T21:38:45.752Z"
   },
   {
    "duration": 15,
    "start_time": "2023-10-05T21:38:45.775Z"
   },
   {
    "duration": 27,
    "start_time": "2023-10-05T21:38:45.791Z"
   },
   {
    "duration": 36,
    "start_time": "2023-10-05T21:38:45.820Z"
   },
   {
    "duration": 25,
    "start_time": "2023-10-05T21:38:45.857Z"
   },
   {
    "duration": 32,
    "start_time": "2023-10-05T21:38:45.884Z"
   },
   {
    "duration": 10,
    "start_time": "2023-10-05T21:38:45.917Z"
   },
   {
    "duration": 18,
    "start_time": "2023-10-05T21:38:45.928Z"
   },
   {
    "duration": 38,
    "start_time": "2023-10-05T21:38:45.948Z"
   },
   {
    "duration": 634,
    "start_time": "2023-10-05T21:38:45.988Z"
   },
   {
    "duration": 22,
    "start_time": "2023-10-05T21:38:46.624Z"
   },
   {
    "duration": 10,
    "start_time": "2023-10-05T21:38:46.649Z"
   },
   {
    "duration": 3045,
    "start_time": "2023-10-05T21:38:46.661Z"
   },
   {
    "duration": 21,
    "start_time": "2023-10-05T21:38:49.708Z"
   },
   {
    "duration": 14,
    "start_time": "2023-10-05T21:38:49.744Z"
   },
   {
    "duration": 13,
    "start_time": "2023-10-05T21:38:49.760Z"
   },
   {
    "duration": 2370,
    "start_time": "2023-10-05T21:38:49.774Z"
   },
   {
    "duration": 345,
    "start_time": "2023-10-05T21:38:52.146Z"
   },
   {
    "duration": 30,
    "start_time": "2023-10-05T21:38:52.493Z"
   },
   {
    "duration": 750,
    "start_time": "2023-10-05T21:38:52.525Z"
   },
   {
    "duration": 13,
    "start_time": "2023-10-05T21:38:53.277Z"
   },
   {
    "duration": 683,
    "start_time": "2023-10-05T21:38:53.295Z"
   },
   {
    "duration": 709,
    "start_time": "2023-10-05T21:38:53.980Z"
   },
   {
    "duration": 736,
    "start_time": "2023-10-05T21:38:54.691Z"
   },
   {
    "duration": 579,
    "start_time": "2023-10-05T21:38:55.429Z"
   },
   {
    "duration": 725,
    "start_time": "2023-10-05T21:38:56.010Z"
   },
   {
    "duration": 21,
    "start_time": "2023-10-05T21:38:56.736Z"
   },
   {
    "duration": 250,
    "start_time": "2023-10-05T21:38:56.758Z"
   },
   {
    "duration": 47,
    "start_time": "2023-10-05T21:38:57.011Z"
   },
   {
    "duration": 585,
    "start_time": "2023-10-05T21:38:57.060Z"
   },
   {
    "duration": 35,
    "start_time": "2023-10-05T21:38:57.647Z"
   },
   {
    "duration": 513,
    "start_time": "2023-10-05T21:38:57.683Z"
   },
   {
    "duration": 34,
    "start_time": "2023-10-05T21:38:58.197Z"
   },
   {
    "duration": 447,
    "start_time": "2023-10-05T21:38:58.244Z"
   },
   {
    "duration": 8,
    "start_time": "2023-10-05T21:38:58.693Z"
   },
   {
    "duration": 63,
    "start_time": "2023-10-05T21:38:58.703Z"
   },
   {
    "duration": 1301,
    "start_time": "2023-10-06T07:47:58.924Z"
   },
   {
    "duration": 127,
    "start_time": "2023-10-06T07:48:00.226Z"
   },
   {
    "duration": 18,
    "start_time": "2023-10-06T07:48:00.355Z"
   },
   {
    "duration": 59,
    "start_time": "2023-10-06T07:48:00.375Z"
   },
   {
    "duration": 82,
    "start_time": "2023-10-06T07:48:00.435Z"
   },
   {
    "duration": 46,
    "start_time": "2023-10-06T07:48:00.518Z"
   },
   {
    "duration": 45,
    "start_time": "2023-10-06T07:48:00.565Z"
   },
   {
    "duration": 145,
    "start_time": "2023-10-06T07:48:00.611Z"
   },
   {
    "duration": 342,
    "start_time": "2023-10-06T07:48:00.758Z"
   },
   {
    "duration": 53,
    "start_time": "2023-10-06T07:48:01.102Z"
   },
   {
    "duration": 83,
    "start_time": "2023-10-06T07:48:01.156Z"
   },
   {
    "duration": 103,
    "start_time": "2023-10-06T07:48:01.240Z"
   },
   {
    "duration": 66,
    "start_time": "2023-10-06T07:48:01.344Z"
   },
   {
    "duration": 451,
    "start_time": "2023-10-06T07:48:01.412Z"
   },
   {
    "duration": 285,
    "start_time": "2023-10-06T07:48:01.865Z"
   },
   {
    "duration": 974,
    "start_time": "2023-10-06T07:48:02.152Z"
   },
   {
    "duration": 15,
    "start_time": "2023-10-06T07:48:03.128Z"
   },
   {
    "duration": 356,
    "start_time": "2023-10-06T07:48:03.144Z"
   },
   {
    "duration": 3391,
    "start_time": "2023-10-06T07:48:03.501Z"
   },
   {
    "duration": 36,
    "start_time": "2023-10-06T07:48:06.894Z"
   },
   {
    "duration": 123,
    "start_time": "2023-10-06T07:48:06.932Z"
   },
   {
    "duration": 282,
    "start_time": "2023-10-06T07:48:07.057Z"
   },
   {
    "duration": 1846,
    "start_time": "2023-10-06T07:48:07.341Z"
   },
   {
    "duration": 245,
    "start_time": "2023-10-06T07:48:09.188Z"
   },
   {
    "duration": 26,
    "start_time": "2023-10-06T07:48:09.434Z"
   },
   {
    "duration": 1024,
    "start_time": "2023-10-06T07:48:09.462Z"
   },
   {
    "duration": 12,
    "start_time": "2023-10-06T07:48:10.488Z"
   },
   {
    "duration": 1095,
    "start_time": "2023-10-06T07:48:10.503Z"
   },
   {
    "duration": 663,
    "start_time": "2023-10-06T07:48:11.600Z"
   },
   {
    "duration": 746,
    "start_time": "2023-10-06T07:48:12.266Z"
   },
   {
    "duration": 606,
    "start_time": "2023-10-06T07:48:13.023Z"
   },
   {
    "duration": 770,
    "start_time": "2023-10-06T07:48:13.630Z"
   },
   {
    "duration": 27,
    "start_time": "2023-10-06T07:48:14.402Z"
   },
   {
    "duration": 300,
    "start_time": "2023-10-06T07:48:14.431Z"
   },
   {
    "duration": 36,
    "start_time": "2023-10-06T07:48:14.733Z"
   },
   {
    "duration": 566,
    "start_time": "2023-10-06T07:48:14.771Z"
   },
   {
    "duration": 34,
    "start_time": "2023-10-06T07:48:15.339Z"
   },
   {
    "duration": 576,
    "start_time": "2023-10-06T07:48:15.375Z"
   },
   {
    "duration": 49,
    "start_time": "2023-10-06T07:48:15.953Z"
   },
   {
    "duration": 547,
    "start_time": "2023-10-06T07:48:16.023Z"
   },
   {
    "duration": 8,
    "start_time": "2023-10-06T07:48:16.572Z"
   },
   {
    "duration": 110,
    "start_time": "2023-10-06T07:48:16.582Z"
   },
   {
    "duration": 1673,
    "start_time": "2023-10-06T19:29:31.058Z"
   },
   {
    "duration": 155,
    "start_time": "2023-10-06T19:29:32.740Z"
   },
   {
    "duration": 19,
    "start_time": "2023-10-06T19:29:32.897Z"
   },
   {
    "duration": 37,
    "start_time": "2023-10-06T19:29:32.918Z"
   },
   {
    "duration": 24,
    "start_time": "2023-10-06T19:29:32.958Z"
   },
   {
    "duration": 21,
    "start_time": "2023-10-06T19:29:32.985Z"
   },
   {
    "duration": 44,
    "start_time": "2023-10-06T19:29:33.008Z"
   },
   {
    "duration": 16,
    "start_time": "2023-10-06T19:29:33.054Z"
   },
   {
    "duration": 9,
    "start_time": "2023-10-06T19:29:33.072Z"
   },
   {
    "duration": 9,
    "start_time": "2023-10-06T19:29:33.083Z"
   },
   {
    "duration": 9,
    "start_time": "2023-10-06T19:29:33.094Z"
   },
   {
    "duration": 34,
    "start_time": "2023-10-06T19:29:33.104Z"
   },
   {
    "duration": 16,
    "start_time": "2023-10-06T19:29:33.140Z"
   },
   {
    "duration": 19,
    "start_time": "2023-10-06T19:29:33.159Z"
   },
   {
    "duration": 17,
    "start_time": "2023-10-06T19:29:33.179Z"
   },
   {
    "duration": 743,
    "start_time": "2023-10-06T19:29:33.198Z"
   },
   {
    "duration": 21,
    "start_time": "2023-10-06T19:29:33.943Z"
   },
   {
    "duration": 8,
    "start_time": "2023-10-06T19:29:33.966Z"
   },
   {
    "duration": 3891,
    "start_time": "2023-10-06T19:29:33.976Z"
   },
   {
    "duration": 23,
    "start_time": "2023-10-06T19:29:37.869Z"
   },
   {
    "duration": 176,
    "start_time": "2023-10-06T19:29:37.894Z"
   },
   {
    "duration": 10,
    "start_time": "2023-10-06T19:29:38.072Z"
   },
   {
    "duration": 1953,
    "start_time": "2023-10-06T19:29:38.084Z"
   },
   {
    "duration": 274,
    "start_time": "2023-10-06T19:29:40.039Z"
   },
   {
    "duration": 44,
    "start_time": "2023-10-06T19:29:40.314Z"
   },
   {
    "duration": 902,
    "start_time": "2023-10-06T19:29:40.360Z"
   },
   {
    "duration": 12,
    "start_time": "2023-10-06T19:29:41.264Z"
   },
   {
    "duration": 711,
    "start_time": "2023-10-06T19:29:41.278Z"
   },
   {
    "duration": 849,
    "start_time": "2023-10-06T19:29:41.991Z"
   },
   {
    "duration": 753,
    "start_time": "2023-10-06T19:29:42.842Z"
   },
   {
    "duration": 707,
    "start_time": "2023-10-06T19:29:43.597Z"
   },
   {
    "duration": 850,
    "start_time": "2023-10-06T19:29:44.306Z"
   },
   {
    "duration": 17,
    "start_time": "2023-10-06T19:29:45.158Z"
   },
   {
    "duration": 314,
    "start_time": "2023-10-06T19:29:45.177Z"
   },
   {
    "duration": 57,
    "start_time": "2023-10-06T19:29:45.493Z"
   },
   {
    "duration": 667,
    "start_time": "2023-10-06T19:29:45.552Z"
   },
   {
    "duration": 58,
    "start_time": "2023-10-06T19:29:46.224Z"
   },
   {
    "duration": 601,
    "start_time": "2023-10-06T19:29:46.284Z"
   },
   {
    "duration": 51,
    "start_time": "2023-10-06T19:29:46.888Z"
   },
   {
    "duration": 583,
    "start_time": "2023-10-06T19:29:46.944Z"
   },
   {
    "duration": 13,
    "start_time": "2023-10-06T19:29:47.539Z"
   },
   {
    "duration": 30,
    "start_time": "2023-10-06T19:29:47.554Z"
   },
   {
    "duration": 9,
    "start_time": "2023-10-06T19:31:21.073Z"
   },
   {
    "duration": 14,
    "start_time": "2023-10-06T19:45:39.173Z"
   },
   {
    "duration": 4,
    "start_time": "2023-10-06T20:49:07.339Z"
   },
   {
    "duration": 196,
    "start_time": "2023-10-06T20:49:07.345Z"
   },
   {
    "duration": 22,
    "start_time": "2023-10-06T20:49:07.543Z"
   },
   {
    "duration": 95,
    "start_time": "2023-10-06T20:49:07.568Z"
   },
   {
    "duration": 49,
    "start_time": "2023-10-06T20:49:07.665Z"
   },
   {
    "duration": 48,
    "start_time": "2023-10-06T20:49:07.715Z"
   },
   {
    "duration": 38,
    "start_time": "2023-10-06T20:49:07.765Z"
   },
   {
    "duration": 85,
    "start_time": "2023-10-06T20:49:07.804Z"
   },
   {
    "duration": 131,
    "start_time": "2023-10-06T20:49:07.891Z"
   },
   {
    "duration": 106,
    "start_time": "2023-10-06T20:49:08.031Z"
   },
   {
    "duration": 30,
    "start_time": "2023-10-06T20:49:08.139Z"
   },
   {
    "duration": 40,
    "start_time": "2023-10-06T20:49:08.171Z"
   },
   {
    "duration": 22,
    "start_time": "2023-10-06T20:49:08.213Z"
   },
   {
    "duration": 43,
    "start_time": "2023-10-06T20:49:08.239Z"
   },
   {
    "duration": 17,
    "start_time": "2023-10-06T20:49:08.284Z"
   },
   {
    "duration": 667,
    "start_time": "2023-10-06T20:49:08.303Z"
   },
   {
    "duration": 16,
    "start_time": "2023-10-06T20:49:08.972Z"
   },
   {
    "duration": 32,
    "start_time": "2023-10-06T20:49:08.990Z"
   },
   {
    "duration": 3319,
    "start_time": "2023-10-06T20:49:09.023Z"
   },
   {
    "duration": 26,
    "start_time": "2023-10-06T20:49:12.344Z"
   },
   {
    "duration": 46,
    "start_time": "2023-10-06T20:49:12.372Z"
   },
   {
    "duration": 11,
    "start_time": "2023-10-06T20:49:12.420Z"
   },
   {
    "duration": 1808,
    "start_time": "2023-10-06T20:49:12.433Z"
   },
   {
    "duration": 252,
    "start_time": "2023-10-06T20:49:14.244Z"
   },
   {
    "duration": 44,
    "start_time": "2023-10-06T20:49:14.498Z"
   },
   {
    "duration": 646,
    "start_time": "2023-10-06T20:49:14.544Z"
   },
   {
    "duration": 12,
    "start_time": "2023-10-06T20:49:15.192Z"
   },
   {
    "duration": 879,
    "start_time": "2023-10-06T20:49:15.224Z"
   },
   {
    "duration": 710,
    "start_time": "2023-10-06T20:49:16.105Z"
   },
   {
    "duration": 720,
    "start_time": "2023-10-06T20:49:16.825Z"
   },
   {
    "duration": 803,
    "start_time": "2023-10-06T20:49:17.547Z"
   },
   {
    "duration": 689,
    "start_time": "2023-10-06T20:49:18.351Z"
   },
   {
    "duration": 19,
    "start_time": "2023-10-06T20:49:19.042Z"
   },
   {
    "duration": 272,
    "start_time": "2023-10-06T20:49:19.063Z"
   },
   {
    "duration": 40,
    "start_time": "2023-10-06T20:49:19.342Z"
   },
   {
    "duration": 537,
    "start_time": "2023-10-06T20:49:19.385Z"
   },
   {
    "duration": 44,
    "start_time": "2023-10-06T20:49:19.924Z"
   },
   {
    "duration": 575,
    "start_time": "2023-10-06T20:49:19.970Z"
   },
   {
    "duration": 34,
    "start_time": "2023-10-06T20:49:20.546Z"
   },
   {
    "duration": 659,
    "start_time": "2023-10-06T20:49:20.582Z"
   },
   {
    "duration": 11,
    "start_time": "2023-10-06T20:49:21.242Z"
   },
   {
    "duration": 26,
    "start_time": "2023-10-06T20:49:21.254Z"
   },
   {
    "duration": 1219,
    "start_time": "2023-10-06T20:49:29.782Z"
   },
   {
    "duration": 99,
    "start_time": "2023-10-06T20:49:31.003Z"
   },
   {
    "duration": 22,
    "start_time": "2023-10-06T20:49:31.104Z"
   },
   {
    "duration": 35,
    "start_time": "2023-10-06T20:49:31.137Z"
   },
   {
    "duration": 50,
    "start_time": "2023-10-06T20:49:31.174Z"
   },
   {
    "duration": 71,
    "start_time": "2023-10-06T20:49:31.226Z"
   },
   {
    "duration": 41,
    "start_time": "2023-10-06T20:49:31.298Z"
   },
   {
    "duration": 39,
    "start_time": "2023-10-06T20:49:31.341Z"
   },
   {
    "duration": 61,
    "start_time": "2023-10-06T20:49:31.382Z"
   },
   {
    "duration": 34,
    "start_time": "2023-10-06T20:49:31.447Z"
   },
   {
    "duration": 59,
    "start_time": "2023-10-06T20:49:31.484Z"
   },
   {
    "duration": 103,
    "start_time": "2023-10-06T20:49:31.545Z"
   },
   {
    "duration": 167,
    "start_time": "2023-10-06T20:49:31.649Z"
   },
   {
    "duration": 140,
    "start_time": "2023-10-06T20:49:31.818Z"
   },
   {
    "duration": 81,
    "start_time": "2023-10-06T20:49:31.959Z"
   },
   {
    "duration": 920,
    "start_time": "2023-10-06T20:49:32.042Z"
   },
   {
    "duration": 16,
    "start_time": "2023-10-06T20:49:32.964Z"
   },
   {
    "duration": 96,
    "start_time": "2023-10-06T20:49:32.982Z"
   },
   {
    "duration": 3433,
    "start_time": "2023-10-06T20:49:33.080Z"
   },
   {
    "duration": 32,
    "start_time": "2023-10-06T20:49:36.515Z"
   },
   {
    "duration": 15,
    "start_time": "2023-10-06T20:49:36.549Z"
   },
   {
    "duration": 11,
    "start_time": "2023-10-06T20:49:36.566Z"
   },
   {
    "duration": 1768,
    "start_time": "2023-10-06T20:49:36.578Z"
   },
   {
    "duration": 254,
    "start_time": "2023-10-06T20:49:38.348Z"
   },
   {
    "duration": 40,
    "start_time": "2023-10-06T20:49:38.603Z"
   },
   {
    "duration": 857,
    "start_time": "2023-10-06T20:49:38.645Z"
   },
   {
    "duration": 12,
    "start_time": "2023-10-06T20:49:39.503Z"
   },
   {
    "duration": 656,
    "start_time": "2023-10-06T20:49:39.518Z"
   },
   {
    "duration": 694,
    "start_time": "2023-10-06T20:49:40.175Z"
   },
   {
    "duration": 808,
    "start_time": "2023-10-06T20:49:40.871Z"
   },
   {
    "duration": 676,
    "start_time": "2023-10-06T20:49:41.681Z"
   },
   {
    "duration": 777,
    "start_time": "2023-10-06T20:49:42.359Z"
   },
   {
    "duration": 18,
    "start_time": "2023-10-06T20:49:43.138Z"
   },
   {
    "duration": 262,
    "start_time": "2023-10-06T20:49:43.158Z"
   },
   {
    "duration": 42,
    "start_time": "2023-10-06T20:49:43.422Z"
   },
   {
    "duration": 519,
    "start_time": "2023-10-06T20:49:43.466Z"
   },
   {
    "duration": 48,
    "start_time": "2023-10-06T20:49:43.986Z"
   },
   {
    "duration": 566,
    "start_time": "2023-10-06T20:49:44.036Z"
   },
   {
    "duration": 61,
    "start_time": "2023-10-06T20:49:44.603Z"
   },
   {
    "duration": 504,
    "start_time": "2023-10-06T20:49:44.666Z"
   },
   {
    "duration": 10,
    "start_time": "2023-10-06T20:49:45.171Z"
   },
   {
    "duration": 21,
    "start_time": "2023-10-06T20:49:45.183Z"
   },
   {
    "duration": 1347,
    "start_time": "2023-10-06T20:51:42.914Z"
   },
   {
    "duration": 127,
    "start_time": "2023-10-06T20:51:44.262Z"
   },
   {
    "duration": 14,
    "start_time": "2023-10-06T20:51:44.391Z"
   },
   {
    "duration": 34,
    "start_time": "2023-10-06T20:51:44.406Z"
   },
   {
    "duration": 30,
    "start_time": "2023-10-06T20:51:44.442Z"
   },
   {
    "duration": 12,
    "start_time": "2023-10-06T20:51:44.474Z"
   },
   {
    "duration": 10,
    "start_time": "2023-10-06T20:51:44.488Z"
   },
   {
    "duration": 16,
    "start_time": "2023-10-06T20:51:44.500Z"
   },
   {
    "duration": 10,
    "start_time": "2023-10-06T20:51:44.518Z"
   },
   {
    "duration": 37,
    "start_time": "2023-10-06T20:51:44.529Z"
   },
   {
    "duration": 10,
    "start_time": "2023-10-06T20:51:44.568Z"
   },
   {
    "duration": 21,
    "start_time": "2023-10-06T20:51:44.580Z"
   },
   {
    "duration": 11,
    "start_time": "2023-10-06T20:51:44.603Z"
   },
   {
    "duration": 15,
    "start_time": "2023-10-06T20:51:44.617Z"
   },
   {
    "duration": 33,
    "start_time": "2023-10-06T20:51:44.633Z"
   },
   {
    "duration": 605,
    "start_time": "2023-10-06T20:51:44.668Z"
   },
   {
    "duration": 16,
    "start_time": "2023-10-06T20:51:45.275Z"
   },
   {
    "duration": 6,
    "start_time": "2023-10-06T20:51:45.293Z"
   },
   {
    "duration": 3095,
    "start_time": "2023-10-06T20:51:45.300Z"
   },
   {
    "duration": 22,
    "start_time": "2023-10-06T20:51:48.396Z"
   },
   {
    "duration": 30,
    "start_time": "2023-10-06T20:51:48.420Z"
   },
   {
    "duration": 12,
    "start_time": "2023-10-06T20:51:48.452Z"
   },
   {
    "duration": 1690,
    "start_time": "2023-10-06T20:51:48.465Z"
   },
   {
    "duration": 252,
    "start_time": "2023-10-06T20:51:50.157Z"
   },
   {
    "duration": 26,
    "start_time": "2023-10-06T20:51:50.411Z"
   },
   {
    "duration": 815,
    "start_time": "2023-10-06T20:51:50.449Z"
   },
   {
    "duration": 13,
    "start_time": "2023-10-06T20:51:51.266Z"
   },
   {
    "duration": 694,
    "start_time": "2023-10-06T20:51:51.282Z"
   },
   {
    "duration": 683,
    "start_time": "2023-10-06T20:51:51.978Z"
   },
   {
    "duration": 712,
    "start_time": "2023-10-06T20:51:52.663Z"
   },
   {
    "duration": 612,
    "start_time": "2023-10-06T20:51:53.378Z"
   },
   {
    "duration": 744,
    "start_time": "2023-10-06T20:51:53.991Z"
   },
   {
    "duration": 21,
    "start_time": "2023-10-06T20:51:54.737Z"
   },
   {
    "duration": 231,
    "start_time": "2023-10-06T20:51:54.760Z"
   },
   {
    "duration": 34,
    "start_time": "2023-10-06T20:51:54.993Z"
   },
   {
    "duration": 576,
    "start_time": "2023-10-06T20:51:55.028Z"
   },
   {
    "duration": 33,
    "start_time": "2023-10-06T20:51:55.606Z"
   },
   {
    "duration": 585,
    "start_time": "2023-10-06T20:51:55.650Z"
   },
   {
    "duration": 53,
    "start_time": "2023-10-06T20:51:56.237Z"
   },
   {
    "duration": 588,
    "start_time": "2023-10-06T20:51:56.291Z"
   },
   {
    "duration": 9,
    "start_time": "2023-10-06T20:51:56.883Z"
   },
   {
    "duration": 35,
    "start_time": "2023-10-06T20:51:56.894Z"
   },
   {
    "duration": 1278,
    "start_time": "2023-10-07T04:39:01.088Z"
   },
   {
    "duration": 137,
    "start_time": "2023-10-07T04:39:02.368Z"
   },
   {
    "duration": 15,
    "start_time": "2023-10-07T04:39:02.506Z"
   },
   {
    "duration": 14,
    "start_time": "2023-10-07T04:39:02.522Z"
   },
   {
    "duration": 54,
    "start_time": "2023-10-07T04:39:02.538Z"
   },
   {
    "duration": 228,
    "start_time": "2023-10-07T04:39:02.596Z"
   },
   {
    "duration": 6,
    "start_time": "2023-10-07T04:39:02.825Z"
   },
   {
    "duration": 6,
    "start_time": "2023-10-07T04:39:02.832Z"
   },
   {
    "duration": 32,
    "start_time": "2023-10-07T04:39:02.844Z"
   },
   {
    "duration": 7,
    "start_time": "2023-10-07T04:39:02.886Z"
   },
   {
    "duration": 7,
    "start_time": "2023-10-07T04:39:02.894Z"
   },
   {
    "duration": 19,
    "start_time": "2023-10-07T04:39:02.902Z"
   },
   {
    "duration": 8,
    "start_time": "2023-10-07T04:39:02.922Z"
   },
   {
    "duration": 26,
    "start_time": "2023-10-07T04:39:02.932Z"
   },
   {
    "duration": 17,
    "start_time": "2023-10-07T04:39:02.970Z"
   },
   {
    "duration": 605,
    "start_time": "2023-10-07T04:39:02.988Z"
   },
   {
    "duration": 14,
    "start_time": "2023-10-07T04:39:03.594Z"
   },
   {
    "duration": 8,
    "start_time": "2023-10-07T04:39:03.610Z"
   },
   {
    "duration": 2861,
    "start_time": "2023-10-07T04:39:03.619Z"
   },
   {
    "duration": 28,
    "start_time": "2023-10-07T04:39:06.482Z"
   },
   {
    "duration": 12,
    "start_time": "2023-10-07T04:39:06.511Z"
   },
   {
    "duration": 10,
    "start_time": "2023-10-07T04:39:06.524Z"
   },
   {
    "duration": 1491,
    "start_time": "2023-10-07T04:39:06.544Z"
   },
   {
    "duration": 244,
    "start_time": "2023-10-07T04:39:08.052Z"
   },
   {
    "duration": 27,
    "start_time": "2023-10-07T04:39:08.298Z"
   },
   {
    "duration": 766,
    "start_time": "2023-10-07T04:39:08.327Z"
   },
   {
    "duration": 10,
    "start_time": "2023-10-07T04:39:09.094Z"
   },
   {
    "duration": 602,
    "start_time": "2023-10-07T04:39:09.105Z"
   },
   {
    "duration": 609,
    "start_time": "2023-10-07T04:39:09.709Z"
   },
   {
    "duration": 665,
    "start_time": "2023-10-07T04:39:10.320Z"
   },
   {
    "duration": 566,
    "start_time": "2023-10-07T04:39:10.986Z"
   },
   {
    "duration": 655,
    "start_time": "2023-10-07T04:39:11.566Z"
   },
   {
    "duration": 43,
    "start_time": "2023-10-07T04:39:12.222Z"
   },
   {
    "duration": 297,
    "start_time": "2023-10-07T04:39:12.269Z"
   },
   {
    "duration": 42,
    "start_time": "2023-10-07T04:39:12.576Z"
   },
   {
    "duration": 506,
    "start_time": "2023-10-07T04:39:12.619Z"
   },
   {
    "duration": 50,
    "start_time": "2023-10-07T04:39:13.127Z"
   },
   {
    "duration": 602,
    "start_time": "2023-10-07T04:39:13.178Z"
   },
   {
    "duration": 30,
    "start_time": "2023-10-07T04:39:13.781Z"
   },
   {
    "duration": 416,
    "start_time": "2023-10-07T04:39:13.812Z"
   },
   {
    "duration": 33,
    "start_time": "2023-10-07T04:39:14.231Z"
   },
   {
    "duration": 14,
    "start_time": "2023-10-07T04:39:14.274Z"
   },
   {
    "duration": 1556,
    "start_time": "2023-10-07T08:35:53.279Z"
   },
   {
    "duration": 123,
    "start_time": "2023-10-07T08:35:54.837Z"
   },
   {
    "duration": 14,
    "start_time": "2023-10-07T08:35:54.962Z"
   },
   {
    "duration": 20,
    "start_time": "2023-10-07T08:35:54.979Z"
   },
   {
    "duration": 57,
    "start_time": "2023-10-07T08:35:55.001Z"
   },
   {
    "duration": 119,
    "start_time": "2023-10-07T08:35:55.059Z"
   },
   {
    "duration": 0,
    "start_time": "2023-10-07T08:35:55.180Z"
   },
   {
    "duration": 0,
    "start_time": "2023-10-07T08:35:55.182Z"
   },
   {
    "duration": 0,
    "start_time": "2023-10-07T08:35:55.183Z"
   },
   {
    "duration": 0,
    "start_time": "2023-10-07T08:35:55.184Z"
   },
   {
    "duration": 0,
    "start_time": "2023-10-07T08:35:55.185Z"
   },
   {
    "duration": 0,
    "start_time": "2023-10-07T08:35:55.186Z"
   },
   {
    "duration": 0,
    "start_time": "2023-10-07T08:35:55.187Z"
   },
   {
    "duration": 0,
    "start_time": "2023-10-07T08:35:55.189Z"
   },
   {
    "duration": 0,
    "start_time": "2023-10-07T08:35:55.190Z"
   },
   {
    "duration": 0,
    "start_time": "2023-10-07T08:35:55.191Z"
   },
   {
    "duration": 0,
    "start_time": "2023-10-07T08:35:55.193Z"
   },
   {
    "duration": 0,
    "start_time": "2023-10-07T08:35:55.193Z"
   },
   {
    "duration": 0,
    "start_time": "2023-10-07T08:35:55.194Z"
   },
   {
    "duration": 0,
    "start_time": "2023-10-07T08:35:55.195Z"
   },
   {
    "duration": 0,
    "start_time": "2023-10-07T08:35:55.196Z"
   },
   {
    "duration": 0,
    "start_time": "2023-10-07T08:35:55.197Z"
   },
   {
    "duration": 0,
    "start_time": "2023-10-07T08:35:55.198Z"
   },
   {
    "duration": 0,
    "start_time": "2023-10-07T08:35:55.199Z"
   },
   {
    "duration": 0,
    "start_time": "2023-10-07T08:35:55.200Z"
   },
   {
    "duration": 0,
    "start_time": "2023-10-07T08:35:55.201Z"
   },
   {
    "duration": 0,
    "start_time": "2023-10-07T08:35:55.202Z"
   },
   {
    "duration": 0,
    "start_time": "2023-10-07T08:35:55.203Z"
   },
   {
    "duration": 0,
    "start_time": "2023-10-07T08:35:55.245Z"
   },
   {
    "duration": 0,
    "start_time": "2023-10-07T08:35:55.246Z"
   },
   {
    "duration": 0,
    "start_time": "2023-10-07T08:35:55.247Z"
   },
   {
    "duration": 0,
    "start_time": "2023-10-07T08:35:55.247Z"
   },
   {
    "duration": 0,
    "start_time": "2023-10-07T08:35:55.249Z"
   },
   {
    "duration": 1,
    "start_time": "2023-10-07T08:35:55.249Z"
   },
   {
    "duration": 0,
    "start_time": "2023-10-07T08:35:55.251Z"
   },
   {
    "duration": 0,
    "start_time": "2023-10-07T08:35:55.252Z"
   },
   {
    "duration": 0,
    "start_time": "2023-10-07T08:35:55.254Z"
   },
   {
    "duration": 0,
    "start_time": "2023-10-07T08:35:55.255Z"
   },
   {
    "duration": 0,
    "start_time": "2023-10-07T08:35:55.256Z"
   },
   {
    "duration": 0,
    "start_time": "2023-10-07T08:35:55.257Z"
   },
   {
    "duration": 0,
    "start_time": "2023-10-07T08:35:55.258Z"
   },
   {
    "duration": 0,
    "start_time": "2023-10-07T08:35:55.259Z"
   },
   {
    "duration": 0,
    "start_time": "2023-10-07T08:35:55.260Z"
   },
   {
    "duration": 53,
    "start_time": "2023-10-07T08:36:07.518Z"
   },
   {
    "duration": 3,
    "start_time": "2023-10-07T08:36:16.422Z"
   },
   {
    "duration": 136,
    "start_time": "2023-10-07T08:36:16.429Z"
   },
   {
    "duration": 15,
    "start_time": "2023-10-07T08:36:16.567Z"
   },
   {
    "duration": 55,
    "start_time": "2023-10-07T08:36:16.584Z"
   },
   {
    "duration": 26,
    "start_time": "2023-10-07T08:36:16.641Z"
   },
   {
    "duration": 36,
    "start_time": "2023-10-07T08:36:16.668Z"
   },
   {
    "duration": 43,
    "start_time": "2023-10-07T08:36:16.705Z"
   },
   {
    "duration": 42,
    "start_time": "2023-10-07T08:36:16.749Z"
   },
   {
    "duration": 25,
    "start_time": "2023-10-07T08:36:16.793Z"
   },
   {
    "duration": 49,
    "start_time": "2023-10-07T08:36:16.819Z"
   },
   {
    "duration": 21,
    "start_time": "2023-10-07T08:36:16.871Z"
   },
   {
    "duration": 10,
    "start_time": "2023-10-07T08:36:16.894Z"
   },
   {
    "duration": 24,
    "start_time": "2023-10-07T08:36:16.906Z"
   },
   {
    "duration": 10,
    "start_time": "2023-10-07T08:36:16.931Z"
   },
   {
    "duration": 25,
    "start_time": "2023-10-07T08:36:16.942Z"
   },
   {
    "duration": 19,
    "start_time": "2023-10-07T08:36:16.969Z"
   },
   {
    "duration": 619,
    "start_time": "2023-10-07T08:36:16.990Z"
   },
   {
    "duration": 15,
    "start_time": "2023-10-07T08:36:17.611Z"
   },
   {
    "duration": 18,
    "start_time": "2023-10-07T08:36:17.628Z"
   },
   {
    "duration": 3942,
    "start_time": "2023-10-07T08:36:17.647Z"
   },
   {
    "duration": 22,
    "start_time": "2023-10-07T08:36:21.591Z"
   },
   {
    "duration": 32,
    "start_time": "2023-10-07T08:36:21.615Z"
   },
   {
    "duration": 6,
    "start_time": "2023-10-07T08:36:21.649Z"
   },
   {
    "duration": 1591,
    "start_time": "2023-10-07T08:36:21.657Z"
   },
   {
    "duration": 247,
    "start_time": "2023-10-07T08:36:23.250Z"
   },
   {
    "duration": 27,
    "start_time": "2023-10-07T08:36:23.499Z"
   },
   {
    "duration": 794,
    "start_time": "2023-10-07T08:36:23.529Z"
   },
   {
    "duration": 11,
    "start_time": "2023-10-07T08:36:24.325Z"
   },
   {
    "duration": 698,
    "start_time": "2023-10-07T08:36:24.339Z"
   },
   {
    "duration": 731,
    "start_time": "2023-10-07T08:36:25.038Z"
   },
   {
    "duration": 696,
    "start_time": "2023-10-07T08:36:25.770Z"
   },
   {
    "duration": 694,
    "start_time": "2023-10-07T08:36:26.468Z"
   },
   {
    "duration": 737,
    "start_time": "2023-10-07T08:36:27.164Z"
   },
   {
    "duration": 14,
    "start_time": "2023-10-07T08:36:27.902Z"
   },
   {
    "duration": 235,
    "start_time": "2023-10-07T08:36:27.918Z"
   },
   {
    "duration": 31,
    "start_time": "2023-10-07T08:36:28.155Z"
   },
   {
    "duration": 535,
    "start_time": "2023-10-07T08:36:28.188Z"
   },
   {
    "duration": 34,
    "start_time": "2023-10-07T08:36:28.724Z"
   },
   {
    "duration": 524,
    "start_time": "2023-10-07T08:36:28.759Z"
   },
   {
    "duration": 34,
    "start_time": "2023-10-07T08:36:29.285Z"
   },
   {
    "duration": 465,
    "start_time": "2023-10-07T08:36:29.321Z"
   },
   {
    "duration": 11,
    "start_time": "2023-10-07T08:36:29.788Z"
   },
   {
    "duration": 23,
    "start_time": "2023-10-07T08:36:29.800Z"
   },
   {
    "duration": 24,
    "start_time": "2023-10-07T10:04:39.886Z"
   },
   {
    "duration": 5,
    "start_time": "2023-10-07T10:04:43.527Z"
   },
   {
    "duration": 82,
    "start_time": "2023-10-07T10:04:43.533Z"
   },
   {
    "duration": 15,
    "start_time": "2023-10-07T10:04:43.618Z"
   },
   {
    "duration": 29,
    "start_time": "2023-10-07T10:04:43.635Z"
   },
   {
    "duration": 19,
    "start_time": "2023-10-07T10:04:43.668Z"
   },
   {
    "duration": 48,
    "start_time": "2023-10-07T10:04:43.688Z"
   },
   {
    "duration": 39,
    "start_time": "2023-10-07T10:04:43.738Z"
   },
   {
    "duration": 12,
    "start_time": "2023-10-07T10:04:43.780Z"
   },
   {
    "duration": 11,
    "start_time": "2023-10-07T10:04:43.796Z"
   },
   {
    "duration": 33,
    "start_time": "2023-10-07T10:04:43.811Z"
   },
   {
    "duration": 11,
    "start_time": "2023-10-07T10:04:43.846Z"
   },
   {
    "duration": 25,
    "start_time": "2023-10-07T10:04:43.859Z"
   },
   {
    "duration": 42,
    "start_time": "2023-10-07T10:04:43.886Z"
   },
   {
    "duration": 21,
    "start_time": "2023-10-07T10:04:43.930Z"
   },
   {
    "duration": 53,
    "start_time": "2023-10-07T10:04:43.953Z"
   },
   {
    "duration": 28,
    "start_time": "2023-10-07T10:04:44.008Z"
   },
   {
    "duration": 702,
    "start_time": "2023-10-07T10:04:44.038Z"
   },
   {
    "duration": 22,
    "start_time": "2023-10-07T10:04:44.743Z"
   },
   {
    "duration": 7,
    "start_time": "2023-10-07T10:04:44.767Z"
   },
   {
    "duration": 4388,
    "start_time": "2023-10-07T10:04:44.776Z"
   },
   {
    "duration": 77,
    "start_time": "2023-10-07T10:04:49.166Z"
   },
   {
    "duration": 16,
    "start_time": "2023-10-07T10:04:49.245Z"
   },
   {
    "duration": 33,
    "start_time": "2023-10-07T10:04:49.263Z"
   },
   {
    "duration": 2204,
    "start_time": "2023-10-07T10:04:49.299Z"
   },
   {
    "duration": 283,
    "start_time": "2023-10-07T10:04:51.506Z"
   },
   {
    "duration": 52,
    "start_time": "2023-10-07T10:04:51.792Z"
   },
   {
    "duration": 709,
    "start_time": "2023-10-07T10:04:51.846Z"
   },
   {
    "duration": 14,
    "start_time": "2023-10-07T10:04:52.557Z"
   },
   {
    "duration": 914,
    "start_time": "2023-10-07T10:04:52.573Z"
   },
   {
    "duration": 717,
    "start_time": "2023-10-07T10:04:53.488Z"
   },
   {
    "duration": 740,
    "start_time": "2023-10-07T10:04:54.207Z"
   },
   {
    "duration": 725,
    "start_time": "2023-10-07T10:04:54.950Z"
   },
   {
    "duration": 668,
    "start_time": "2023-10-07T10:04:55.677Z"
   },
   {
    "duration": 14,
    "start_time": "2023-10-07T10:04:56.347Z"
   },
   {
    "duration": 256,
    "start_time": "2023-10-07T10:04:56.363Z"
   },
   {
    "duration": 42,
    "start_time": "2023-10-07T10:04:56.620Z"
   },
   {
    "duration": 549,
    "start_time": "2023-10-07T10:04:56.663Z"
   },
   {
    "duration": 43,
    "start_time": "2023-10-07T10:04:57.213Z"
   },
   {
    "duration": 543,
    "start_time": "2023-10-07T10:04:57.257Z"
   },
   {
    "duration": 43,
    "start_time": "2023-10-07T10:04:57.802Z"
   },
   {
    "duration": 573,
    "start_time": "2023-10-07T10:04:57.846Z"
   },
   {
    "duration": 11,
    "start_time": "2023-10-07T10:04:58.420Z"
   },
   {
    "duration": 16,
    "start_time": "2023-10-07T10:04:58.443Z"
   },
   {
    "duration": 5,
    "start_time": "2023-10-07T10:27:21.618Z"
   },
   {
    "duration": 3,
    "start_time": "2023-10-07T10:27:32.326Z"
   },
   {
    "duration": 112,
    "start_time": "2023-10-07T10:27:32.333Z"
   },
   {
    "duration": 14,
    "start_time": "2023-10-07T10:27:32.446Z"
   },
   {
    "duration": 29,
    "start_time": "2023-10-07T10:27:32.461Z"
   },
   {
    "duration": 14,
    "start_time": "2023-10-07T10:27:32.492Z"
   },
   {
    "duration": 36,
    "start_time": "2023-10-07T10:27:32.507Z"
   },
   {
    "duration": 248,
    "start_time": "2023-10-07T10:27:32.545Z"
   },
   {
    "duration": 23,
    "start_time": "2023-10-07T10:27:32.794Z"
   },
   {
    "duration": 23,
    "start_time": "2023-10-07T10:27:32.819Z"
   },
   {
    "duration": 12,
    "start_time": "2023-10-07T10:27:32.844Z"
   },
   {
    "duration": 20,
    "start_time": "2023-10-07T10:27:32.858Z"
   },
   {
    "duration": 29,
    "start_time": "2023-10-07T10:27:32.879Z"
   },
   {
    "duration": 31,
    "start_time": "2023-10-07T10:27:32.909Z"
   },
   {
    "duration": 25,
    "start_time": "2023-10-07T10:27:32.942Z"
   },
   {
    "duration": 22,
    "start_time": "2023-10-07T10:27:32.969Z"
   },
   {
    "duration": 14,
    "start_time": "2023-10-07T10:27:32.993Z"
   },
   {
    "duration": 12,
    "start_time": "2023-10-07T10:27:33.009Z"
   },
   {
    "duration": 598,
    "start_time": "2023-10-07T10:27:33.023Z"
   },
   {
    "duration": 28,
    "start_time": "2023-10-07T10:27:33.623Z"
   },
   {
    "duration": 23,
    "start_time": "2023-10-07T10:27:33.653Z"
   },
   {
    "duration": 4068,
    "start_time": "2023-10-07T10:27:33.678Z"
   },
   {
    "duration": 20,
    "start_time": "2023-10-07T10:27:37.748Z"
   },
   {
    "duration": 23,
    "start_time": "2023-10-07T10:27:37.770Z"
   },
   {
    "duration": 16,
    "start_time": "2023-10-07T10:27:37.794Z"
   },
   {
    "duration": 1600,
    "start_time": "2023-10-07T10:27:37.811Z"
   },
   {
    "duration": 257,
    "start_time": "2023-10-07T10:27:39.413Z"
   },
   {
    "duration": 26,
    "start_time": "2023-10-07T10:27:39.672Z"
   },
   {
    "duration": 729,
    "start_time": "2023-10-07T10:27:39.700Z"
   },
   {
    "duration": 20,
    "start_time": "2023-10-07T10:27:40.433Z"
   },
   {
    "duration": 632,
    "start_time": "2023-10-07T10:27:40.455Z"
   },
   {
    "duration": 611,
    "start_time": "2023-10-07T10:27:41.088Z"
   },
   {
    "duration": 706,
    "start_time": "2023-10-07T10:27:41.700Z"
   },
   {
    "duration": 615,
    "start_time": "2023-10-07T10:27:42.408Z"
   },
   {
    "duration": 621,
    "start_time": "2023-10-07T10:27:43.024Z"
   },
   {
    "duration": 16,
    "start_time": "2023-10-07T10:27:43.647Z"
   },
   {
    "duration": 275,
    "start_time": "2023-10-07T10:27:43.665Z"
   },
   {
    "duration": 34,
    "start_time": "2023-10-07T10:27:43.944Z"
   },
   {
    "duration": 615,
    "start_time": "2023-10-07T10:27:43.980Z"
   },
   {
    "duration": 55,
    "start_time": "2023-10-07T10:27:44.597Z"
   },
   {
    "duration": 567,
    "start_time": "2023-10-07T10:27:44.654Z"
   },
   {
    "duration": 37,
    "start_time": "2023-10-07T10:27:45.223Z"
   },
   {
    "duration": 530,
    "start_time": "2023-10-07T10:27:45.262Z"
   },
   {
    "duration": 11,
    "start_time": "2023-10-07T10:27:45.793Z"
   },
   {
    "duration": 67,
    "start_time": "2023-10-07T10:27:45.805Z"
   },
   {
    "duration": 15,
    "start_time": "2023-10-07T10:35:23.055Z"
   },
   {
    "duration": 2,
    "start_time": "2023-10-07T10:35:25.946Z"
   },
   {
    "duration": 100,
    "start_time": "2023-10-07T10:35:25.950Z"
   },
   {
    "duration": 16,
    "start_time": "2023-10-07T10:35:26.052Z"
   },
   {
    "duration": 41,
    "start_time": "2023-10-07T10:35:26.070Z"
   },
   {
    "duration": 46,
    "start_time": "2023-10-07T10:35:26.113Z"
   },
   {
    "duration": 30,
    "start_time": "2023-10-07T10:35:26.160Z"
   },
   {
    "duration": 43,
    "start_time": "2023-10-07T10:35:26.192Z"
   },
   {
    "duration": 18,
    "start_time": "2023-10-07T10:35:26.237Z"
   },
   {
    "duration": 8,
    "start_time": "2023-10-07T10:35:26.256Z"
   },
   {
    "duration": 13,
    "start_time": "2023-10-07T10:35:26.266Z"
   },
   {
    "duration": 15,
    "start_time": "2023-10-07T10:35:26.281Z"
   },
   {
    "duration": 19,
    "start_time": "2023-10-07T10:35:26.297Z"
   },
   {
    "duration": 15,
    "start_time": "2023-10-07T10:35:26.318Z"
   },
   {
    "duration": 46,
    "start_time": "2023-10-07T10:35:26.335Z"
   },
   {
    "duration": 11,
    "start_time": "2023-10-07T10:35:26.383Z"
   },
   {
    "duration": 32,
    "start_time": "2023-10-07T10:35:26.396Z"
   },
   {
    "duration": 24,
    "start_time": "2023-10-07T10:35:26.430Z"
   },
   {
    "duration": 14,
    "start_time": "2023-10-07T10:35:26.456Z"
   },
   {
    "duration": 609,
    "start_time": "2023-10-07T10:35:26.472Z"
   },
   {
    "duration": 15,
    "start_time": "2023-10-07T10:35:27.083Z"
   },
   {
    "duration": 22,
    "start_time": "2023-10-07T10:35:27.100Z"
   },
   {
    "duration": 3027,
    "start_time": "2023-10-07T10:35:27.123Z"
   },
   {
    "duration": 24,
    "start_time": "2023-10-07T10:35:30.151Z"
   },
   {
    "duration": 35,
    "start_time": "2023-10-07T10:35:30.176Z"
   },
   {
    "duration": 47,
    "start_time": "2023-10-07T10:35:30.212Z"
   },
   {
    "duration": 2521,
    "start_time": "2023-10-07T10:35:30.261Z"
   },
   {
    "duration": 370,
    "start_time": "2023-10-07T10:35:32.784Z"
   },
   {
    "duration": 24,
    "start_time": "2023-10-07T10:35:33.155Z"
   },
   {
    "duration": 629,
    "start_time": "2023-10-07T10:35:33.182Z"
   },
   {
    "duration": 16,
    "start_time": "2023-10-07T10:35:33.813Z"
   },
   {
    "duration": 665,
    "start_time": "2023-10-07T10:35:33.830Z"
   },
   {
    "duration": 748,
    "start_time": "2023-10-07T10:35:34.497Z"
   },
   {
    "duration": 643,
    "start_time": "2023-10-07T10:35:35.247Z"
   },
   {
    "duration": 593,
    "start_time": "2023-10-07T10:35:35.891Z"
   },
   {
    "duration": 711,
    "start_time": "2023-10-07T10:35:36.486Z"
   },
   {
    "duration": 14,
    "start_time": "2023-10-07T10:35:37.199Z"
   },
   {
    "duration": 252,
    "start_time": "2023-10-07T10:35:37.214Z"
   },
   {
    "duration": 32,
    "start_time": "2023-10-07T10:35:37.468Z"
   },
   {
    "duration": 489,
    "start_time": "2023-10-07T10:35:37.501Z"
   },
   {
    "duration": 33,
    "start_time": "2023-10-07T10:35:37.991Z"
   },
   {
    "duration": 528,
    "start_time": "2023-10-07T10:35:38.025Z"
   },
   {
    "duration": 33,
    "start_time": "2023-10-07T10:35:38.554Z"
   },
   {
    "duration": 511,
    "start_time": "2023-10-07T10:35:38.589Z"
   },
   {
    "duration": 9,
    "start_time": "2023-10-07T10:35:39.102Z"
   },
   {
    "duration": 16,
    "start_time": "2023-10-07T10:35:39.112Z"
   },
   {
    "duration": 20,
    "start_time": "2023-10-07T10:39:11.244Z"
   },
   {
    "duration": 15,
    "start_time": "2023-10-07T10:39:26.414Z"
   },
   {
    "duration": 6,
    "start_time": "2023-10-07T10:39:48.823Z"
   },
   {
    "duration": 14,
    "start_time": "2023-10-07T10:41:07.805Z"
   },
   {
    "duration": 17,
    "start_time": "2023-10-07T10:41:41.750Z"
   },
   {
    "duration": 18,
    "start_time": "2023-10-07T10:41:52.789Z"
   },
   {
    "duration": 27,
    "start_time": "2023-10-07T10:48:11.716Z"
   },
   {
    "duration": 17,
    "start_time": "2023-10-07T10:48:16.682Z"
   },
   {
    "duration": 26,
    "start_time": "2023-10-07T10:48:17.789Z"
   },
   {
    "duration": 36,
    "start_time": "2023-10-07T10:48:26.467Z"
   },
   {
    "duration": 20,
    "start_time": "2023-10-07T10:49:46.811Z"
   },
   {
    "duration": 3,
    "start_time": "2023-10-07T10:49:50.164Z"
   },
   {
    "duration": 107,
    "start_time": "2023-10-07T10:49:50.170Z"
   },
   {
    "duration": 15,
    "start_time": "2023-10-07T10:49:50.279Z"
   },
   {
    "duration": 35,
    "start_time": "2023-10-07T10:49:50.295Z"
   },
   {
    "duration": 29,
    "start_time": "2023-10-07T10:49:50.343Z"
   },
   {
    "duration": 31,
    "start_time": "2023-10-07T10:49:50.373Z"
   },
   {
    "duration": 47,
    "start_time": "2023-10-07T10:49:50.405Z"
   },
   {
    "duration": 11,
    "start_time": "2023-10-07T10:49:50.454Z"
   },
   {
    "duration": 19,
    "start_time": "2023-10-07T10:49:50.467Z"
   },
   {
    "duration": 20,
    "start_time": "2023-10-07T10:49:50.487Z"
   },
   {
    "duration": 46,
    "start_time": "2023-10-07T10:49:50.510Z"
   },
   {
    "duration": 29,
    "start_time": "2023-10-07T10:49:50.558Z"
   },
   {
    "duration": 33,
    "start_time": "2023-10-07T10:49:50.589Z"
   },
   {
    "duration": 57,
    "start_time": "2023-10-07T10:49:50.624Z"
   },
   {
    "duration": 16,
    "start_time": "2023-10-07T10:49:50.683Z"
   },
   {
    "duration": 46,
    "start_time": "2023-10-07T10:49:50.701Z"
   },
   {
    "duration": 46,
    "start_time": "2023-10-07T10:49:50.749Z"
   },
   {
    "duration": 32,
    "start_time": "2023-10-07T10:49:50.797Z"
   },
   {
    "duration": 39,
    "start_time": "2023-10-07T10:49:50.830Z"
   },
   {
    "duration": 691,
    "start_time": "2023-10-07T10:49:50.871Z"
   },
   {
    "duration": 17,
    "start_time": "2023-10-07T10:49:51.564Z"
   },
   {
    "duration": 60,
    "start_time": "2023-10-07T10:49:51.582Z"
   },
   {
    "duration": 4729,
    "start_time": "2023-10-07T10:49:51.645Z"
   },
   {
    "duration": 26,
    "start_time": "2023-10-07T10:49:56.376Z"
   },
   {
    "duration": 40,
    "start_time": "2023-10-07T10:49:56.405Z"
   },
   {
    "duration": 49,
    "start_time": "2023-10-07T10:49:56.447Z"
   },
   {
    "duration": 1877,
    "start_time": "2023-10-07T10:49:56.497Z"
   },
   {
    "duration": 259,
    "start_time": "2023-10-07T10:49:58.375Z"
   },
   {
    "duration": 41,
    "start_time": "2023-10-07T10:49:58.643Z"
   },
   {
    "duration": 690,
    "start_time": "2023-10-07T10:49:58.686Z"
   },
   {
    "duration": 12,
    "start_time": "2023-10-07T10:49:59.378Z"
   },
   {
    "duration": 756,
    "start_time": "2023-10-07T10:49:59.391Z"
   },
   {
    "duration": 652,
    "start_time": "2023-10-07T10:50:00.148Z"
   },
   {
    "duration": 645,
    "start_time": "2023-10-07T10:50:00.801Z"
   },
   {
    "duration": 733,
    "start_time": "2023-10-07T10:50:01.448Z"
   },
   {
    "duration": 699,
    "start_time": "2023-10-07T10:50:02.183Z"
   },
   {
    "duration": 16,
    "start_time": "2023-10-07T10:50:02.883Z"
   },
   {
    "duration": 312,
    "start_time": "2023-10-07T10:50:02.901Z"
   },
   {
    "duration": 44,
    "start_time": "2023-10-07T10:50:03.215Z"
   },
   {
    "duration": 589,
    "start_time": "2023-10-07T10:50:03.261Z"
   },
   {
    "duration": 39,
    "start_time": "2023-10-07T10:50:03.852Z"
   },
   {
    "duration": 677,
    "start_time": "2023-10-07T10:50:03.893Z"
   },
   {
    "duration": 46,
    "start_time": "2023-10-07T10:50:04.572Z"
   },
   {
    "duration": 586,
    "start_time": "2023-10-07T10:50:04.620Z"
   },
   {
    "duration": 12,
    "start_time": "2023-10-07T10:50:05.208Z"
   },
   {
    "duration": 55,
    "start_time": "2023-10-07T10:50:05.221Z"
   },
   {
    "duration": 8,
    "start_time": "2023-10-07T10:56:49.706Z"
   },
   {
    "duration": 11,
    "start_time": "2023-10-07T10:57:05.376Z"
   },
   {
    "duration": 38,
    "start_time": "2023-10-07T11:01:04.498Z"
   },
   {
    "duration": 21,
    "start_time": "2023-10-07T11:01:13.137Z"
   },
   {
    "duration": 1572,
    "start_time": "2023-10-07T11:02:29.358Z"
   },
   {
    "duration": 15,
    "start_time": "2023-10-07T11:03:26.147Z"
   },
   {
    "duration": 433,
    "start_time": "2023-10-07T11:03:57.887Z"
   },
   {
    "duration": 10,
    "start_time": "2023-10-07T11:04:22.358Z"
   },
   {
    "duration": 1296,
    "start_time": "2023-10-07T11:06:42.051Z"
   },
   {
    "duration": 966,
    "start_time": "2023-10-07T11:06:56.412Z"
   },
   {
    "duration": 1414,
    "start_time": "2023-10-07T11:07:05.570Z"
   },
   {
    "duration": 16,
    "start_time": "2023-10-07T11:07:48.805Z"
   },
   {
    "duration": 1389,
    "start_time": "2023-10-07T11:08:27.918Z"
   },
   {
    "duration": 21,
    "start_time": "2023-10-07T11:09:12.022Z"
   },
   {
    "duration": 28,
    "start_time": "2023-10-07T11:09:57.544Z"
   },
   {
    "duration": 16,
    "start_time": "2023-10-07T11:10:00.801Z"
   },
   {
    "duration": 11,
    "start_time": "2023-10-07T11:10:01.183Z"
   },
   {
    "duration": 18,
    "start_time": "2023-10-07T11:10:21.641Z"
   },
   {
    "duration": 12,
    "start_time": "2023-10-07T11:10:28.959Z"
   },
   {
    "duration": 16,
    "start_time": "2023-10-07T11:10:44.362Z"
   },
   {
    "duration": 21,
    "start_time": "2023-10-07T11:10:54.180Z"
   },
   {
    "duration": 17,
    "start_time": "2023-10-07T11:11:00.801Z"
   },
   {
    "duration": 19,
    "start_time": "2023-10-07T11:11:04.743Z"
   },
   {
    "duration": 5,
    "start_time": "2023-10-07T11:13:26.059Z"
   },
   {
    "duration": 1320,
    "start_time": "2023-10-07T11:14:26.332Z"
   },
   {
    "duration": 21,
    "start_time": "2023-10-07T11:14:34.987Z"
   },
   {
    "duration": 5,
    "start_time": "2023-10-07T11:15:14.499Z"
   },
   {
    "duration": 3,
    "start_time": "2023-10-07T11:15:31.849Z"
   },
   {
    "duration": 1454,
    "start_time": "2023-10-07T11:15:41.541Z"
   },
   {
    "duration": 1341,
    "start_time": "2023-10-07T11:16:40.291Z"
   },
   {
    "duration": 9,
    "start_time": "2023-10-07T11:17:30.022Z"
   },
   {
    "duration": 4,
    "start_time": "2023-10-07T11:18:19.326Z"
   },
   {
    "duration": 13,
    "start_time": "2023-10-07T11:18:55.911Z"
   },
   {
    "duration": 14,
    "start_time": "2023-10-07T11:18:58.072Z"
   },
   {
    "duration": 21,
    "start_time": "2023-10-07T11:18:59.249Z"
   },
   {
    "duration": 4,
    "start_time": "2023-10-07T11:19:03.671Z"
   },
   {
    "duration": 120,
    "start_time": "2023-10-07T11:19:03.677Z"
   },
   {
    "duration": 23,
    "start_time": "2023-10-07T11:19:03.800Z"
   },
   {
    "duration": 27,
    "start_time": "2023-10-07T11:19:03.847Z"
   },
   {
    "duration": 22,
    "start_time": "2023-10-07T11:19:03.878Z"
   },
   {
    "duration": 16,
    "start_time": "2023-10-07T11:19:03.902Z"
   },
   {
    "duration": 29,
    "start_time": "2023-10-07T11:19:03.920Z"
   },
   {
    "duration": 10,
    "start_time": "2023-10-07T11:19:03.952Z"
   },
   {
    "duration": 26,
    "start_time": "2023-10-07T11:19:03.965Z"
   },
   {
    "duration": 28,
    "start_time": "2023-10-07T11:19:03.994Z"
   },
   {
    "duration": 21,
    "start_time": "2023-10-07T11:19:04.026Z"
   },
   {
    "duration": 22,
    "start_time": "2023-10-07T11:19:04.049Z"
   },
   {
    "duration": 32,
    "start_time": "2023-10-07T11:19:04.072Z"
   },
   {
    "duration": 43,
    "start_time": "2023-10-07T11:19:04.106Z"
   },
   {
    "duration": 17,
    "start_time": "2023-10-07T11:19:04.151Z"
   },
   {
    "duration": 39,
    "start_time": "2023-10-07T11:19:04.170Z"
   },
   {
    "duration": 18,
    "start_time": "2023-10-07T11:19:04.211Z"
   },
   {
    "duration": 44,
    "start_time": "2023-10-07T11:19:04.231Z"
   },
   {
    "duration": 16,
    "start_time": "2023-10-07T11:19:04.277Z"
   },
   {
    "duration": 18,
    "start_time": "2023-10-07T11:19:04.295Z"
   },
   {
    "duration": 757,
    "start_time": "2023-10-07T11:19:04.315Z"
   },
   {
    "duration": 24,
    "start_time": "2023-10-07T11:19:05.074Z"
   },
   {
    "duration": 32,
    "start_time": "2023-10-07T11:19:05.100Z"
   },
   {
    "duration": 4040,
    "start_time": "2023-10-07T11:19:05.134Z"
   },
   {
    "duration": 78,
    "start_time": "2023-10-07T11:19:09.175Z"
   },
   {
    "duration": 25,
    "start_time": "2023-10-07T11:19:09.255Z"
   },
   {
    "duration": 63,
    "start_time": "2023-10-07T11:19:09.282Z"
   },
   {
    "duration": 1878,
    "start_time": "2023-10-07T11:19:09.348Z"
   },
   {
    "duration": 265,
    "start_time": "2023-10-07T11:19:11.230Z"
   },
   {
    "duration": 25,
    "start_time": "2023-10-07T11:19:11.497Z"
   },
   {
    "duration": 774,
    "start_time": "2023-10-07T11:19:11.524Z"
   },
   {
    "duration": 13,
    "start_time": "2023-10-07T11:19:12.300Z"
   },
   {
    "duration": 667,
    "start_time": "2023-10-07T11:19:12.314Z"
   },
   {
    "duration": 732,
    "start_time": "2023-10-07T11:19:12.983Z"
   },
   {
    "duration": 1207,
    "start_time": "2023-10-07T11:19:13.718Z"
   },
   {
    "duration": 673,
    "start_time": "2023-10-07T11:19:14.928Z"
   },
   {
    "duration": 802,
    "start_time": "2023-10-07T11:19:15.603Z"
   },
   {
    "duration": 22,
    "start_time": "2023-10-07T11:19:16.408Z"
   },
   {
    "duration": 471,
    "start_time": "2023-10-07T11:19:16.445Z"
   },
   {
    "duration": 58,
    "start_time": "2023-10-07T11:19:16.918Z"
   },
   {
    "duration": 646,
    "start_time": "2023-10-07T11:19:16.978Z"
   },
   {
    "duration": 46,
    "start_time": "2023-10-07T11:19:17.626Z"
   },
   {
    "duration": 599,
    "start_time": "2023-10-07T11:19:17.674Z"
   },
   {
    "duration": 45,
    "start_time": "2023-10-07T11:19:18.276Z"
   },
   {
    "duration": 531,
    "start_time": "2023-10-07T11:19:18.344Z"
   },
   {
    "duration": 15,
    "start_time": "2023-10-07T11:19:18.877Z"
   },
   {
    "duration": 69,
    "start_time": "2023-10-07T11:19:18.894Z"
   },
   {
    "duration": 9,
    "start_time": "2023-10-07T11:21:04.918Z"
   },
   {
    "duration": 20,
    "start_time": "2023-10-07T11:21:15.090Z"
   },
   {
    "duration": 14,
    "start_time": "2023-10-07T11:21:18.344Z"
   },
   {
    "duration": 21,
    "start_time": "2023-10-07T11:21:18.703Z"
   },
   {
    "duration": 3,
    "start_time": "2023-10-07T11:22:27.900Z"
   },
   {
    "duration": 98,
    "start_time": "2023-10-07T11:22:27.905Z"
   },
   {
    "duration": 13,
    "start_time": "2023-10-07T11:22:28.005Z"
   },
   {
    "duration": 34,
    "start_time": "2023-10-07T11:22:28.020Z"
   },
   {
    "duration": 23,
    "start_time": "2023-10-07T11:22:28.057Z"
   },
   {
    "duration": 38,
    "start_time": "2023-10-07T11:22:28.081Z"
   },
   {
    "duration": 49,
    "start_time": "2023-10-07T11:22:28.121Z"
   },
   {
    "duration": 23,
    "start_time": "2023-10-07T11:22:28.171Z"
   },
   {
    "duration": 7,
    "start_time": "2023-10-07T11:22:28.196Z"
   },
   {
    "duration": 29,
    "start_time": "2023-10-07T11:22:28.205Z"
   },
   {
    "duration": 27,
    "start_time": "2023-10-07T11:22:28.238Z"
   },
   {
    "duration": 39,
    "start_time": "2023-10-07T11:22:28.266Z"
   },
   {
    "duration": 48,
    "start_time": "2023-10-07T11:22:28.306Z"
   },
   {
    "duration": 48,
    "start_time": "2023-10-07T11:22:28.356Z"
   },
   {
    "duration": 18,
    "start_time": "2023-10-07T11:22:28.406Z"
   },
   {
    "duration": 43,
    "start_time": "2023-10-07T11:22:28.426Z"
   },
   {
    "duration": 24,
    "start_time": "2023-10-07T11:22:28.470Z"
   },
   {
    "duration": 42,
    "start_time": "2023-10-07T11:22:28.496Z"
   },
   {
    "duration": 84,
    "start_time": "2023-10-07T11:22:28.540Z"
   },
   {
    "duration": 0,
    "start_time": "2023-10-07T11:22:28.626Z"
   },
   {
    "duration": 0,
    "start_time": "2023-10-07T11:22:28.628Z"
   },
   {
    "duration": 0,
    "start_time": "2023-10-07T11:22:28.630Z"
   },
   {
    "duration": 0,
    "start_time": "2023-10-07T11:22:28.631Z"
   },
   {
    "duration": 0,
    "start_time": "2023-10-07T11:22:28.632Z"
   },
   {
    "duration": 0,
    "start_time": "2023-10-07T11:22:28.634Z"
   },
   {
    "duration": 0,
    "start_time": "2023-10-07T11:22:28.636Z"
   },
   {
    "duration": 0,
    "start_time": "2023-10-07T11:22:28.637Z"
   },
   {
    "duration": 0,
    "start_time": "2023-10-07T11:22:28.638Z"
   },
   {
    "duration": 0,
    "start_time": "2023-10-07T11:22:28.640Z"
   },
   {
    "duration": 0,
    "start_time": "2023-10-07T11:22:28.641Z"
   },
   {
    "duration": 0,
    "start_time": "2023-10-07T11:22:28.643Z"
   },
   {
    "duration": 0,
    "start_time": "2023-10-07T11:22:28.644Z"
   },
   {
    "duration": 1,
    "start_time": "2023-10-07T11:22:28.645Z"
   },
   {
    "duration": 0,
    "start_time": "2023-10-07T11:22:28.646Z"
   },
   {
    "duration": 0,
    "start_time": "2023-10-07T11:22:28.647Z"
   },
   {
    "duration": 0,
    "start_time": "2023-10-07T11:22:28.648Z"
   },
   {
    "duration": 0,
    "start_time": "2023-10-07T11:22:28.649Z"
   },
   {
    "duration": 0,
    "start_time": "2023-10-07T11:22:28.653Z"
   },
   {
    "duration": 0,
    "start_time": "2023-10-07T11:22:28.654Z"
   },
   {
    "duration": 0,
    "start_time": "2023-10-07T11:22:28.656Z"
   },
   {
    "duration": 0,
    "start_time": "2023-10-07T11:22:28.657Z"
   },
   {
    "duration": 0,
    "start_time": "2023-10-07T11:22:28.658Z"
   },
   {
    "duration": 0,
    "start_time": "2023-10-07T11:22:28.659Z"
   },
   {
    "duration": 0,
    "start_time": "2023-10-07T11:22:28.660Z"
   },
   {
    "duration": 0,
    "start_time": "2023-10-07T11:22:28.662Z"
   },
   {
    "duration": 0,
    "start_time": "2023-10-07T11:22:28.663Z"
   },
   {
    "duration": 0,
    "start_time": "2023-10-07T11:22:28.664Z"
   },
   {
    "duration": 86,
    "start_time": "2023-10-07T11:22:57.478Z"
   },
   {
    "duration": 28,
    "start_time": "2023-10-07T11:23:04.441Z"
   },
   {
    "duration": 371,
    "start_time": "2023-10-07T11:23:40.213Z"
   },
   {
    "duration": 23,
    "start_time": "2023-10-07T11:23:56.955Z"
   },
   {
    "duration": 28,
    "start_time": "2023-10-07T11:24:30.041Z"
   },
   {
    "duration": 4,
    "start_time": "2023-10-07T11:27:02.111Z"
   },
   {
    "duration": 254,
    "start_time": "2023-10-07T11:27:02.116Z"
   },
   {
    "duration": 15,
    "start_time": "2023-10-07T11:27:02.372Z"
   },
   {
    "duration": 128,
    "start_time": "2023-10-07T11:27:02.389Z"
   },
   {
    "duration": 191,
    "start_time": "2023-10-07T11:27:02.519Z"
   },
   {
    "duration": 73,
    "start_time": "2023-10-07T11:27:02.713Z"
   },
   {
    "duration": 99,
    "start_time": "2023-10-07T11:27:02.788Z"
   },
   {
    "duration": 46,
    "start_time": "2023-10-07T11:27:02.889Z"
   },
   {
    "duration": 54,
    "start_time": "2023-10-07T11:27:02.936Z"
   },
   {
    "duration": 45,
    "start_time": "2023-10-07T11:27:02.992Z"
   },
   {
    "duration": 48,
    "start_time": "2023-10-07T11:27:03.039Z"
   },
   {
    "duration": 47,
    "start_time": "2023-10-07T11:27:03.089Z"
   },
   {
    "duration": 50,
    "start_time": "2023-10-07T11:27:03.137Z"
   },
   {
    "duration": 62,
    "start_time": "2023-10-07T11:27:03.188Z"
   },
   {
    "duration": 25,
    "start_time": "2023-10-07T11:27:03.254Z"
   },
   {
    "duration": 77,
    "start_time": "2023-10-07T11:27:03.280Z"
   },
   {
    "duration": 18,
    "start_time": "2023-10-07T11:27:03.359Z"
   },
   {
    "duration": 17,
    "start_time": "2023-10-07T11:27:03.379Z"
   },
   {
    "duration": 46,
    "start_time": "2023-10-07T11:27:03.397Z"
   },
   {
    "duration": 21,
    "start_time": "2023-10-07T11:27:03.448Z"
   },
   {
    "duration": 34,
    "start_time": "2023-10-07T11:27:03.471Z"
   },
   {
    "duration": 700,
    "start_time": "2023-10-07T11:27:03.506Z"
   },
   {
    "duration": 18,
    "start_time": "2023-10-07T11:27:04.208Z"
   },
   {
    "duration": 31,
    "start_time": "2023-10-07T11:27:04.228Z"
   },
   {
    "duration": 4601,
    "start_time": "2023-10-07T11:27:04.262Z"
   },
   {
    "duration": 23,
    "start_time": "2023-10-07T11:27:08.865Z"
   },
   {
    "duration": 24,
    "start_time": "2023-10-07T11:27:08.889Z"
   },
   {
    "duration": 55,
    "start_time": "2023-10-07T11:27:08.915Z"
   },
   {
    "duration": 1928,
    "start_time": "2023-10-07T11:27:08.974Z"
   },
   {
    "duration": 283,
    "start_time": "2023-10-07T11:27:10.904Z"
   },
   {
    "duration": 26,
    "start_time": "2023-10-07T11:27:11.190Z"
   },
   {
    "duration": 691,
    "start_time": "2023-10-07T11:27:11.218Z"
   },
   {
    "duration": 11,
    "start_time": "2023-10-07T11:27:11.911Z"
   },
   {
    "duration": 746,
    "start_time": "2023-10-07T11:27:11.924Z"
   },
   {
    "duration": 935,
    "start_time": "2023-10-07T11:27:12.672Z"
   },
   {
    "duration": 939,
    "start_time": "2023-10-07T11:27:13.609Z"
   },
   {
    "duration": 783,
    "start_time": "2023-10-07T11:27:14.551Z"
   },
   {
    "duration": 710,
    "start_time": "2023-10-07T11:27:15.335Z"
   },
   {
    "duration": 21,
    "start_time": "2023-10-07T11:27:16.047Z"
   },
   {
    "duration": 289,
    "start_time": "2023-10-07T11:27:16.069Z"
   },
   {
    "duration": 36,
    "start_time": "2023-10-07T11:27:16.362Z"
   },
   {
    "duration": 516,
    "start_time": "2023-10-07T11:27:16.400Z"
   },
   {
    "duration": 47,
    "start_time": "2023-10-07T11:27:16.918Z"
   },
   {
    "duration": 575,
    "start_time": "2023-10-07T11:27:16.967Z"
   },
   {
    "duration": 36,
    "start_time": "2023-10-07T11:27:17.545Z"
   },
   {
    "duration": 637,
    "start_time": "2023-10-07T11:27:17.583Z"
   },
   {
    "duration": 10,
    "start_time": "2023-10-07T11:27:18.222Z"
   },
   {
    "duration": 35,
    "start_time": "2023-10-07T11:27:18.244Z"
   },
   {
    "duration": 245,
    "start_time": "2023-10-07T11:36:17.470Z"
   },
   {
    "duration": 279,
    "start_time": "2023-10-07T11:36:24.191Z"
   },
   {
    "duration": 238,
    "start_time": "2023-10-07T11:38:29.895Z"
   },
   {
    "duration": 218,
    "start_time": "2023-10-07T11:38:38.288Z"
   },
   {
    "duration": 223,
    "start_time": "2023-10-07T11:48:16.951Z"
   },
   {
    "duration": 3,
    "start_time": "2023-10-07T11:48:37.185Z"
   },
   {
    "duration": 85,
    "start_time": "2023-10-07T11:48:37.190Z"
   },
   {
    "duration": 13,
    "start_time": "2023-10-07T11:48:37.276Z"
   },
   {
    "duration": 37,
    "start_time": "2023-10-07T11:48:37.291Z"
   },
   {
    "duration": 30,
    "start_time": "2023-10-07T11:48:37.331Z"
   },
   {
    "duration": 33,
    "start_time": "2023-10-07T11:48:37.363Z"
   },
   {
    "duration": 18,
    "start_time": "2023-10-07T11:48:37.398Z"
   },
   {
    "duration": 24,
    "start_time": "2023-10-07T11:48:37.418Z"
   },
   {
    "duration": 17,
    "start_time": "2023-10-07T11:48:37.444Z"
   },
   {
    "duration": 44,
    "start_time": "2023-10-07T11:48:37.463Z"
   },
   {
    "duration": 23,
    "start_time": "2023-10-07T11:48:37.509Z"
   },
   {
    "duration": 21,
    "start_time": "2023-10-07T11:48:37.534Z"
   },
   {
    "duration": 21,
    "start_time": "2023-10-07T11:48:37.557Z"
   },
   {
    "duration": 63,
    "start_time": "2023-10-07T11:48:37.581Z"
   },
   {
    "duration": 14,
    "start_time": "2023-10-07T11:48:37.647Z"
   },
   {
    "duration": 16,
    "start_time": "2023-10-07T11:48:37.664Z"
   },
   {
    "duration": 16,
    "start_time": "2023-10-07T11:48:37.681Z"
   },
   {
    "duration": 33,
    "start_time": "2023-10-07T11:48:37.699Z"
   },
   {
    "duration": 36,
    "start_time": "2023-10-07T11:48:37.734Z"
   },
   {
    "duration": 24,
    "start_time": "2023-10-07T11:48:37.771Z"
   },
   {
    "duration": 589,
    "start_time": "2023-10-07T11:48:37.797Z"
   },
   {
    "duration": 16,
    "start_time": "2023-10-07T11:48:38.388Z"
   },
   {
    "duration": 20,
    "start_time": "2023-10-07T11:48:38.406Z"
   },
   {
    "duration": 4017,
    "start_time": "2023-10-07T11:48:38.427Z"
   },
   {
    "duration": 24,
    "start_time": "2023-10-07T11:48:42.446Z"
   },
   {
    "duration": 75,
    "start_time": "2023-10-07T11:48:42.471Z"
   },
   {
    "duration": 8,
    "start_time": "2023-10-07T11:48:42.549Z"
   },
   {
    "duration": 2612,
    "start_time": "2023-10-07T11:48:42.558Z"
   },
   {
    "duration": 472,
    "start_time": "2023-10-07T11:48:45.172Z"
   },
   {
    "duration": 219,
    "start_time": "2023-10-07T11:48:45.646Z"
   },
   {
    "duration": 27,
    "start_time": "2023-10-07T11:48:45.867Z"
   },
   {
    "duration": 633,
    "start_time": "2023-10-07T11:48:45.896Z"
   },
   {
    "duration": 19,
    "start_time": "2023-10-07T11:48:46.531Z"
   },
   {
    "duration": 694,
    "start_time": "2023-10-07T11:48:46.552Z"
   },
   {
    "duration": 720,
    "start_time": "2023-10-07T11:48:47.248Z"
   },
   {
    "duration": 618,
    "start_time": "2023-10-07T11:48:47.970Z"
   },
   {
    "duration": 965,
    "start_time": "2023-10-07T11:48:48.590Z"
   },
   {
    "duration": 1369,
    "start_time": "2023-10-07T11:48:49.557Z"
   },
   {
    "duration": 25,
    "start_time": "2023-10-07T11:48:50.928Z"
   },
   {
    "duration": 249,
    "start_time": "2023-10-07T11:48:50.955Z"
   },
   {
    "duration": 56,
    "start_time": "2023-10-07T11:48:51.208Z"
   },
   {
    "duration": 529,
    "start_time": "2023-10-07T11:48:51.265Z"
   },
   {
    "duration": 49,
    "start_time": "2023-10-07T11:48:51.796Z"
   },
   {
    "duration": 558,
    "start_time": "2023-10-07T11:48:51.846Z"
   },
   {
    "duration": 47,
    "start_time": "2023-10-07T11:48:52.405Z"
   },
   {
    "duration": 546,
    "start_time": "2023-10-07T11:48:52.454Z"
   },
   {
    "duration": 11,
    "start_time": "2023-10-07T11:48:53.002Z"
   },
   {
    "duration": 37,
    "start_time": "2023-10-07T11:48:53.015Z"
   },
   {
    "duration": 400,
    "start_time": "2023-10-07T12:12:18.372Z"
   },
   {
    "duration": 344,
    "start_time": "2023-10-07T12:12:51.711Z"
   },
   {
    "duration": 320,
    "start_time": "2023-10-07T12:19:19.552Z"
   },
   {
    "duration": 15,
    "start_time": "2023-10-07T12:20:10.727Z"
   },
   {
    "duration": 355,
    "start_time": "2023-10-07T12:24:33.741Z"
   },
   {
    "duration": 305,
    "start_time": "2023-10-07T12:24:53.076Z"
   },
   {
    "duration": 9,
    "start_time": "2023-10-07T12:25:56.319Z"
   },
   {
    "duration": 5,
    "start_time": "2023-10-07T12:26:00.708Z"
   },
   {
    "duration": 376,
    "start_time": "2023-10-07T12:28:06.649Z"
   },
   {
    "duration": 352,
    "start_time": "2023-10-07T12:29:02.844Z"
   },
   {
    "duration": 300,
    "start_time": "2023-10-07T12:29:10.434Z"
   },
   {
    "duration": 300,
    "start_time": "2023-10-07T12:30:02.602Z"
   },
   {
    "duration": 320,
    "start_time": "2023-10-07T12:30:29.843Z"
   },
   {
    "duration": 425,
    "start_time": "2023-10-07T12:31:32.216Z"
   },
   {
    "duration": 290,
    "start_time": "2023-10-07T12:31:45.547Z"
   },
   {
    "duration": 329,
    "start_time": "2023-10-07T12:32:04.476Z"
   },
   {
    "duration": 332,
    "start_time": "2023-10-07T12:32:12.057Z"
   },
   {
    "duration": 295,
    "start_time": "2023-10-07T12:38:16.618Z"
   },
   {
    "duration": 315,
    "start_time": "2023-10-07T12:39:29.276Z"
   },
   {
    "duration": 3,
    "start_time": "2023-10-07T13:22:47.134Z"
   },
   {
    "duration": 137,
    "start_time": "2023-10-07T13:22:47.139Z"
   },
   {
    "duration": 20,
    "start_time": "2023-10-07T13:22:47.279Z"
   },
   {
    "duration": 26,
    "start_time": "2023-10-07T13:22:47.301Z"
   },
   {
    "duration": 150,
    "start_time": "2023-10-07T13:22:47.329Z"
   },
   {
    "duration": 191,
    "start_time": "2023-10-07T13:22:47.481Z"
   },
   {
    "duration": 119,
    "start_time": "2023-10-07T13:22:47.674Z"
   },
   {
    "duration": 45,
    "start_time": "2023-10-07T13:22:47.795Z"
   },
   {
    "duration": 51,
    "start_time": "2023-10-07T13:22:47.842Z"
   },
   {
    "duration": 42,
    "start_time": "2023-10-07T13:22:47.895Z"
   },
   {
    "duration": 12,
    "start_time": "2023-10-07T13:22:48.042Z"
   },
   {
    "duration": 37,
    "start_time": "2023-10-07T13:22:48.055Z"
   },
   {
    "duration": 53,
    "start_time": "2023-10-07T13:22:48.094Z"
   },
   {
    "duration": 58,
    "start_time": "2023-10-07T13:22:48.149Z"
   },
   {
    "duration": 33,
    "start_time": "2023-10-07T13:22:48.209Z"
   },
   {
    "duration": 41,
    "start_time": "2023-10-07T13:22:48.244Z"
   },
   {
    "duration": 14,
    "start_time": "2023-10-07T13:22:48.287Z"
   },
   {
    "duration": 36,
    "start_time": "2023-10-07T13:22:48.303Z"
   },
   {
    "duration": 28,
    "start_time": "2023-10-07T13:22:48.341Z"
   },
   {
    "duration": 18,
    "start_time": "2023-10-07T13:22:48.371Z"
   },
   {
    "duration": 608,
    "start_time": "2023-10-07T13:22:48.390Z"
   },
   {
    "duration": 19,
    "start_time": "2023-10-07T13:22:48.999Z"
   },
   {
    "duration": 25,
    "start_time": "2023-10-07T13:22:49.020Z"
   },
   {
    "duration": 3931,
    "start_time": "2023-10-07T13:22:49.047Z"
   },
   {
    "duration": 32,
    "start_time": "2023-10-07T13:22:52.980Z"
   },
   {
    "duration": 34,
    "start_time": "2023-10-07T13:22:53.014Z"
   },
   {
    "duration": 34,
    "start_time": "2023-10-07T13:22:53.051Z"
   },
   {
    "duration": 1875,
    "start_time": "2023-10-07T13:22:53.087Z"
   },
   {
    "duration": 255,
    "start_time": "2023-10-07T13:22:54.966Z"
   },
   {
    "duration": 225,
    "start_time": "2023-10-07T13:22:55.223Z"
   },
   {
    "duration": 24,
    "start_time": "2023-10-07T13:22:55.450Z"
   },
   {
    "duration": 705,
    "start_time": "2023-10-07T13:22:55.476Z"
   },
   {
    "duration": 13,
    "start_time": "2023-10-07T13:22:56.183Z"
   },
   {
    "duration": 668,
    "start_time": "2023-10-07T13:22:56.198Z"
   },
   {
    "duration": 645,
    "start_time": "2023-10-07T13:22:56.868Z"
   },
   {
    "duration": 736,
    "start_time": "2023-10-07T13:22:57.515Z"
   },
   {
    "duration": 668,
    "start_time": "2023-10-07T13:22:58.253Z"
   },
   {
    "duration": 685,
    "start_time": "2023-10-07T13:22:58.923Z"
   },
   {
    "duration": 16,
    "start_time": "2023-10-07T13:22:59.610Z"
   },
   {
    "duration": 406,
    "start_time": "2023-10-07T13:22:59.643Z"
   },
   {
    "duration": 332,
    "start_time": "2023-10-07T13:23:00.051Z"
   },
   {
    "duration": 38,
    "start_time": "2023-10-07T13:23:00.384Z"
   },
   {
    "duration": 640,
    "start_time": "2023-10-07T13:23:00.424Z"
   },
   {
    "duration": 39,
    "start_time": "2023-10-07T13:23:01.066Z"
   },
   {
    "duration": 856,
    "start_time": "2023-10-07T13:23:01.107Z"
   },
   {
    "duration": 37,
    "start_time": "2023-10-07T13:23:01.965Z"
   },
   {
    "duration": 634,
    "start_time": "2023-10-07T13:23:02.004Z"
   },
   {
    "duration": 11,
    "start_time": "2023-10-07T13:23:02.639Z"
   },
   {
    "duration": 55,
    "start_time": "2023-10-07T13:23:02.652Z"
   },
   {
    "duration": 1017,
    "start_time": "2023-10-07T19:10:19.442Z"
   },
   {
    "duration": 62,
    "start_time": "2023-10-07T19:10:20.461Z"
   },
   {
    "duration": 13,
    "start_time": "2023-10-07T19:10:20.525Z"
   },
   {
    "duration": 16,
    "start_time": "2023-10-07T19:10:20.539Z"
   },
   {
    "duration": 50,
    "start_time": "2023-10-07T19:10:20.557Z"
   },
   {
    "duration": 55,
    "start_time": "2023-10-07T19:10:20.608Z"
   },
   {
    "duration": 15,
    "start_time": "2023-10-07T19:10:20.664Z"
   },
   {
    "duration": 29,
    "start_time": "2023-10-07T19:10:20.680Z"
   },
   {
    "duration": 29,
    "start_time": "2023-10-07T19:10:20.710Z"
   },
   {
    "duration": 16,
    "start_time": "2023-10-07T19:10:20.740Z"
   },
   {
    "duration": 37,
    "start_time": "2023-10-07T19:10:20.757Z"
   },
   {
    "duration": 46,
    "start_time": "2023-10-07T19:10:20.795Z"
   },
   {
    "duration": 10,
    "start_time": "2023-10-07T19:10:20.842Z"
   },
   {
    "duration": 24,
    "start_time": "2023-10-07T19:10:20.854Z"
   },
   {
    "duration": 8,
    "start_time": "2023-10-07T19:10:20.879Z"
   },
   {
    "duration": 25,
    "start_time": "2023-10-07T19:10:20.888Z"
   },
   {
    "duration": 19,
    "start_time": "2023-10-07T19:10:20.914Z"
   },
   {
    "duration": 20,
    "start_time": "2023-10-07T19:10:20.934Z"
   },
   {
    "duration": 16,
    "start_time": "2023-10-07T19:10:20.955Z"
   },
   {
    "duration": 50,
    "start_time": "2023-10-07T19:10:20.972Z"
   },
   {
    "duration": 546,
    "start_time": "2023-10-07T19:10:21.023Z"
   },
   {
    "duration": 13,
    "start_time": "2023-10-07T19:10:21.571Z"
   },
   {
    "duration": 10,
    "start_time": "2023-10-07T19:10:21.586Z"
   },
   {
    "duration": 2443,
    "start_time": "2023-10-07T19:10:21.598Z"
   },
   {
    "duration": 17,
    "start_time": "2023-10-07T19:10:24.043Z"
   },
   {
    "duration": 11,
    "start_time": "2023-10-07T19:10:24.061Z"
   },
   {
    "duration": 5,
    "start_time": "2023-10-07T19:10:24.073Z"
   },
   {
    "duration": 1288,
    "start_time": "2023-10-07T19:10:24.079Z"
   },
   {
    "duration": 207,
    "start_time": "2023-10-07T19:10:25.368Z"
   },
   {
    "duration": 195,
    "start_time": "2023-10-07T19:10:25.577Z"
   },
   {
    "duration": 21,
    "start_time": "2023-10-07T19:10:25.773Z"
   },
   {
    "duration": 599,
    "start_time": "2023-10-07T19:10:25.795Z"
   },
   {
    "duration": 9,
    "start_time": "2023-10-07T19:10:26.395Z"
   },
   {
    "duration": 504,
    "start_time": "2023-10-07T19:10:26.406Z"
   },
   {
    "duration": 556,
    "start_time": "2023-10-07T19:10:26.911Z"
   },
   {
    "duration": 527,
    "start_time": "2023-10-07T19:10:27.469Z"
   },
   {
    "duration": 475,
    "start_time": "2023-10-07T19:10:27.997Z"
   },
   {
    "duration": 561,
    "start_time": "2023-10-07T19:10:28.473Z"
   },
   {
    "duration": 14,
    "start_time": "2023-10-07T19:10:29.035Z"
   },
   {
    "duration": 247,
    "start_time": "2023-10-07T19:10:29.050Z"
   },
   {
    "duration": 258,
    "start_time": "2023-10-07T19:10:29.300Z"
   },
   {
    "duration": 27,
    "start_time": "2023-10-07T19:10:29.559Z"
   },
   {
    "duration": 427,
    "start_time": "2023-10-07T19:10:29.587Z"
   },
   {
    "duration": 33,
    "start_time": "2023-10-07T19:10:30.015Z"
   },
   {
    "duration": 460,
    "start_time": "2023-10-07T19:10:30.049Z"
   },
   {
    "duration": 36,
    "start_time": "2023-10-07T19:10:30.511Z"
   },
   {
    "duration": 461,
    "start_time": "2023-10-07T19:10:30.549Z"
   },
   {
    "duration": 8,
    "start_time": "2023-10-07T19:10:31.011Z"
   },
   {
    "duration": 71,
    "start_time": "2023-10-07T19:10:31.020Z"
   }
  ],
  "kernelspec": {
   "display_name": "Python 3 (ipykernel)",
   "language": "python",
   "name": "python3"
  },
  "language_info": {
   "codemirror_mode": {
    "name": "ipython",
    "version": 3
   },
   "file_extension": ".py",
   "mimetype": "text/x-python",
   "name": "python",
   "nbconvert_exporter": "python",
   "pygments_lexer": "ipython3",
   "version": "3.11.3"
  },
  "toc": {
   "base_numbering": 1,
   "nav_menu": {},
   "number_sections": true,
   "sideBar": true,
   "skip_h1_title": true,
   "title_cell": "Table of Contents",
   "title_sidebar": "Contents",
   "toc_cell": false,
   "toc_position": {
    "height": "483px",
    "left": "25px",
    "top": "205.141px",
    "width": "165px"
   },
   "toc_section_display": true,
   "toc_window_display": true
  }
 },
 "nbformat": 4,
 "nbformat_minor": 2
}
