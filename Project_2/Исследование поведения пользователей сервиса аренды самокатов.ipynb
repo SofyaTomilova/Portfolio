{
 "cells": [
  {
   "cell_type": "markdown",
   "id": "3a0953bf",
   "metadata": {},
   "source": [
    "# Исследование поведения пользователей сервиса аренды самокатов\n",
    "\n",
    "В нашем распоряжении данные сервиса аренды самокатов GoFast. Мы имеем данные о пользователях из нескольких городов, а также об их поездках. \n",
    "\n",
    "**Наша цель:** проанализировать данные и проверить некоторые гипотезы, которые могут помочь бизнесу вырасти.\n",
    "\n",
    "Сервисом можно пользоваться:\n",
    "\n",
    "**без подписки**\n",
    "- абонентская плата отсутствует;\n",
    "- стоимость одной минуты поездки — 8 рублей;\n",
    "- стоимость старта (начала поездки) — 50 рублей;\n",
    "\n",
    "**с подпиской Ultra**\n",
    "- абонентская плата — 199 рублей в месяц;\n",
    "- стоимость одной минуты поездки — 6 рублей;\n",
    "- стоимость старта — бесплатно.\n",
    "    \n",
    "**План работы:**\n",
    "1. Загрузить данные\n",
    "2. Провести предобработку данных\n",
    "3. Провести исследовательский анализ данных\n",
    "4. Объединить данные\n",
    "5. Подсчитать выручку\n",
    "6. Проверить гипотезы\n",
    "7. Сделать общий вывод \n",
    "    \n",
    "**Описание данных:**\n",
    "\n",
    "В основных данных есть информация о пользователях, их поездках и подписках."
   ]
  },
  {
   "cell_type": "markdown",
   "id": "c42cbe00",
   "metadata": {},
   "source": [
    "#### Загрузка данных"
   ]
  },
  {
   "cell_type": "markdown",
   "id": "2ec5dc43",
   "metadata": {},
   "source": [
    "##### Импортируем необходимые библиотеки pandas. Прочитаем CSV-файлы с данными и сохраним их в датафреймы."
   ]
  },
  {
   "cell_type": "code",
   "execution_count": 1,
   "id": "73e8635b",
   "metadata": {},
   "outputs": [],
   "source": [
    "import pandas as pd\n",
    "import pandas as pd\n",
    "import matplotlib.pyplot as plt\n",
    "import seaborn as sns\n",
    "from scipy import stats as st\n",
    "import numpy as np"
   ]
  },
  {
   "cell_type": "code",
   "execution_count": 2,
   "id": "31d0c4d0",
   "metadata": {},
   "outputs": [
    {
     "data": {
      "text/html": [
       "<div>\n",
       "<style scoped>\n",
       "    .dataframe tbody tr th:only-of-type {\n",
       "        vertical-align: middle;\n",
       "    }\n",
       "\n",
       "    .dataframe tbody tr th {\n",
       "        vertical-align: top;\n",
       "    }\n",
       "\n",
       "    .dataframe thead th {\n",
       "        text-align: right;\n",
       "    }\n",
       "</style>\n",
       "<table border=\"1\" class=\"dataframe\">\n",
       "  <thead>\n",
       "    <tr style=\"text-align: right;\">\n",
       "      <th></th>\n",
       "      <th>user_id</th>\n",
       "      <th>name</th>\n",
       "      <th>age</th>\n",
       "      <th>city</th>\n",
       "      <th>subscription_type</th>\n",
       "    </tr>\n",
       "  </thead>\n",
       "  <tbody>\n",
       "    <tr>\n",
       "      <th>0</th>\n",
       "      <td>1</td>\n",
       "      <td>Кира</td>\n",
       "      <td>22</td>\n",
       "      <td>Тюмень</td>\n",
       "      <td>ultra</td>\n",
       "    </tr>\n",
       "    <tr>\n",
       "      <th>1</th>\n",
       "      <td>2</td>\n",
       "      <td>Станислав</td>\n",
       "      <td>31</td>\n",
       "      <td>Омск</td>\n",
       "      <td>ultra</td>\n",
       "    </tr>\n",
       "    <tr>\n",
       "      <th>2</th>\n",
       "      <td>3</td>\n",
       "      <td>Алексей</td>\n",
       "      <td>20</td>\n",
       "      <td>Москва</td>\n",
       "      <td>ultra</td>\n",
       "    </tr>\n",
       "    <tr>\n",
       "      <th>3</th>\n",
       "      <td>4</td>\n",
       "      <td>Константин</td>\n",
       "      <td>26</td>\n",
       "      <td>Ростов-на-Дону</td>\n",
       "      <td>ultra</td>\n",
       "    </tr>\n",
       "    <tr>\n",
       "      <th>4</th>\n",
       "      <td>5</td>\n",
       "      <td>Адель</td>\n",
       "      <td>28</td>\n",
       "      <td>Омск</td>\n",
       "      <td>ultra</td>\n",
       "    </tr>\n",
       "    <tr>\n",
       "      <th>5</th>\n",
       "      <td>6</td>\n",
       "      <td>Регина</td>\n",
       "      <td>25</td>\n",
       "      <td>Краснодар</td>\n",
       "      <td>ultra</td>\n",
       "    </tr>\n",
       "    <tr>\n",
       "      <th>6</th>\n",
       "      <td>7</td>\n",
       "      <td>Игорь</td>\n",
       "      <td>23</td>\n",
       "      <td>Омск</td>\n",
       "      <td>ultra</td>\n",
       "    </tr>\n",
       "    <tr>\n",
       "      <th>7</th>\n",
       "      <td>8</td>\n",
       "      <td>Юрий</td>\n",
       "      <td>23</td>\n",
       "      <td>Краснодар</td>\n",
       "      <td>ultra</td>\n",
       "    </tr>\n",
       "    <tr>\n",
       "      <th>8</th>\n",
       "      <td>9</td>\n",
       "      <td>Ян</td>\n",
       "      <td>21</td>\n",
       "      <td>Пятигорск</td>\n",
       "      <td>ultra</td>\n",
       "    </tr>\n",
       "    <tr>\n",
       "      <th>9</th>\n",
       "      <td>10</td>\n",
       "      <td>Валерий</td>\n",
       "      <td>18</td>\n",
       "      <td>Екатеринбург</td>\n",
       "      <td>ultra</td>\n",
       "    </tr>\n",
       "  </tbody>\n",
       "</table>\n",
       "</div>"
      ],
      "text/plain": [
       "   user_id        name  age            city subscription_type\n",
       "0        1        Кира   22          Тюмень             ultra\n",
       "1        2   Станислав   31            Омск             ultra\n",
       "2        3     Алексей   20          Москва             ultra\n",
       "3        4  Константин   26  Ростов-на-Дону             ultra\n",
       "4        5       Адель   28            Омск             ultra\n",
       "5        6      Регина   25       Краснодар             ultra\n",
       "6        7       Игорь   23            Омск             ultra\n",
       "7        8        Юрий   23       Краснодар             ultra\n",
       "8        9          Ян   21       Пятигорск             ultra\n",
       "9       10     Валерий   18    Екатеринбург             ultra"
      ]
     },
     "execution_count": 2,
     "metadata": {},
     "output_type": "execute_result"
    }
   ],
   "source": [
    "# Выведем первые 10 строчек датафрейма \"Пользователи\" на экран\n",
    "data_user = pd.read_csv('/datasets/users_go.csv', sep=',')\n",
    "pd.set_option('display.max_columns', None)\n",
    "data_user.head(10)"
   ]
  },
  {
   "cell_type": "code",
   "execution_count": 3,
   "id": "eeea882e",
   "metadata": {
    "scrolled": true
   },
   "outputs": [
    {
     "data": {
      "text/html": [
       "<div>\n",
       "<style scoped>\n",
       "    .dataframe tbody tr th:only-of-type {\n",
       "        vertical-align: middle;\n",
       "    }\n",
       "\n",
       "    .dataframe tbody tr th {\n",
       "        vertical-align: top;\n",
       "    }\n",
       "\n",
       "    .dataframe thead th {\n",
       "        text-align: right;\n",
       "    }\n",
       "</style>\n",
       "<table border=\"1\" class=\"dataframe\">\n",
       "  <thead>\n",
       "    <tr style=\"text-align: right;\">\n",
       "      <th></th>\n",
       "      <th>user_id</th>\n",
       "      <th>distance</th>\n",
       "      <th>duration</th>\n",
       "      <th>date</th>\n",
       "    </tr>\n",
       "  </thead>\n",
       "  <tbody>\n",
       "    <tr>\n",
       "      <th>0</th>\n",
       "      <td>1</td>\n",
       "      <td>4409.919140</td>\n",
       "      <td>25.599769</td>\n",
       "      <td>2021-01-01</td>\n",
       "    </tr>\n",
       "    <tr>\n",
       "      <th>1</th>\n",
       "      <td>1</td>\n",
       "      <td>2617.592153</td>\n",
       "      <td>15.816871</td>\n",
       "      <td>2021-01-18</td>\n",
       "    </tr>\n",
       "    <tr>\n",
       "      <th>2</th>\n",
       "      <td>1</td>\n",
       "      <td>754.159807</td>\n",
       "      <td>6.232113</td>\n",
       "      <td>2021-04-20</td>\n",
       "    </tr>\n",
       "    <tr>\n",
       "      <th>3</th>\n",
       "      <td>1</td>\n",
       "      <td>2694.783254</td>\n",
       "      <td>18.511000</td>\n",
       "      <td>2021-08-11</td>\n",
       "    </tr>\n",
       "    <tr>\n",
       "      <th>4</th>\n",
       "      <td>1</td>\n",
       "      <td>4028.687306</td>\n",
       "      <td>26.265803</td>\n",
       "      <td>2021-08-28</td>\n",
       "    </tr>\n",
       "    <tr>\n",
       "      <th>5</th>\n",
       "      <td>1</td>\n",
       "      <td>2770.890808</td>\n",
       "      <td>16.650138</td>\n",
       "      <td>2021-10-09</td>\n",
       "    </tr>\n",
       "    <tr>\n",
       "      <th>6</th>\n",
       "      <td>1</td>\n",
       "      <td>3039.020292</td>\n",
       "      <td>14.927879</td>\n",
       "      <td>2021-10-19</td>\n",
       "    </tr>\n",
       "    <tr>\n",
       "      <th>7</th>\n",
       "      <td>1</td>\n",
       "      <td>2842.118050</td>\n",
       "      <td>23.117468</td>\n",
       "      <td>2021-11-06</td>\n",
       "    </tr>\n",
       "    <tr>\n",
       "      <th>8</th>\n",
       "      <td>1</td>\n",
       "      <td>3412.690668</td>\n",
       "      <td>15.238072</td>\n",
       "      <td>2021-11-14</td>\n",
       "    </tr>\n",
       "    <tr>\n",
       "      <th>9</th>\n",
       "      <td>1</td>\n",
       "      <td>748.690645</td>\n",
       "      <td>15.041884</td>\n",
       "      <td>2021-11-22</td>\n",
       "    </tr>\n",
       "  </tbody>\n",
       "</table>\n",
       "</div>"
      ],
      "text/plain": [
       "   user_id     distance   duration        date\n",
       "0        1  4409.919140  25.599769  2021-01-01\n",
       "1        1  2617.592153  15.816871  2021-01-18\n",
       "2        1   754.159807   6.232113  2021-04-20\n",
       "3        1  2694.783254  18.511000  2021-08-11\n",
       "4        1  4028.687306  26.265803  2021-08-28\n",
       "5        1  2770.890808  16.650138  2021-10-09\n",
       "6        1  3039.020292  14.927879  2021-10-19\n",
       "7        1  2842.118050  23.117468  2021-11-06\n",
       "8        1  3412.690668  15.238072  2021-11-14\n",
       "9        1   748.690645  15.041884  2021-11-22"
      ]
     },
     "execution_count": 3,
     "metadata": {},
     "output_type": "execute_result"
    }
   ],
   "source": [
    "# Выведем первые 10 строчек датафрейма \"Поездки\" на экран\n",
    "data_rides = pd.read_csv('/datasets/rides_go.csv', sep=',')\n",
    "pd.set_option('display.max_columns', None)\n",
    "data_rides.head(10)"
   ]
  },
  {
   "cell_type": "code",
   "execution_count": 4,
   "id": "031e75ff",
   "metadata": {},
   "outputs": [
    {
     "data": {
      "text/html": [
       "<div>\n",
       "<style scoped>\n",
       "    .dataframe tbody tr th:only-of-type {\n",
       "        vertical-align: middle;\n",
       "    }\n",
       "\n",
       "    .dataframe tbody tr th {\n",
       "        vertical-align: top;\n",
       "    }\n",
       "\n",
       "    .dataframe thead th {\n",
       "        text-align: right;\n",
       "    }\n",
       "</style>\n",
       "<table border=\"1\" class=\"dataframe\">\n",
       "  <thead>\n",
       "    <tr style=\"text-align: right;\">\n",
       "      <th></th>\n",
       "      <th>subscription_type</th>\n",
       "      <th>minute_price</th>\n",
       "      <th>start_ride_price</th>\n",
       "      <th>subscription_fee</th>\n",
       "    </tr>\n",
       "  </thead>\n",
       "  <tbody>\n",
       "    <tr>\n",
       "      <th>0</th>\n",
       "      <td>free</td>\n",
       "      <td>8</td>\n",
       "      <td>50</td>\n",
       "      <td>0</td>\n",
       "    </tr>\n",
       "    <tr>\n",
       "      <th>1</th>\n",
       "      <td>ultra</td>\n",
       "      <td>6</td>\n",
       "      <td>0</td>\n",
       "      <td>199</td>\n",
       "    </tr>\n",
       "  </tbody>\n",
       "</table>\n",
       "</div>"
      ],
      "text/plain": [
       "  subscription_type  minute_price  start_ride_price  subscription_fee\n",
       "0              free             8                50                 0\n",
       "1             ultra             6                 0               199"
      ]
     },
     "execution_count": 4,
     "metadata": {},
     "output_type": "execute_result"
    }
   ],
   "source": [
    "# Выведем строчки датафрейма \"Подписки\" на экран\n",
    "data_subscriptions = pd.read_csv('/datasets/subscriptions_go.csv', sep=',')\n",
    "pd.set_option('display.max_columns', None)\n",
    "data_subscriptions"
   ]
  },
  {
   "cell_type": "markdown",
   "id": "8493ce69",
   "metadata": {},
   "source": [
    "##### Выведем основную информацию о датафреймах с помощью метода info()."
   ]
  },
  {
   "cell_type": "code",
   "execution_count": 5,
   "id": "651923f2",
   "metadata": {
    "scrolled": true
   },
   "outputs": [
    {
     "name": "stdout",
     "output_type": "stream",
     "text": [
      "<class 'pandas.core.frame.DataFrame'>\n",
      "RangeIndex: 1565 entries, 0 to 1564\n",
      "Data columns (total 5 columns):\n",
      " #   Column             Non-Null Count  Dtype \n",
      "---  ------             --------------  ----- \n",
      " 0   user_id            1565 non-null   int64 \n",
      " 1   name               1565 non-null   object\n",
      " 2   age                1565 non-null   int64 \n",
      " 3   city               1565 non-null   object\n",
      " 4   subscription_type  1565 non-null   object\n",
      "dtypes: int64(2), object(3)\n",
      "memory usage: 61.3+ KB\n"
     ]
    }
   ],
   "source": [
    "data_user.info()"
   ]
  },
  {
   "cell_type": "code",
   "execution_count": 6,
   "id": "1e360033",
   "metadata": {},
   "outputs": [
    {
     "name": "stdout",
     "output_type": "stream",
     "text": [
      "<class 'pandas.core.frame.DataFrame'>\n",
      "RangeIndex: 18068 entries, 0 to 18067\n",
      "Data columns (total 4 columns):\n",
      " #   Column    Non-Null Count  Dtype  \n",
      "---  ------    --------------  -----  \n",
      " 0   user_id   18068 non-null  int64  \n",
      " 1   distance  18068 non-null  float64\n",
      " 2   duration  18068 non-null  float64\n",
      " 3   date      18068 non-null  object \n",
      "dtypes: float64(2), int64(1), object(1)\n",
      "memory usage: 564.8+ KB\n"
     ]
    }
   ],
   "source": [
    "data_rides.info()"
   ]
  },
  {
   "cell_type": "code",
   "execution_count": 7,
   "id": "1fa5938c",
   "metadata": {},
   "outputs": [
    {
     "name": "stdout",
     "output_type": "stream",
     "text": [
      "<class 'pandas.core.frame.DataFrame'>\n",
      "RangeIndex: 2 entries, 0 to 1\n",
      "Data columns (total 4 columns):\n",
      " #   Column             Non-Null Count  Dtype \n",
      "---  ------             --------------  ----- \n",
      " 0   subscription_type  2 non-null      object\n",
      " 1   minute_price       2 non-null      int64 \n",
      " 2   start_ride_price   2 non-null      int64 \n",
      " 3   subscription_fee   2 non-null      int64 \n",
      "dtypes: int64(3), object(1)\n",
      "memory usage: 192.0+ bytes\n"
     ]
    }
   ],
   "source": [
    "data_subscriptions.info()"
   ]
  },
  {
   "cell_type": "markdown",
   "id": "df0d6527",
   "metadata": {},
   "source": [
    "**Вывод:**\n",
    "\n",
    "Изучив общую информацию по датафрейму, мы видим неверные типы данных у столбца с датой в датафрейме **data_rides**."
   ]
  },
  {
   "cell_type": "markdown",
   "id": "e95ebca7",
   "metadata": {},
   "source": [
    "#### Предобработка данных"
   ]
  },
  {
   "cell_type": "markdown",
   "id": "471664d1",
   "metadata": {},
   "source": [
    "##### Приведём столбец date к типу даты pandas."
   ]
  },
  {
   "cell_type": "code",
   "execution_count": 8,
   "id": "3163e048",
   "metadata": {},
   "outputs": [
    {
     "name": "stdout",
     "output_type": "stream",
     "text": [
      "<class 'pandas.core.frame.DataFrame'>\n",
      "RangeIndex: 18068 entries, 0 to 18067\n",
      "Data columns (total 4 columns):\n",
      " #   Column    Non-Null Count  Dtype         \n",
      "---  ------    --------------  -----         \n",
      " 0   user_id   18068 non-null  int64         \n",
      " 1   distance  18068 non-null  float64       \n",
      " 2   duration  18068 non-null  float64       \n",
      " 3   date      18068 non-null  datetime64[ns]\n",
      "dtypes: datetime64[ns](1), float64(2), int64(1)\n",
      "memory usage: 564.8 KB\n"
     ]
    }
   ],
   "source": [
    "data_rides['date'] = pd.to_datetime(data_rides['date'], format='%Y-%m-%d')\n",
    "data_rides.info()"
   ]
  },
  {
   "cell_type": "markdown",
   "id": "10efdbff",
   "metadata": {},
   "source": [
    "##### Создадим новый столбец с номером месяца на основе столбца date."
   ]
  },
  {
   "cell_type": "code",
   "execution_count": 9,
   "id": "55e565a9",
   "metadata": {},
   "outputs": [
    {
     "data": {
      "text/plain": [
       "0         1\n",
       "1         1\n",
       "2         4\n",
       "3         8\n",
       "4         8\n",
       "         ..\n",
       "18063    11\n",
       "18064    11\n",
       "18065    11\n",
       "18066    11\n",
       "18067    12\n",
       "Name: month, Length: 18068, dtype: int64"
      ]
     },
     "execution_count": 9,
     "metadata": {},
     "output_type": "execute_result"
    }
   ],
   "source": [
    "data_rides['month'] = data_rides['date'].dt.month\n",
    "data_rides['month']"
   ]
  },
  {
   "cell_type": "markdown",
   "id": "d1ce637d",
   "metadata": {},
   "source": [
    "Проверим за сколько лет нам представленны данные:"
   ]
  },
  {
   "cell_type": "code",
   "execution_count": 10,
   "id": "91535497",
   "metadata": {},
   "outputs": [
    {
     "data": {
      "text/plain": [
       "0       2021-01-01\n",
       "1       2021-01-01\n",
       "2       2021-04-01\n",
       "3       2021-08-01\n",
       "4       2021-08-01\n",
       "           ...    \n",
       "18063   2021-11-01\n",
       "18064   2021-11-01\n",
       "18065   2021-11-01\n",
       "18066   2021-11-01\n",
       "18067   2021-12-01\n",
       "Name: date, Length: 18068, dtype: datetime64[ns]"
      ]
     },
     "execution_count": 10,
     "metadata": {},
     "output_type": "execute_result"
    }
   ],
   "source": [
    "data_rides['date'].astype('datetime64[M]')"
   ]
  },
  {
   "cell_type": "markdown",
   "id": "e3b2eec6",
   "metadata": {},
   "source": [
    "##### Проверим наличие пропущенных значений и дубликатов в датафреймах. \n"
   ]
  },
  {
   "cell_type": "code",
   "execution_count": 11,
   "id": "0dec804d",
   "metadata": {},
   "outputs": [
    {
     "data": {
      "text/plain": [
       "user_id              0\n",
       "name                 0\n",
       "age                  0\n",
       "city                 0\n",
       "subscription_type    0\n",
       "dtype: int64"
      ]
     },
     "execution_count": 11,
     "metadata": {},
     "output_type": "execute_result"
    }
   ],
   "source": [
    "# Количество пропусков в датафрейме \"Пользователи\"\n",
    "data_user.isna().sum()"
   ]
  },
  {
   "cell_type": "code",
   "execution_count": 12,
   "id": "77fd1ab6",
   "metadata": {},
   "outputs": [
    {
     "data": {
      "text/plain": [
       "user_id     0\n",
       "distance    0\n",
       "duration    0\n",
       "date        0\n",
       "month       0\n",
       "dtype: int64"
      ]
     },
     "execution_count": 12,
     "metadata": {},
     "output_type": "execute_result"
    }
   ],
   "source": [
    "# Количество пропусков в датафрейме \"Поездки\"\n",
    "data_rides.isna().sum()"
   ]
  },
  {
   "cell_type": "code",
   "execution_count": 13,
   "id": "47d47bf0",
   "metadata": {},
   "outputs": [
    {
     "data": {
      "text/plain": [
       "subscription_type    0\n",
       "minute_price         0\n",
       "start_ride_price     0\n",
       "subscription_fee     0\n",
       "dtype: int64"
      ]
     },
     "execution_count": 13,
     "metadata": {},
     "output_type": "execute_result"
    }
   ],
   "source": [
    "# Количество пропусков в датафрейме \"Подписки\"\n",
    "data_subscriptions.isna().sum()"
   ]
  },
  {
   "cell_type": "code",
   "execution_count": 14,
   "id": "9f9e6cc0",
   "metadata": {},
   "outputs": [
    {
     "data": {
      "text/plain": [
       "31"
      ]
     },
     "execution_count": 14,
     "metadata": {},
     "output_type": "execute_result"
    }
   ],
   "source": [
    "# Количество дубликатов в датафрейме \"Пользователи\"\n",
    "data_user.duplicated().sum()"
   ]
  },
  {
   "cell_type": "code",
   "execution_count": 15,
   "id": "da94b93b",
   "metadata": {},
   "outputs": [
    {
     "data": {
      "text/plain": [
       "0"
      ]
     },
     "execution_count": 15,
     "metadata": {},
     "output_type": "execute_result"
    }
   ],
   "source": [
    "# Количество дубликатов в датафрейме \"Поездки\"\n",
    "data_rides.duplicated().sum() "
   ]
  },
  {
   "cell_type": "code",
   "execution_count": 16,
   "id": "b55403e0",
   "metadata": {},
   "outputs": [
    {
     "data": {
      "text/plain": [
       "0"
      ]
     },
     "execution_count": 16,
     "metadata": {},
     "output_type": "execute_result"
    }
   ],
   "source": [
    "# Количество дубликатов в датафрейме \"Подписки\"\n",
    "data_subscriptions.duplicated().sum()"
   ]
  },
  {
   "cell_type": "markdown",
   "id": "ced79b56",
   "metadata": {},
   "source": [
    "Обработаем дубликаты в датафрейме data_user:"
   ]
  },
  {
   "cell_type": "code",
   "execution_count": 17,
   "id": "739d35a9",
   "metadata": {},
   "outputs": [
    {
     "data": {
      "text/plain": [
       "0"
      ]
     },
     "execution_count": 17,
     "metadata": {},
     "output_type": "execute_result"
    }
   ],
   "source": [
    "data_user.drop_duplicates(inplace=True)\n",
    "data_user.duplicated().sum()"
   ]
  },
  {
   "cell_type": "markdown",
   "id": "29465d35",
   "metadata": {},
   "source": [
    "**Вывод:**\n",
    "\n",
    "* мы привели к правильному типу данных столбец **date** в датафреме **data_rides**;\n",
    "* добавили новый столбец **month** с номером имесяца;\n",
    "* выявили дубликаты только в одном (**data_user**) из трёх датасетов и удалили эти строки-дубликаты. \n",
    "* пропуски не были обнаружены."
   ]
  },
  {
   "cell_type": "markdown",
   "id": "212593c7",
   "metadata": {},
   "source": [
    "#### Исследовательский анализ данных. Опишем и визуализируем общую информацию о пользователях и поездках."
   ]
  },
  {
   "cell_type": "markdown",
   "id": "7a3b7b36",
   "metadata": {},
   "source": [
    "##### Частота встречаемости городов:"
   ]
  },
  {
   "cell_type": "code",
   "execution_count": 18,
   "id": "90ab24af",
   "metadata": {},
   "outputs": [
    {
     "data": {
      "text/plain": [
       "Пятигорск         219\n",
       "Екатеринбург      204\n",
       "Ростов-на-Дону    198\n",
       "Краснодар         193\n",
       "Сочи              189\n",
       "Омск              183\n",
       "Тюмень            180\n",
       "Москва            168\n",
       "Name: city, dtype: int64"
      ]
     },
     "execution_count": 18,
     "metadata": {},
     "output_type": "execute_result"
    }
   ],
   "source": [
    "count_city = data_user['city'].value_counts()\n",
    "count_city"
   ]
  },
  {
   "cell_type": "code",
   "execution_count": 19,
   "id": "22f360e4",
   "metadata": {},
   "outputs": [
    {
     "data": {
      "text/plain": [
       "Пятигорск         14.0\n",
       "Екатеринбург      13.0\n",
       "Ростов-на-Дону    13.0\n",
       "Краснодар         13.0\n",
       "Сочи              12.0\n",
       "Омск              12.0\n",
       "Тюмень            12.0\n",
       "Москва            11.0\n",
       "Name: city, dtype: float64"
      ]
     },
     "execution_count": 19,
     "metadata": {},
     "output_type": "execute_result"
    }
   ],
   "source": [
    "# Посчитаем отношение количества городов друг к другу:\n",
    "count_city['relation'] = round(data_user['city'].value_counts() / count_city.sum(), 2) * 100\n",
    "count_city['relation']"
   ]
  },
  {
   "cell_type": "code",
   "execution_count": 20,
   "id": "31cc738d",
   "metadata": {},
   "outputs": [
    {
     "data": {
      "image/png": "[encoded data removed]",
      "text/plain": [
       "<Figure size 720x504 with 1 Axes>"
      ]
     },
     "metadata": {
      "needs_background": "light"
     },
     "output_type": "display_data"
    }
   ],
   "source": [
    "# Визуализируем данное отношение в столбчатой диаграмме:\n",
    "count_city['relation'].plot.bar( \n",
    "    figsize=(10,7), \n",
    "    title = 'Распределение пользователей по городам');"
   ]
  },
  {
   "cell_type": "markdown",
   "id": "10e440bf",
   "metadata": {},
   "source": [
    "Глядя на гистограмму видно, что пользователи сервиса примерно равномерно распределены по всем городам."
   ]
  },
  {
   "cell_type": "markdown",
   "id": "c0f4101c",
   "metadata": {},
   "source": [
    "##### Соотношение пользователей с подпиской и без подписки:"
   ]
  },
  {
   "cell_type": "code",
   "execution_count": 21,
   "id": "6efb5fdc",
   "metadata": {},
   "outputs": [
    {
     "data": {
      "text/plain": [
       "free     835\n",
       "ultra    699\n",
       "Name: subscription_type, dtype: int64"
      ]
     },
     "execution_count": 21,
     "metadata": {},
     "output_type": "execute_result"
    }
   ],
   "source": [
    "count_subscription = data_user['subscription_type'].value_counts()\n",
    "count_subscription"
   ]
  },
  {
   "cell_type": "code",
   "execution_count": 22,
   "id": "549f7cf9",
   "metadata": {},
   "outputs": [
    {
     "data": {
      "text/plain": [
       "free     54.0\n",
       "ultra    46.0\n",
       "Name: subscription_type, dtype: float64"
      ]
     },
     "execution_count": 22,
     "metadata": {},
     "output_type": "execute_result"
    }
   ],
   "source": [
    "# Посчитаем отношение количества пользователей с подпиской и без подписки:\n",
    "count_subscription['relation_sub'] = round(data_user['subscription_type'].\\\n",
    "                                           value_counts() / count_subscription.sum(), 2) * 100\n",
    "count_subscription['relation_sub']"
   ]
  },
  {
   "cell_type": "code",
   "execution_count": 23,
   "id": "4b3e554c",
   "metadata": {},
   "outputs": [
    {
     "data": {
      "image/png": "[encoded data removed]",
      "text/plain": [
       "<Figure size 504x504 with 1 Axes>"
      ]
     },
     "metadata": {},
     "output_type": "display_data"
    }
   ],
   "source": [
    "# Визуализируем данное отношение в круговой диаграмме:\n",
    "data_user['subscription_type'].value_counts().plot(\n",
    "    kind = 'pie',\n",
    "    y = count_subscription,\n",
    "    autopct = '%1.0f%%', \n",
    "    figsize=(7,7),\n",
    "    title = 'Соотношение пользователей в процентах в зависимости от тарифа');"
   ]
  },
  {
   "cell_type": "markdown",
   "id": "8e5c0f18",
   "metadata": {},
   "source": [
    "Посмотрев на график, можно понять, что 54% процента пользователей не пользуются подпиской, а 46% её приобрели."
   ]
  },
  {
   "cell_type": "markdown",
   "id": "30c951ed",
   "metadata": {},
   "source": [
    "##### Возраст пользователей:"
   ]
  },
  {
   "cell_type": "code",
   "execution_count": 24,
   "id": "955d84ca",
   "metadata": {},
   "outputs": [
    {
     "data": {
      "text/html": [
       "<div>\n",
       "<style scoped>\n",
       "    .dataframe tbody tr th:only-of-type {\n",
       "        vertical-align: middle;\n",
       "    }\n",
       "\n",
       "    .dataframe tbody tr th {\n",
       "        vertical-align: top;\n",
       "    }\n",
       "\n",
       "    .dataframe thead th {\n",
       "        text-align: right;\n",
       "    }\n",
       "</style>\n",
       "<table border=\"1\" class=\"dataframe\">\n",
       "  <thead>\n",
       "    <tr style=\"text-align: right;\">\n",
       "      <th></th>\n",
       "      <th>index</th>\n",
       "      <th>age</th>\n",
       "    </tr>\n",
       "  </thead>\n",
       "  <tbody>\n",
       "    <tr>\n",
       "      <th>0</th>\n",
       "      <td>664</td>\n",
       "      <td>12</td>\n",
       "    </tr>\n",
       "    <tr>\n",
       "      <th>1</th>\n",
       "      <td>66</td>\n",
       "      <td>12</td>\n",
       "    </tr>\n",
       "    <tr>\n",
       "      <th>2</th>\n",
       "      <td>727</td>\n",
       "      <td>12</td>\n",
       "    </tr>\n",
       "    <tr>\n",
       "      <th>3</th>\n",
       "      <td>34</td>\n",
       "      <td>12</td>\n",
       "    </tr>\n",
       "    <tr>\n",
       "      <th>4</th>\n",
       "      <td>235</td>\n",
       "      <td>13</td>\n",
       "    </tr>\n",
       "    <tr>\n",
       "      <th>...</th>\n",
       "      <td>...</td>\n",
       "      <td>...</td>\n",
       "    </tr>\n",
       "    <tr>\n",
       "      <th>1529</th>\n",
       "      <td>383</td>\n",
       "      <td>38</td>\n",
       "    </tr>\n",
       "    <tr>\n",
       "      <th>1530</th>\n",
       "      <td>804</td>\n",
       "      <td>38</td>\n",
       "    </tr>\n",
       "    <tr>\n",
       "      <th>1531</th>\n",
       "      <td>453</td>\n",
       "      <td>38</td>\n",
       "    </tr>\n",
       "    <tr>\n",
       "      <th>1532</th>\n",
       "      <td>961</td>\n",
       "      <td>39</td>\n",
       "    </tr>\n",
       "    <tr>\n",
       "      <th>1533</th>\n",
       "      <td>1201</td>\n",
       "      <td>43</td>\n",
       "    </tr>\n",
       "  </tbody>\n",
       "</table>\n",
       "<p>1534 rows × 2 columns</p>\n",
       "</div>"
      ],
      "text/plain": [
       "      index  age\n",
       "0       664   12\n",
       "1        66   12\n",
       "2       727   12\n",
       "3        34   12\n",
       "4       235   13\n",
       "...     ...  ...\n",
       "1529    383   38\n",
       "1530    804   38\n",
       "1531    453   38\n",
       "1532    961   39\n",
       "1533   1201   43\n",
       "\n",
       "[1534 rows x 2 columns]"
      ]
     },
     "execution_count": 24,
     "metadata": {},
     "output_type": "execute_result"
    }
   ],
   "source": [
    "count_age = data_user['age'].sort_values().to_frame().reset_index()\n",
    "count_age"
   ]
  },
  {
   "cell_type": "code",
   "execution_count": 25,
   "id": "c9009e16",
   "metadata": {},
   "outputs": [
    {
     "data": {
      "image/png": "[encoded data removed]",
      "text/plain": [
       "<Figure size 432x288 with 1 Axes>"
      ]
     },
     "metadata": {
      "needs_background": "light"
     },
     "output_type": "display_data"
    }
   ],
   "source": [
    "# Визуализируем данное отношение на гистограмме:\n",
    "plt.hist(data_user['age'], bins = 10)\n",
    "plt.title('Соотношение пользователей по возрасту')\n",
    "plt.xlabel('Возраст')\n",
    "plt.ylabel('Количество пользователей')\n",
    "plt.grid()\n",
    "plt.show()"
   ]
  },
  {
   "cell_type": "markdown",
   "id": "2e56e29d",
   "metadata": {},
   "source": [
    "По гистограмме видно, что пользователи сервиса это люди от 12 до 43 лет, большая часть в возрасте от 22 до 27 лет."
   ]
  },
  {
   "cell_type": "markdown",
   "id": "9abf7eaa",
   "metadata": {},
   "source": [
    "##### Расстояние, которое пользователь преодолел за одну поездку:"
   ]
  },
  {
   "cell_type": "code",
   "execution_count": 26,
   "id": "706d22ae",
   "metadata": {},
   "outputs": [
    {
     "data": {
      "text/html": [
       "<div>\n",
       "<style scoped>\n",
       "    .dataframe tbody tr th:only-of-type {\n",
       "        vertical-align: middle;\n",
       "    }\n",
       "\n",
       "    .dataframe tbody tr th {\n",
       "        vertical-align: top;\n",
       "    }\n",
       "\n",
       "    .dataframe thead th {\n",
       "        text-align: right;\n",
       "    }\n",
       "</style>\n",
       "<table border=\"1\" class=\"dataframe\">\n",
       "  <thead>\n",
       "    <tr style=\"text-align: right;\">\n",
       "      <th></th>\n",
       "      <th>index</th>\n",
       "      <th>distance</th>\n",
       "    </tr>\n",
       "  </thead>\n",
       "  <tbody>\n",
       "    <tr>\n",
       "      <th>0</th>\n",
       "      <td>11555</td>\n",
       "      <td>0.86</td>\n",
       "    </tr>\n",
       "    <tr>\n",
       "      <th>1</th>\n",
       "      <td>9541</td>\n",
       "      <td>2.57</td>\n",
       "    </tr>\n",
       "    <tr>\n",
       "      <th>2</th>\n",
       "      <td>13690</td>\n",
       "      <td>4.33</td>\n",
       "    </tr>\n",
       "    <tr>\n",
       "      <th>3</th>\n",
       "      <td>8658</td>\n",
       "      <td>6.78</td>\n",
       "    </tr>\n",
       "    <tr>\n",
       "      <th>4</th>\n",
       "      <td>7841</td>\n",
       "      <td>7.10</td>\n",
       "    </tr>\n",
       "    <tr>\n",
       "      <th>...</th>\n",
       "      <td>...</td>\n",
       "      <td>...</td>\n",
       "    </tr>\n",
       "    <tr>\n",
       "      <th>18063</th>\n",
       "      <td>17242</td>\n",
       "      <td>6724.93</td>\n",
       "    </tr>\n",
       "    <tr>\n",
       "      <th>18064</th>\n",
       "      <td>17171</td>\n",
       "      <td>6760.94</td>\n",
       "    </tr>\n",
       "    <tr>\n",
       "      <th>18065</th>\n",
       "      <td>15580</td>\n",
       "      <td>6908.49</td>\n",
       "    </tr>\n",
       "    <tr>\n",
       "      <th>18066</th>\n",
       "      <td>16484</td>\n",
       "      <td>7066.00</td>\n",
       "    </tr>\n",
       "    <tr>\n",
       "      <th>18067</th>\n",
       "      <td>16309</td>\n",
       "      <td>7211.01</td>\n",
       "    </tr>\n",
       "  </tbody>\n",
       "</table>\n",
       "<p>18068 rows × 2 columns</p>\n",
       "</div>"
      ],
      "text/plain": [
       "       index  distance\n",
       "0      11555      0.86\n",
       "1       9541      2.57\n",
       "2      13690      4.33\n",
       "3       8658      6.78\n",
       "4       7841      7.10\n",
       "...      ...       ...\n",
       "18063  17242   6724.93\n",
       "18064  17171   6760.94\n",
       "18065  15580   6908.49\n",
       "18066  16484   7066.00\n",
       "18067  16309   7211.01\n",
       "\n",
       "[18068 rows x 2 columns]"
      ]
     },
     "execution_count": 26,
     "metadata": {},
     "output_type": "execute_result"
    }
   ],
   "source": [
    "count_distance = round(data_rides['distance'].sort_values(), 2).to_frame().reset_index()\n",
    "count_distance"
   ]
  },
  {
   "cell_type": "code",
   "execution_count": 27,
   "id": "abc27832",
   "metadata": {},
   "outputs": [
    {
     "data": {
      "image/png": "[encoded data removed]",
      "text/plain": [
       "<Figure size 432x288 with 1 Axes>"
      ]
     },
     "metadata": {
      "needs_background": "light"
     },
     "output_type": "display_data"
    }
   ],
   "source": [
    "# Визуализируем данное отношение на гистограмме:\n",
    "plt.hist(data_rides['distance'], bins = 200)\n",
    "plt.title('Соотношение пользователей по расстоянию, за одну поездку')\n",
    "plt.xlabel('Расстояние в метрах')\n",
    "plt.ylabel('Количество пользователей')\n",
    "plt.grid()\n",
    "plt.show()"
   ]
  },
  {
   "cell_type": "markdown",
   "id": "b55a0821",
   "metadata": {},
   "source": [
    "По гистограмме видно, что пик приходится на расстояние от 2,6 до 3,5 километров. "
   ]
  },
  {
   "cell_type": "code",
   "execution_count": 28,
   "id": "c7b2cdd6",
   "metadata": {},
   "outputs": [
    {
     "data": {
      "image/png": "[encoded data removed]",
      "text/plain": [
       "<Figure size 360x504 with 1 Axes>"
      ]
     },
     "metadata": {
      "needs_background": "light"
     },
     "output_type": "display_data"
    }
   ],
   "source": [
    "data_rides.boxplot(column=['distance'], figsize=(5,7), grid=True)\n",
    "plt.title('Диаграмма размаха для расстояния за одну поездку')\n",
    "plt.ylabel('Расстояние в метрах')\n",
    "plt.show()"
   ]
  },
  {
   "cell_type": "markdown",
   "id": "bef04ca5",
   "metadata": {},
   "source": [
    "##### Продолжительность поездок:"
   ]
  },
  {
   "cell_type": "code",
   "execution_count": 29,
   "id": "f25b7fae",
   "metadata": {},
   "outputs": [
    {
     "data": {
      "text/html": [
       "<div>\n",
       "<style scoped>\n",
       "    .dataframe tbody tr th:only-of-type {\n",
       "        vertical-align: middle;\n",
       "    }\n",
       "\n",
       "    .dataframe tbody tr th {\n",
       "        vertical-align: top;\n",
       "    }\n",
       "\n",
       "    .dataframe thead th {\n",
       "        text-align: right;\n",
       "    }\n",
       "</style>\n",
       "<table border=\"1\" class=\"dataframe\">\n",
       "  <thead>\n",
       "    <tr style=\"text-align: right;\">\n",
       "      <th></th>\n",
       "      <th>index</th>\n",
       "      <th>duration</th>\n",
       "    </tr>\n",
       "  </thead>\n",
       "  <tbody>\n",
       "    <tr>\n",
       "      <th>0</th>\n",
       "      <td>12013</td>\n",
       "      <td>0.50</td>\n",
       "    </tr>\n",
       "    <tr>\n",
       "      <th>1</th>\n",
       "      <td>17314</td>\n",
       "      <td>0.50</td>\n",
       "    </tr>\n",
       "    <tr>\n",
       "      <th>2</th>\n",
       "      <td>15029</td>\n",
       "      <td>0.50</td>\n",
       "    </tr>\n",
       "    <tr>\n",
       "      <th>3</th>\n",
       "      <td>7437</td>\n",
       "      <td>0.50</td>\n",
       "    </tr>\n",
       "    <tr>\n",
       "      <th>4</th>\n",
       "      <td>12967</td>\n",
       "      <td>0.50</td>\n",
       "    </tr>\n",
       "    <tr>\n",
       "      <th>...</th>\n",
       "      <td>...</td>\n",
       "      <td>...</td>\n",
       "    </tr>\n",
       "    <tr>\n",
       "      <th>18063</th>\n",
       "      <td>6453</td>\n",
       "      <td>38.27</td>\n",
       "    </tr>\n",
       "    <tr>\n",
       "      <th>18064</th>\n",
       "      <td>1998</td>\n",
       "      <td>38.35</td>\n",
       "    </tr>\n",
       "    <tr>\n",
       "      <th>18065</th>\n",
       "      <td>2623</td>\n",
       "      <td>39.53</td>\n",
       "    </tr>\n",
       "    <tr>\n",
       "      <th>18066</th>\n",
       "      <td>4709</td>\n",
       "      <td>39.87</td>\n",
       "    </tr>\n",
       "    <tr>\n",
       "      <th>18067</th>\n",
       "      <td>4215</td>\n",
       "      <td>40.82</td>\n",
       "    </tr>\n",
       "  </tbody>\n",
       "</table>\n",
       "<p>18068 rows × 2 columns</p>\n",
       "</div>"
      ],
      "text/plain": [
       "       index  duration\n",
       "0      12013      0.50\n",
       "1      17314      0.50\n",
       "2      15029      0.50\n",
       "3       7437      0.50\n",
       "4      12967      0.50\n",
       "...      ...       ...\n",
       "18063   6453     38.27\n",
       "18064   1998     38.35\n",
       "18065   2623     39.53\n",
       "18066   4709     39.87\n",
       "18067   4215     40.82\n",
       "\n",
       "[18068 rows x 2 columns]"
      ]
     },
     "execution_count": 29,
     "metadata": {},
     "output_type": "execute_result"
    }
   ],
   "source": [
    "count_duration = round(data_rides['duration'].sort_values(), 2).to_frame().reset_index()\n",
    "count_duration"
   ]
  },
  {
   "cell_type": "code",
   "execution_count": 30,
   "id": "0c1bf883",
   "metadata": {},
   "outputs": [
    {
     "data": {
      "image/png": "[encoded data removed]",
      "text/plain": [
       "<Figure size 432x288 with 1 Axes>"
      ]
     },
     "metadata": {
      "needs_background": "light"
     },
     "output_type": "display_data"
    }
   ],
   "source": [
    "# Визуализируем данное отношение на гистограмме:\n",
    "plt.hist(data_rides['duration'], bins = 15)\n",
    "plt.title('Соотношение пользователей по времени, за одну поездку')\n",
    "plt.xlabel('Время в минутах')\n",
    "plt.ylabel('Количество пользователей')\n",
    "plt.grid()\n",
    "plt.show()"
   ]
  },
  {
   "cell_type": "markdown",
   "id": "818815a0",
   "metadata": {},
   "source": [
    "По гистограмме видно, что пользователь находится в дороге в среднем от 14 до 22 минут."
   ]
  },
  {
   "cell_type": "code",
   "execution_count": 31,
   "id": "58a4b46d",
   "metadata": {},
   "outputs": [
    {
     "data": {
      "image/png": "[encoded data removed]",
      "text/plain": [
       "<Figure size 360x504 with 1 Axes>"
      ]
     },
     "metadata": {
      "needs_background": "light"
     },
     "output_type": "display_data"
    }
   ],
   "source": [
    "data_rides.boxplot(column=['duration'], figsize=(5,7), grid=True)\n",
    "plt.title('Диаграмма размаха для времени за одну поездку')\n",
    "plt.ylabel('Время в минутах')\n",
    "plt.show()"
   ]
  },
  {
   "cell_type": "markdown",
   "id": "5dd4d279",
   "metadata": {},
   "source": [
    "Краткий вывод:\n",
    "\n",
    "Пользователи сервиса GoFast распределены по всем городам примерно равномерно. Большего всего находится пользователей в городе Пятигорск (219), а меньше всего - в Москве (168). Можно объяснить этот факт тем, что в Москве очень много сервисов, которые могут предоставить тебе самокаты, поэтому малое количество пользуется именно сервисом GoFast, а в Пятигорске, возможно, он основной, поэтому у пользователей не большой выбор.\n",
    "\n",
    "Про соотношение пользователей с подпиской и без можно сказать, что тоже приблизительно одинаковое соотношение - 46% и 54% соответственно.\n",
    "\n",
    "Возраст пользователей варьируется от 12 до 43 лет. Чаще всего самокатами пользуются люди 22-27 лет.\n",
    "\n",
    "Самое большое расстояние, которые смогли проехать примерно 7 километров, а наименьшее - 0,86 метров. В среднем люди проезжают от 2,6 до 3,5 километров.\n",
    "\n",
    "Среднее время поездки составляет от 14 и до 22 минут. Самое большое время за поездку - почти 41 минута. а наименьшее - 30 секунд. Скорее всего такое малое количество может говорить о том, что самокат стал неисправен после того, как его включили и поехали, либо пользователь передумал его использовать."
   ]
  },
  {
   "cell_type": "markdown",
   "id": "4ef51331",
   "metadata": {},
   "source": [
    "#### Объединение данных"
   ]
  },
  {
   "cell_type": "markdown",
   "id": "07eb75a8",
   "metadata": {},
   "source": [
    "##### Объединим данные о пользователях, поездках и подписках в один датафрейм. Для этого воспользуйтесь методом merge()."
   ]
  },
  {
   "cell_type": "code",
   "execution_count": 32,
   "id": "18bd796e",
   "metadata": {},
   "outputs": [
    {
     "data": {
      "text/html": [
       "<div>\n",
       "<style scoped>\n",
       "    .dataframe tbody tr th:only-of-type {\n",
       "        vertical-align: middle;\n",
       "    }\n",
       "\n",
       "    .dataframe tbody tr th {\n",
       "        vertical-align: top;\n",
       "    }\n",
       "\n",
       "    .dataframe thead th {\n",
       "        text-align: right;\n",
       "    }\n",
       "</style>\n",
       "<table border=\"1\" class=\"dataframe\">\n",
       "  <thead>\n",
       "    <tr style=\"text-align: right;\">\n",
       "      <th></th>\n",
       "      <th>user_id</th>\n",
       "      <th>name</th>\n",
       "      <th>age</th>\n",
       "      <th>city</th>\n",
       "      <th>subscription_type</th>\n",
       "      <th>distance</th>\n",
       "      <th>duration</th>\n",
       "      <th>date</th>\n",
       "      <th>month</th>\n",
       "      <th>minute_price</th>\n",
       "      <th>start_ride_price</th>\n",
       "      <th>subscription_fee</th>\n",
       "    </tr>\n",
       "  </thead>\n",
       "  <tbody>\n",
       "    <tr>\n",
       "      <th>0</th>\n",
       "      <td>1</td>\n",
       "      <td>Кира</td>\n",
       "      <td>22</td>\n",
       "      <td>Тюмень</td>\n",
       "      <td>ultra</td>\n",
       "      <td>4409.919140</td>\n",
       "      <td>25.599769</td>\n",
       "      <td>2021-01-01</td>\n",
       "      <td>1</td>\n",
       "      <td>6</td>\n",
       "      <td>0</td>\n",
       "      <td>199</td>\n",
       "    </tr>\n",
       "    <tr>\n",
       "      <th>1</th>\n",
       "      <td>1</td>\n",
       "      <td>Кира</td>\n",
       "      <td>22</td>\n",
       "      <td>Тюмень</td>\n",
       "      <td>ultra</td>\n",
       "      <td>2617.592153</td>\n",
       "      <td>15.816871</td>\n",
       "      <td>2021-01-18</td>\n",
       "      <td>1</td>\n",
       "      <td>6</td>\n",
       "      <td>0</td>\n",
       "      <td>199</td>\n",
       "    </tr>\n",
       "    <tr>\n",
       "      <th>2</th>\n",
       "      <td>1</td>\n",
       "      <td>Кира</td>\n",
       "      <td>22</td>\n",
       "      <td>Тюмень</td>\n",
       "      <td>ultra</td>\n",
       "      <td>754.159807</td>\n",
       "      <td>6.232113</td>\n",
       "      <td>2021-04-20</td>\n",
       "      <td>4</td>\n",
       "      <td>6</td>\n",
       "      <td>0</td>\n",
       "      <td>199</td>\n",
       "    </tr>\n",
       "    <tr>\n",
       "      <th>3</th>\n",
       "      <td>1</td>\n",
       "      <td>Кира</td>\n",
       "      <td>22</td>\n",
       "      <td>Тюмень</td>\n",
       "      <td>ultra</td>\n",
       "      <td>2694.783254</td>\n",
       "      <td>18.511000</td>\n",
       "      <td>2021-08-11</td>\n",
       "      <td>8</td>\n",
       "      <td>6</td>\n",
       "      <td>0</td>\n",
       "      <td>199</td>\n",
       "    </tr>\n",
       "    <tr>\n",
       "      <th>4</th>\n",
       "      <td>1</td>\n",
       "      <td>Кира</td>\n",
       "      <td>22</td>\n",
       "      <td>Тюмень</td>\n",
       "      <td>ultra</td>\n",
       "      <td>4028.687306</td>\n",
       "      <td>26.265803</td>\n",
       "      <td>2021-08-28</td>\n",
       "      <td>8</td>\n",
       "      <td>6</td>\n",
       "      <td>0</td>\n",
       "      <td>199</td>\n",
       "    </tr>\n",
       "    <tr>\n",
       "      <th>...</th>\n",
       "      <td>...</td>\n",
       "      <td>...</td>\n",
       "      <td>...</td>\n",
       "      <td>...</td>\n",
       "      <td>...</td>\n",
       "      <td>...</td>\n",
       "      <td>...</td>\n",
       "      <td>...</td>\n",
       "      <td>...</td>\n",
       "      <td>...</td>\n",
       "      <td>...</td>\n",
       "      <td>...</td>\n",
       "    </tr>\n",
       "    <tr>\n",
       "      <th>18063</th>\n",
       "      <td>1534</td>\n",
       "      <td>Альберт</td>\n",
       "      <td>25</td>\n",
       "      <td>Краснодар</td>\n",
       "      <td>free</td>\n",
       "      <td>3781.098080</td>\n",
       "      <td>19.822962</td>\n",
       "      <td>2021-11-04</td>\n",
       "      <td>11</td>\n",
       "      <td>8</td>\n",
       "      <td>50</td>\n",
       "      <td>0</td>\n",
       "    </tr>\n",
       "    <tr>\n",
       "      <th>18064</th>\n",
       "      <td>1534</td>\n",
       "      <td>Альберт</td>\n",
       "      <td>25</td>\n",
       "      <td>Краснодар</td>\n",
       "      <td>free</td>\n",
       "      <td>2840.423057</td>\n",
       "      <td>21.409799</td>\n",
       "      <td>2021-11-16</td>\n",
       "      <td>11</td>\n",
       "      <td>8</td>\n",
       "      <td>50</td>\n",
       "      <td>0</td>\n",
       "    </tr>\n",
       "    <tr>\n",
       "      <th>18065</th>\n",
       "      <td>1534</td>\n",
       "      <td>Альберт</td>\n",
       "      <td>25</td>\n",
       "      <td>Краснодар</td>\n",
       "      <td>free</td>\n",
       "      <td>3826.185507</td>\n",
       "      <td>18.435051</td>\n",
       "      <td>2021-11-18</td>\n",
       "      <td>11</td>\n",
       "      <td>8</td>\n",
       "      <td>50</td>\n",
       "      <td>0</td>\n",
       "    </tr>\n",
       "    <tr>\n",
       "      <th>18066</th>\n",
       "      <td>1534</td>\n",
       "      <td>Альберт</td>\n",
       "      <td>25</td>\n",
       "      <td>Краснодар</td>\n",
       "      <td>free</td>\n",
       "      <td>2902.308661</td>\n",
       "      <td>16.674362</td>\n",
       "      <td>2021-11-27</td>\n",
       "      <td>11</td>\n",
       "      <td>8</td>\n",
       "      <td>50</td>\n",
       "      <td>0</td>\n",
       "    </tr>\n",
       "    <tr>\n",
       "      <th>18067</th>\n",
       "      <td>1534</td>\n",
       "      <td>Альберт</td>\n",
       "      <td>25</td>\n",
       "      <td>Краснодар</td>\n",
       "      <td>free</td>\n",
       "      <td>2371.711192</td>\n",
       "      <td>15.893917</td>\n",
       "      <td>2021-12-29</td>\n",
       "      <td>12</td>\n",
       "      <td>8</td>\n",
       "      <td>50</td>\n",
       "      <td>0</td>\n",
       "    </tr>\n",
       "  </tbody>\n",
       "</table>\n",
       "<p>18068 rows × 12 columns</p>\n",
       "</div>"
      ],
      "text/plain": [
       "       user_id     name  age       city subscription_type     distance  \\\n",
       "0            1     Кира   22     Тюмень             ultra  4409.919140   \n",
       "1            1     Кира   22     Тюмень             ultra  2617.592153   \n",
       "2            1     Кира   22     Тюмень             ultra   754.159807   \n",
       "3            1     Кира   22     Тюмень             ultra  2694.783254   \n",
       "4            1     Кира   22     Тюмень             ultra  4028.687306   \n",
       "...        ...      ...  ...        ...               ...          ...   \n",
       "18063     1534  Альберт   25  Краснодар              free  3781.098080   \n",
       "18064     1534  Альберт   25  Краснодар              free  2840.423057   \n",
       "18065     1534  Альберт   25  Краснодар              free  3826.185507   \n",
       "18066     1534  Альберт   25  Краснодар              free  2902.308661   \n",
       "18067     1534  Альберт   25  Краснодар              free  2371.711192   \n",
       "\n",
       "        duration       date  month  minute_price  start_ride_price  \\\n",
       "0      25.599769 2021-01-01      1             6                 0   \n",
       "1      15.816871 2021-01-18      1             6                 0   \n",
       "2       6.232113 2021-04-20      4             6                 0   \n",
       "3      18.511000 2021-08-11      8             6                 0   \n",
       "4      26.265803 2021-08-28      8             6                 0   \n",
       "...          ...        ...    ...           ...               ...   \n",
       "18063  19.822962 2021-11-04     11             8                50   \n",
       "18064  21.409799 2021-11-16     11             8                50   \n",
       "18065  18.435051 2021-11-18     11             8                50   \n",
       "18066  16.674362 2021-11-27     11             8                50   \n",
       "18067  15.893917 2021-12-29     12             8                50   \n",
       "\n",
       "       subscription_fee  \n",
       "0                   199  \n",
       "1                   199  \n",
       "2                   199  \n",
       "3                   199  \n",
       "4                   199  \n",
       "...                 ...  \n",
       "18063                 0  \n",
       "18064                 0  \n",
       "18065                 0  \n",
       "18066                 0  \n",
       "18067                 0  \n",
       "\n",
       "[18068 rows x 12 columns]"
      ]
     },
     "execution_count": 32,
     "metadata": {},
     "output_type": "execute_result"
    }
   ],
   "source": [
    "service = data_user.merge(data_rides)\n",
    "service = service.merge(data_subscriptions)\n",
    "service"
   ]
  },
  {
   "cell_type": "code",
   "execution_count": 33,
   "id": "8a0344d3",
   "metadata": {},
   "outputs": [
    {
     "data": {
      "text/plain": [
       "user_id              0\n",
       "name                 0\n",
       "age                  0\n",
       "city                 0\n",
       "subscription_type    0\n",
       "distance             0\n",
       "duration             0\n",
       "date                 0\n",
       "month                0\n",
       "minute_price         0\n",
       "start_ride_price     0\n",
       "subscription_fee     0\n",
       "dtype: int64"
      ]
     },
     "execution_count": 33,
     "metadata": {},
     "output_type": "execute_result"
    }
   ],
   "source": [
    "# Проверим наличие пропусков:\n",
    "service.isna().sum()"
   ]
  },
  {
   "cell_type": "code",
   "execution_count": 34,
   "id": "2e402c23",
   "metadata": {},
   "outputs": [
    {
     "name": "stdout",
     "output_type": "stream",
     "text": [
      "<class 'pandas.core.frame.DataFrame'>\n",
      "Int64Index: 18068 entries, 0 to 18067\n",
      "Data columns (total 12 columns):\n",
      " #   Column             Non-Null Count  Dtype         \n",
      "---  ------             --------------  -----         \n",
      " 0   user_id            18068 non-null  int64         \n",
      " 1   name               18068 non-null  object        \n",
      " 2   age                18068 non-null  int64         \n",
      " 3   city               18068 non-null  object        \n",
      " 4   subscription_type  18068 non-null  object        \n",
      " 5   distance           18068 non-null  float64       \n",
      " 6   duration           18068 non-null  float64       \n",
      " 7   date               18068 non-null  datetime64[ns]\n",
      " 8   month              18068 non-null  int64         \n",
      " 9   minute_price       18068 non-null  int64         \n",
      " 10  start_ride_price   18068 non-null  int64         \n",
      " 11  subscription_fee   18068 non-null  int64         \n",
      "dtypes: datetime64[ns](1), float64(2), int64(6), object(3)\n",
      "memory usage: 1.8+ MB\n"
     ]
    }
   ],
   "source": [
    "# Проверим размерность и общую информацию по датафрейму:\n",
    "service.info()"
   ]
  },
  {
   "cell_type": "markdown",
   "id": "7e717e99",
   "metadata": {},
   "source": [
    "Пропуски не были обнаружены. Размерность датафрейма - 18068 строк, такое количество, что и было вначале у датафрейма **data_rides**."
   ]
  },
  {
   "cell_type": "markdown",
   "id": "1d4fbc0c",
   "metadata": {},
   "source": [
    "##### Создадим ещё два датафрейма из датафрейма, созданного на этапе 4.1: c данными о пользователях без подписки и с данными о пользователях с подпиской."
   ]
  },
  {
   "cell_type": "code",
   "execution_count": 35,
   "id": "79e056ad",
   "metadata": {},
   "outputs": [
    {
     "data": {
      "text/html": [
       "<div>\n",
       "<style scoped>\n",
       "    .dataframe tbody tr th:only-of-type {\n",
       "        vertical-align: middle;\n",
       "    }\n",
       "\n",
       "    .dataframe tbody tr th {\n",
       "        vertical-align: top;\n",
       "    }\n",
       "\n",
       "    .dataframe thead th {\n",
       "        text-align: right;\n",
       "    }\n",
       "</style>\n",
       "<table border=\"1\" class=\"dataframe\">\n",
       "  <thead>\n",
       "    <tr style=\"text-align: right;\">\n",
       "      <th></th>\n",
       "      <th>user_id</th>\n",
       "      <th>name</th>\n",
       "      <th>age</th>\n",
       "      <th>city</th>\n",
       "      <th>subscription_type</th>\n",
       "      <th>distance</th>\n",
       "      <th>duration</th>\n",
       "      <th>date</th>\n",
       "      <th>month</th>\n",
       "      <th>minute_price</th>\n",
       "      <th>start_ride_price</th>\n",
       "      <th>subscription_fee</th>\n",
       "    </tr>\n",
       "  </thead>\n",
       "  <tbody>\n",
       "    <tr>\n",
       "      <th>6500</th>\n",
       "      <td>700</td>\n",
       "      <td>Айдар</td>\n",
       "      <td>22</td>\n",
       "      <td>Омск</td>\n",
       "      <td>free</td>\n",
       "      <td>2515.690719</td>\n",
       "      <td>14.944286</td>\n",
       "      <td>2021-01-02</td>\n",
       "      <td>1</td>\n",
       "      <td>8</td>\n",
       "      <td>50</td>\n",
       "      <td>0</td>\n",
       "    </tr>\n",
       "    <tr>\n",
       "      <th>6501</th>\n",
       "      <td>700</td>\n",
       "      <td>Айдар</td>\n",
       "      <td>22</td>\n",
       "      <td>Омск</td>\n",
       "      <td>free</td>\n",
       "      <td>846.932642</td>\n",
       "      <td>16.234663</td>\n",
       "      <td>2021-02-01</td>\n",
       "      <td>2</td>\n",
       "      <td>8</td>\n",
       "      <td>50</td>\n",
       "      <td>0</td>\n",
       "    </tr>\n",
       "    <tr>\n",
       "      <th>6502</th>\n",
       "      <td>700</td>\n",
       "      <td>Айдар</td>\n",
       "      <td>22</td>\n",
       "      <td>Омск</td>\n",
       "      <td>free</td>\n",
       "      <td>4004.434142</td>\n",
       "      <td>20.016628</td>\n",
       "      <td>2021-02-04</td>\n",
       "      <td>2</td>\n",
       "      <td>8</td>\n",
       "      <td>50</td>\n",
       "      <td>0</td>\n",
       "    </tr>\n",
       "    <tr>\n",
       "      <th>6503</th>\n",
       "      <td>700</td>\n",
       "      <td>Айдар</td>\n",
       "      <td>22</td>\n",
       "      <td>Омск</td>\n",
       "      <td>free</td>\n",
       "      <td>1205.911290</td>\n",
       "      <td>9.782872</td>\n",
       "      <td>2021-02-10</td>\n",
       "      <td>2</td>\n",
       "      <td>8</td>\n",
       "      <td>50</td>\n",
       "      <td>0</td>\n",
       "    </tr>\n",
       "    <tr>\n",
       "      <th>6504</th>\n",
       "      <td>700</td>\n",
       "      <td>Айдар</td>\n",
       "      <td>22</td>\n",
       "      <td>Омск</td>\n",
       "      <td>free</td>\n",
       "      <td>3047.379435</td>\n",
       "      <td>17.427673</td>\n",
       "      <td>2021-02-14</td>\n",
       "      <td>2</td>\n",
       "      <td>8</td>\n",
       "      <td>50</td>\n",
       "      <td>0</td>\n",
       "    </tr>\n",
       "    <tr>\n",
       "      <th>...</th>\n",
       "      <td>...</td>\n",
       "      <td>...</td>\n",
       "      <td>...</td>\n",
       "      <td>...</td>\n",
       "      <td>...</td>\n",
       "      <td>...</td>\n",
       "      <td>...</td>\n",
       "      <td>...</td>\n",
       "      <td>...</td>\n",
       "      <td>...</td>\n",
       "      <td>...</td>\n",
       "      <td>...</td>\n",
       "    </tr>\n",
       "    <tr>\n",
       "      <th>18063</th>\n",
       "      <td>1534</td>\n",
       "      <td>Альберт</td>\n",
       "      <td>25</td>\n",
       "      <td>Краснодар</td>\n",
       "      <td>free</td>\n",
       "      <td>3781.098080</td>\n",
       "      <td>19.822962</td>\n",
       "      <td>2021-11-04</td>\n",
       "      <td>11</td>\n",
       "      <td>8</td>\n",
       "      <td>50</td>\n",
       "      <td>0</td>\n",
       "    </tr>\n",
       "    <tr>\n",
       "      <th>18064</th>\n",
       "      <td>1534</td>\n",
       "      <td>Альберт</td>\n",
       "      <td>25</td>\n",
       "      <td>Краснодар</td>\n",
       "      <td>free</td>\n",
       "      <td>2840.423057</td>\n",
       "      <td>21.409799</td>\n",
       "      <td>2021-11-16</td>\n",
       "      <td>11</td>\n",
       "      <td>8</td>\n",
       "      <td>50</td>\n",
       "      <td>0</td>\n",
       "    </tr>\n",
       "    <tr>\n",
       "      <th>18065</th>\n",
       "      <td>1534</td>\n",
       "      <td>Альберт</td>\n",
       "      <td>25</td>\n",
       "      <td>Краснодар</td>\n",
       "      <td>free</td>\n",
       "      <td>3826.185507</td>\n",
       "      <td>18.435051</td>\n",
       "      <td>2021-11-18</td>\n",
       "      <td>11</td>\n",
       "      <td>8</td>\n",
       "      <td>50</td>\n",
       "      <td>0</td>\n",
       "    </tr>\n",
       "    <tr>\n",
       "      <th>18066</th>\n",
       "      <td>1534</td>\n",
       "      <td>Альберт</td>\n",
       "      <td>25</td>\n",
       "      <td>Краснодар</td>\n",
       "      <td>free</td>\n",
       "      <td>2902.308661</td>\n",
       "      <td>16.674362</td>\n",
       "      <td>2021-11-27</td>\n",
       "      <td>11</td>\n",
       "      <td>8</td>\n",
       "      <td>50</td>\n",
       "      <td>0</td>\n",
       "    </tr>\n",
       "    <tr>\n",
       "      <th>18067</th>\n",
       "      <td>1534</td>\n",
       "      <td>Альберт</td>\n",
       "      <td>25</td>\n",
       "      <td>Краснодар</td>\n",
       "      <td>free</td>\n",
       "      <td>2371.711192</td>\n",
       "      <td>15.893917</td>\n",
       "      <td>2021-12-29</td>\n",
       "      <td>12</td>\n",
       "      <td>8</td>\n",
       "      <td>50</td>\n",
       "      <td>0</td>\n",
       "    </tr>\n",
       "  </tbody>\n",
       "</table>\n",
       "<p>11568 rows × 12 columns</p>\n",
       "</div>"
      ],
      "text/plain": [
       "       user_id     name  age       city subscription_type     distance  \\\n",
       "6500       700    Айдар   22       Омск              free  2515.690719   \n",
       "6501       700    Айдар   22       Омск              free   846.932642   \n",
       "6502       700    Айдар   22       Омск              free  4004.434142   \n",
       "6503       700    Айдар   22       Омск              free  1205.911290   \n",
       "6504       700    Айдар   22       Омск              free  3047.379435   \n",
       "...        ...      ...  ...        ...               ...          ...   \n",
       "18063     1534  Альберт   25  Краснодар              free  3781.098080   \n",
       "18064     1534  Альберт   25  Краснодар              free  2840.423057   \n",
       "18065     1534  Альберт   25  Краснодар              free  3826.185507   \n",
       "18066     1534  Альберт   25  Краснодар              free  2902.308661   \n",
       "18067     1534  Альберт   25  Краснодар              free  2371.711192   \n",
       "\n",
       "        duration       date  month  minute_price  start_ride_price  \\\n",
       "6500   14.944286 2021-01-02      1             8                50   \n",
       "6501   16.234663 2021-02-01      2             8                50   \n",
       "6502   20.016628 2021-02-04      2             8                50   \n",
       "6503    9.782872 2021-02-10      2             8                50   \n",
       "6504   17.427673 2021-02-14      2             8                50   \n",
       "...          ...        ...    ...           ...               ...   \n",
       "18063  19.822962 2021-11-04     11             8                50   \n",
       "18064  21.409799 2021-11-16     11             8                50   \n",
       "18065  18.435051 2021-11-18     11             8                50   \n",
       "18066  16.674362 2021-11-27     11             8                50   \n",
       "18067  15.893917 2021-12-29     12             8                50   \n",
       "\n",
       "       subscription_fee  \n",
       "6500                  0  \n",
       "6501                  0  \n",
       "6502                  0  \n",
       "6503                  0  \n",
       "6504                  0  \n",
       "...                 ...  \n",
       "18063                 0  \n",
       "18064                 0  \n",
       "18065                 0  \n",
       "18066                 0  \n",
       "18067                 0  \n",
       "\n",
       "[11568 rows x 12 columns]"
      ]
     },
     "execution_count": 35,
     "metadata": {},
     "output_type": "execute_result"
    }
   ],
   "source": [
    "service_free = service.query(\"`subscription_type` == 'free'\")\n",
    "service_free"
   ]
  },
  {
   "cell_type": "code",
   "execution_count": 36,
   "id": "e5d4d9e1",
   "metadata": {},
   "outputs": [
    {
     "data": {
      "text/html": [
       "<div>\n",
       "<style scoped>\n",
       "    .dataframe tbody tr th:only-of-type {\n",
       "        vertical-align: middle;\n",
       "    }\n",
       "\n",
       "    .dataframe tbody tr th {\n",
       "        vertical-align: top;\n",
       "    }\n",
       "\n",
       "    .dataframe thead th {\n",
       "        text-align: right;\n",
       "    }\n",
       "</style>\n",
       "<table border=\"1\" class=\"dataframe\">\n",
       "  <thead>\n",
       "    <tr style=\"text-align: right;\">\n",
       "      <th></th>\n",
       "      <th>user_id</th>\n",
       "      <th>name</th>\n",
       "      <th>age</th>\n",
       "      <th>city</th>\n",
       "      <th>subscription_type</th>\n",
       "      <th>distance</th>\n",
       "      <th>duration</th>\n",
       "      <th>date</th>\n",
       "      <th>month</th>\n",
       "      <th>minute_price</th>\n",
       "      <th>start_ride_price</th>\n",
       "      <th>subscription_fee</th>\n",
       "    </tr>\n",
       "  </thead>\n",
       "  <tbody>\n",
       "    <tr>\n",
       "      <th>0</th>\n",
       "      <td>1</td>\n",
       "      <td>Кира</td>\n",
       "      <td>22</td>\n",
       "      <td>Тюмень</td>\n",
       "      <td>ultra</td>\n",
       "      <td>4409.919140</td>\n",
       "      <td>25.599769</td>\n",
       "      <td>2021-01-01</td>\n",
       "      <td>1</td>\n",
       "      <td>6</td>\n",
       "      <td>0</td>\n",
       "      <td>199</td>\n",
       "    </tr>\n",
       "    <tr>\n",
       "      <th>1</th>\n",
       "      <td>1</td>\n",
       "      <td>Кира</td>\n",
       "      <td>22</td>\n",
       "      <td>Тюмень</td>\n",
       "      <td>ultra</td>\n",
       "      <td>2617.592153</td>\n",
       "      <td>15.816871</td>\n",
       "      <td>2021-01-18</td>\n",
       "      <td>1</td>\n",
       "      <td>6</td>\n",
       "      <td>0</td>\n",
       "      <td>199</td>\n",
       "    </tr>\n",
       "    <tr>\n",
       "      <th>2</th>\n",
       "      <td>1</td>\n",
       "      <td>Кира</td>\n",
       "      <td>22</td>\n",
       "      <td>Тюмень</td>\n",
       "      <td>ultra</td>\n",
       "      <td>754.159807</td>\n",
       "      <td>6.232113</td>\n",
       "      <td>2021-04-20</td>\n",
       "      <td>4</td>\n",
       "      <td>6</td>\n",
       "      <td>0</td>\n",
       "      <td>199</td>\n",
       "    </tr>\n",
       "    <tr>\n",
       "      <th>3</th>\n",
       "      <td>1</td>\n",
       "      <td>Кира</td>\n",
       "      <td>22</td>\n",
       "      <td>Тюмень</td>\n",
       "      <td>ultra</td>\n",
       "      <td>2694.783254</td>\n",
       "      <td>18.511000</td>\n",
       "      <td>2021-08-11</td>\n",
       "      <td>8</td>\n",
       "      <td>6</td>\n",
       "      <td>0</td>\n",
       "      <td>199</td>\n",
       "    </tr>\n",
       "    <tr>\n",
       "      <th>4</th>\n",
       "      <td>1</td>\n",
       "      <td>Кира</td>\n",
       "      <td>22</td>\n",
       "      <td>Тюмень</td>\n",
       "      <td>ultra</td>\n",
       "      <td>4028.687306</td>\n",
       "      <td>26.265803</td>\n",
       "      <td>2021-08-28</td>\n",
       "      <td>8</td>\n",
       "      <td>6</td>\n",
       "      <td>0</td>\n",
       "      <td>199</td>\n",
       "    </tr>\n",
       "    <tr>\n",
       "      <th>...</th>\n",
       "      <td>...</td>\n",
       "      <td>...</td>\n",
       "      <td>...</td>\n",
       "      <td>...</td>\n",
       "      <td>...</td>\n",
       "      <td>...</td>\n",
       "      <td>...</td>\n",
       "      <td>...</td>\n",
       "      <td>...</td>\n",
       "      <td>...</td>\n",
       "      <td>...</td>\n",
       "      <td>...</td>\n",
       "    </tr>\n",
       "    <tr>\n",
       "      <th>6495</th>\n",
       "      <td>699</td>\n",
       "      <td>Оксана</td>\n",
       "      <td>22</td>\n",
       "      <td>Москва</td>\n",
       "      <td>ultra</td>\n",
       "      <td>3973.046497</td>\n",
       "      <td>24.671163</td>\n",
       "      <td>2021-08-29</td>\n",
       "      <td>8</td>\n",
       "      <td>6</td>\n",
       "      <td>0</td>\n",
       "      <td>199</td>\n",
       "    </tr>\n",
       "    <tr>\n",
       "      <th>6496</th>\n",
       "      <td>699</td>\n",
       "      <td>Оксана</td>\n",
       "      <td>22</td>\n",
       "      <td>Москва</td>\n",
       "      <td>ultra</td>\n",
       "      <td>3288.702563</td>\n",
       "      <td>15.892886</td>\n",
       "      <td>2021-09-12</td>\n",
       "      <td>9</td>\n",
       "      <td>6</td>\n",
       "      <td>0</td>\n",
       "      <td>199</td>\n",
       "    </tr>\n",
       "    <tr>\n",
       "      <th>6497</th>\n",
       "      <td>699</td>\n",
       "      <td>Оксана</td>\n",
       "      <td>22</td>\n",
       "      <td>Москва</td>\n",
       "      <td>ultra</td>\n",
       "      <td>3076.159348</td>\n",
       "      <td>14.389525</td>\n",
       "      <td>2021-09-26</td>\n",
       "      <td>9</td>\n",
       "      <td>6</td>\n",
       "      <td>0</td>\n",
       "      <td>199</td>\n",
       "    </tr>\n",
       "    <tr>\n",
       "      <th>6498</th>\n",
       "      <td>699</td>\n",
       "      <td>Оксана</td>\n",
       "      <td>22</td>\n",
       "      <td>Москва</td>\n",
       "      <td>ultra</td>\n",
       "      <td>4707.845501</td>\n",
       "      <td>15.839579</td>\n",
       "      <td>2021-10-17</td>\n",
       "      <td>10</td>\n",
       "      <td>6</td>\n",
       "      <td>0</td>\n",
       "      <td>199</td>\n",
       "    </tr>\n",
       "    <tr>\n",
       "      <th>6499</th>\n",
       "      <td>699</td>\n",
       "      <td>Оксана</td>\n",
       "      <td>22</td>\n",
       "      <td>Москва</td>\n",
       "      <td>ultra</td>\n",
       "      <td>3202.890770</td>\n",
       "      <td>25.217345</td>\n",
       "      <td>2021-12-03</td>\n",
       "      <td>12</td>\n",
       "      <td>6</td>\n",
       "      <td>0</td>\n",
       "      <td>199</td>\n",
       "    </tr>\n",
       "  </tbody>\n",
       "</table>\n",
       "<p>6500 rows × 12 columns</p>\n",
       "</div>"
      ],
      "text/plain": [
       "      user_id    name  age    city subscription_type     distance   duration  \\\n",
       "0           1    Кира   22  Тюмень             ultra  4409.919140  25.599769   \n",
       "1           1    Кира   22  Тюмень             ultra  2617.592153  15.816871   \n",
       "2           1    Кира   22  Тюмень             ultra   754.159807   6.232113   \n",
       "3           1    Кира   22  Тюмень             ultra  2694.783254  18.511000   \n",
       "4           1    Кира   22  Тюмень             ultra  4028.687306  26.265803   \n",
       "...       ...     ...  ...     ...               ...          ...        ...   \n",
       "6495      699  Оксана   22  Москва             ultra  3973.046497  24.671163   \n",
       "6496      699  Оксана   22  Москва             ultra  3288.702563  15.892886   \n",
       "6497      699  Оксана   22  Москва             ultra  3076.159348  14.389525   \n",
       "6498      699  Оксана   22  Москва             ultra  4707.845501  15.839579   \n",
       "6499      699  Оксана   22  Москва             ultra  3202.890770  25.217345   \n",
       "\n",
       "           date  month  minute_price  start_ride_price  subscription_fee  \n",
       "0    2021-01-01      1             6                 0               199  \n",
       "1    2021-01-18      1             6                 0               199  \n",
       "2    2021-04-20      4             6                 0               199  \n",
       "3    2021-08-11      8             6                 0               199  \n",
       "4    2021-08-28      8             6                 0               199  \n",
       "...         ...    ...           ...               ...               ...  \n",
       "6495 2021-08-29      8             6                 0               199  \n",
       "6496 2021-09-12      9             6                 0               199  \n",
       "6497 2021-09-26      9             6                 0               199  \n",
       "6498 2021-10-17     10             6                 0               199  \n",
       "6499 2021-12-03     12             6                 0               199  \n",
       "\n",
       "[6500 rows x 12 columns]"
      ]
     },
     "execution_count": 36,
     "metadata": {},
     "output_type": "execute_result"
    }
   ],
   "source": [
    "service_ultra = service.query(\"`subscription_type` == 'ultra'\")\n",
    "service_ultra"
   ]
  },
  {
   "cell_type": "markdown",
   "id": "599b7165",
   "metadata": {},
   "source": [
    "##### Визуализируйте информацию о расстоянии и времени поездок для пользователей обеих категорий"
   ]
  },
  {
   "cell_type": "markdown",
   "id": "95d77faf",
   "metadata": {},
   "source": [
    "Создадим график, на котором будут находится две гистограммы о расстоянии поездок, которые относятся к пользователям с подпиской и без."
   ]
  },
  {
   "cell_type": "code",
   "execution_count": 37,
   "id": "5b7fc962",
   "metadata": {},
   "outputs": [
    {
     "data": {
      "text/plain": [
       "<AxesSubplot:ylabel='Frequency'>"
      ]
     },
     "execution_count": 37,
     "metadata": {},
     "output_type": "execute_result"
    },
    {
     "data": {
      "image/png": "[encoded data removed]",
      "text/plain": [
       "<Figure size 432x288 with 1 Axes>"
      ]
     },
     "metadata": {
      "needs_background": "light"
     },
     "output_type": "display_data"
    }
   ],
   "source": [
    "ax = service_free['distance'].plot(\n",
    "    kind='hist',\n",
    "    range=(0, 8000),\n",
    "    bins=20,\n",
    "    label='free',\n",
    "    alpha=0.5,\n",
    ")\n",
    "\n",
    "service_ultra['distance'].plot(\n",
    "    kind='hist',\n",
    "    range=(0, 8000),\n",
    "    bins=20,\n",
    "    alpha=0.5,\n",
    "    label='ultra',\n",
    "    ax=ax,\n",
    "    grid=True,\n",
    "    legend=True,\n",
    ") "
   ]
  },
  {
   "cell_type": "markdown",
   "id": "7b0c0cf5",
   "metadata": {},
   "source": [
    "Создадим график, на котором будут находится две гистограммы о времени поездок, которые относятся к пользователям с подпиской и без."
   ]
  },
  {
   "cell_type": "code",
   "execution_count": 38,
   "id": "e1f79085",
   "metadata": {},
   "outputs": [
    {
     "data": {
      "text/plain": [
       "<AxesSubplot:ylabel='Frequency'>"
      ]
     },
     "execution_count": 38,
     "metadata": {},
     "output_type": "execute_result"
    },
    {
     "data": {
      "image/png": "[encoded data removed]",
      "text/plain": [
       "<Figure size 432x288 with 1 Axes>"
      ]
     },
     "metadata": {
      "needs_background": "light"
     },
     "output_type": "display_data"
    }
   ],
   "source": [
    "av = service_free['duration'].plot(\n",
    "    kind='hist',\n",
    "    range=(0, 60),\n",
    "    bins=30,\n",
    "    label='free',\n",
    "    alpha=0.5,\n",
    ")\n",
    "\n",
    "service_ultra['duration'].plot(\n",
    "    kind='hist',\n",
    "    range=(0, 60),\n",
    "    bins=30,\n",
    "    alpha=0.5,\n",
    "    label='ultra',\n",
    "    ax=av,\n",
    "    grid=True,\n",
    "    legend=True,\n",
    ") "
   ]
  },
  {
   "cell_type": "markdown",
   "id": "66374f96",
   "metadata": {},
   "source": [
    "Мы сделали два отдельных датафрейма для пользователей с подпиской и без - service_ultra и service_free соответственно.\n",
    "\n",
    "По итогу сравнения двух категорий пользователей, такие выводы: без подписки люди ездят на более длинные расстояния, чем те, у кого есть подписка. Люди, которые не пользуются подпиской ездят в среднем на расстояния от 2 до 4,5 километров, по времени от 10 до 25 минут. С подпиской люди проезжают на самокате от 2,5 до 3,5 километров, по времени - от 15 до 22 минут.\n"
   ]
  },
  {
   "cell_type": "markdown",
   "id": "402d620f",
   "metadata": {},
   "source": [
    "#### Подсчёт выручки"
   ]
  },
  {
   "cell_type": "markdown",
   "id": "d058a8dc",
   "metadata": {},
   "source": [
    "##### Создадим датафрейм с агрегированными данными о поездках на основе датафрейма с объединёнными данными из шага 4: найдём суммарное расстояние, количество поездок и суммарное время для каждого пользователя за каждый месяц."
   ]
  },
  {
   "cell_type": "code",
   "execution_count": 39,
   "id": "2a4ec25d",
   "metadata": {
    "scrolled": false
   },
   "outputs": [
    {
     "data": {
      "text/html": [
       "<div>\n",
       "<style scoped>\n",
       "    .dataframe tbody tr th:only-of-type {\n",
       "        vertical-align: middle;\n",
       "    }\n",
       "\n",
       "    .dataframe tbody tr th {\n",
       "        vertical-align: top;\n",
       "    }\n",
       "\n",
       "    .dataframe thead th {\n",
       "        text-align: right;\n",
       "    }\n",
       "</style>\n",
       "<table border=\"1\" class=\"dataframe\">\n",
       "  <thead>\n",
       "    <tr style=\"text-align: right;\">\n",
       "      <th></th>\n",
       "      <th></th>\n",
       "      <th>distance</th>\n",
       "      <th>duration</th>\n",
       "      <th>trips</th>\n",
       "      <th>subscription_type</th>\n",
       "    </tr>\n",
       "    <tr>\n",
       "      <th>user_id</th>\n",
       "      <th>month</th>\n",
       "      <th></th>\n",
       "      <th></th>\n",
       "      <th></th>\n",
       "      <th></th>\n",
       "    </tr>\n",
       "  </thead>\n",
       "  <tbody>\n",
       "    <tr>\n",
       "      <th rowspan=\"5\" valign=\"top\">1</th>\n",
       "      <th>1</th>\n",
       "      <td>7027.511294</td>\n",
       "      <td>42.0</td>\n",
       "      <td>2</td>\n",
       "      <td>ultra</td>\n",
       "    </tr>\n",
       "    <tr>\n",
       "      <th>4</th>\n",
       "      <td>754.159807</td>\n",
       "      <td>7.0</td>\n",
       "      <td>1</td>\n",
       "      <td>ultra</td>\n",
       "    </tr>\n",
       "    <tr>\n",
       "      <th>8</th>\n",
       "      <td>6723.470560</td>\n",
       "      <td>46.0</td>\n",
       "      <td>2</td>\n",
       "      <td>ultra</td>\n",
       "    </tr>\n",
       "    <tr>\n",
       "      <th>10</th>\n",
       "      <td>5809.911100</td>\n",
       "      <td>32.0</td>\n",
       "      <td>2</td>\n",
       "      <td>ultra</td>\n",
       "    </tr>\n",
       "    <tr>\n",
       "      <th>11</th>\n",
       "      <td>7003.499363</td>\n",
       "      <td>56.0</td>\n",
       "      <td>3</td>\n",
       "      <td>ultra</td>\n",
       "    </tr>\n",
       "    <tr>\n",
       "      <th>...</th>\n",
       "      <th>...</th>\n",
       "      <td>...</td>\n",
       "      <td>...</td>\n",
       "      <td>...</td>\n",
       "      <td>...</td>\n",
       "    </tr>\n",
       "    <tr>\n",
       "      <th rowspan=\"5\" valign=\"top\">1534</th>\n",
       "      <th>6</th>\n",
       "      <td>3409.468534</td>\n",
       "      <td>26.0</td>\n",
       "      <td>2</td>\n",
       "      <td>free</td>\n",
       "    </tr>\n",
       "    <tr>\n",
       "      <th>8</th>\n",
       "      <td>7622.453034</td>\n",
       "      <td>48.0</td>\n",
       "      <td>2</td>\n",
       "      <td>free</td>\n",
       "    </tr>\n",
       "    <tr>\n",
       "      <th>9</th>\n",
       "      <td>4928.173852</td>\n",
       "      <td>23.0</td>\n",
       "      <td>1</td>\n",
       "      <td>free</td>\n",
       "    </tr>\n",
       "    <tr>\n",
       "      <th>11</th>\n",
       "      <td>13350.015305</td>\n",
       "      <td>78.0</td>\n",
       "      <td>4</td>\n",
       "      <td>free</td>\n",
       "    </tr>\n",
       "    <tr>\n",
       "      <th>12</th>\n",
       "      <td>2371.711192</td>\n",
       "      <td>16.0</td>\n",
       "      <td>1</td>\n",
       "      <td>free</td>\n",
       "    </tr>\n",
       "  </tbody>\n",
       "</table>\n",
       "<p>11331 rows × 4 columns</p>\n",
       "</div>"
      ],
      "text/plain": [
       "                   distance  duration  trips subscription_type\n",
       "user_id month                                                 \n",
       "1       1       7027.511294      42.0      2             ultra\n",
       "        4        754.159807       7.0      1             ultra\n",
       "        8       6723.470560      46.0      2             ultra\n",
       "        10      5809.911100      32.0      2             ultra\n",
       "        11      7003.499363      56.0      3             ultra\n",
       "...                     ...       ...    ...               ...\n",
       "1534    6       3409.468534      26.0      2              free\n",
       "        8       7622.453034      48.0      2              free\n",
       "        9       4928.173852      23.0      1              free\n",
       "        11     13350.015305      78.0      4              free\n",
       "        12      2371.711192      16.0      1              free\n",
       "\n",
       "[11331 rows x 4 columns]"
      ]
     },
     "execution_count": 39,
     "metadata": {},
     "output_type": "execute_result"
    }
   ],
   "source": [
    "service['duration'] = np.ceil(service['duration']) \n",
    "service_month= pd.pivot_table(service,\n",
    "                           index=['user_id', 'month'],\n",
    "                           values = ['distance', 'duration', 'subscription_type', 'name'],\n",
    "                           aggfunc = {'distance': sum, \n",
    "                                      'duration' : sum, \n",
    "                                      'name' : len,\n",
    "                                      'subscription_type' : min})\n",
    "\n",
    "service_month.rename(columns = {'name' : 'trips'}, inplace = True)\n",
    "service_month"
   ]
  },
  {
   "cell_type": "markdown",
   "id": "cf0e0e97",
   "metadata": {},
   "source": [
    "##### В этот же датафрейм добавим столбец 'revenue' с помесячной выручкой, которую принёс каждый пользователь. "
   ]
  },
  {
   "cell_type": "markdown",
   "id": "52a45503",
   "metadata": {},
   "source": [
    "Помесячная выручка считается по формуле: стоимость старта поездки × количество поездок + стоимость одной минуты поездки × общая продолжительность всех поездок в минутах + стоимость подписки."
   ]
  },
  {
   "cell_type": "code",
   "execution_count": 40,
   "id": "d03dee4d",
   "metadata": {},
   "outputs": [],
   "source": [
    "def revenue_month(row):\n",
    "    if row['subscription_type'] == 'ultra':\n",
    "        return 0 * row['trips'] + 6 * row['duration'] + 199\n",
    "    else:\n",
    "        return 50 * row['trips'] + 8 * row['duration'] + 0\n",
    " "
   ]
  },
  {
   "cell_type": "code",
   "execution_count": 41,
   "id": "17fc5801",
   "metadata": {},
   "outputs": [
    {
     "data": {
      "text/html": [
       "<div>\n",
       "<style scoped>\n",
       "    .dataframe tbody tr th:only-of-type {\n",
       "        vertical-align: middle;\n",
       "    }\n",
       "\n",
       "    .dataframe tbody tr th {\n",
       "        vertical-align: top;\n",
       "    }\n",
       "\n",
       "    .dataframe thead th {\n",
       "        text-align: right;\n",
       "    }\n",
       "</style>\n",
       "<table border=\"1\" class=\"dataframe\">\n",
       "  <thead>\n",
       "    <tr style=\"text-align: right;\">\n",
       "      <th></th>\n",
       "      <th></th>\n",
       "      <th>distance</th>\n",
       "      <th>duration</th>\n",
       "      <th>trips</th>\n",
       "      <th>subscription_type</th>\n",
       "      <th>revenue</th>\n",
       "    </tr>\n",
       "    <tr>\n",
       "      <th>user_id</th>\n",
       "      <th>month</th>\n",
       "      <th></th>\n",
       "      <th></th>\n",
       "      <th></th>\n",
       "      <th></th>\n",
       "      <th></th>\n",
       "    </tr>\n",
       "  </thead>\n",
       "  <tbody>\n",
       "    <tr>\n",
       "      <th rowspan=\"5\" valign=\"top\">1</th>\n",
       "      <th>1</th>\n",
       "      <td>7027.511294</td>\n",
       "      <td>42.0</td>\n",
       "      <td>2</td>\n",
       "      <td>ultra</td>\n",
       "      <td>451.0</td>\n",
       "    </tr>\n",
       "    <tr>\n",
       "      <th>4</th>\n",
       "      <td>754.159807</td>\n",
       "      <td>7.0</td>\n",
       "      <td>1</td>\n",
       "      <td>ultra</td>\n",
       "      <td>241.0</td>\n",
       "    </tr>\n",
       "    <tr>\n",
       "      <th>8</th>\n",
       "      <td>6723.470560</td>\n",
       "      <td>46.0</td>\n",
       "      <td>2</td>\n",
       "      <td>ultra</td>\n",
       "      <td>475.0</td>\n",
       "    </tr>\n",
       "    <tr>\n",
       "      <th>10</th>\n",
       "      <td>5809.911100</td>\n",
       "      <td>32.0</td>\n",
       "      <td>2</td>\n",
       "      <td>ultra</td>\n",
       "      <td>391.0</td>\n",
       "    </tr>\n",
       "    <tr>\n",
       "      <th>11</th>\n",
       "      <td>7003.499363</td>\n",
       "      <td>56.0</td>\n",
       "      <td>3</td>\n",
       "      <td>ultra</td>\n",
       "      <td>535.0</td>\n",
       "    </tr>\n",
       "    <tr>\n",
       "      <th>...</th>\n",
       "      <th>...</th>\n",
       "      <td>...</td>\n",
       "      <td>...</td>\n",
       "      <td>...</td>\n",
       "      <td>...</td>\n",
       "      <td>...</td>\n",
       "    </tr>\n",
       "    <tr>\n",
       "      <th rowspan=\"5\" valign=\"top\">1534</th>\n",
       "      <th>6</th>\n",
       "      <td>3409.468534</td>\n",
       "      <td>26.0</td>\n",
       "      <td>2</td>\n",
       "      <td>free</td>\n",
       "      <td>308.0</td>\n",
       "    </tr>\n",
       "    <tr>\n",
       "      <th>8</th>\n",
       "      <td>7622.453034</td>\n",
       "      <td>48.0</td>\n",
       "      <td>2</td>\n",
       "      <td>free</td>\n",
       "      <td>484.0</td>\n",
       "    </tr>\n",
       "    <tr>\n",
       "      <th>9</th>\n",
       "      <td>4928.173852</td>\n",
       "      <td>23.0</td>\n",
       "      <td>1</td>\n",
       "      <td>free</td>\n",
       "      <td>234.0</td>\n",
       "    </tr>\n",
       "    <tr>\n",
       "      <th>11</th>\n",
       "      <td>13350.015305</td>\n",
       "      <td>78.0</td>\n",
       "      <td>4</td>\n",
       "      <td>free</td>\n",
       "      <td>824.0</td>\n",
       "    </tr>\n",
       "    <tr>\n",
       "      <th>12</th>\n",
       "      <td>2371.711192</td>\n",
       "      <td>16.0</td>\n",
       "      <td>1</td>\n",
       "      <td>free</td>\n",
       "      <td>178.0</td>\n",
       "    </tr>\n",
       "  </tbody>\n",
       "</table>\n",
       "<p>11331 rows × 5 columns</p>\n",
       "</div>"
      ],
      "text/plain": [
       "                   distance  duration  trips subscription_type  revenue\n",
       "user_id month                                                          \n",
       "1       1       7027.511294      42.0      2             ultra    451.0\n",
       "        4        754.159807       7.0      1             ultra    241.0\n",
       "        8       6723.470560      46.0      2             ultra    475.0\n",
       "        10      5809.911100      32.0      2             ultra    391.0\n",
       "        11      7003.499363      56.0      3             ultra    535.0\n",
       "...                     ...       ...    ...               ...      ...\n",
       "1534    6       3409.468534      26.0      2              free    308.0\n",
       "        8       7622.453034      48.0      2              free    484.0\n",
       "        9       4928.173852      23.0      1              free    234.0\n",
       "        11     13350.015305      78.0      4              free    824.0\n",
       "        12      2371.711192      16.0      1              free    178.0\n",
       "\n",
       "[11331 rows x 5 columns]"
      ]
     },
     "execution_count": 41,
     "metadata": {},
     "output_type": "execute_result"
    }
   ],
   "source": [
    "service_month['revenue'] = service_month.apply(revenue_month, axis=1)\n",
    "service_month"
   ]
  },
  {
   "cell_type": "markdown",
   "id": "7fde43b1",
   "metadata": {},
   "source": [
    "Мы нашли суммарное расстояние, количество поездок и суммарное время для каждого пользователя за каждый месяц, для этого создали отдельный датафрейм service_month. Добавили в него столбец 'revenue', в котором при помощи формулы посчитали помесячную выручку с каждого пользователя."
   ]
  },
  {
   "cell_type": "markdown",
   "id": "41545ac0",
   "metadata": {},
   "source": [
    "#### Проверка гипотез"
   ]
  },
  {
   "cell_type": "markdown",
   "id": "6a118ab2",
   "metadata": {},
   "source": [
    "##### Важно понять, тратят ли пользователи с подпиской больше времени на поездки? Если да, то пользователи с подпиской могут быть «выгоднее» для компании. "
   ]
  },
  {
   "cell_type": "markdown",
   "id": "c2b99aad",
   "metadata": {},
   "source": [
    "Нулевая гипотеза: средние значения времени пользователей из двух групп равны.\n",
    "\n",
    "Альтернативная гипотеза: среднее значение времени пользователей с подпиской больше, чем среднее значение времени пользователей без подписки"
   ]
  },
  {
   "cell_type": "code",
   "execution_count": 42,
   "id": "71ad8ac3",
   "metadata": {},
   "outputs": [
    {
     "name": "stdout",
     "output_type": "stream",
     "text": [
      "p-значение: 1.2804098316645618e-34\n",
      "Отвергаем нулевую гипотезу\n"
     ]
    }
   ],
   "source": [
    "alpha = 0.05 # уровень статистической значимости\n",
    "\n",
    "results = st.ttest_ind(service_ultra['duration'], service_free['duration'], alternative = 'greater')\n",
    "\n",
    "print('p-значение:', results.pvalue)\n",
    "\n",
    "if results.pvalue < alpha:\n",
    "    print('Отвергаем нулевую гипотезу')\n",
    "else:\n",
    "    print('Не получилось отвергнуть нулевую гипотезу')"
   ]
  },
  {
   "cell_type": "code",
   "execution_count": 43,
   "id": "4381c207",
   "metadata": {},
   "outputs": [
    {
     "name": "stdout",
     "output_type": "stream",
     "text": [
      "Среднее время для пользователей с подпиской (service_ultra): 18.54198516280583\n",
      "Среднее время для пользователей без подписки (service_free): 17.39090929866399\n"
     ]
    }
   ],
   "source": [
    "# Среднее значение времени для пользователей с подпиской\n",
    "mean_duration_ultra = np.mean(service_ultra['duration'])\n",
    "print('Среднее время для пользователей с подпиской (service_ultra):', mean_duration_ultra)\n",
    "\n",
    "# Среднее значение времени для пользователей без подписки\n",
    "mean_duration_free = np.mean(service_free['duration'])\n",
    "print('Среднее время для пользователей без подписки (service_free):', mean_duration_free)"
   ]
  },
  {
   "cell_type": "markdown",
   "id": "0aa1aa93",
   "metadata": {},
   "source": [
    "Полученное значение p-value ~ 1,28*10^(−34) меньше заданного уровня значимости, поэтому можно отвергнуть нулевую гипотезу. Есть основания говорить, что пользователи с подпиской проводят в сервисе больше времени (среднее значение первой генеральной совокупности больше среднего значения второй генеральной совокупности). Таким образом пользователи с подпиской могут быть «выгоднее» для компании."
   ]
  },
  {
   "cell_type": "markdown",
   "id": "5332a66c",
   "metadata": {},
   "source": [
    "##### Расстояние одной поездки в 3130 метров — оптимальное с точки зрения износа самоката. Необходимо проверить, что среднее расстояние, которое проезжают пользователи с подпиской за одну поездку, не превышает 3130 метров."
   ]
  },
  {
   "cell_type": "markdown",
   "id": "ec81fff0",
   "metadata": {},
   "source": [
    "Нулевая гипотеза: среднее расстояние, которое проезжают пользователи с подпиской за одну поездку равно 3130 метрам.\n",
    "\n",
    "Альтернативная гипотеза: среднее расстояние, которое проезжают пользователи с подпиской за одну поездку, превышает оптимальное значение 3130 метров.\n",
    "\n",
    "Проверим гипотезы и сделаем выводы:"
   ]
  },
  {
   "cell_type": "code",
   "execution_count": 44,
   "id": "93322b97",
   "metadata": {},
   "outputs": [
    {
     "name": "stdout",
     "output_type": "stream",
     "text": [
      "p-значение: 0.9195368847849785\n",
      "Не удалось отвергнуть нулевую гипотезу\n"
     ]
    }
   ],
   "source": [
    "optimal_distance = 3130.0\n",
    "\n",
    "alpha = 0.05\n",
    "\n",
    "results = st.ttest_1samp(service_ultra['distance'], optimal_distance, alternative='greater')\n",
    "    \n",
    "print('p-значение:', results.pvalue)\n",
    "\n",
    "if (results.pvalue < alpha):\n",
    "    print('Отвергаем нулевую гипотезу')\n",
    "else:\n",
    "    print('Не удалось отвергнуть нулевую гипотезу')"
   ]
  },
  {
   "cell_type": "markdown",
   "id": "6a29fdb6",
   "metadata": {},
   "source": [
    "Полученное значение p-value ~ 0.92 больше заданного уровня значимости. То есть нельзя утверждать, что расстояние, которое проехали пользователи с подпиской превышает 3130 метров."
   ]
  },
  {
   "cell_type": "markdown",
   "id": "44b14aec",
   "metadata": {},
   "source": [
    "##### Проверим гипотезу о том, будет ли помесячная выручка от пользователей с подпиской по месяцам выше, чем выручка от пользователей без подписки. "
   ]
  },
  {
   "cell_type": "markdown",
   "id": "e491a28a",
   "metadata": {},
   "source": [
    "Нулевая гипотеза: помесячная выручка от пользователей с подпиской равна выручке от пользователей без подписки.\n",
    "\n",
    "Альтернативная гипотеза: помесячная выручка от пользователей с подпиской выше, чем выручка от пользователей без подписки\n",
    "\n",
    "Проверим гипотезы и сделаем выводы:"
   ]
  },
  {
   "cell_type": "code",
   "execution_count": 45,
   "id": "57879216",
   "metadata": {},
   "outputs": [
    {
     "name": "stdout",
     "output_type": "stream",
     "text": [
      "p-значение: 1.8850394384715216e-31\n",
      "Отвергаем нулевую гипотезу\n"
     ]
    }
   ],
   "source": [
    "results = st.ttest_ind(service_month.loc[service_month['subscription_type'] == 'ultra', 'revenue'], \n",
    "                       service_month.loc[service_month['subscription_type'] == 'free', 'revenue'] , \n",
    "                       alternative = 'greater')\n",
    "\n",
    "alpha = 0.05\n",
    "\n",
    "print('p-значение:', results.pvalue)\n",
    "\n",
    "if results.pvalue < alpha:\n",
    "    print('Отвергаем нулевую гипотезу')\n",
    "else:\n",
    "    print('Не удалось отвергнуть нулевую гипотезу')"
   ]
  },
  {
   "cell_type": "markdown",
   "id": "5b0c697e",
   "metadata": {},
   "source": [
    "Полученное значение p-value ~ 2.81*10^(−35) меньше заданного уровня значимости, поэтому можно отвергнуть нулевую гипотезу. Есть основания говорить, что пользователи с подпиской тратят в сервисе больше денег."
   ]
  },
  {
   "cell_type": "markdown",
   "id": "c4dddf1d",
   "metadata": {},
   "source": [
    "##### У нас есть ситуация: техническая команда сервиса обновила сервера, с которыми взаимодействует мобильное приложение. Она надеется, что из-за этого количество обращений в техподдержку значимо снизилось. Некоторый файл содержит для каждого пользователя данные о количестве обращений до обновления и после него. "
   ]
  },
  {
   "cell_type": "markdown",
   "id": "497892eb",
   "metadata": {},
   "source": [
    "Мы анализируем одну генеральную совокупность, с которой произошли некоторые изменения.\n",
    "\n",
    "Так как мы интересуемся только одним направлением изменения, например, уменьшения количества обращаений после обновления, то это будет означать одностороннюю гипотезу.\n",
    "\n",
    "Нулевая гипотеза (H0) может быть сформулирована так: \"Среднее количество обращений до обновления равно среднему количеству обращений после обновления\".\n",
    "\n",
    "Альтернативная гипотеза (H1) будет звучать как: \"Среднее количество обращений после обновления меньше, чем среднее количество обращений до обновления.\"\n",
    "\n",
    "* H0: μ1 = μ2\n",
    "* H1: μ1 > μ2\n",
    "\n",
    "где μ1 и μ2 - средние значения количество обращений в техподдержку до и после изменения.\n",
    "\n",
    "Метод, который нужно использовать при сравнении: **scipy.stats.ttest_ind()**\n",
    "\n",
    "Если мы отвергаем нулевую гипотезу в пользу альтернативной, то среднее количество обращений после обновления меньше среднего количества до обновления. Иначе, мы не можем отвергнуть нулевую гипотезу: обновление серверов, возможно, не повлияло на количество обращений в техподдержку."
   ]
  },
  {
   "cell_type": "markdown",
   "id": "61213c5e",
   "metadata": {},
   "source": [
    "#### Общий вывод"
   ]
  },
  {
   "cell_type": "markdown",
   "id": "1cf5590c",
   "metadata": {},
   "source": [
    "Мы провели работу с данными серивиса аренды самокатов GoFast. \n",
    "\n",
    "***1) Загрузка данных:***\n",
    "\n",
    "У нас было три файла с данными о пользователях, поездках и подписках. Мы их сохранили в три датафрейма - **data_user**,  **data_rides** и **data_subscriptions** соответственно. \n",
    "\n",
    "***2) Предобработка данных:***\n",
    "* Мы обнаружили только неверный тип данных у столбца с датой в датафрейме data_rides. Изменили тип дынных **object** на **datetime64**. \n",
    "* Создали новый столбец **month** с номером месяца на основе столбца **date**. \n",
    "* Проверили датавреймы на пропуски, пропущенных значений не оказалось. \n",
    "* выявили дубликаты дубликаты в **data_user** и удалили эти строки-дубликаты.\n",
    "\n",
    "***3) Исследовательский анализ данных.***\n",
    "\n",
    "Частота встречаемости городов: \n",
    " - Пользователи сервиса GoFast распределены по всем городам примерно равномерно. \n",
    " - Большего всего находится пользователей в городе Пятигорск **(219)**, а меньше всего - в Москве **(168)**. Объяснили мы этот факт тем, что в Москве очень много сервисов, которые могут предоставить тебе самокаты, поэтому малое количество пользуется именно сервисом GoFast, а в Пятигорске, возможно, он основной, поэтому у пользователей не большой выбор. \n",
    "\n",
    "Соотношение пользователей с подпиской и без подписки:\n",
    "- Соотношение пользователей с подпиской и без тоже приблизительно одинаковое - **46%** и **54%** соответственно. \n",
    "\n",
    "Возраст пользователей:\n",
    "- Варьируется от **12** до **43 лет**. \n",
    "- Чаще всего самокатами пользуются люди **22-26** лет.\n",
    "\n",
    "Расстояние, которое пользователь преодолел за одну поездку:      \n",
    "- Самое большое расстояние, которые смогли проехать примерно **7 километров**, а наименьшее - **0,86 метров**. В среднем люди проезжают от **2,6** до **3,8** километров. \n",
    "\n",
    "Продолжительность поездок:        \n",
    "- Среднее время поездки составляет от **14** и до **22** минут. Самое большое время за поездку - почти **41** минута. а наименьшее - **30** секунд. Скорее всего такое малое количество может говорить о том, что самокат стал неисправен после того, как его включили и поехали, либо пользователь передумал его использовать.\n",
    "        \n",
    "***4) Объединение данных.***\n",
    "\n",
    "Далее мы объединили данные о пользователях, поездках и подписках в один датафрейм - **service**. \n",
    "После создали ещё два датафрейма из датафрейма, созданного ранее: c данными о пользователях без подписки и с данными о пользователях с подпиской - **service_free** и **service_ultra** соответственно. Для того, чтобы сравнить эти две категории пользователей мы визуализировали информацию по этим двум датафреймам.\n",
    "\n",
    "**По итогу пришли к таким заключениям:**\n",
    "* Без подписки люди ездят на более длинные расстояния, чем те, у кого есть подписка. \n",
    "* Люди, которые не пользуются подпиской, ездят в среднем на расстояния от **2** до **4,5** километров, по времени от **10** до **25** минут.\n",
    "* С подпиской люди проезжают на самокате от **2,5** до **3,5** километров, по времени - от **15** до **22** минут.\n",
    "\n",
    "***5) Подсчёт выручки.***\n",
    "\n",
    "Мы нашли суммарное расстояние, количество поездок и суммарное время для каждого пользователя за каждый месяц, для этого при помощи сводной таблицы создали отдельный датафрейм - **service_month**. В этот же датафрейм добавили столбец **revenue** с помесячной выручкой, которую принёс каждый пользователь. \n",
    "\n",
    "*Помесячная выручка посчитали по такой формуле: стоимость старта поездки × количество поездок + стоимость одной минуты поездки × общая продолжительность всех поездок в минутах + стоимость подписки.*\n",
    "\n",
    "\n",
    "***6) Проверка гипотез.***\n",
    "1. Тратят ли пользователи с подпиской больше времени на поездки?\n",
    "\n",
    "Действительно, пользователи с подпиской проводят в сервисе больше времени. Таким образом пользователи с подпиской могут быть **«выгоднее»** для компании. Среднее время для пользователей с подпиской: **18.54 минут**. Среднее время для пользователей без подписки - **17.39 минут**\n",
    "\n",
    "2. Среднее расстояние, которое проезжают пользователи с подпиской за одну поездку, не превышает 3130 метров?\n",
    "\n",
    "Получилось так, что нельзя утверждать, что расстояние, которое проехали пользователи с подпиской превышает 3130 метров.\n",
    "\n",
    "3. Помесячная выручка от пользователей с подпиской по месяцам выше, чем выручка от пользователей без подписки?\n",
    "\n",
    "Есть основания говорить, что подписчики тратят в сервисе больше денег, так как выручка от них больше.\n",
    "\n",
    "**Подводя итоги, можно сказать:**\n",
    "- Пользователи с подпиской тратят больше времени на поездки, что указывает на то, что они более активно используют сервис.\n",
    "\n",
    "- Среднее расстояние, которое проезжают пользователи с подпиской за одну поездку, не превышает 3130 метров. Это означает, что пользователи с подпиской, вероятно, совершают короткие поездки, но делают их чаще.\n",
    "\n",
    "- Помесячная выручка от пользователей с подпиской по месяцам выше, чем выручка от пользователей без подписки. Это свидетельствует о том, что пользователи с подпиской приносят компании больше денег.\n",
    "\n",
    "**С учетом этих результатов, можно сделать вывод, что пользователи с подпиской являются более выгодными для компании. Они активнее пользуются сервисом, тратят больше времени на поездки и, как следствие, приносят больше выручки.**"
   ]
  }
 ],
 "metadata": {
  "ExecuteTimeLog": [
   {
    "duration": 49,
    "start_time": "2023-09-28T15:42:12.187Z"
   },
   {
    "duration": 390,
    "start_time": "2023-09-28T15:42:19.653Z"
   },
   {
    "duration": 87,
    "start_time": "2023-09-28T15:42:20.045Z"
   },
   {
    "duration": 33,
    "start_time": "2023-09-28T15:42:45.323Z"
   },
   {
    "duration": 969,
    "start_time": "2023-09-28T15:44:51.686Z"
   },
   {
    "duration": 34,
    "start_time": "2023-09-28T15:44:52.657Z"
   },
   {
    "duration": 34,
    "start_time": "2023-09-28T15:46:39.510Z"
   },
   {
    "duration": 40,
    "start_time": "2023-09-28T15:47:02.540Z"
   },
   {
    "duration": 34,
    "start_time": "2023-09-28T15:47:28.022Z"
   },
   {
    "duration": 40,
    "start_time": "2023-09-28T15:47:39.387Z"
   },
   {
    "duration": 43,
    "start_time": "2023-09-28T15:47:48.844Z"
   },
   {
    "duration": 38,
    "start_time": "2023-09-28T15:48:00.968Z"
   },
   {
    "duration": 37,
    "start_time": "2023-09-28T15:48:09.294Z"
   },
   {
    "duration": 33,
    "start_time": "2023-09-28T15:48:16.539Z"
   },
   {
    "duration": 4,
    "start_time": "2023-09-28T18:15:23.811Z"
   },
   {
    "duration": 48,
    "start_time": "2023-09-28T18:15:23.818Z"
   },
   {
    "duration": 14,
    "start_time": "2023-09-28T18:15:23.868Z"
   },
   {
    "duration": 99,
    "start_time": "2023-09-28T18:15:23.884Z"
   },
   {
    "duration": 4,
    "start_time": "2023-09-28T18:16:29.879Z"
   },
   {
    "duration": 45,
    "start_time": "2023-09-28T18:16:29.885Z"
   },
   {
    "duration": 33,
    "start_time": "2023-09-28T18:16:29.932Z"
   },
   {
    "duration": 66,
    "start_time": "2023-09-28T18:16:29.967Z"
   },
   {
    "duration": 36,
    "start_time": "2023-09-28T18:16:45.801Z"
   },
   {
    "duration": 48,
    "start_time": "2023-09-28T18:19:03.662Z"
   },
   {
    "duration": 30,
    "start_time": "2023-09-28T18:19:21.047Z"
   },
   {
    "duration": 12,
    "start_time": "2023-09-28T18:19:32.975Z"
   },
   {
    "duration": 8,
    "start_time": "2023-09-28T18:20:01.501Z"
   },
   {
    "duration": 86,
    "start_time": "2023-09-28T18:20:01.511Z"
   },
   {
    "duration": 86,
    "start_time": "2023-09-28T18:20:01.599Z"
   },
   {
    "duration": 60,
    "start_time": "2023-09-28T18:20:01.686Z"
   },
   {
    "duration": 69,
    "start_time": "2023-09-28T18:20:01.749Z"
   },
   {
    "duration": 12,
    "start_time": "2023-09-28T18:20:45.732Z"
   },
   {
    "duration": 12,
    "start_time": "2023-09-28T18:20:50.015Z"
   },
   {
    "duration": 27,
    "start_time": "2023-09-28T18:20:59.887Z"
   },
   {
    "duration": 14,
    "start_time": "2023-09-28T18:21:06.391Z"
   },
   {
    "duration": 495,
    "start_time": "2023-09-28T18:25:19.101Z"
   },
   {
    "duration": 362,
    "start_time": "2023-09-28T18:25:31.491Z"
   },
   {
    "duration": 335,
    "start_time": "2023-09-28T18:25:36.414Z"
   },
   {
    "duration": 439,
    "start_time": "2023-09-28T18:25:47.332Z"
   },
   {
    "duration": 11,
    "start_time": "2023-09-28T18:27:17.089Z"
   },
   {
    "duration": 37,
    "start_time": "2023-09-28T18:28:00.314Z"
   },
   {
    "duration": 48,
    "start_time": "2023-09-28T18:28:10.998Z"
   },
   {
    "duration": 52,
    "start_time": "2023-09-28T18:28:15.574Z"
   },
   {
    "duration": 35,
    "start_time": "2023-09-28T18:28:19.811Z"
   },
   {
    "duration": 14,
    "start_time": "2023-09-28T18:32:16.049Z"
   },
   {
    "duration": 22,
    "start_time": "2023-09-28T18:32:19.185Z"
   },
   {
    "duration": 3,
    "start_time": "2023-09-28T18:32:22.111Z"
   },
   {
    "duration": 225,
    "start_time": "2023-09-28T18:32:22.116Z"
   },
   {
    "duration": 56,
    "start_time": "2023-09-28T18:32:22.343Z"
   },
   {
    "duration": 21,
    "start_time": "2023-09-28T18:32:22.400Z"
   },
   {
    "duration": 25,
    "start_time": "2023-09-28T18:32:22.423Z"
   },
   {
    "duration": 35,
    "start_time": "2023-09-28T18:32:22.450Z"
   },
   {
    "duration": 59,
    "start_time": "2023-09-28T18:32:22.487Z"
   },
   {
    "duration": 53,
    "start_time": "2023-09-28T18:32:22.548Z"
   },
   {
    "duration": 18,
    "start_time": "2023-09-28T18:32:39.511Z"
   },
   {
    "duration": 19,
    "start_time": "2023-09-28T18:33:07.402Z"
   },
   {
    "duration": 11,
    "start_time": "2023-09-28T18:33:09.135Z"
   },
   {
    "duration": 19,
    "start_time": "2023-09-28T18:33:36.011Z"
   },
   {
    "duration": 10,
    "start_time": "2023-09-28T18:33:36.568Z"
   },
   {
    "duration": 20,
    "start_time": "2023-09-28T18:33:50.487Z"
   },
   {
    "duration": 7,
    "start_time": "2023-09-28T18:35:36.211Z"
   },
   {
    "duration": 6,
    "start_time": "2023-09-28T18:37:30.820Z"
   },
   {
    "duration": 70,
    "start_time": "2023-09-28T18:37:34.228Z"
   },
   {
    "duration": 7,
    "start_time": "2023-09-28T18:37:39.345Z"
   },
   {
    "duration": 16,
    "start_time": "2023-09-28T18:38:24.792Z"
   },
   {
    "duration": 9,
    "start_time": "2023-09-28T18:38:51.128Z"
   },
   {
    "duration": 7,
    "start_time": "2023-09-28T18:38:58.969Z"
   },
   {
    "duration": 18,
    "start_time": "2023-09-28T18:39:14.700Z"
   },
   {
    "duration": 9,
    "start_time": "2023-09-28T18:42:09.917Z"
   },
   {
    "duration": 6,
    "start_time": "2023-09-28T18:42:10.585Z"
   },
   {
    "duration": 12,
    "start_time": "2023-09-28T18:43:47.138Z"
   },
   {
    "duration": 12,
    "start_time": "2023-09-28T18:43:51.119Z"
   },
   {
    "duration": 175,
    "start_time": "2023-09-28T18:44:50.545Z"
   },
   {
    "duration": 3,
    "start_time": "2023-09-28T20:04:35.077Z"
   },
   {
    "duration": 281,
    "start_time": "2023-09-28T20:04:35.082Z"
   },
   {
    "duration": 89,
    "start_time": "2023-09-28T20:04:35.365Z"
   },
   {
    "duration": 39,
    "start_time": "2023-09-28T20:04:35.456Z"
   },
   {
    "duration": 126,
    "start_time": "2023-09-28T20:04:35.497Z"
   },
   {
    "duration": 159,
    "start_time": "2023-09-28T20:04:35.625Z"
   },
   {
    "duration": 87,
    "start_time": "2023-09-28T20:04:35.786Z"
   },
   {
    "duration": 43,
    "start_time": "2023-09-28T20:04:35.875Z"
   },
   {
    "duration": 22,
    "start_time": "2023-09-28T20:04:35.920Z"
   },
   {
    "duration": 36,
    "start_time": "2023-09-28T20:04:35.943Z"
   },
   {
    "duration": 39,
    "start_time": "2023-09-28T20:04:35.980Z"
   },
   {
    "duration": 32,
    "start_time": "2023-09-28T20:04:36.021Z"
   },
   {
    "duration": 51,
    "start_time": "2023-09-28T20:04:36.054Z"
   },
   {
    "duration": 85,
    "start_time": "2023-09-28T20:04:36.107Z"
   },
   {
    "duration": 7,
    "start_time": "2023-09-28T20:04:43.304Z"
   },
   {
    "duration": 50,
    "start_time": "2023-09-29T13:19:31.744Z"
   },
   {
    "duration": 1449,
    "start_time": "2023-09-29T13:19:38.674Z"
   },
   {
    "duration": 104,
    "start_time": "2023-09-29T13:19:40.126Z"
   },
   {
    "duration": 177,
    "start_time": "2023-09-29T13:19:40.231Z"
   },
   {
    "duration": 65,
    "start_time": "2023-09-29T13:19:40.410Z"
   },
   {
    "duration": 13,
    "start_time": "2023-09-29T13:19:40.478Z"
   },
   {
    "duration": 158,
    "start_time": "2023-09-29T13:19:40.492Z"
   },
   {
    "duration": 16,
    "start_time": "2023-09-29T13:19:40.652Z"
   },
   {
    "duration": 23,
    "start_time": "2023-09-29T13:19:40.670Z"
   },
   {
    "duration": 7,
    "start_time": "2023-09-29T13:19:40.695Z"
   },
   {
    "duration": 28,
    "start_time": "2023-09-29T13:19:40.704Z"
   },
   {
    "duration": 27,
    "start_time": "2023-09-29T13:19:40.734Z"
   },
   {
    "duration": 18,
    "start_time": "2023-09-29T13:19:40.763Z"
   },
   {
    "duration": 15,
    "start_time": "2023-09-29T13:19:40.782Z"
   },
   {
    "duration": 48,
    "start_time": "2023-09-29T13:19:40.800Z"
   },
   {
    "duration": 16,
    "start_time": "2023-09-29T13:19:40.850Z"
   },
   {
    "duration": 166,
    "start_time": "2023-09-29T13:43:13.805Z"
   },
   {
    "duration": 6,
    "start_time": "2023-09-29T13:46:33.115Z"
   },
   {
    "duration": 4,
    "start_time": "2023-09-29T13:46:36.786Z"
   },
   {
    "duration": 52,
    "start_time": "2023-09-29T13:46:36.794Z"
   },
   {
    "duration": 37,
    "start_time": "2023-09-29T13:46:36.849Z"
   },
   {
    "duration": 22,
    "start_time": "2023-09-29T13:46:36.888Z"
   },
   {
    "duration": 12,
    "start_time": "2023-09-29T13:46:36.912Z"
   },
   {
    "duration": 31,
    "start_time": "2023-09-29T13:46:36.926Z"
   },
   {
    "duration": 25,
    "start_time": "2023-09-29T13:46:36.960Z"
   },
   {
    "duration": 28,
    "start_time": "2023-09-29T13:46:36.987Z"
   },
   {
    "duration": 10,
    "start_time": "2023-09-29T13:46:37.017Z"
   },
   {
    "duration": 26,
    "start_time": "2023-09-29T13:46:37.031Z"
   },
   {
    "duration": 10,
    "start_time": "2023-09-29T13:46:37.058Z"
   },
   {
    "duration": 5,
    "start_time": "2023-09-29T13:46:37.070Z"
   },
   {
    "duration": 29,
    "start_time": "2023-09-29T13:46:37.077Z"
   },
   {
    "duration": 13,
    "start_time": "2023-09-29T13:46:37.107Z"
   },
   {
    "duration": 65,
    "start_time": "2023-09-29T13:46:37.122Z"
   },
   {
    "duration": 189,
    "start_time": "2023-09-29T13:46:37.189Z"
   },
   {
    "duration": 6,
    "start_time": "2023-09-29T13:46:37.380Z"
   },
   {
    "duration": 6,
    "start_time": "2023-09-29T13:48:36.274Z"
   },
   {
    "duration": 67,
    "start_time": "2023-09-29T13:49:37.564Z"
   },
   {
    "duration": 95,
    "start_time": "2023-09-29T13:49:49.714Z"
   },
   {
    "duration": 164,
    "start_time": "2023-09-29T13:50:16.914Z"
   },
   {
    "duration": 8,
    "start_time": "2023-09-29T13:50:24.763Z"
   },
   {
    "duration": 166,
    "start_time": "2023-09-29T13:50:25.694Z"
   },
   {
    "duration": 9,
    "start_time": "2023-09-29T13:51:50.078Z"
   },
   {
    "duration": 99,
    "start_time": "2023-09-29T13:51:52.277Z"
   },
   {
    "duration": 7,
    "start_time": "2023-09-29T13:54:02.986Z"
   },
   {
    "duration": 10,
    "start_time": "2023-09-29T13:54:33.992Z"
   },
   {
    "duration": 88,
    "start_time": "2023-09-29T13:54:35.836Z"
   },
   {
    "duration": 12,
    "start_time": "2023-09-29T13:55:18.827Z"
   },
   {
    "duration": 439,
    "start_time": "2023-09-29T13:56:41.360Z"
   },
   {
    "duration": 572,
    "start_time": "2023-09-29T13:57:29.927Z"
   },
   {
    "duration": 517,
    "start_time": "2023-09-29T13:57:37.844Z"
   },
   {
    "duration": 44,
    "start_time": "2023-09-29T20:59:27.305Z"
   },
   {
    "duration": 1265,
    "start_time": "2023-09-29T20:59:32.164Z"
   },
   {
    "duration": 88,
    "start_time": "2023-09-29T20:59:33.432Z"
   },
   {
    "duration": 77,
    "start_time": "2023-09-29T20:59:33.521Z"
   },
   {
    "duration": 58,
    "start_time": "2023-09-29T20:59:33.600Z"
   },
   {
    "duration": 11,
    "start_time": "2023-09-29T20:59:33.660Z"
   },
   {
    "duration": 17,
    "start_time": "2023-09-29T20:59:33.673Z"
   },
   {
    "duration": 14,
    "start_time": "2023-09-29T20:59:33.692Z"
   },
   {
    "duration": 26,
    "start_time": "2023-09-29T20:59:33.707Z"
   },
   {
    "duration": 13,
    "start_time": "2023-09-29T20:59:33.735Z"
   },
   {
    "duration": 6,
    "start_time": "2023-09-29T20:59:33.749Z"
   },
   {
    "duration": 23,
    "start_time": "2023-09-29T20:59:33.757Z"
   },
   {
    "duration": 12,
    "start_time": "2023-09-29T20:59:33.782Z"
   },
   {
    "duration": 14,
    "start_time": "2023-09-29T20:59:33.795Z"
   },
   {
    "duration": 5,
    "start_time": "2023-09-29T20:59:33.812Z"
   },
   {
    "duration": 13,
    "start_time": "2023-09-29T20:59:33.819Z"
   },
   {
    "duration": 167,
    "start_time": "2023-09-29T20:59:33.834Z"
   },
   {
    "duration": 5,
    "start_time": "2023-09-29T20:59:34.003Z"
   },
   {
    "duration": 15,
    "start_time": "2023-09-29T20:59:34.010Z"
   },
   {
    "duration": 103,
    "start_time": "2023-09-29T20:59:34.027Z"
   },
   {
    "duration": 5,
    "start_time": "2023-09-29T20:59:34.131Z"
   },
   {
    "duration": 12,
    "start_time": "2023-09-29T20:59:34.138Z"
   },
   {
    "duration": 456,
    "start_time": "2023-09-29T20:59:34.152Z"
   },
   {
    "duration": 6,
    "start_time": "2023-09-29T20:59:34.610Z"
   },
   {
    "duration": 16,
    "start_time": "2023-09-29T21:00:40.906Z"
   },
   {
    "duration": 1179,
    "start_time": "2023-09-29T21:14:27.485Z"
   },
   {
    "duration": 39,
    "start_time": "2023-09-29T21:14:28.667Z"
   },
   {
    "duration": 34,
    "start_time": "2023-09-29T21:14:28.708Z"
   },
   {
    "duration": 20,
    "start_time": "2023-09-29T21:14:28.744Z"
   },
   {
    "duration": 14,
    "start_time": "2023-09-29T21:14:28.766Z"
   },
   {
    "duration": 27,
    "start_time": "2023-09-29T21:14:28.782Z"
   },
   {
    "duration": 14,
    "start_time": "2023-09-29T21:14:28.811Z"
   },
   {
    "duration": 32,
    "start_time": "2023-09-29T21:14:28.827Z"
   },
   {
    "duration": 19,
    "start_time": "2023-09-29T21:14:28.861Z"
   },
   {
    "duration": 16,
    "start_time": "2023-09-29T21:14:28.882Z"
   },
   {
    "duration": 15,
    "start_time": "2023-09-29T21:14:28.900Z"
   },
   {
    "duration": 26,
    "start_time": "2023-09-29T21:14:28.916Z"
   },
   {
    "duration": 27,
    "start_time": "2023-09-29T21:14:28.944Z"
   },
   {
    "duration": 10,
    "start_time": "2023-09-29T21:14:28.974Z"
   },
   {
    "duration": 34,
    "start_time": "2023-09-29T21:14:28.986Z"
   },
   {
    "duration": 180,
    "start_time": "2023-09-29T21:14:29.022Z"
   },
   {
    "duration": 5,
    "start_time": "2023-09-29T21:14:29.204Z"
   },
   {
    "duration": 28,
    "start_time": "2023-09-29T21:14:29.211Z"
   },
   {
    "duration": 102,
    "start_time": "2023-09-29T21:14:29.240Z"
   },
   {
    "duration": 11,
    "start_time": "2023-09-29T21:14:29.344Z"
   },
   {
    "duration": 22,
    "start_time": "2023-09-29T21:14:29.357Z"
   },
   {
    "duration": 488,
    "start_time": "2023-09-29T21:14:29.380Z"
   },
   {
    "duration": 99,
    "start_time": "2023-09-29T21:14:29.870Z"
   },
   {
    "duration": 0,
    "start_time": "2023-09-29T21:14:29.970Z"
   },
   {
    "duration": 8,
    "start_time": "2023-09-29T21:14:39.566Z"
   },
   {
    "duration": 12,
    "start_time": "2023-09-29T21:15:29.121Z"
   },
   {
    "duration": 18,
    "start_time": "2023-09-29T21:16:29.453Z"
   },
   {
    "duration": 1259,
    "start_time": "2023-09-29T21:17:20.124Z"
   },
   {
    "duration": 39,
    "start_time": "2023-09-29T21:17:21.385Z"
   },
   {
    "duration": 49,
    "start_time": "2023-09-29T21:17:21.426Z"
   },
   {
    "duration": 24,
    "start_time": "2023-09-29T21:17:21.477Z"
   },
   {
    "duration": 18,
    "start_time": "2023-09-29T21:17:21.504Z"
   },
   {
    "duration": 32,
    "start_time": "2023-09-29T21:17:21.524Z"
   },
   {
    "duration": 38,
    "start_time": "2023-09-29T21:17:21.558Z"
   },
   {
    "duration": 33,
    "start_time": "2023-09-29T21:17:21.598Z"
   },
   {
    "duration": 6,
    "start_time": "2023-09-29T21:17:21.633Z"
   },
   {
    "duration": 5,
    "start_time": "2023-09-29T21:17:21.641Z"
   },
   {
    "duration": 32,
    "start_time": "2023-09-29T21:17:21.648Z"
   },
   {
    "duration": 14,
    "start_time": "2023-09-29T21:17:21.682Z"
   },
   {
    "duration": 22,
    "start_time": "2023-09-29T21:17:21.698Z"
   },
   {
    "duration": 17,
    "start_time": "2023-09-29T21:17:21.722Z"
   },
   {
    "duration": 24,
    "start_time": "2023-09-29T21:17:21.741Z"
   },
   {
    "duration": 168,
    "start_time": "2023-09-29T21:17:21.767Z"
   },
   {
    "duration": 12,
    "start_time": "2023-09-29T21:17:21.937Z"
   },
   {
    "duration": 55,
    "start_time": "2023-09-29T21:17:21.951Z"
   },
   {
    "duration": 122,
    "start_time": "2023-09-29T21:17:22.009Z"
   },
   {
    "duration": 16,
    "start_time": "2023-09-29T21:17:22.134Z"
   },
   {
    "duration": 39,
    "start_time": "2023-09-29T21:17:22.152Z"
   },
   {
    "duration": 457,
    "start_time": "2023-09-29T21:17:22.193Z"
   },
   {
    "duration": 20,
    "start_time": "2023-09-29T21:17:22.653Z"
   },
   {
    "duration": 1290,
    "start_time": "2023-09-30T16:58:57.688Z"
   },
   {
    "duration": 104,
    "start_time": "2023-09-30T16:58:58.979Z"
   },
   {
    "duration": 73,
    "start_time": "2023-09-30T16:58:59.085Z"
   },
   {
    "duration": 58,
    "start_time": "2023-09-30T16:58:59.160Z"
   },
   {
    "duration": 12,
    "start_time": "2023-09-30T16:58:59.219Z"
   },
   {
    "duration": 24,
    "start_time": "2023-09-30T16:58:59.232Z"
   },
   {
    "duration": 9,
    "start_time": "2023-09-30T16:58:59.258Z"
   },
   {
    "duration": 18,
    "start_time": "2023-09-30T16:58:59.268Z"
   },
   {
    "duration": 6,
    "start_time": "2023-09-30T16:58:59.288Z"
   },
   {
    "duration": 21,
    "start_time": "2023-09-30T16:58:59.296Z"
   },
   {
    "duration": 20,
    "start_time": "2023-09-30T16:58:59.319Z"
   },
   {
    "duration": 24,
    "start_time": "2023-09-30T16:58:59.341Z"
   },
   {
    "duration": 20,
    "start_time": "2023-09-30T16:58:59.366Z"
   },
   {
    "duration": 28,
    "start_time": "2023-09-30T16:58:59.388Z"
   },
   {
    "duration": 16,
    "start_time": "2023-09-30T16:58:59.418Z"
   },
   {
    "duration": 185,
    "start_time": "2023-09-30T16:58:59.435Z"
   },
   {
    "duration": 5,
    "start_time": "2023-09-30T16:58:59.622Z"
   },
   {
    "duration": 32,
    "start_time": "2023-09-30T16:58:59.628Z"
   },
   {
    "duration": 91,
    "start_time": "2023-09-30T16:58:59.662Z"
   },
   {
    "duration": 7,
    "start_time": "2023-09-30T16:58:59.755Z"
   },
   {
    "duration": 11,
    "start_time": "2023-09-30T16:58:59.764Z"
   },
   {
    "duration": 506,
    "start_time": "2023-09-30T16:58:59.777Z"
   },
   {
    "duration": 18,
    "start_time": "2023-09-30T16:59:00.285Z"
   },
   {
    "duration": 7,
    "start_time": "2023-09-30T17:01:03.968Z"
   },
   {
    "duration": 10,
    "start_time": "2023-09-30T17:09:34.401Z"
   },
   {
    "duration": 7,
    "start_time": "2023-09-30T17:09:46.570Z"
   },
   {
    "duration": 269,
    "start_time": "2023-09-30T17:10:36.996Z"
   },
   {
    "duration": 146,
    "start_time": "2023-09-30T17:12:29.429Z"
   },
   {
    "duration": 451,
    "start_time": "2023-09-30T17:12:43.271Z"
   },
   {
    "duration": 209,
    "start_time": "2023-09-30T17:14:24.947Z"
   },
   {
    "duration": 133,
    "start_time": "2023-09-30T17:14:52.066Z"
   },
   {
    "duration": 139,
    "start_time": "2023-09-30T17:14:57.908Z"
   },
   {
    "duration": 11,
    "start_time": "2023-09-30T17:36:29.025Z"
   },
   {
    "duration": 16,
    "start_time": "2023-09-30T17:37:19.895Z"
   },
   {
    "duration": 14,
    "start_time": "2023-09-30T17:37:27.675Z"
   },
   {
    "duration": 14,
    "start_time": "2023-09-30T17:37:29.616Z"
   },
   {
    "duration": 4,
    "start_time": "2023-09-30T17:37:33.509Z"
   },
   {
    "duration": 69,
    "start_time": "2023-09-30T17:37:33.514Z"
   },
   {
    "duration": 34,
    "start_time": "2023-09-30T17:37:33.585Z"
   },
   {
    "duration": 21,
    "start_time": "2023-09-30T17:37:33.621Z"
   },
   {
    "duration": 17,
    "start_time": "2023-09-30T17:37:33.644Z"
   },
   {
    "duration": 24,
    "start_time": "2023-09-30T17:37:33.663Z"
   },
   {
    "duration": 27,
    "start_time": "2023-09-30T17:37:33.689Z"
   },
   {
    "duration": 47,
    "start_time": "2023-09-30T17:37:33.718Z"
   },
   {
    "duration": 32,
    "start_time": "2023-09-30T17:37:33.767Z"
   },
   {
    "duration": 13,
    "start_time": "2023-09-30T17:37:33.801Z"
   },
   {
    "duration": 9,
    "start_time": "2023-09-30T17:37:33.817Z"
   },
   {
    "duration": 18,
    "start_time": "2023-09-30T17:37:33.828Z"
   },
   {
    "duration": 13,
    "start_time": "2023-09-30T17:37:33.847Z"
   },
   {
    "duration": 10,
    "start_time": "2023-09-30T17:37:33.861Z"
   },
   {
    "duration": 16,
    "start_time": "2023-09-30T17:37:33.872Z"
   },
   {
    "duration": 157,
    "start_time": "2023-09-30T17:37:33.889Z"
   },
   {
    "duration": 8,
    "start_time": "2023-09-30T17:37:34.048Z"
   },
   {
    "duration": 31,
    "start_time": "2023-09-30T17:37:34.058Z"
   },
   {
    "duration": 0,
    "start_time": "2023-09-30T17:37:34.091Z"
   },
   {
    "duration": 0,
    "start_time": "2023-09-30T17:37:34.092Z"
   },
   {
    "duration": 0,
    "start_time": "2023-09-30T17:37:34.093Z"
   },
   {
    "duration": 0,
    "start_time": "2023-09-30T17:37:34.094Z"
   },
   {
    "duration": 0,
    "start_time": "2023-09-30T17:37:34.096Z"
   },
   {
    "duration": 0,
    "start_time": "2023-09-30T17:37:34.097Z"
   },
   {
    "duration": 9,
    "start_time": "2023-09-30T17:37:51.020Z"
   },
   {
    "duration": 14,
    "start_time": "2023-09-30T17:37:51.654Z"
   },
   {
    "duration": 6,
    "start_time": "2023-09-30T17:38:10.228Z"
   },
   {
    "duration": 8,
    "start_time": "2023-09-30T17:38:11.123Z"
   },
   {
    "duration": 8,
    "start_time": "2023-09-30T17:39:49.634Z"
   },
   {
    "duration": 17,
    "start_time": "2023-09-30T17:40:04.373Z"
   },
   {
    "duration": 6,
    "start_time": "2023-09-30T17:40:11.924Z"
   },
   {
    "duration": 11,
    "start_time": "2023-09-30T17:40:12.427Z"
   },
   {
    "duration": 7,
    "start_time": "2023-09-30T17:40:21.413Z"
   },
   {
    "duration": 86,
    "start_time": "2023-09-30T17:40:35.159Z"
   },
   {
    "duration": 111,
    "start_time": "2023-09-30T17:40:50.988Z"
   },
   {
    "duration": 93,
    "start_time": "2023-09-30T17:41:07.822Z"
   },
   {
    "duration": 103,
    "start_time": "2023-09-30T17:41:13.810Z"
   },
   {
    "duration": 93,
    "start_time": "2023-09-30T17:41:25.663Z"
   },
   {
    "duration": 95,
    "start_time": "2023-09-30T17:41:32.723Z"
   },
   {
    "duration": 139,
    "start_time": "2023-09-30T17:41:40.324Z"
   },
   {
    "duration": 133,
    "start_time": "2023-09-30T17:41:45.273Z"
   },
   {
    "duration": 218,
    "start_time": "2023-09-30T17:41:52.168Z"
   },
   {
    "duration": 90,
    "start_time": "2023-09-30T17:44:46.790Z"
   },
   {
    "duration": 92,
    "start_time": "2023-09-30T17:44:52.370Z"
   },
   {
    "duration": 89,
    "start_time": "2023-09-30T17:45:01.685Z"
   },
   {
    "duration": 92,
    "start_time": "2023-09-30T17:45:49.822Z"
   },
   {
    "duration": 5,
    "start_time": "2023-09-30T17:45:58.252Z"
   },
   {
    "duration": 6,
    "start_time": "2023-09-30T17:46:06.093Z"
   },
   {
    "duration": 6,
    "start_time": "2023-09-30T17:46:32.658Z"
   },
   {
    "duration": 6,
    "start_time": "2023-09-30T17:46:38.833Z"
   },
   {
    "duration": 6,
    "start_time": "2023-09-30T17:47:04.963Z"
   },
   {
    "duration": 8,
    "start_time": "2023-09-30T17:47:17.876Z"
   },
   {
    "duration": 141,
    "start_time": "2023-09-30T17:47:23.325Z"
   },
   {
    "duration": 86,
    "start_time": "2023-09-30T17:48:59.259Z"
   },
   {
    "duration": 107,
    "start_time": "2023-09-30T17:49:04.498Z"
   },
   {
    "duration": 96,
    "start_time": "2023-09-30T17:49:07.171Z"
   },
   {
    "duration": 95,
    "start_time": "2023-09-30T17:49:11.394Z"
   },
   {
    "duration": 94,
    "start_time": "2023-09-30T17:49:20.496Z"
   },
   {
    "duration": 91,
    "start_time": "2023-09-30T17:49:26.259Z"
   },
   {
    "duration": 108,
    "start_time": "2023-09-30T17:49:49.555Z"
   },
   {
    "duration": 421,
    "start_time": "2023-09-30T17:50:28.864Z"
   },
   {
    "duration": 7,
    "start_time": "2023-09-30T17:50:52.652Z"
   },
   {
    "duration": 6,
    "start_time": "2023-09-30T17:50:56.591Z"
   },
   {
    "duration": 4,
    "start_time": "2023-09-30T17:54:19.637Z"
   },
   {
    "duration": 10,
    "start_time": "2023-09-30T17:55:28.514Z"
   },
   {
    "duration": 227,
    "start_time": "2023-09-30T17:55:33.843Z"
   },
   {
    "duration": 138,
    "start_time": "2023-09-30T17:55:47.875Z"
   },
   {
    "duration": 146,
    "start_time": "2023-09-30T17:56:11.128Z"
   },
   {
    "duration": 152,
    "start_time": "2023-09-30T17:56:18.452Z"
   },
   {
    "duration": 11,
    "start_time": "2023-09-30T17:57:35.080Z"
   },
   {
    "duration": 156,
    "start_time": "2023-09-30T17:57:38.939Z"
   },
   {
    "duration": 159,
    "start_time": "2023-09-30T17:57:42.550Z"
   },
   {
    "duration": 18,
    "start_time": "2023-09-30T17:59:25.980Z"
   },
   {
    "duration": 18,
    "start_time": "2023-09-30T18:00:29.922Z"
   },
   {
    "duration": 19,
    "start_time": "2023-09-30T18:00:42.610Z"
   },
   {
    "duration": 5,
    "start_time": "2023-09-30T18:01:03.566Z"
   },
   {
    "duration": 25,
    "start_time": "2023-09-30T18:01:16.429Z"
   },
   {
    "duration": 20,
    "start_time": "2023-09-30T18:01:32.243Z"
   },
   {
    "duration": 154,
    "start_time": "2023-09-30T18:02:58.034Z"
   },
   {
    "duration": 161,
    "start_time": "2023-09-30T18:03:27.478Z"
   },
   {
    "duration": 185,
    "start_time": "2023-09-30T18:04:00.339Z"
   },
   {
    "duration": 162,
    "start_time": "2023-09-30T18:04:06.911Z"
   },
   {
    "duration": 178,
    "start_time": "2023-09-30T18:04:13.697Z"
   },
   {
    "duration": 260,
    "start_time": "2023-09-30T18:04:21.715Z"
   },
   {
    "duration": 191,
    "start_time": "2023-09-30T18:04:28.580Z"
   },
   {
    "duration": 221,
    "start_time": "2023-09-30T18:04:34.451Z"
   },
   {
    "duration": 141,
    "start_time": "2023-09-30T18:04:39.653Z"
   },
   {
    "duration": 195,
    "start_time": "2023-09-30T18:05:02.224Z"
   },
   {
    "duration": 7,
    "start_time": "2023-09-30T18:06:15.707Z"
   },
   {
    "duration": 8,
    "start_time": "2023-09-30T18:07:03.714Z"
   },
   {
    "duration": 4,
    "start_time": "2023-09-30T18:07:22.953Z"
   },
   {
    "duration": 53,
    "start_time": "2023-09-30T18:07:22.959Z"
   },
   {
    "duration": 37,
    "start_time": "2023-09-30T18:07:23.014Z"
   },
   {
    "duration": 19,
    "start_time": "2023-09-30T18:07:23.053Z"
   },
   {
    "duration": 10,
    "start_time": "2023-09-30T18:07:23.073Z"
   },
   {
    "duration": 16,
    "start_time": "2023-09-30T18:07:23.084Z"
   },
   {
    "duration": 26,
    "start_time": "2023-09-30T18:07:23.101Z"
   },
   {
    "duration": 26,
    "start_time": "2023-09-30T18:07:23.128Z"
   },
   {
    "duration": 28,
    "start_time": "2023-09-30T18:07:23.157Z"
   },
   {
    "duration": 17,
    "start_time": "2023-09-30T18:07:23.186Z"
   },
   {
    "duration": 43,
    "start_time": "2023-09-30T18:07:23.205Z"
   },
   {
    "duration": 26,
    "start_time": "2023-09-30T18:07:23.250Z"
   },
   {
    "duration": 14,
    "start_time": "2023-09-30T18:07:23.277Z"
   },
   {
    "duration": 5,
    "start_time": "2023-09-30T18:07:23.293Z"
   },
   {
    "duration": 13,
    "start_time": "2023-09-30T18:07:23.300Z"
   },
   {
    "duration": 159,
    "start_time": "2023-09-30T18:07:23.315Z"
   },
   {
    "duration": 5,
    "start_time": "2023-09-30T18:07:23.475Z"
   },
   {
    "duration": 25,
    "start_time": "2023-09-30T18:07:23.482Z"
   },
   {
    "duration": 109,
    "start_time": "2023-09-30T18:07:23.508Z"
   },
   {
    "duration": 6,
    "start_time": "2023-09-30T18:07:23.619Z"
   },
   {
    "duration": 214,
    "start_time": "2023-09-30T18:07:23.626Z"
   },
   {
    "duration": 10,
    "start_time": "2023-09-30T18:07:23.841Z"
   },
   {
    "duration": 164,
    "start_time": "2023-09-30T18:07:23.853Z"
   },
   {
    "duration": 6,
    "start_time": "2023-09-30T18:07:24.020Z"
   },
   {
    "duration": 9,
    "start_time": "2023-09-30T18:07:34.642Z"
   },
   {
    "duration": 155,
    "start_time": "2023-09-30T18:07:35.184Z"
   },
   {
    "duration": 18,
    "start_time": "2023-09-30T18:07:51.751Z"
   },
   {
    "duration": 20,
    "start_time": "2023-09-30T18:08:03.552Z"
   },
   {
    "duration": 19,
    "start_time": "2023-09-30T18:08:12.125Z"
   },
   {
    "duration": 19,
    "start_time": "2023-09-30T18:08:17.682Z"
   },
   {
    "duration": 19,
    "start_time": "2023-09-30T18:08:29.910Z"
   },
   {
    "duration": 10,
    "start_time": "2023-09-30T18:08:57.224Z"
   },
   {
    "duration": 230,
    "start_time": "2023-09-30T18:08:58.334Z"
   },
   {
    "duration": 8,
    "start_time": "2023-09-30T18:11:06.997Z"
   },
   {
    "duration": 5,
    "start_time": "2023-09-30T18:11:09.908Z"
   },
   {
    "duration": 7,
    "start_time": "2023-09-30T18:11:16.911Z"
   },
   {
    "duration": 9,
    "start_time": "2023-09-30T18:26:59.316Z"
   },
   {
    "duration": 10,
    "start_time": "2023-09-30T18:27:22.224Z"
   },
   {
    "duration": 142,
    "start_time": "2023-09-30T18:27:23.464Z"
   },
   {
    "duration": 144,
    "start_time": "2023-09-30T18:32:27.421Z"
   },
   {
    "duration": 157,
    "start_time": "2023-09-30T18:32:47.034Z"
   },
   {
    "duration": 182,
    "start_time": "2023-09-30T18:32:52.977Z"
   },
   {
    "duration": 149,
    "start_time": "2023-09-30T18:32:56.977Z"
   },
   {
    "duration": 195,
    "start_time": "2023-09-30T18:57:20.295Z"
   },
   {
    "duration": 161,
    "start_time": "2023-09-30T18:57:30.251Z"
   },
   {
    "duration": 8,
    "start_time": "2023-09-30T18:59:27.874Z"
   },
   {
    "duration": 6,
    "start_time": "2023-09-30T18:59:35.516Z"
   },
   {
    "duration": 160,
    "start_time": "2023-09-30T18:59:35.966Z"
   },
   {
    "duration": 157,
    "start_time": "2023-09-30T19:01:35.371Z"
   },
   {
    "duration": 215,
    "start_time": "2023-09-30T19:01:41.557Z"
   },
   {
    "duration": 137,
    "start_time": "2023-09-30T19:02:52.488Z"
   },
   {
    "duration": 3,
    "start_time": "2023-09-30T20:23:14.368Z"
   },
   {
    "duration": 52,
    "start_time": "2023-09-30T20:23:14.372Z"
   },
   {
    "duration": 40,
    "start_time": "2023-09-30T20:23:14.426Z"
   },
   {
    "duration": 22,
    "start_time": "2023-09-30T20:23:14.469Z"
   },
   {
    "duration": 12,
    "start_time": "2023-09-30T20:23:14.493Z"
   },
   {
    "duration": 35,
    "start_time": "2023-09-30T20:23:14.507Z"
   },
   {
    "duration": 22,
    "start_time": "2023-09-30T20:23:14.543Z"
   },
   {
    "duration": 25,
    "start_time": "2023-09-30T20:23:14.567Z"
   },
   {
    "duration": 13,
    "start_time": "2023-09-30T20:23:14.595Z"
   },
   {
    "duration": 23,
    "start_time": "2023-09-30T20:23:14.610Z"
   },
   {
    "duration": 9,
    "start_time": "2023-09-30T20:23:14.634Z"
   },
   {
    "duration": 10,
    "start_time": "2023-09-30T20:23:14.645Z"
   },
   {
    "duration": 8,
    "start_time": "2023-09-30T20:23:14.657Z"
   },
   {
    "duration": 9,
    "start_time": "2023-09-30T20:23:14.667Z"
   },
   {
    "duration": 12,
    "start_time": "2023-09-30T20:23:14.678Z"
   },
   {
    "duration": 145,
    "start_time": "2023-09-30T20:23:14.691Z"
   },
   {
    "duration": 9,
    "start_time": "2023-09-30T20:23:14.837Z"
   },
   {
    "duration": 12,
    "start_time": "2023-09-30T20:23:14.848Z"
   },
   {
    "duration": 99,
    "start_time": "2023-09-30T20:23:14.861Z"
   },
   {
    "duration": 5,
    "start_time": "2023-09-30T20:23:14.962Z"
   },
   {
    "duration": 159,
    "start_time": "2023-09-30T20:23:14.969Z"
   },
   {
    "duration": 17,
    "start_time": "2023-09-30T20:23:15.130Z"
   },
   {
    "duration": 182,
    "start_time": "2023-09-30T20:23:15.149Z"
   },
   {
    "duration": 9,
    "start_time": "2023-09-30T20:23:15.335Z"
   },
   {
    "duration": 163,
    "start_time": "2023-09-30T20:23:15.346Z"
   },
   {
    "duration": 12,
    "start_time": "2023-09-30T20:24:18.630Z"
   },
   {
    "duration": 10,
    "start_time": "2023-09-30T20:24:29.001Z"
   },
   {
    "duration": 13,
    "start_time": "2023-09-30T20:24:51.891Z"
   },
   {
    "duration": 142,
    "start_time": "2023-09-30T20:24:55.898Z"
   },
   {
    "duration": 113,
    "start_time": "2023-09-30T20:28:40.976Z"
   },
   {
    "duration": 108,
    "start_time": "2023-09-30T20:29:32.495Z"
   },
   {
    "duration": 111,
    "start_time": "2023-09-30T20:29:56.564Z"
   },
   {
    "duration": 210,
    "start_time": "2023-09-30T20:29:59.963Z"
   },
   {
    "duration": 81,
    "start_time": "2023-09-30T20:30:50.360Z"
   },
   {
    "duration": 126,
    "start_time": "2023-09-30T20:30:57.266Z"
   },
   {
    "duration": 128,
    "start_time": "2023-09-30T20:33:42.946Z"
   },
   {
    "duration": 115,
    "start_time": "2023-09-30T20:34:06.473Z"
   },
   {
    "duration": 130,
    "start_time": "2023-09-30T20:34:49.105Z"
   },
   {
    "duration": 137,
    "start_time": "2023-09-30T20:38:05.803Z"
   },
   {
    "duration": 156,
    "start_time": "2023-09-30T20:38:11.746Z"
   },
   {
    "duration": 145,
    "start_time": "2023-09-30T20:38:37.380Z"
   },
   {
    "duration": 136,
    "start_time": "2023-09-30T20:39:29.744Z"
   },
   {
    "duration": 10,
    "start_time": "2023-09-30T20:54:15.887Z"
   },
   {
    "duration": 26,
    "start_time": "2023-09-30T20:54:25.353Z"
   },
   {
    "duration": 29,
    "start_time": "2023-09-30T20:54:56.633Z"
   },
   {
    "duration": 29,
    "start_time": "2023-09-30T21:09:31.943Z"
   },
   {
    "duration": 14,
    "start_time": "2023-09-30T21:09:39.337Z"
   },
   {
    "duration": 26,
    "start_time": "2023-09-30T21:09:46.247Z"
   },
   {
    "duration": 19,
    "start_time": "2023-09-30T21:10:33.144Z"
   },
   {
    "duration": 168,
    "start_time": "2023-09-30T21:17:13.710Z"
   },
   {
    "duration": 111,
    "start_time": "2023-09-30T21:18:17.095Z"
   },
   {
    "duration": 357,
    "start_time": "2023-09-30T21:18:30.462Z"
   },
   {
    "duration": 270,
    "start_time": "2023-09-30T21:19:33.078Z"
   },
   {
    "duration": 296,
    "start_time": "2023-09-30T21:19:40.551Z"
   },
   {
    "duration": 284,
    "start_time": "2023-09-30T21:19:59.234Z"
   },
   {
    "duration": 292,
    "start_time": "2023-09-30T21:22:04.453Z"
   },
   {
    "duration": 298,
    "start_time": "2023-09-30T21:22:11.145Z"
   },
   {
    "duration": 370,
    "start_time": "2023-09-30T21:22:20.468Z"
   },
   {
    "duration": 1386,
    "start_time": "2023-10-01T06:50:21.763Z"
   },
   {
    "duration": 85,
    "start_time": "2023-10-01T06:50:23.151Z"
   },
   {
    "duration": 78,
    "start_time": "2023-10-01T06:50:23.238Z"
   },
   {
    "duration": 56,
    "start_time": "2023-10-01T06:50:23.318Z"
   },
   {
    "duration": 13,
    "start_time": "2023-10-01T06:50:23.376Z"
   },
   {
    "duration": 22,
    "start_time": "2023-10-01T06:50:23.391Z"
   },
   {
    "duration": 17,
    "start_time": "2023-10-01T06:50:23.415Z"
   },
   {
    "duration": 27,
    "start_time": "2023-10-01T06:50:23.434Z"
   },
   {
    "duration": 9,
    "start_time": "2023-10-01T06:50:23.463Z"
   },
   {
    "duration": 26,
    "start_time": "2023-10-01T06:50:23.476Z"
   },
   {
    "duration": 24,
    "start_time": "2023-10-01T06:50:23.504Z"
   },
   {
    "duration": 11,
    "start_time": "2023-10-01T06:50:23.531Z"
   },
   {
    "duration": 28,
    "start_time": "2023-10-01T06:50:23.544Z"
   },
   {
    "duration": 10,
    "start_time": "2023-10-01T06:50:23.574Z"
   },
   {
    "duration": 20,
    "start_time": "2023-10-01T06:50:23.586Z"
   },
   {
    "duration": 169,
    "start_time": "2023-10-01T06:50:23.609Z"
   },
   {
    "duration": 21,
    "start_time": "2023-10-01T06:50:23.781Z"
   },
   {
    "duration": 12,
    "start_time": "2023-10-01T06:50:23.803Z"
   },
   {
    "duration": 124,
    "start_time": "2023-10-01T06:50:23.817Z"
   },
   {
    "duration": 18,
    "start_time": "2023-10-01T06:50:23.943Z"
   },
   {
    "duration": 215,
    "start_time": "2023-10-01T06:50:23.962Z"
   },
   {
    "duration": 22,
    "start_time": "2023-10-01T06:50:24.180Z"
   },
   {
    "duration": 196,
    "start_time": "2023-10-01T06:50:24.205Z"
   },
   {
    "duration": 174,
    "start_time": "2023-10-01T06:50:24.403Z"
   },
   {
    "duration": 32,
    "start_time": "2023-10-01T06:50:24.579Z"
   },
   {
    "duration": 494,
    "start_time": "2023-10-01T06:50:24.614Z"
   },
   {
    "duration": 331,
    "start_time": "2023-10-01T06:50:25.110Z"
   },
   {
    "duration": 103,
    "start_time": "2023-10-01T06:50:25.444Z"
   },
   {
    "duration": 86,
    "start_time": "2023-10-01T06:50:25.549Z"
   },
   {
    "duration": 91,
    "start_time": "2023-10-01T06:50:25.637Z"
   },
   {
    "duration": 802,
    "start_time": "2023-10-01T06:50:25.730Z"
   },
   {
    "duration": 587,
    "start_time": "2023-10-01T06:50:26.534Z"
   },
   {
    "duration": 76,
    "start_time": "2023-10-01T06:50:27.124Z"
   },
   {
    "duration": 322,
    "start_time": "2023-10-01T06:54:44.892Z"
   },
   {
    "duration": 321,
    "start_time": "2023-10-01T06:54:54.298Z"
   },
   {
    "duration": 289,
    "start_time": "2023-10-01T06:55:05.812Z"
   },
   {
    "duration": 309,
    "start_time": "2023-10-01T06:55:12.247Z"
   },
   {
    "duration": 422,
    "start_time": "2023-10-01T07:00:20.628Z"
   },
   {
    "duration": 336,
    "start_time": "2023-10-01T07:00:28.540Z"
   },
   {
    "duration": 310,
    "start_time": "2023-10-01T07:00:35.493Z"
   },
   {
    "duration": 303,
    "start_time": "2023-10-01T07:01:13.343Z"
   },
   {
    "duration": 304,
    "start_time": "2023-10-01T07:02:15.389Z"
   },
   {
    "duration": 428,
    "start_time": "2023-10-01T07:02:34.689Z"
   },
   {
    "duration": 290,
    "start_time": "2023-10-01T07:02:49.220Z"
   },
   {
    "duration": 313,
    "start_time": "2023-10-01T07:03:25.375Z"
   },
   {
    "duration": 347,
    "start_time": "2023-10-01T07:03:32.320Z"
   },
   {
    "duration": 399,
    "start_time": "2023-10-01T08:06:16.274Z"
   },
   {
    "duration": 351,
    "start_time": "2023-10-01T08:06:31.197Z"
   },
   {
    "duration": 427,
    "start_time": "2023-10-01T08:07:50.213Z"
   },
   {
    "duration": 339,
    "start_time": "2023-10-01T08:08:22.224Z"
   },
   {
    "duration": 351,
    "start_time": "2023-10-01T08:08:30.440Z"
   },
   {
    "duration": 353,
    "start_time": "2023-10-01T08:08:47.078Z"
   },
   {
    "duration": 372,
    "start_time": "2023-10-01T08:09:18.531Z"
   },
   {
    "duration": 448,
    "start_time": "2023-10-01T08:09:24.055Z"
   },
   {
    "duration": 338,
    "start_time": "2023-10-01T08:09:32.687Z"
   },
   {
    "duration": 352,
    "start_time": "2023-10-01T08:10:29.784Z"
   },
   {
    "duration": 864,
    "start_time": "2023-10-01T08:41:15.031Z"
   },
   {
    "duration": 906,
    "start_time": "2023-10-01T08:41:18.315Z"
   },
   {
    "duration": 838,
    "start_time": "2023-10-01T08:41:29.791Z"
   },
   {
    "duration": 886,
    "start_time": "2023-10-01T08:42:53.645Z"
   },
   {
    "duration": 927,
    "start_time": "2023-10-01T08:43:04.381Z"
   },
   {
    "duration": 831,
    "start_time": "2023-10-01T08:43:15.295Z"
   },
   {
    "duration": 972,
    "start_time": "2023-10-01T08:43:29.669Z"
   },
   {
    "duration": 897,
    "start_time": "2023-10-01T08:46:17.847Z"
   },
   {
    "duration": 970,
    "start_time": "2023-10-01T08:56:55.361Z"
   },
   {
    "duration": 928,
    "start_time": "2023-10-01T09:02:05.895Z"
   },
   {
    "duration": 122,
    "start_time": "2023-10-01T09:03:17.612Z"
   },
   {
    "duration": 924,
    "start_time": "2023-10-01T09:03:24.862Z"
   },
   {
    "duration": 2025,
    "start_time": "2023-10-01T09:04:54.639Z"
   },
   {
    "duration": 972,
    "start_time": "2023-10-01T09:05:15.491Z"
   },
   {
    "duration": 906,
    "start_time": "2023-10-01T09:39:41.287Z"
   },
   {
    "duration": 137,
    "start_time": "2023-10-01T09:42:05.263Z"
   },
   {
    "duration": 4,
    "start_time": "2023-10-01T09:42:36.525Z"
   },
   {
    "duration": 23,
    "start_time": "2023-10-01T09:43:41.858Z"
   },
   {
    "duration": 4,
    "start_time": "2023-10-01T09:44:37.487Z"
   },
   {
    "duration": 151,
    "start_time": "2023-10-01T09:44:41.571Z"
   },
   {
    "duration": 149,
    "start_time": "2023-10-01T09:45:18.013Z"
   },
   {
    "duration": 977,
    "start_time": "2023-10-01T09:46:11.661Z"
   },
   {
    "duration": 961,
    "start_time": "2023-10-01T09:46:18.474Z"
   },
   {
    "duration": 3,
    "start_time": "2023-10-01T09:46:20.185Z"
   },
   {
    "duration": 157,
    "start_time": "2023-10-01T09:46:22.715Z"
   },
   {
    "duration": 3,
    "start_time": "2023-10-01T10:03:35.172Z"
   },
   {
    "duration": 4,
    "start_time": "2023-10-01T10:06:38.299Z"
   },
   {
    "duration": 145,
    "start_time": "2023-10-01T10:06:38.305Z"
   },
   {
    "duration": 113,
    "start_time": "2023-10-01T10:06:38.453Z"
   },
   {
    "duration": 34,
    "start_time": "2023-10-01T10:06:38.568Z"
   },
   {
    "duration": 38,
    "start_time": "2023-10-01T10:06:38.606Z"
   },
   {
    "duration": 45,
    "start_time": "2023-10-01T10:06:38.646Z"
   },
   {
    "duration": 167,
    "start_time": "2023-10-01T10:06:38.692Z"
   },
   {
    "duration": 52,
    "start_time": "2023-10-01T10:06:38.861Z"
   },
   {
    "duration": 48,
    "start_time": "2023-10-01T10:06:38.916Z"
   },
   {
    "duration": 25,
    "start_time": "2023-10-01T10:06:38.966Z"
   },
   {
    "duration": 33,
    "start_time": "2023-10-01T10:06:38.994Z"
   },
   {
    "duration": 9,
    "start_time": "2023-10-01T10:06:39.028Z"
   },
   {
    "duration": 31,
    "start_time": "2023-10-01T10:06:39.039Z"
   },
   {
    "duration": 16,
    "start_time": "2023-10-01T10:06:39.072Z"
   },
   {
    "duration": 40,
    "start_time": "2023-10-01T10:06:39.089Z"
   },
   {
    "duration": 177,
    "start_time": "2023-10-01T10:06:39.131Z"
   },
   {
    "duration": 6,
    "start_time": "2023-10-01T10:06:39.310Z"
   },
   {
    "duration": 28,
    "start_time": "2023-10-01T10:06:39.317Z"
   },
   {
    "duration": 123,
    "start_time": "2023-10-01T10:06:39.347Z"
   },
   {
    "duration": 12,
    "start_time": "2023-10-01T10:06:39.472Z"
   },
   {
    "duration": 204,
    "start_time": "2023-10-01T10:06:39.501Z"
   },
   {
    "duration": 13,
    "start_time": "2023-10-01T10:06:39.707Z"
   },
   {
    "duration": 264,
    "start_time": "2023-10-01T10:06:39.722Z"
   },
   {
    "duration": 139,
    "start_time": "2023-10-01T10:06:39.988Z"
   },
   {
    "duration": 14,
    "start_time": "2023-10-01T10:06:40.128Z"
   },
   {
    "duration": 185,
    "start_time": "2023-10-01T10:06:40.143Z"
   },
   {
    "duration": 158,
    "start_time": "2023-10-01T10:06:40.330Z"
   },
   {
    "duration": 42,
    "start_time": "2023-10-01T10:06:40.490Z"
   },
   {
    "duration": 26,
    "start_time": "2023-10-01T10:06:40.537Z"
   },
   {
    "duration": 45,
    "start_time": "2023-10-01T10:06:40.566Z"
   },
   {
    "duration": 418,
    "start_time": "2023-10-01T10:06:40.613Z"
   },
   {
    "duration": 384,
    "start_time": "2023-10-01T10:06:41.032Z"
   },
   {
    "duration": 1911,
    "start_time": "2023-10-01T10:06:41.418Z"
   },
   {
    "duration": 5,
    "start_time": "2023-10-01T10:06:43.330Z"
   },
   {
    "duration": 214,
    "start_time": "2023-10-01T10:06:43.338Z"
   },
   {
    "duration": 12,
    "start_time": "2023-10-01T10:06:43.554Z"
   },
   {
    "duration": 26,
    "start_time": "2023-10-01T10:07:16.806Z"
   },
   {
    "duration": 17,
    "start_time": "2023-10-01T10:08:27.865Z"
   },
   {
    "duration": 19,
    "start_time": "2023-10-01T10:08:31.664Z"
   },
   {
    "duration": 6,
    "start_time": "2023-10-01T10:10:00.324Z"
   },
   {
    "duration": 8,
    "start_time": "2023-10-01T10:13:03.580Z"
   },
   {
    "duration": 6,
    "start_time": "2023-10-01T10:13:45.437Z"
   },
   {
    "duration": 7,
    "start_time": "2023-10-01T10:13:56.241Z"
   },
   {
    "duration": 6,
    "start_time": "2023-10-01T10:33:59.926Z"
   },
   {
    "duration": 10,
    "start_time": "2023-10-01T10:46:13.423Z"
   },
   {
    "duration": 11,
    "start_time": "2023-10-01T10:46:20.706Z"
   },
   {
    "duration": 11,
    "start_time": "2023-10-01T10:46:31.227Z"
   },
   {
    "duration": 13,
    "start_time": "2023-10-01T10:47:16.425Z"
   },
   {
    "duration": 12,
    "start_time": "2023-10-01T10:47:22.239Z"
   },
   {
    "duration": 10,
    "start_time": "2023-10-01T10:53:52.254Z"
   },
   {
    "duration": 7,
    "start_time": "2023-10-01T11:34:55.801Z"
   },
   {
    "duration": 7,
    "start_time": "2023-10-01T11:36:41.629Z"
   },
   {
    "duration": 8,
    "start_time": "2023-10-01T11:36:43.557Z"
   },
   {
    "duration": 4,
    "start_time": "2023-10-01T12:04:48.057Z"
   },
   {
    "duration": 58,
    "start_time": "2023-10-01T12:04:48.062Z"
   },
   {
    "duration": 34,
    "start_time": "2023-10-01T12:04:48.122Z"
   },
   {
    "duration": 21,
    "start_time": "2023-10-01T12:04:48.158Z"
   },
   {
    "duration": 12,
    "start_time": "2023-10-01T12:04:48.181Z"
   },
   {
    "duration": 22,
    "start_time": "2023-10-01T12:04:48.195Z"
   },
   {
    "duration": 19,
    "start_time": "2023-10-01T12:04:48.219Z"
   },
   {
    "duration": 30,
    "start_time": "2023-10-01T12:04:48.240Z"
   },
   {
    "duration": 21,
    "start_time": "2023-10-01T12:04:48.272Z"
   },
   {
    "duration": 7,
    "start_time": "2023-10-01T12:04:48.297Z"
   },
   {
    "duration": 20,
    "start_time": "2023-10-01T12:04:48.306Z"
   },
   {
    "duration": 6,
    "start_time": "2023-10-01T12:04:48.328Z"
   },
   {
    "duration": 9,
    "start_time": "2023-10-01T12:04:48.335Z"
   },
   {
    "duration": 30,
    "start_time": "2023-10-01T12:04:48.346Z"
   },
   {
    "duration": 9,
    "start_time": "2023-10-01T12:04:48.377Z"
   },
   {
    "duration": 21,
    "start_time": "2023-10-01T12:04:48.387Z"
   },
   {
    "duration": 16,
    "start_time": "2023-10-01T12:04:48.409Z"
   },
   {
    "duration": 9,
    "start_time": "2023-10-01T12:04:48.427Z"
   },
   {
    "duration": 215,
    "start_time": "2023-10-01T12:04:48.438Z"
   },
   {
    "duration": 7,
    "start_time": "2023-10-01T12:04:48.655Z"
   },
   {
    "duration": 23,
    "start_time": "2023-10-01T12:04:48.663Z"
   },
   {
    "duration": 113,
    "start_time": "2023-10-01T12:04:48.688Z"
   },
   {
    "duration": 12,
    "start_time": "2023-10-01T12:04:48.803Z"
   },
   {
    "duration": 272,
    "start_time": "2023-10-01T12:04:48.816Z"
   },
   {
    "duration": 17,
    "start_time": "2023-10-01T12:04:49.090Z"
   },
   {
    "duration": 168,
    "start_time": "2023-10-01T12:04:49.109Z"
   },
   {
    "duration": 153,
    "start_time": "2023-10-01T12:04:49.279Z"
   },
   {
    "duration": 13,
    "start_time": "2023-10-01T12:04:49.437Z"
   },
   {
    "duration": 176,
    "start_time": "2023-10-01T12:04:49.452Z"
   },
   {
    "duration": 145,
    "start_time": "2023-10-01T12:04:49.630Z"
   },
   {
    "duration": 45,
    "start_time": "2023-10-01T12:04:49.777Z"
   },
   {
    "duration": 26,
    "start_time": "2023-10-01T12:04:49.824Z"
   },
   {
    "duration": 26,
    "start_time": "2023-10-01T12:04:49.851Z"
   },
   {
    "duration": 379,
    "start_time": "2023-10-01T12:04:49.878Z"
   },
   {
    "duration": 367,
    "start_time": "2023-10-01T12:04:50.258Z"
   },
   {
    "duration": 919,
    "start_time": "2023-10-01T12:04:50.627Z"
   },
   {
    "duration": 4,
    "start_time": "2023-10-01T12:04:51.547Z"
   },
   {
    "duration": 196,
    "start_time": "2023-10-01T12:04:51.553Z"
   },
   {
    "duration": 7,
    "start_time": "2023-10-01T12:04:51.752Z"
   },
   {
    "duration": 128,
    "start_time": "2023-10-01T12:04:51.760Z"
   },
   {
    "duration": 120,
    "start_time": "2023-10-01T12:04:51.889Z"
   },
   {
    "duration": 3,
    "start_time": "2023-10-01T12:05:11.654Z"
   },
   {
    "duration": 3,
    "start_time": "2023-10-01T12:05:15.350Z"
   },
   {
    "duration": 196,
    "start_time": "2023-10-01T12:05:15.355Z"
   },
   {
    "duration": 63,
    "start_time": "2023-10-01T12:05:15.553Z"
   },
   {
    "duration": 250,
    "start_time": "2023-10-01T12:05:15.618Z"
   },
   {
    "duration": 37,
    "start_time": "2023-10-01T12:05:15.870Z"
   },
   {
    "duration": 23,
    "start_time": "2023-10-01T12:05:15.909Z"
   },
   {
    "duration": 30,
    "start_time": "2023-10-01T12:05:15.934Z"
   },
   {
    "duration": 52,
    "start_time": "2023-10-01T12:05:15.966Z"
   },
   {
    "duration": 24,
    "start_time": "2023-10-01T12:05:16.019Z"
   },
   {
    "duration": 29,
    "start_time": "2023-10-01T12:05:16.045Z"
   },
   {
    "duration": 25,
    "start_time": "2023-10-01T12:05:16.076Z"
   },
   {
    "duration": 11,
    "start_time": "2023-10-01T12:05:16.103Z"
   },
   {
    "duration": 47,
    "start_time": "2023-10-01T12:05:16.117Z"
   },
   {
    "duration": 31,
    "start_time": "2023-10-01T12:05:16.166Z"
   },
   {
    "duration": 19,
    "start_time": "2023-10-01T12:05:16.199Z"
   },
   {
    "duration": 28,
    "start_time": "2023-10-01T12:05:16.219Z"
   },
   {
    "duration": 15,
    "start_time": "2023-10-01T12:05:16.249Z"
   },
   {
    "duration": 29,
    "start_time": "2023-10-01T12:05:16.267Z"
   },
   {
    "duration": 178,
    "start_time": "2023-10-01T12:05:16.298Z"
   },
   {
    "duration": 7,
    "start_time": "2023-10-01T12:05:16.478Z"
   },
   {
    "duration": 27,
    "start_time": "2023-10-01T12:05:16.487Z"
   },
   {
    "duration": 218,
    "start_time": "2023-10-01T12:05:16.516Z"
   },
   {
    "duration": 12,
    "start_time": "2023-10-01T12:05:16.736Z"
   },
   {
    "duration": 181,
    "start_time": "2023-10-01T12:05:16.750Z"
   },
   {
    "duration": 13,
    "start_time": "2023-10-01T12:05:16.934Z"
   },
   {
    "duration": 177,
    "start_time": "2023-10-01T12:05:16.949Z"
   },
   {
    "duration": 167,
    "start_time": "2023-10-01T12:05:17.129Z"
   },
   {
    "duration": 14,
    "start_time": "2023-10-01T12:05:17.299Z"
   },
   {
    "duration": 183,
    "start_time": "2023-10-01T12:05:17.318Z"
   },
   {
    "duration": 160,
    "start_time": "2023-10-01T12:05:17.503Z"
   },
   {
    "duration": 48,
    "start_time": "2023-10-01T12:05:17.665Z"
   },
   {
    "duration": 25,
    "start_time": "2023-10-01T12:05:17.715Z"
   },
   {
    "duration": 112,
    "start_time": "2023-10-01T12:05:17.742Z"
   },
   {
    "duration": 398,
    "start_time": "2023-10-01T12:05:17.856Z"
   },
   {
    "duration": 366,
    "start_time": "2023-10-01T12:05:18.256Z"
   },
   {
    "duration": 958,
    "start_time": "2023-10-01T12:05:18.624Z"
   },
   {
    "duration": 17,
    "start_time": "2023-10-01T12:05:19.584Z"
   },
   {
    "duration": 250,
    "start_time": "2023-10-01T12:05:19.603Z"
   },
   {
    "duration": 5,
    "start_time": "2023-10-01T12:05:19.855Z"
   },
   {
    "duration": 19,
    "start_time": "2023-10-01T12:05:19.862Z"
   },
   {
    "duration": 31,
    "start_time": "2023-10-01T12:05:19.883Z"
   },
   {
    "duration": 1218,
    "start_time": "2023-10-01T12:06:02.003Z"
   },
   {
    "duration": 40,
    "start_time": "2023-10-01T12:06:03.222Z"
   },
   {
    "duration": 36,
    "start_time": "2023-10-01T12:06:03.263Z"
   },
   {
    "duration": 20,
    "start_time": "2023-10-01T12:06:03.301Z"
   },
   {
    "duration": 169,
    "start_time": "2023-10-01T12:06:03.323Z"
   },
   {
    "duration": 116,
    "start_time": "2023-10-01T12:06:03.493Z"
   },
   {
    "duration": 35,
    "start_time": "2023-10-01T12:06:03.611Z"
   },
   {
    "duration": 35,
    "start_time": "2023-10-01T12:06:03.647Z"
   },
   {
    "duration": 25,
    "start_time": "2023-10-01T12:06:03.684Z"
   },
   {
    "duration": 25,
    "start_time": "2023-10-01T12:06:03.712Z"
   },
   {
    "duration": 31,
    "start_time": "2023-10-01T12:06:03.739Z"
   },
   {
    "duration": 7,
    "start_time": "2023-10-01T12:06:03.772Z"
   },
   {
    "duration": 25,
    "start_time": "2023-10-01T12:06:03.781Z"
   },
   {
    "duration": 16,
    "start_time": "2023-10-01T12:06:03.807Z"
   },
   {
    "duration": 23,
    "start_time": "2023-10-01T12:06:03.825Z"
   },
   {
    "duration": 40,
    "start_time": "2023-10-01T12:06:03.850Z"
   },
   {
    "duration": 39,
    "start_time": "2023-10-01T12:06:03.891Z"
   },
   {
    "duration": 40,
    "start_time": "2023-10-01T12:06:03.932Z"
   },
   {
    "duration": 239,
    "start_time": "2023-10-01T12:06:03.974Z"
   },
   {
    "duration": 7,
    "start_time": "2023-10-01T12:06:04.215Z"
   },
   {
    "duration": 30,
    "start_time": "2023-10-01T12:06:04.224Z"
   },
   {
    "duration": 204,
    "start_time": "2023-10-01T12:06:04.302Z"
   },
   {
    "duration": 11,
    "start_time": "2023-10-01T12:06:04.508Z"
   },
   {
    "duration": 404,
    "start_time": "2023-10-01T12:06:04.521Z"
   },
   {
    "duration": 14,
    "start_time": "2023-10-01T12:06:04.927Z"
   },
   {
    "duration": 400,
    "start_time": "2023-10-01T12:06:04.943Z"
   },
   {
    "duration": 301,
    "start_time": "2023-10-01T12:06:05.344Z"
   },
   {
    "duration": 65,
    "start_time": "2023-10-01T12:06:05.648Z"
   },
   {
    "duration": 324,
    "start_time": "2023-10-01T12:06:05.715Z"
   },
   {
    "duration": 220,
    "start_time": "2023-10-01T12:06:06.040Z"
   },
   {
    "duration": 48,
    "start_time": "2023-10-01T12:06:06.262Z"
   },
   {
    "duration": 29,
    "start_time": "2023-10-01T12:06:06.312Z"
   },
   {
    "duration": 24,
    "start_time": "2023-10-01T12:06:06.342Z"
   },
   {
    "duration": 490,
    "start_time": "2023-10-01T12:06:06.368Z"
   },
   {
    "duration": 361,
    "start_time": "2023-10-01T12:06:06.860Z"
   },
   {
    "duration": 916,
    "start_time": "2023-10-01T12:06:07.222Z"
   },
   {
    "duration": 3,
    "start_time": "2023-10-01T12:06:08.141Z"
   },
   {
    "duration": 170,
    "start_time": "2023-10-01T12:06:08.146Z"
   },
   {
    "duration": 6,
    "start_time": "2023-10-01T12:06:08.318Z"
   },
   {
    "duration": 29,
    "start_time": "2023-10-01T12:06:08.326Z"
   },
   {
    "duration": 23,
    "start_time": "2023-10-01T12:06:08.357Z"
   },
   {
    "duration": 1186,
    "start_time": "2023-10-01T13:31:28.827Z"
   },
   {
    "duration": 87,
    "start_time": "2023-10-01T13:31:30.015Z"
   },
   {
    "duration": 76,
    "start_time": "2023-10-01T13:31:30.104Z"
   },
   {
    "duration": 59,
    "start_time": "2023-10-01T13:31:30.182Z"
   },
   {
    "duration": 12,
    "start_time": "2023-10-01T13:31:30.243Z"
   },
   {
    "duration": 29,
    "start_time": "2023-10-01T13:31:30.257Z"
   },
   {
    "duration": 32,
    "start_time": "2023-10-01T13:31:30.287Z"
   },
   {
    "duration": 45,
    "start_time": "2023-10-01T13:31:30.321Z"
   },
   {
    "duration": 23,
    "start_time": "2023-10-01T13:31:30.367Z"
   },
   {
    "duration": 43,
    "start_time": "2023-10-01T13:31:30.393Z"
   },
   {
    "duration": 52,
    "start_time": "2023-10-01T13:31:30.437Z"
   },
   {
    "duration": 210,
    "start_time": "2023-10-01T13:31:30.491Z"
   },
   {
    "duration": 229,
    "start_time": "2023-10-01T13:31:30.702Z"
   },
   {
    "duration": 305,
    "start_time": "2023-10-01T13:31:30.933Z"
   },
   {
    "duration": 52,
    "start_time": "2023-10-01T13:31:31.239Z"
   },
   {
    "duration": 54,
    "start_time": "2023-10-01T13:31:31.292Z"
   },
   {
    "duration": 51,
    "start_time": "2023-10-01T13:31:31.347Z"
   },
   {
    "duration": 99,
    "start_time": "2023-10-01T13:31:31.399Z"
   },
   {
    "duration": 319,
    "start_time": "2023-10-01T13:31:31.499Z"
   },
   {
    "duration": 6,
    "start_time": "2023-10-01T13:31:31.819Z"
   },
   {
    "duration": 141,
    "start_time": "2023-10-01T13:31:31.826Z"
   },
   {
    "duration": 196,
    "start_time": "2023-10-01T13:31:31.969Z"
   },
   {
    "duration": 10,
    "start_time": "2023-10-01T13:31:32.167Z"
   },
   {
    "duration": 155,
    "start_time": "2023-10-01T13:31:32.179Z"
   },
   {
    "duration": 19,
    "start_time": "2023-10-01T13:31:32.336Z"
   },
   {
    "duration": 185,
    "start_time": "2023-10-01T13:31:32.357Z"
   },
   {
    "duration": 187,
    "start_time": "2023-10-01T13:31:32.549Z"
   },
   {
    "duration": 12,
    "start_time": "2023-10-01T13:31:32.750Z"
   },
   {
    "duration": 156,
    "start_time": "2023-10-01T13:31:32.764Z"
   },
   {
    "duration": 134,
    "start_time": "2023-10-01T13:31:32.922Z"
   },
   {
    "duration": 33,
    "start_time": "2023-10-01T13:31:33.058Z"
   },
   {
    "duration": 23,
    "start_time": "2023-10-01T13:31:33.092Z"
   },
   {
    "duration": 43,
    "start_time": "2023-10-01T13:31:33.117Z"
   },
   {
    "duration": 421,
    "start_time": "2023-10-01T13:31:33.162Z"
   },
   {
    "duration": 338,
    "start_time": "2023-10-01T13:31:33.585Z"
   },
   {
    "duration": 951,
    "start_time": "2023-10-01T13:31:33.925Z"
   },
   {
    "duration": 5,
    "start_time": "2023-10-01T13:31:34.880Z"
   },
   {
    "duration": 280,
    "start_time": "2023-10-01T13:31:34.887Z"
   },
   {
    "duration": 11,
    "start_time": "2023-10-01T13:31:35.169Z"
   },
   {
    "duration": 19,
    "start_time": "2023-10-01T13:31:35.182Z"
   },
   {
    "duration": 16,
    "start_time": "2023-10-01T13:31:35.202Z"
   },
   {
    "duration": 49,
    "start_time": "2023-10-01T14:16:38.053Z"
   },
   {
    "duration": 1560,
    "start_time": "2023-10-01T14:16:45.627Z"
   },
   {
    "duration": 87,
    "start_time": "2023-10-01T14:16:47.189Z"
   },
   {
    "duration": 79,
    "start_time": "2023-10-01T14:16:47.277Z"
   },
   {
    "duration": 55,
    "start_time": "2023-10-01T14:16:47.358Z"
   },
   {
    "duration": 35,
    "start_time": "2023-10-01T14:16:47.415Z"
   },
   {
    "duration": 36,
    "start_time": "2023-10-01T14:16:47.452Z"
   },
   {
    "duration": 101,
    "start_time": "2023-10-01T14:16:47.489Z"
   },
   {
    "duration": 84,
    "start_time": "2023-10-01T14:16:47.592Z"
   },
   {
    "duration": 96,
    "start_time": "2023-10-01T14:16:47.678Z"
   },
   {
    "duration": 0,
    "start_time": "2023-10-01T14:16:47.776Z"
   },
   {
    "duration": 0,
    "start_time": "2023-10-01T14:16:47.777Z"
   },
   {
    "duration": 0,
    "start_time": "2023-10-01T14:16:47.779Z"
   },
   {
    "duration": 0,
    "start_time": "2023-10-01T14:16:47.780Z"
   },
   {
    "duration": 0,
    "start_time": "2023-10-01T14:16:47.781Z"
   },
   {
    "duration": 0,
    "start_time": "2023-10-01T14:16:47.782Z"
   },
   {
    "duration": 0,
    "start_time": "2023-10-01T14:16:47.784Z"
   },
   {
    "duration": 0,
    "start_time": "2023-10-01T14:16:47.785Z"
   },
   {
    "duration": 0,
    "start_time": "2023-10-01T14:16:47.786Z"
   },
   {
    "duration": 0,
    "start_time": "2023-10-01T14:16:47.787Z"
   },
   {
    "duration": 0,
    "start_time": "2023-10-01T14:16:47.788Z"
   },
   {
    "duration": 0,
    "start_time": "2023-10-01T14:16:47.789Z"
   },
   {
    "duration": 0,
    "start_time": "2023-10-01T14:16:47.790Z"
   },
   {
    "duration": 0,
    "start_time": "2023-10-01T14:16:47.791Z"
   },
   {
    "duration": 0,
    "start_time": "2023-10-01T14:16:47.792Z"
   },
   {
    "duration": 0,
    "start_time": "2023-10-01T14:16:47.793Z"
   },
   {
    "duration": 0,
    "start_time": "2023-10-01T14:16:47.827Z"
   },
   {
    "duration": 0,
    "start_time": "2023-10-01T14:16:47.829Z"
   },
   {
    "duration": 0,
    "start_time": "2023-10-01T14:16:47.830Z"
   },
   {
    "duration": 0,
    "start_time": "2023-10-01T14:16:47.831Z"
   },
   {
    "duration": 0,
    "start_time": "2023-10-01T14:16:47.832Z"
   },
   {
    "duration": 0,
    "start_time": "2023-10-01T14:16:47.834Z"
   },
   {
    "duration": 0,
    "start_time": "2023-10-01T14:16:47.835Z"
   },
   {
    "duration": 0,
    "start_time": "2023-10-01T14:16:47.837Z"
   },
   {
    "duration": 0,
    "start_time": "2023-10-01T14:16:47.839Z"
   },
   {
    "duration": 0,
    "start_time": "2023-10-01T14:16:47.840Z"
   },
   {
    "duration": 0,
    "start_time": "2023-10-01T14:16:47.842Z"
   },
   {
    "duration": 0,
    "start_time": "2023-10-01T14:16:47.843Z"
   },
   {
    "duration": 0,
    "start_time": "2023-10-01T14:16:47.844Z"
   },
   {
    "duration": 0,
    "start_time": "2023-10-01T14:16:47.846Z"
   },
   {
    "duration": 0,
    "start_time": "2023-10-01T14:16:47.847Z"
   },
   {
    "duration": 0,
    "start_time": "2023-10-01T14:16:47.848Z"
   },
   {
    "duration": 9,
    "start_time": "2023-10-01T14:16:59.996Z"
   },
   {
    "duration": 7,
    "start_time": "2023-10-01T14:40:14.740Z"
   },
   {
    "duration": 7,
    "start_time": "2023-10-01T14:41:22.117Z"
   },
   {
    "duration": 91,
    "start_time": "2023-10-01T14:57:04.056Z"
   },
   {
    "duration": 75,
    "start_time": "2023-10-01T14:57:42.045Z"
   },
   {
    "duration": 94,
    "start_time": "2023-10-01T14:58:49.425Z"
   },
   {
    "duration": 94,
    "start_time": "2023-10-01T14:58:56.683Z"
   },
   {
    "duration": 2,
    "start_time": "2023-10-01T15:13:32.829Z"
   },
   {
    "duration": 91,
    "start_time": "2023-10-01T15:13:32.836Z"
   },
   {
    "duration": 93,
    "start_time": "2023-10-01T15:13:32.929Z"
   },
   {
    "duration": 19,
    "start_time": "2023-10-01T15:13:33.024Z"
   },
   {
    "duration": 21,
    "start_time": "2023-10-01T15:13:33.046Z"
   },
   {
    "duration": 16,
    "start_time": "2023-10-01T15:13:33.070Z"
   },
   {
    "duration": 32,
    "start_time": "2023-10-01T15:13:33.088Z"
   },
   {
    "duration": 32,
    "start_time": "2023-10-01T15:13:33.122Z"
   },
   {
    "duration": 16,
    "start_time": "2023-10-01T15:13:33.155Z"
   },
   {
    "duration": 18,
    "start_time": "2023-10-01T15:13:33.172Z"
   },
   {
    "duration": 14,
    "start_time": "2023-10-01T15:13:33.191Z"
   },
   {
    "duration": 23,
    "start_time": "2023-10-01T15:13:33.207Z"
   },
   {
    "duration": 20,
    "start_time": "2023-10-01T15:13:33.232Z"
   },
   {
    "duration": 9,
    "start_time": "2023-10-01T15:13:33.254Z"
   },
   {
    "duration": 16,
    "start_time": "2023-10-01T15:13:33.266Z"
   },
   {
    "duration": 17,
    "start_time": "2023-10-01T15:13:33.284Z"
   },
   {
    "duration": 22,
    "start_time": "2023-10-01T15:13:33.303Z"
   },
   {
    "duration": 22,
    "start_time": "2023-10-01T15:13:33.327Z"
   },
   {
    "duration": 11,
    "start_time": "2023-10-01T15:13:33.351Z"
   },
   {
    "duration": 150,
    "start_time": "2023-10-01T15:13:33.364Z"
   },
   {
    "duration": 12,
    "start_time": "2023-10-01T15:13:33.515Z"
   },
   {
    "duration": 20,
    "start_time": "2023-10-01T15:13:33.528Z"
   },
   {
    "duration": 108,
    "start_time": "2023-10-01T15:13:33.549Z"
   },
   {
    "duration": 10,
    "start_time": "2023-10-01T15:13:33.658Z"
   },
   {
    "duration": 161,
    "start_time": "2023-10-01T15:13:33.669Z"
   },
   {
    "duration": 13,
    "start_time": "2023-10-01T15:13:33.831Z"
   },
   {
    "duration": 163,
    "start_time": "2023-10-01T15:13:33.845Z"
   },
   {
    "duration": 134,
    "start_time": "2023-10-01T15:13:34.009Z"
   },
   {
    "duration": 12,
    "start_time": "2023-10-01T15:13:34.144Z"
   },
   {
    "duration": 157,
    "start_time": "2023-10-01T15:13:34.157Z"
   },
   {
    "duration": 137,
    "start_time": "2023-10-01T15:13:34.316Z"
   },
   {
    "duration": 31,
    "start_time": "2023-10-01T15:13:34.455Z"
   },
   {
    "duration": 43,
    "start_time": "2023-10-01T15:13:34.488Z"
   },
   {
    "duration": 21,
    "start_time": "2023-10-01T15:13:34.533Z"
   },
   {
    "duration": 418,
    "start_time": "2023-10-01T15:13:34.555Z"
   },
   {
    "duration": 344,
    "start_time": "2023-10-01T15:13:34.975Z"
   },
   {
    "duration": 872,
    "start_time": "2023-10-01T15:13:35.324Z"
   },
   {
    "duration": 4,
    "start_time": "2023-10-01T15:13:36.198Z"
   },
   {
    "duration": 266,
    "start_time": "2023-10-01T15:13:36.204Z"
   },
   {
    "duration": 6,
    "start_time": "2023-10-01T15:13:36.523Z"
   },
   {
    "duration": 10,
    "start_time": "2023-10-01T15:13:36.531Z"
   },
   {
    "duration": 17,
    "start_time": "2023-10-01T15:13:36.544Z"
   },
   {
    "duration": 127,
    "start_time": "2023-10-01T15:16:30.538Z"
   },
   {
    "duration": 132,
    "start_time": "2023-10-01T15:16:47.832Z"
   },
   {
    "duration": 262,
    "start_time": "2023-10-01T15:17:27.426Z"
   },
   {
    "duration": 383,
    "start_time": "2023-10-01T15:17:46.418Z"
   },
   {
    "duration": 341,
    "start_time": "2023-10-01T15:17:49.887Z"
   },
   {
    "duration": 14,
    "start_time": "2023-10-01T15:19:02.384Z"
   },
   {
    "duration": 130,
    "start_time": "2023-10-01T15:19:07.007Z"
   },
   {
    "duration": 136,
    "start_time": "2023-10-01T15:19:54.066Z"
   },
   {
    "duration": 158,
    "start_time": "2023-10-01T15:20:25.738Z"
   },
   {
    "duration": 117,
    "start_time": "2023-10-01T15:20:41.741Z"
   },
   {
    "duration": 116,
    "start_time": "2023-10-01T15:21:38.609Z"
   },
   {
    "duration": 148,
    "start_time": "2023-10-01T15:21:55.668Z"
   },
   {
    "duration": 125,
    "start_time": "2023-10-01T15:22:00.173Z"
   },
   {
    "duration": 145,
    "start_time": "2023-10-01T15:22:28.086Z"
   },
   {
    "duration": 148,
    "start_time": "2023-10-01T15:23:07.682Z"
   },
   {
    "duration": 229,
    "start_time": "2023-10-01T15:24:03.798Z"
   },
   {
    "duration": 166,
    "start_time": "2023-10-01T15:24:10.642Z"
   },
   {
    "duration": 153,
    "start_time": "2023-10-01T15:26:04.505Z"
   },
   {
    "duration": 79,
    "start_time": "2023-10-01T15:27:02.261Z"
   },
   {
    "duration": 407,
    "start_time": "2023-10-01T15:44:22.895Z"
   },
   {
    "duration": 248,
    "start_time": "2023-10-01T15:45:59.138Z"
   },
   {
    "duration": 498,
    "start_time": "2023-10-01T15:46:06.033Z"
   },
   {
    "duration": 162,
    "start_time": "2023-10-01T15:48:57.921Z"
   },
   {
    "duration": 11,
    "start_time": "2023-10-01T15:52:04.124Z"
   },
   {
    "duration": 15,
    "start_time": "2023-10-01T15:52:21.815Z"
   },
   {
    "duration": 20,
    "start_time": "2023-10-01T15:56:54.145Z"
   },
   {
    "duration": 25,
    "start_time": "2023-10-01T15:57:00.885Z"
   },
   {
    "duration": 216,
    "start_time": "2023-10-01T16:23:20.950Z"
   },
   {
    "duration": 328,
    "start_time": "2023-10-01T16:23:50.490Z"
   },
   {
    "duration": 293,
    "start_time": "2023-10-01T16:26:15.779Z"
   },
   {
    "duration": 243,
    "start_time": "2023-10-01T16:30:38.458Z"
   },
   {
    "duration": 374,
    "start_time": "2023-10-01T16:30:56.306Z"
   },
   {
    "duration": 985,
    "start_time": "2023-10-01T16:32:06.573Z"
   },
   {
    "duration": 18,
    "start_time": "2023-10-01T16:32:41.080Z"
   },
   {
    "duration": 274,
    "start_time": "2023-10-01T16:33:09.410Z"
   },
   {
    "duration": 506,
    "start_time": "2023-10-01T16:33:17.379Z"
   },
   {
    "duration": 469,
    "start_time": "2023-10-01T16:33:26.403Z"
   },
   {
    "duration": 350,
    "start_time": "2023-10-01T16:34:21.938Z"
   },
   {
    "duration": 15,
    "start_time": "2023-10-01T16:34:37.543Z"
   },
   {
    "duration": 20,
    "start_time": "2023-10-01T16:34:46.470Z"
   },
   {
    "duration": 365,
    "start_time": "2023-10-01T16:34:53.246Z"
   },
   {
    "duration": 16,
    "start_time": "2023-10-01T16:35:07.470Z"
   },
   {
    "duration": 339,
    "start_time": "2023-10-01T16:35:38.827Z"
   },
   {
    "duration": 447,
    "start_time": "2023-10-01T16:36:54.572Z"
   },
   {
    "duration": 220,
    "start_time": "2023-10-01T16:37:06.632Z"
   },
   {
    "duration": 188,
    "start_time": "2023-10-01T16:37:40.468Z"
   },
   {
    "duration": 209,
    "start_time": "2023-10-01T16:38:33.706Z"
   },
   {
    "duration": 216,
    "start_time": "2023-10-01T16:38:43.228Z"
   },
   {
    "duration": 205,
    "start_time": "2023-10-01T16:39:06.551Z"
   },
   {
    "duration": 207,
    "start_time": "2023-10-01T16:39:11.983Z"
   },
   {
    "duration": 217,
    "start_time": "2023-10-01T16:39:36.973Z"
   },
   {
    "duration": 223,
    "start_time": "2023-10-01T16:40:39.095Z"
   },
   {
    "duration": 209,
    "start_time": "2023-10-01T16:40:46.534Z"
   },
   {
    "duration": 203,
    "start_time": "2023-10-01T16:40:52.339Z"
   },
   {
    "duration": 216,
    "start_time": "2023-10-01T16:41:24.218Z"
   },
   {
    "duration": 236,
    "start_time": "2023-10-01T16:41:48.112Z"
   },
   {
    "duration": 445,
    "start_time": "2023-10-01T16:42:08.117Z"
   },
   {
    "duration": 264,
    "start_time": "2023-10-01T16:43:01.306Z"
   },
   {
    "duration": 236,
    "start_time": "2023-10-01T16:45:03.048Z"
   },
   {
    "duration": 955,
    "start_time": "2023-10-01T16:53:41.325Z"
   },
   {
    "duration": 889,
    "start_time": "2023-10-01T16:53:46.701Z"
   },
   {
    "duration": 829,
    "start_time": "2023-10-01T16:54:57.752Z"
   },
   {
    "duration": 6,
    "start_time": "2023-10-01T17:15:55.436Z"
   },
   {
    "duration": 6,
    "start_time": "2023-10-01T17:16:10.854Z"
   },
   {
    "duration": 5,
    "start_time": "2023-10-01T17:16:19.440Z"
   },
   {
    "duration": 6,
    "start_time": "2023-10-01T17:16:30.359Z"
   },
   {
    "duration": 6,
    "start_time": "2023-10-01T17:16:35.880Z"
   },
   {
    "duration": 5,
    "start_time": "2023-10-01T17:38:50.158Z"
   },
   {
    "duration": 6,
    "start_time": "2023-10-01T17:40:47.629Z"
   },
   {
    "duration": 1305,
    "start_time": "2023-10-01T19:37:07.262Z"
   },
   {
    "duration": 1718,
    "start_time": "2023-10-01T19:37:16.038Z"
   },
   {
    "duration": 1296,
    "start_time": "2023-10-01T19:37:18.246Z"
   },
   {
    "duration": 3,
    "start_time": "2023-10-01T19:37:27.764Z"
   },
   {
    "duration": 72,
    "start_time": "2023-10-01T19:37:27.769Z"
   },
   {
    "duration": 35,
    "start_time": "2023-10-01T19:37:27.843Z"
   },
   {
    "duration": 20,
    "start_time": "2023-10-01T19:37:27.879Z"
   },
   {
    "duration": 37,
    "start_time": "2023-10-01T19:37:27.901Z"
   },
   {
    "duration": 43,
    "start_time": "2023-10-01T19:37:27.940Z"
   },
   {
    "duration": 66,
    "start_time": "2023-10-01T19:37:27.984Z"
   },
   {
    "duration": 54,
    "start_time": "2023-10-01T19:37:28.052Z"
   },
   {
    "duration": 41,
    "start_time": "2023-10-01T19:37:28.107Z"
   },
   {
    "duration": 103,
    "start_time": "2023-10-01T19:37:28.149Z"
   },
   {
    "duration": 61,
    "start_time": "2023-10-01T19:37:28.254Z"
   },
   {
    "duration": 29,
    "start_time": "2023-10-01T19:37:28.317Z"
   },
   {
    "duration": 31,
    "start_time": "2023-10-01T19:37:28.348Z"
   },
   {
    "duration": 39,
    "start_time": "2023-10-01T19:37:28.381Z"
   },
   {
    "duration": 42,
    "start_time": "2023-10-01T19:37:28.421Z"
   },
   {
    "duration": 36,
    "start_time": "2023-10-01T19:37:28.465Z"
   },
   {
    "duration": 55,
    "start_time": "2023-10-01T19:37:28.503Z"
   },
   {
    "duration": 35,
    "start_time": "2023-10-01T19:37:28.560Z"
   },
   {
    "duration": 34,
    "start_time": "2023-10-01T19:37:28.597Z"
   },
   {
    "duration": 192,
    "start_time": "2023-10-01T19:37:28.632Z"
   },
   {
    "duration": 6,
    "start_time": "2023-10-01T19:37:28.825Z"
   },
   {
    "duration": 17,
    "start_time": "2023-10-01T19:37:28.833Z"
   },
   {
    "duration": 117,
    "start_time": "2023-10-01T19:37:28.851Z"
   },
   {
    "duration": 11,
    "start_time": "2023-10-01T19:37:28.969Z"
   },
   {
    "duration": 189,
    "start_time": "2023-10-01T19:37:28.982Z"
   },
   {
    "duration": 12,
    "start_time": "2023-10-01T19:37:29.173Z"
   },
   {
    "duration": 378,
    "start_time": "2023-10-01T19:37:29.187Z"
   },
   {
    "duration": 134,
    "start_time": "2023-10-01T19:37:29.566Z"
   },
   {
    "duration": 20,
    "start_time": "2023-10-01T19:37:29.704Z"
   },
   {
    "duration": 201,
    "start_time": "2023-10-01T19:37:29.726Z"
   },
   {
    "duration": 132,
    "start_time": "2023-10-01T19:37:29.929Z"
   },
   {
    "duration": 31,
    "start_time": "2023-10-01T19:37:30.062Z"
   },
   {
    "duration": 77,
    "start_time": "2023-10-01T19:37:30.094Z"
   },
   {
    "duration": 56,
    "start_time": "2023-10-01T19:37:30.172Z"
   },
   {
    "duration": 99,
    "start_time": "2023-10-01T19:37:30.230Z"
   },
   {
    "duration": 38,
    "start_time": "2023-10-01T19:37:30.331Z"
   },
   {
    "duration": 476,
    "start_time": "2023-10-01T19:37:30.371Z"
   },
   {
    "duration": 500,
    "start_time": "2023-10-01T19:37:30.849Z"
   },
   {
    "duration": 1776,
    "start_time": "2023-10-01T19:37:31.351Z"
   },
   {
    "duration": 3,
    "start_time": "2023-10-01T19:37:33.129Z"
   },
   {
    "duration": 307,
    "start_time": "2023-10-01T19:37:33.133Z"
   },
   {
    "duration": 5,
    "start_time": "2023-10-01T19:37:33.441Z"
   },
   {
    "duration": 184,
    "start_time": "2023-10-01T19:37:33.447Z"
   },
   {
    "duration": 13,
    "start_time": "2023-10-01T19:37:33.633Z"
   },
   {
    "duration": 26,
    "start_time": "2023-10-01T19:37:33.647Z"
   },
   {
    "duration": 12,
    "start_time": "2023-10-01T19:37:33.675Z"
   },
   {
    "duration": 11,
    "start_time": "2023-10-01T19:39:02.710Z"
   },
   {
    "duration": 76,
    "start_time": "2023-10-01T19:39:32.691Z"
   },
   {
    "duration": 103,
    "start_time": "2023-10-01T19:39:40.097Z"
   },
   {
    "duration": 116,
    "start_time": "2023-10-01T19:39:43.527Z"
   },
   {
    "duration": 1227,
    "start_time": "2023-10-01T20:11:46.510Z"
   },
   {
    "duration": 38,
    "start_time": "2023-10-01T20:11:47.739Z"
   },
   {
    "duration": 34,
    "start_time": "2023-10-01T20:11:47.778Z"
   },
   {
    "duration": 20,
    "start_time": "2023-10-01T20:11:47.814Z"
   },
   {
    "duration": 11,
    "start_time": "2023-10-01T20:11:47.835Z"
   },
   {
    "duration": 15,
    "start_time": "2023-10-01T20:11:47.847Z"
   },
   {
    "duration": 17,
    "start_time": "2023-10-01T20:11:47.863Z"
   },
   {
    "duration": 20,
    "start_time": "2023-10-01T20:11:47.882Z"
   },
   {
    "duration": 11,
    "start_time": "2023-10-01T20:11:47.903Z"
   },
   {
    "duration": 7,
    "start_time": "2023-10-01T20:11:47.923Z"
   },
   {
    "duration": 9,
    "start_time": "2023-10-01T20:11:47.931Z"
   },
   {
    "duration": 8,
    "start_time": "2023-10-01T20:11:47.941Z"
   },
   {
    "duration": 6,
    "start_time": "2023-10-01T20:11:47.951Z"
   },
   {
    "duration": 7,
    "start_time": "2023-10-01T20:11:47.958Z"
   },
   {
    "duration": 24,
    "start_time": "2023-10-01T20:11:47.967Z"
   },
   {
    "duration": 13,
    "start_time": "2023-10-01T20:11:47.992Z"
   },
   {
    "duration": 21,
    "start_time": "2023-10-01T20:11:48.006Z"
   },
   {
    "duration": 6,
    "start_time": "2023-10-01T20:11:48.029Z"
   },
   {
    "duration": 20,
    "start_time": "2023-10-01T20:11:48.037Z"
   },
   {
    "duration": 200,
    "start_time": "2023-10-01T20:11:48.059Z"
   },
   {
    "duration": 6,
    "start_time": "2023-10-01T20:11:48.261Z"
   },
   {
    "duration": 9,
    "start_time": "2023-10-01T20:11:48.268Z"
   },
   {
    "duration": 115,
    "start_time": "2023-10-01T20:11:48.279Z"
   },
   {
    "duration": 21,
    "start_time": "2023-10-01T20:11:48.396Z"
   },
   {
    "duration": 153,
    "start_time": "2023-10-01T20:11:48.425Z"
   },
   {
    "duration": 13,
    "start_time": "2023-10-01T20:11:48.579Z"
   },
   {
    "duration": 383,
    "start_time": "2023-10-01T20:11:48.593Z"
   },
   {
    "duration": 131,
    "start_time": "2023-10-01T20:11:48.979Z"
   },
   {
    "duration": 19,
    "start_time": "2023-10-01T20:11:49.111Z"
   },
   {
    "duration": 160,
    "start_time": "2023-10-01T20:11:49.132Z"
   },
   {
    "duration": 217,
    "start_time": "2023-10-01T20:11:49.294Z"
   },
   {
    "duration": 36,
    "start_time": "2023-10-01T20:11:49.512Z"
   },
   {
    "duration": 8,
    "start_time": "2023-10-01T20:11:49.550Z"
   },
   {
    "duration": 13,
    "start_time": "2023-10-01T20:11:49.559Z"
   },
   {
    "duration": 20,
    "start_time": "2023-10-01T20:11:49.574Z"
   },
   {
    "duration": 43,
    "start_time": "2023-10-01T20:11:49.595Z"
   },
   {
    "duration": 227,
    "start_time": "2023-10-01T20:11:49.640Z"
   },
   {
    "duration": 244,
    "start_time": "2023-10-01T20:11:49.869Z"
   },
   {
    "duration": 858,
    "start_time": "2023-10-01T20:11:50.115Z"
   },
   {
    "duration": 4,
    "start_time": "2023-10-01T20:11:50.975Z"
   },
   {
    "duration": 153,
    "start_time": "2023-10-01T20:11:50.980Z"
   },
   {
    "duration": 5,
    "start_time": "2023-10-01T20:11:51.135Z"
   },
   {
    "duration": 4,
    "start_time": "2023-10-01T20:11:51.142Z"
   },
   {
    "duration": 8,
    "start_time": "2023-10-01T20:11:51.148Z"
   },
   {
    "duration": 8,
    "start_time": "2023-10-01T20:11:51.157Z"
   },
   {
    "duration": 1068,
    "start_time": "2023-10-01T21:36:40.286Z"
   },
   {
    "duration": 92,
    "start_time": "2023-10-01T21:36:41.356Z"
   },
   {
    "duration": 74,
    "start_time": "2023-10-01T21:36:41.450Z"
   },
   {
    "duration": 55,
    "start_time": "2023-10-01T21:36:41.525Z"
   },
   {
    "duration": 10,
    "start_time": "2023-10-01T21:36:41.582Z"
   },
   {
    "duration": 36,
    "start_time": "2023-10-01T21:36:41.594Z"
   },
   {
    "duration": 12,
    "start_time": "2023-10-01T21:36:41.632Z"
   },
   {
    "duration": 21,
    "start_time": "2023-10-01T21:36:41.646Z"
   },
   {
    "duration": 27,
    "start_time": "2023-10-01T21:36:41.668Z"
   },
   {
    "duration": 34,
    "start_time": "2023-10-01T21:36:41.697Z"
   },
   {
    "duration": 18,
    "start_time": "2023-10-01T21:36:41.732Z"
   },
   {
    "duration": 16,
    "start_time": "2023-10-01T21:36:41.751Z"
   },
   {
    "duration": 25,
    "start_time": "2023-10-01T21:36:41.769Z"
   },
   {
    "duration": 19,
    "start_time": "2023-10-01T21:36:41.797Z"
   },
   {
    "duration": 31,
    "start_time": "2023-10-01T21:36:41.818Z"
   },
   {
    "duration": 14,
    "start_time": "2023-10-01T21:36:41.850Z"
   },
   {
    "duration": 25,
    "start_time": "2023-10-01T21:36:41.866Z"
   },
   {
    "duration": 8,
    "start_time": "2023-10-01T21:36:41.892Z"
   },
   {
    "duration": 26,
    "start_time": "2023-10-01T21:36:41.902Z"
   },
   {
    "duration": 172,
    "start_time": "2023-10-01T21:36:41.930Z"
   },
   {
    "duration": 5,
    "start_time": "2023-10-01T21:36:42.104Z"
   },
   {
    "duration": 31,
    "start_time": "2023-10-01T21:36:42.110Z"
   },
   {
    "duration": 144,
    "start_time": "2023-10-01T21:36:42.143Z"
   },
   {
    "duration": 11,
    "start_time": "2023-10-01T21:36:42.288Z"
   },
   {
    "duration": 149,
    "start_time": "2023-10-01T21:36:42.301Z"
   },
   {
    "duration": 12,
    "start_time": "2023-10-01T21:36:42.451Z"
   },
   {
    "duration": 389,
    "start_time": "2023-10-01T21:36:42.464Z"
   },
   {
    "duration": 134,
    "start_time": "2023-10-01T21:36:42.855Z"
   },
   {
    "duration": 13,
    "start_time": "2023-10-01T21:36:42.991Z"
   },
   {
    "duration": 212,
    "start_time": "2023-10-01T21:36:43.005Z"
   },
   {
    "duration": 212,
    "start_time": "2023-10-01T21:36:43.219Z"
   },
   {
    "duration": 34,
    "start_time": "2023-10-01T21:36:43.432Z"
   },
   {
    "duration": 8,
    "start_time": "2023-10-01T21:36:43.468Z"
   },
   {
    "duration": 51,
    "start_time": "2023-10-01T21:36:43.478Z"
   },
   {
    "duration": 33,
    "start_time": "2023-10-01T21:36:43.531Z"
   },
   {
    "duration": 28,
    "start_time": "2023-10-01T21:36:43.565Z"
   },
   {
    "duration": 244,
    "start_time": "2023-10-01T21:36:43.594Z"
   },
   {
    "duration": 232,
    "start_time": "2023-10-01T21:36:43.840Z"
   },
   {
    "duration": 892,
    "start_time": "2023-10-01T21:36:44.073Z"
   },
   {
    "duration": 4,
    "start_time": "2023-10-01T21:36:44.966Z"
   },
   {
    "duration": 182,
    "start_time": "2023-10-01T21:36:44.973Z"
   },
   {
    "duration": 5,
    "start_time": "2023-10-01T21:36:45.157Z"
   },
   {
    "duration": 47,
    "start_time": "2023-10-01T21:36:45.164Z"
   },
   {
    "duration": 26,
    "start_time": "2023-10-01T21:36:45.213Z"
   },
   {
    "duration": 19,
    "start_time": "2023-10-01T21:36:45.241Z"
   }
  ],
  "kernelspec": {
   "display_name": "Python 3 (ipykernel)",
   "language": "python",
   "name": "python3"
  },
  "language_info": {
   "codemirror_mode": {
    "name": "ipython",
    "version": 3
   },
   "file_extension": ".py",
   "mimetype": "text/x-python",
   "name": "python",
   "nbconvert_exporter": "python",
   "pygments_lexer": "ipython3",
   "version": "3.11.3"
  },
  "toc": {
   "base_numbering": 1,
   "nav_menu": {},
   "number_sections": true,
   "sideBar": true,
   "skip_h1_title": true,
   "title_cell": "Table of Contents",
   "title_sidebar": "Contents",
   "toc_cell": false,
   "toc_position": {
    "height": "calc(100% - 180px)",
    "left": "10px",
    "top": "150px",
    "width": "279px"
   },
   "toc_section_display": true,
   "toc_window_display": true
  }
 },
 "nbformat": 4,
 "nbformat_minor": 5
}
